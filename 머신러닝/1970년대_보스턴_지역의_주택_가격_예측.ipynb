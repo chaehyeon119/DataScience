{
  "nbformat": 4,
  "nbformat_minor": 0,
  "metadata": {
    "colab": {
      "name": "1970년대 보스턴 지역의 주택 가격 예측.ipynb",
      "provenance": []
    },
    "kernelspec": {
      "name": "python3",
      "display_name": "Python 3"
    },
    "language_info": {
      "name": "python"
    }
  },
  "cells": [
    {
      "cell_type": "markdown",
      "metadata": {
        "id": "be_0cuUKi2Mv"
      },
      "source": [
        "# 1970년대 보스턴 지역의 주택 가격 예측 => 회귀"
      ]
    },
    {
      "cell_type": "code",
      "metadata": {
        "colab": {
          "base_uri": "https://localhost:8080/"
        },
        "id": "PlCWmbKhi7au",
        "outputId": "79f2ccb5-099c-460b-fcc8-efef1e7b5b3e"
      },
      "source": [
        "from tensorflow.keras.datasets.boston_housing import load_data\n",
        "\n",
        "# 데이터를 다운받습니다.\n",
        "(x_train, y_train), (x_test, y_test) = load_data(path='boston_housing.npz',\n",
        "                                                 test_split=0.2,\n",
        "                                                 seed=777) # load_data 함수에서는\n",
        "                                                          #  seed라는 것을 활용함"
      ],
      "execution_count": null,
      "outputs": [
        {
          "output_type": "stream",
          "text": [
            "Downloading data from https://storage.googleapis.com/tensorflow/tf-keras-datasets/boston_housing.npz\n",
            "57344/57026 [==============================] - 0s 0us/step\n"
          ],
          "name": "stdout"
        }
      ]
    },
    {
      "cell_type": "markdown",
      "metadata": {
        "id": "8lVC-yHBjT_V"
      },
      "source": [
        "# 데이터 형태 확인하기"
      ]
    },
    {
      "cell_type": "code",
      "metadata": {
        "colab": {
          "base_uri": "https://localhost:8080/"
        },
        "id": "5DjqCw5WjWKG",
        "outputId": "7f63d969-feed-46ea-93d1-71d8f1b2c7ec"
      },
      "source": [
        "print(x_train.shape, y_train.shape)\n",
        "print(x_test.shape, y_test.shape)"
      ],
      "execution_count": null,
      "outputs": [
        {
          "output_type": "stream",
          "text": [
            "(404, 13) (404,)\n",
            "(102, 13) (102,)\n"
          ],
          "name": "stdout"
        }
      ]
    },
    {
      "cell_type": "markdown",
      "metadata": {
        "id": "ogc-QPicjfat"
      },
      "source": [
        "# 데이터 전처리 및 검증 데이터셋 만들기"
      ]
    },
    {
      "cell_type": "code",
      "metadata": {
        "colab": {
          "base_uri": "https://localhost:8080/"
        },
        "id": "nUg4KPAlkNd1",
        "outputId": "4532322b-ebc4-4128-c3cf-ba21f83be592"
      },
      "source": [
        "import numpy as np\n",
        "np.set_printoptions(suppress=True)\n",
        "\n",
        "print(x_train[0])"
      ],
      "execution_count": null,
      "outputs": [
        {
          "output_type": "stream",
          "text": [
            "[  0.25199   0.       10.59      0.        0.489     5.783    72.7\n",
            "   4.3549    4.      277.       18.6     389.43     18.06   ]\n"
          ],
          "name": "stdout"
        }
      ]
    },
    {
      "cell_type": "code",
      "metadata": {
        "colab": {
          "base_uri": "https://localhost:8080/"
        },
        "id": "dzIuqk-3kWYL",
        "outputId": "f9b6a492-63d7-4a67-d083-fb43948e1174"
      },
      "source": [
        "\n",
        "# ↑ ↓ 표준화 전후 비교\n",
        "\n",
        "# 데이터 전처리 -> 표준화(Standardization)\n",
        "\n",
        "mean = np.mean(x_train, axis=0)\n",
        "std = np.std(x_train, axis=0)\n",
        "\n",
        "# (데이터[훈련, 테스트 데이터 모두] - 평균) / 표준편차(Standardization)\n",
        "x_train = (x_train - mean)/std\n",
        "x_test = (x_test-mean)/std\n",
        "\n",
        "print(x_train[0])"
      ],
      "execution_count": null,
      "outputs": [
        {
          "output_type": "stream",
          "text": [
            "[-0.40102395 -0.48033655 -0.12089418 -0.28828791 -0.58254176 -0.68137272\n",
            "  0.11117586  0.26484408 -0.65187119 -0.80249043  0.0756568   0.37366783\n",
            "  0.69211835]\n"
          ],
          "name": "stdout"
        }
      ]
    },
    {
      "cell_type": "code",
      "metadata": {
        "id": "maS7nvUhWLzB"
      },
      "source": [
        "# 검증 데이터셋을 만듭니다\n",
        "from sklearn.model_selection import  train_test_split\n",
        "\n",
        "x_train, x_val, y_train, y_val = train_test_split(x_train,             # 독립 변수\n",
        "                                                   y_train,             # 종속변수\n",
        "                                                   test_size=0.33, # 검증 33%\n",
        "                                                   random_state=777) # 랜덤 추출 값\n",
        "\n",
        "# !!! 데이터 수가 부족하면 validation 안 해도 됨!!!"
      ],
      "execution_count": null,
      "outputs": []
    },
    {
      "cell_type": "code",
      "metadata": {
        "colab": {
          "base_uri": "https://localhost:8080/"
        },
        "id": "0MpNoBb6lXh4",
        "outputId": "dd62e74f-021f-4d31-d48f-3d9453602903"
      },
      "source": [
        "print(x_train.shape, x_val.shape)"
      ],
      "execution_count": null,
      "outputs": [
        {
          "output_type": "stream",
          "text": [
            "(270, 13) (134, 13)\n"
          ],
          "name": "stdout"
        }
      ]
    },
    {
      "cell_type": "code",
      "metadata": {
        "id": "ov18GCS37nwY"
      },
      "source": [
        ""
      ],
      "execution_count": null,
      "outputs": []
    },
    {
      "cell_type": "markdown",
      "metadata": {
        "id": "PjO8RTFLlsk2"
      },
      "source": [
        "# 모델 구성하기"
      ]
    },
    {
      "cell_type": "code",
      "metadata": {
        "id": "Fozp4ghGmIDq"
      },
      "source": [
        "from tensorflow.keras.models import Sequential\n",
        "from tensorflow.keras.layers import Dense\n",
        "\n",
        "model = Sequential()\n",
        "model.add(Dense(64, activation='relu', input_shape=(13,)))\n",
        "model.add(Dense(32, activation='relu'))\n",
        "model.add(Dense(1)) # 하나의 값을 출력 -> 주택가격\n",
        "\n",
        "# 활성화 함수를 안 적은 이유는 리니어가 디폴트이기 때문에 안 적어도 작동 됨"
      ],
      "execution_count": null,
      "outputs": []
    },
    {
      "cell_type": "markdown",
      "metadata": {
        "id": "43piV9xAmjEe"
      },
      "source": [
        "# 모델 설정하기"
      ]
    },
    {
      "cell_type": "code",
      "metadata": {
        "id": "-2ct7npnm6Zm"
      },
      "source": [
        "# 실제 집값: mae\n",
        "# mse 평균 제곱의 x\n",
        "model.compile(optimizer = 'adam', loss='mse', metrics=['mae', 'mse'])"
      ],
      "execution_count": null,
      "outputs": []
    },
    {
      "cell_type": "markdown",
      "metadata": {
        "id": "3RA4LyCnnWiO"
      },
      "source": [
        "# 모델 학습하기"
      ]
    },
    {
      "cell_type": "code",
      "metadata": {
        "id": "r_h5pX4CnZBu"
      },
      "source": [
        ""
      ],
      "execution_count": null,
      "outputs": []
    },
    {
      "cell_type": "code",
      "metadata": {
        "colab": {
          "base_uri": "https://localhost:8080/"
        },
        "id": "Dk_lFLX9W57J",
        "outputId": "10c29a1e-fed7-4197-e44c-4964a74c0e42"
      },
      "source": [
        "history = model.fit(x_train, y_train,\n",
        "                    epochs=300,   # 몇 번 공부시킬건지?\n",
        "                    validation_data = (x_val, y_val)) # 어떻게 나눠서 공부시킬건지?"
      ],
      "execution_count": null,
      "outputs": [
        {
          "output_type": "stream",
          "text": [
            "Epoch 1/300\n",
            "9/9 [==============================] - 1s 24ms/step - loss: 545.4448 - mae: 21.5773 - mse: 545.4448 - val_loss: 599.4087 - val_mae: 22.0986 - val_mse: 599.4087\n",
            "Epoch 2/300\n",
            "9/9 [==============================] - 0s 6ms/step - loss: 523.5161 - mae: 21.0330 - mse: 523.5161 - val_loss: 576.4345 - val_mae: 21.5321 - val_mse: 576.4345\n",
            "Epoch 3/300\n",
            "9/9 [==============================] - 0s 5ms/step - loss: 502.0840 - mae: 20.4521 - mse: 502.0840 - val_loss: 552.2003 - val_mae: 20.9140 - val_mse: 552.2003\n",
            "Epoch 4/300\n",
            "9/9 [==============================] - 0s 5ms/step - loss: 478.3047 - mae: 19.8107 - mse: 478.3047 - val_loss: 523.9074 - val_mae: 20.1603 - val_mse: 523.9074\n",
            "Epoch 5/300\n",
            "9/9 [==============================] - 0s 4ms/step - loss: 448.7469 - mae: 19.0176 - mse: 448.7469 - val_loss: 489.0296 - val_mae: 19.2081 - val_mse: 489.0296\n",
            "Epoch 6/300\n",
            "9/9 [==============================] - 0s 4ms/step - loss: 412.6314 - mae: 18.0294 - mse: 412.6314 - val_loss: 445.3404 - val_mae: 18.0009 - val_mse: 445.3404\n",
            "Epoch 7/300\n",
            "9/9 [==============================] - 0s 4ms/step - loss: 368.4542 - mae: 16.8252 - mse: 368.4542 - val_loss: 390.8462 - val_mae: 16.5751 - val_mse: 390.8462\n",
            "Epoch 8/300\n",
            "9/9 [==============================] - 0s 6ms/step - loss: 314.0328 - mae: 15.3321 - mse: 314.0328 - val_loss: 327.5895 - val_mae: 14.9256 - val_mse: 327.5895\n",
            "Epoch 9/300\n",
            "9/9 [==============================] - 0s 6ms/step - loss: 254.3113 - mae: 13.5552 - mse: 254.3113 - val_loss: 260.3064 - val_mae: 13.1237 - val_mse: 260.3064\n",
            "Epoch 10/300\n",
            "9/9 [==============================] - 0s 4ms/step - loss: 193.3823 - mae: 11.5133 - mse: 193.3823 - val_loss: 196.2096 - val_mae: 11.1130 - val_mse: 196.2096\n",
            "Epoch 11/300\n",
            "9/9 [==============================] - 0s 6ms/step - loss: 139.2632 - mae: 9.4940 - mse: 139.2632 - val_loss: 141.6508 - val_mae: 9.1486 - val_mse: 141.6508\n",
            "Epoch 12/300\n",
            "9/9 [==============================] - 0s 4ms/step - loss: 95.1224 - mae: 7.6202 - mse: 95.1224 - val_loss: 103.0982 - val_mae: 7.4159 - val_mse: 103.0982\n",
            "Epoch 13/300\n",
            "9/9 [==============================] - 0s 4ms/step - loss: 68.6752 - mae: 6.3197 - mse: 68.6752 - val_loss: 79.0231 - val_mae: 6.4316 - val_mse: 79.0231\n",
            "Epoch 14/300\n",
            "9/9 [==============================] - 0s 6ms/step - loss: 53.3209 - mae: 5.5759 - mse: 53.3209 - val_loss: 65.1163 - val_mae: 5.8060 - val_mse: 65.1163\n",
            "Epoch 15/300\n",
            "9/9 [==============================] - 0s 4ms/step - loss: 43.7122 - mae: 5.0374 - mse: 43.7122 - val_loss: 55.4017 - val_mae: 5.2995 - val_mse: 55.4017\n",
            "Epoch 16/300\n",
            "9/9 [==============================] - 0s 4ms/step - loss: 37.2758 - mae: 4.5910 - mse: 37.2758 - val_loss: 47.8641 - val_mae: 4.8674 - val_mse: 47.8641\n",
            "Epoch 17/300\n",
            "9/9 [==============================] - 0s 4ms/step - loss: 32.4785 - mae: 4.2842 - mse: 32.4785 - val_loss: 42.5439 - val_mae: 4.5692 - val_mse: 42.5439\n",
            "Epoch 18/300\n",
            "9/9 [==============================] - 0s 5ms/step - loss: 28.5660 - mae: 4.0115 - mse: 28.5660 - val_loss: 39.1548 - val_mae: 4.3490 - val_mse: 39.1548\n",
            "Epoch 19/300\n",
            "9/9 [==============================] - 0s 7ms/step - loss: 26.5931 - mae: 3.8579 - mse: 26.5931 - val_loss: 36.3072 - val_mae: 4.2082 - val_mse: 36.3072\n",
            "Epoch 20/300\n",
            "9/9 [==============================] - 0s 4ms/step - loss: 24.6801 - mae: 3.6861 - mse: 24.6801 - val_loss: 34.3878 - val_mae: 4.0735 - val_mse: 34.3878\n",
            "Epoch 21/300\n",
            "9/9 [==============================] - 0s 4ms/step - loss: 23.6280 - mae: 3.5780 - mse: 23.6280 - val_loss: 32.9475 - val_mae: 3.9802 - val_mse: 32.9475\n",
            "Epoch 22/300\n",
            "9/9 [==============================] - 0s 6ms/step - loss: 22.6461 - mae: 3.4751 - mse: 22.6461 - val_loss: 31.6232 - val_mae: 3.9036 - val_mse: 31.6232\n",
            "Epoch 23/300\n",
            "9/9 [==============================] - 0s 4ms/step - loss: 21.9764 - mae: 3.4013 - mse: 21.9764 - val_loss: 30.7349 - val_mae: 3.8447 - val_mse: 30.7349\n",
            "Epoch 24/300\n",
            "9/9 [==============================] - 0s 4ms/step - loss: 21.3226 - mae: 3.3491 - mse: 21.3226 - val_loss: 29.7917 - val_mae: 3.8160 - val_mse: 29.7917\n",
            "Epoch 25/300\n",
            "9/9 [==============================] - 0s 5ms/step - loss: 20.7987 - mae: 3.3083 - mse: 20.7987 - val_loss: 29.1156 - val_mae: 3.7774 - val_mse: 29.1156\n",
            "Epoch 26/300\n",
            "9/9 [==============================] - 0s 4ms/step - loss: 20.3952 - mae: 3.2674 - mse: 20.3952 - val_loss: 28.5749 - val_mae: 3.7292 - val_mse: 28.5749\n",
            "Epoch 27/300\n",
            "9/9 [==============================] - 0s 4ms/step - loss: 19.9450 - mae: 3.2244 - mse: 19.9450 - val_loss: 27.9737 - val_mae: 3.6824 - val_mse: 27.9737\n",
            "Epoch 28/300\n",
            "9/9 [==============================] - 0s 7ms/step - loss: 19.5434 - mae: 3.1919 - mse: 19.5434 - val_loss: 27.5221 - val_mae: 3.6735 - val_mse: 27.5221\n",
            "Epoch 29/300\n",
            "9/9 [==============================] - 0s 4ms/step - loss: 19.2024 - mae: 3.1690 - mse: 19.2024 - val_loss: 27.1691 - val_mae: 3.6579 - val_mse: 27.1691\n",
            "Epoch 30/300\n",
            "9/9 [==============================] - 0s 4ms/step - loss: 18.8222 - mae: 3.1408 - mse: 18.8222 - val_loss: 26.5366 - val_mae: 3.6126 - val_mse: 26.5366\n",
            "Epoch 31/300\n",
            "9/9 [==============================] - 0s 4ms/step - loss: 18.5103 - mae: 3.1023 - mse: 18.5103 - val_loss: 26.2536 - val_mae: 3.5874 - val_mse: 26.2536\n",
            "Epoch 32/300\n",
            "9/9 [==============================] - 0s 6ms/step - loss: 18.1670 - mae: 3.0655 - mse: 18.1670 - val_loss: 25.6733 - val_mae: 3.5361 - val_mse: 25.6733\n",
            "Epoch 33/300\n",
            "9/9 [==============================] - 0s 4ms/step - loss: 17.9055 - mae: 3.0415 - mse: 17.9055 - val_loss: 25.1639 - val_mae: 3.5106 - val_mse: 25.1639\n",
            "Epoch 34/300\n",
            "9/9 [==============================] - 0s 4ms/step - loss: 17.5982 - mae: 3.0198 - mse: 17.5982 - val_loss: 24.7150 - val_mae: 3.4806 - val_mse: 24.7150\n",
            "Epoch 35/300\n",
            "9/9 [==============================] - 0s 5ms/step - loss: 17.3181 - mae: 2.9931 - mse: 17.3181 - val_loss: 24.7892 - val_mae: 3.4717 - val_mse: 24.7892\n",
            "Epoch 36/300\n",
            "9/9 [==============================] - 0s 6ms/step - loss: 17.1117 - mae: 2.9640 - mse: 17.1117 - val_loss: 24.6424 - val_mae: 3.4347 - val_mse: 24.6424\n",
            "Epoch 37/300\n",
            "9/9 [==============================] - 0s 5ms/step - loss: 16.7796 - mae: 2.9335 - mse: 16.7796 - val_loss: 24.0716 - val_mae: 3.4051 - val_mse: 24.0716\n",
            "Epoch 38/300\n",
            "9/9 [==============================] - 0s 6ms/step - loss: 16.5330 - mae: 2.9103 - mse: 16.5330 - val_loss: 23.6349 - val_mae: 3.3822 - val_mse: 23.6349\n",
            "Epoch 39/300\n",
            "9/9 [==============================] - 0s 5ms/step - loss: 16.3134 - mae: 2.8902 - mse: 16.3134 - val_loss: 23.2267 - val_mae: 3.3491 - val_mse: 23.2267\n",
            "Epoch 40/300\n",
            "9/9 [==============================] - 0s 4ms/step - loss: 16.0835 - mae: 2.8685 - mse: 16.0835 - val_loss: 22.9457 - val_mae: 3.3308 - val_mse: 22.9457\n",
            "Epoch 41/300\n",
            "9/9 [==============================] - 0s 6ms/step - loss: 15.8636 - mae: 2.8366 - mse: 15.8636 - val_loss: 22.8767 - val_mae: 3.3114 - val_mse: 22.8767\n",
            "Epoch 42/300\n",
            "9/9 [==============================] - 0s 5ms/step - loss: 15.6154 - mae: 2.8117 - mse: 15.6154 - val_loss: 22.6008 - val_mae: 3.2870 - val_mse: 22.6008\n",
            "Epoch 43/300\n",
            "9/9 [==============================] - 0s 6ms/step - loss: 15.4022 - mae: 2.7843 - mse: 15.4022 - val_loss: 22.2981 - val_mae: 3.2517 - val_mse: 22.2981\n",
            "Epoch 44/300\n",
            "9/9 [==============================] - 0s 4ms/step - loss: 15.2431 - mae: 2.7765 - mse: 15.2431 - val_loss: 21.7057 - val_mae: 3.2436 - val_mse: 21.7057\n",
            "Epoch 45/300\n",
            "9/9 [==============================] - 0s 4ms/step - loss: 14.9596 - mae: 2.7543 - mse: 14.9596 - val_loss: 21.7379 - val_mae: 3.2340 - val_mse: 21.7379\n",
            "Epoch 46/300\n",
            "9/9 [==============================] - 0s 4ms/step - loss: 14.8565 - mae: 2.7349 - mse: 14.8565 - val_loss: 21.7505 - val_mae: 3.2534 - val_mse: 21.7505\n",
            "Epoch 47/300\n",
            "9/9 [==============================] - 0s 4ms/step - loss: 14.5336 - mae: 2.6981 - mse: 14.5336 - val_loss: 21.3677 - val_mae: 3.1777 - val_mse: 21.3677\n",
            "Epoch 48/300\n",
            "9/9 [==============================] - 0s 4ms/step - loss: 14.3651 - mae: 2.6703 - mse: 14.3651 - val_loss: 21.0614 - val_mae: 3.1281 - val_mse: 21.0614\n",
            "Epoch 49/300\n",
            "9/9 [==============================] - 0s 5ms/step - loss: 14.1859 - mae: 2.6556 - mse: 14.1859 - val_loss: 21.1087 - val_mae: 3.1349 - val_mse: 21.1087\n",
            "Epoch 50/300\n",
            "9/9 [==============================] - 0s 6ms/step - loss: 14.0666 - mae: 2.6416 - mse: 14.0666 - val_loss: 20.7093 - val_mae: 3.1457 - val_mse: 20.7093\n",
            "Epoch 51/300\n",
            "9/9 [==============================] - 0s 4ms/step - loss: 13.8610 - mae: 2.6223 - mse: 13.8610 - val_loss: 20.3155 - val_mae: 3.1090 - val_mse: 20.3155\n",
            "Epoch 52/300\n",
            "9/9 [==============================] - 0s 4ms/step - loss: 13.6780 - mae: 2.6004 - mse: 13.6780 - val_loss: 20.1691 - val_mae: 3.0814 - val_mse: 20.1691\n",
            "Epoch 53/300\n",
            "9/9 [==============================] - 0s 6ms/step - loss: 13.5046 - mae: 2.5821 - mse: 13.5046 - val_loss: 20.1576 - val_mae: 3.0760 - val_mse: 20.1576\n",
            "Epoch 54/300\n",
            "9/9 [==============================] - 0s 4ms/step - loss: 13.3768 - mae: 2.5654 - mse: 13.3768 - val_loss: 20.0782 - val_mae: 3.0627 - val_mse: 20.0782\n",
            "Epoch 55/300\n",
            "9/9 [==============================] - 0s 4ms/step - loss: 13.2634 - mae: 2.5548 - mse: 13.2634 - val_loss: 19.8144 - val_mae: 3.0311 - val_mse: 19.8144\n",
            "Epoch 56/300\n",
            "9/9 [==============================] - 0s 6ms/step - loss: 13.1226 - mae: 2.5373 - mse: 13.1226 - val_loss: 19.4049 - val_mae: 3.0152 - val_mse: 19.4049\n",
            "Epoch 57/300\n",
            "9/9 [==============================] - 0s 6ms/step - loss: 12.9709 - mae: 2.5235 - mse: 12.9709 - val_loss: 19.1130 - val_mae: 2.9987 - val_mse: 19.1130\n",
            "Epoch 58/300\n",
            "9/9 [==============================] - 0s 4ms/step - loss: 12.8903 - mae: 2.5175 - mse: 12.8903 - val_loss: 18.7939 - val_mae: 2.9967 - val_mse: 18.7939\n",
            "Epoch 59/300\n",
            "9/9 [==============================] - 0s 5ms/step - loss: 12.7022 - mae: 2.5000 - mse: 12.7022 - val_loss: 18.9320 - val_mae: 2.9849 - val_mse: 18.9320\n",
            "Epoch 60/300\n",
            "9/9 [==============================] - 0s 5ms/step - loss: 12.7264 - mae: 2.4899 - mse: 12.7264 - val_loss: 19.3324 - val_mae: 2.9910 - val_mse: 19.3324\n",
            "Epoch 61/300\n",
            "9/9 [==============================] - 0s 5ms/step - loss: 12.5209 - mae: 2.4704 - mse: 12.5209 - val_loss: 19.0071 - val_mae: 2.9827 - val_mse: 19.0071\n",
            "Epoch 62/300\n",
            "9/9 [==============================] - 0s 4ms/step - loss: 12.3862 - mae: 2.4666 - mse: 12.3862 - val_loss: 18.5767 - val_mae: 2.9791 - val_mse: 18.5767\n",
            "Epoch 63/300\n",
            "9/9 [==============================] - 0s 4ms/step - loss: 12.2706 - mae: 2.4574 - mse: 12.2706 - val_loss: 18.4760 - val_mae: 2.9549 - val_mse: 18.4760\n",
            "Epoch 64/300\n",
            "9/9 [==============================] - 0s 7ms/step - loss: 12.2092 - mae: 2.4376 - mse: 12.2092 - val_loss: 18.4856 - val_mae: 2.9271 - val_mse: 18.4856\n",
            "Epoch 65/300\n",
            "9/9 [==============================] - 0s 4ms/step - loss: 12.0927 - mae: 2.4274 - mse: 12.0927 - val_loss: 18.1958 - val_mae: 2.9064 - val_mse: 18.1958\n",
            "Epoch 66/300\n",
            "9/9 [==============================] - 0s 4ms/step - loss: 11.9958 - mae: 2.4302 - mse: 11.9958 - val_loss: 17.9332 - val_mae: 2.9143 - val_mse: 17.9332\n",
            "Epoch 67/300\n",
            "9/9 [==============================] - 0s 5ms/step - loss: 11.9750 - mae: 2.4263 - mse: 11.9750 - val_loss: 18.0176 - val_mae: 2.9337 - val_mse: 18.0176\n",
            "Epoch 68/300\n",
            "9/9 [==============================] - 0s 4ms/step - loss: 11.8866 - mae: 2.4134 - mse: 11.8866 - val_loss: 18.0233 - val_mae: 2.8934 - val_mse: 18.0233\n",
            "Epoch 69/300\n",
            "9/9 [==============================] - 0s 7ms/step - loss: 11.7216 - mae: 2.3943 - mse: 11.7216 - val_loss: 17.7048 - val_mae: 2.8756 - val_mse: 17.7048\n",
            "Epoch 70/300\n",
            "9/9 [==============================] - 0s 5ms/step - loss: 11.6006 - mae: 2.3804 - mse: 11.6006 - val_loss: 17.6586 - val_mae: 2.8764 - val_mse: 17.6586\n",
            "Epoch 71/300\n",
            "9/9 [==============================] - 0s 7ms/step - loss: 11.5315 - mae: 2.3722 - mse: 11.5315 - val_loss: 17.6091 - val_mae: 2.8778 - val_mse: 17.6091\n",
            "Epoch 72/300\n",
            "9/9 [==============================] - 0s 6ms/step - loss: 11.4555 - mae: 2.3645 - mse: 11.4555 - val_loss: 17.5050 - val_mae: 2.8701 - val_mse: 17.5050\n",
            "Epoch 73/300\n",
            "9/9 [==============================] - 0s 4ms/step - loss: 11.3850 - mae: 2.3622 - mse: 11.3850 - val_loss: 17.2839 - val_mae: 2.8416 - val_mse: 17.2839\n",
            "Epoch 74/300\n",
            "9/9 [==============================] - 0s 4ms/step - loss: 11.2665 - mae: 2.3385 - mse: 11.2665 - val_loss: 17.6559 - val_mae: 2.8565 - val_mse: 17.6559\n",
            "Epoch 75/300\n",
            "9/9 [==============================] - 0s 4ms/step - loss: 11.2746 - mae: 2.3301 - mse: 11.2746 - val_loss: 17.6274 - val_mae: 2.8426 - val_mse: 17.6274\n",
            "Epoch 76/300\n",
            "9/9 [==============================] - 0s 4ms/step - loss: 11.1521 - mae: 2.3282 - mse: 11.1521 - val_loss: 17.3653 - val_mae: 2.8465 - val_mse: 17.3653\n",
            "Epoch 77/300\n",
            "9/9 [==============================] - 0s 7ms/step - loss: 11.0919 - mae: 2.3317 - mse: 11.0919 - val_loss: 16.9069 - val_mae: 2.8142 - val_mse: 16.9069\n",
            "Epoch 78/300\n",
            "9/9 [==============================] - 0s 6ms/step - loss: 11.0364 - mae: 2.3294 - mse: 11.0364 - val_loss: 16.9212 - val_mae: 2.8136 - val_mse: 16.9212\n",
            "Epoch 79/300\n",
            "9/9 [==============================] - 0s 4ms/step - loss: 10.9286 - mae: 2.3068 - mse: 10.9286 - val_loss: 17.3792 - val_mae: 2.8274 - val_mse: 17.3792\n",
            "Epoch 80/300\n",
            "9/9 [==============================] - 0s 4ms/step - loss: 10.8609 - mae: 2.2896 - mse: 10.8609 - val_loss: 16.9396 - val_mae: 2.8169 - val_mse: 16.9396\n",
            "Epoch 81/300\n",
            "9/9 [==============================] - 0s 4ms/step - loss: 10.8268 - mae: 2.3015 - mse: 10.8268 - val_loss: 16.8040 - val_mae: 2.8045 - val_mse: 16.8040\n",
            "Epoch 82/300\n",
            "9/9 [==============================] - 0s 5ms/step - loss: 10.7426 - mae: 2.2890 - mse: 10.7426 - val_loss: 16.6726 - val_mae: 2.7921 - val_mse: 16.6726\n",
            "Epoch 83/300\n",
            "9/9 [==============================] - 0s 6ms/step - loss: 10.6793 - mae: 2.2845 - mse: 10.6793 - val_loss: 16.6194 - val_mae: 2.7803 - val_mse: 16.6194\n",
            "Epoch 84/300\n",
            "9/9 [==============================] - 0s 4ms/step - loss: 10.5780 - mae: 2.2722 - mse: 10.5780 - val_loss: 16.3636 - val_mae: 2.7828 - val_mse: 16.3636\n",
            "Epoch 85/300\n",
            "9/9 [==============================] - 0s 7ms/step - loss: 10.5618 - mae: 2.2743 - mse: 10.5618 - val_loss: 16.2728 - val_mae: 2.7753 - val_mse: 16.2728\n",
            "Epoch 86/300\n",
            "9/9 [==============================] - 0s 5ms/step - loss: 10.4982 - mae: 2.2664 - mse: 10.4982 - val_loss: 16.5967 - val_mae: 2.7664 - val_mse: 16.5967\n",
            "Epoch 87/300\n",
            "9/9 [==============================] - 0s 4ms/step - loss: 10.4249 - mae: 2.2554 - mse: 10.4249 - val_loss: 16.4652 - val_mae: 2.7501 - val_mse: 16.4652\n",
            "Epoch 88/300\n",
            "9/9 [==============================] - 0s 6ms/step - loss: 10.3991 - mae: 2.2631 - mse: 10.3991 - val_loss: 16.2440 - val_mae: 2.7388 - val_mse: 16.2440\n",
            "Epoch 89/300\n",
            "9/9 [==============================] - 0s 4ms/step - loss: 10.2982 - mae: 2.2492 - mse: 10.2982 - val_loss: 16.3878 - val_mae: 2.7463 - val_mse: 16.3878\n",
            "Epoch 90/300\n",
            "9/9 [==============================] - 0s 4ms/step - loss: 10.2790 - mae: 2.2408 - mse: 10.2790 - val_loss: 16.1002 - val_mae: 2.7421 - val_mse: 16.1002\n",
            "Epoch 91/300\n",
            "9/9 [==============================] - 0s 5ms/step - loss: 10.1709 - mae: 2.2321 - mse: 10.1709 - val_loss: 16.1457 - val_mae: 2.7409 - val_mse: 16.1457\n",
            "Epoch 92/300\n",
            "9/9 [==============================] - 0s 4ms/step - loss: 10.1152 - mae: 2.2209 - mse: 10.1152 - val_loss: 16.1057 - val_mae: 2.7397 - val_mse: 16.1057\n",
            "Epoch 93/300\n",
            "9/9 [==============================] - 0s 6ms/step - loss: 10.1044 - mae: 2.2147 - mse: 10.1044 - val_loss: 16.1110 - val_mae: 2.7260 - val_mse: 16.1110\n",
            "Epoch 94/300\n",
            "9/9 [==============================] - 0s 4ms/step - loss: 10.0444 - mae: 2.2259 - mse: 10.0444 - val_loss: 15.8728 - val_mae: 2.7181 - val_mse: 15.8728\n",
            "Epoch 95/300\n",
            "9/9 [==============================] - 0s 6ms/step - loss: 10.0282 - mae: 2.2173 - mse: 10.0282 - val_loss: 16.1146 - val_mae: 2.7394 - val_mse: 16.1146\n",
            "Epoch 96/300\n",
            "9/9 [==============================] - 0s 5ms/step - loss: 9.9482 - mae: 2.2010 - mse: 9.9482 - val_loss: 15.9632 - val_mae: 2.7399 - val_mse: 15.9632\n",
            "Epoch 97/300\n",
            "9/9 [==============================] - 0s 5ms/step - loss: 9.9003 - mae: 2.1968 - mse: 9.9003 - val_loss: 15.7487 - val_mae: 2.7197 - val_mse: 15.7487\n",
            "Epoch 98/300\n",
            "9/9 [==============================] - 0s 5ms/step - loss: 9.9613 - mae: 2.2195 - mse: 9.9613 - val_loss: 15.4165 - val_mae: 2.7310 - val_mse: 15.4165\n",
            "Epoch 99/300\n",
            "9/9 [==============================] - 0s 4ms/step - loss: 9.8378 - mae: 2.2021 - mse: 9.8378 - val_loss: 15.7787 - val_mae: 2.7236 - val_mse: 15.7787\n",
            "Epoch 100/300\n",
            "9/9 [==============================] - 0s 6ms/step - loss: 9.7186 - mae: 2.1747 - mse: 9.7186 - val_loss: 15.6570 - val_mae: 2.7084 - val_mse: 15.6570\n",
            "Epoch 101/300\n",
            "9/9 [==============================] - 0s 4ms/step - loss: 9.8045 - mae: 2.2005 - mse: 9.8045 - val_loss: 15.1211 - val_mae: 2.6968 - val_mse: 15.1211\n",
            "Epoch 102/300\n",
            "9/9 [==============================] - 0s 5ms/step - loss: 9.6503 - mae: 2.1687 - mse: 9.6503 - val_loss: 15.6600 - val_mae: 2.7125 - val_mse: 15.6600\n",
            "Epoch 103/300\n",
            "9/9 [==============================] - 0s 5ms/step - loss: 9.6253 - mae: 2.1546 - mse: 9.6253 - val_loss: 15.8222 - val_mae: 2.7124 - val_mse: 15.8222\n",
            "Epoch 104/300\n",
            "9/9 [==============================] - 0s 5ms/step - loss: 9.6345 - mae: 2.1522 - mse: 9.6345 - val_loss: 15.3193 - val_mae: 2.6902 - val_mse: 15.3193\n",
            "Epoch 105/300\n",
            "9/9 [==============================] - 0s 6ms/step - loss: 9.5223 - mae: 2.1564 - mse: 9.5223 - val_loss: 15.3803 - val_mae: 2.6917 - val_mse: 15.3803\n",
            "Epoch 106/300\n",
            "9/9 [==============================] - 0s 4ms/step - loss: 9.5017 - mae: 2.1353 - mse: 9.5017 - val_loss: 15.4072 - val_mae: 2.6801 - val_mse: 15.4072\n",
            "Epoch 107/300\n",
            "9/9 [==============================] - 0s 6ms/step - loss: 9.4503 - mae: 2.1315 - mse: 9.4503 - val_loss: 15.5064 - val_mae: 2.6747 - val_mse: 15.5064\n",
            "Epoch 108/300\n",
            "9/9 [==============================] - 0s 5ms/step - loss: 9.4743 - mae: 2.1539 - mse: 9.4743 - val_loss: 15.0044 - val_mae: 2.6669 - val_mse: 15.0044\n",
            "Epoch 109/300\n",
            "9/9 [==============================] - 0s 5ms/step - loss: 9.3556 - mae: 2.1512 - mse: 9.3556 - val_loss: 15.6063 - val_mae: 2.6843 - val_mse: 15.6063\n",
            "Epoch 110/300\n",
            "9/9 [==============================] - 0s 5ms/step - loss: 9.4929 - mae: 2.1319 - mse: 9.4929 - val_loss: 15.9611 - val_mae: 2.6939 - val_mse: 15.9611\n",
            "Epoch 111/300\n",
            "9/9 [==============================] - 0s 5ms/step - loss: 9.2590 - mae: 2.1165 - mse: 9.2590 - val_loss: 15.2843 - val_mae: 2.6684 - val_mse: 15.2843\n",
            "Epoch 112/300\n",
            "9/9 [==============================] - 0s 4ms/step - loss: 9.2172 - mae: 2.1425 - mse: 9.2172 - val_loss: 14.7743 - val_mae: 2.6649 - val_mse: 14.7743\n",
            "Epoch 113/300\n",
            "9/9 [==============================] - 0s 5ms/step - loss: 9.2549 - mae: 2.1425 - mse: 9.2549 - val_loss: 14.9173 - val_mae: 2.6515 - val_mse: 14.9173\n",
            "Epoch 114/300\n",
            "9/9 [==============================] - 0s 4ms/step - loss: 9.1304 - mae: 2.1163 - mse: 9.1304 - val_loss: 14.8018 - val_mae: 2.6515 - val_mse: 14.8018\n",
            "Epoch 115/300\n",
            "9/9 [==============================] - 0s 4ms/step - loss: 9.1707 - mae: 2.0978 - mse: 9.1707 - val_loss: 15.1072 - val_mae: 2.6564 - val_mse: 15.1072\n",
            "Epoch 116/300\n",
            "9/9 [==============================] - 0s 5ms/step - loss: 9.1293 - mae: 2.1004 - mse: 9.1293 - val_loss: 14.6352 - val_mae: 2.6487 - val_mse: 14.6352\n",
            "Epoch 117/300\n",
            "9/9 [==============================] - 0s 6ms/step - loss: 9.0076 - mae: 2.0931 - mse: 9.0076 - val_loss: 14.6794 - val_mae: 2.6362 - val_mse: 14.6794\n",
            "Epoch 118/300\n",
            "9/9 [==============================] - 0s 4ms/step - loss: 8.9590 - mae: 2.0867 - mse: 8.9590 - val_loss: 14.6421 - val_mae: 2.6292 - val_mse: 14.6421\n",
            "Epoch 119/300\n",
            "9/9 [==============================] - 0s 4ms/step - loss: 8.9003 - mae: 2.0816 - mse: 8.9003 - val_loss: 14.9091 - val_mae: 2.6427 - val_mse: 14.9091\n",
            "Epoch 120/300\n",
            "9/9 [==============================] - 0s 4ms/step - loss: 8.9717 - mae: 2.0841 - mse: 8.9717 - val_loss: 14.8278 - val_mae: 2.6256 - val_mse: 14.8278\n",
            "Epoch 121/300\n",
            "9/9 [==============================] - 0s 5ms/step - loss: 8.8219 - mae: 2.0688 - mse: 8.8219 - val_loss: 14.6830 - val_mae: 2.6354 - val_mse: 14.6830\n",
            "Epoch 122/300\n",
            "9/9 [==============================] - 0s 7ms/step - loss: 8.8101 - mae: 2.0738 - mse: 8.8101 - val_loss: 14.7992 - val_mae: 2.6434 - val_mse: 14.7992\n",
            "Epoch 123/300\n",
            "9/9 [==============================] - 0s 4ms/step - loss: 8.7281 - mae: 2.0616 - mse: 8.7281 - val_loss: 14.7607 - val_mae: 2.6248 - val_mse: 14.7607\n",
            "Epoch 124/300\n",
            "9/9 [==============================] - 0s 4ms/step - loss: 8.7438 - mae: 2.0576 - mse: 8.7438 - val_loss: 14.7149 - val_mae: 2.6122 - val_mse: 14.7149\n",
            "Epoch 125/300\n",
            "9/9 [==============================] - 0s 5ms/step - loss: 8.7881 - mae: 2.0696 - mse: 8.7881 - val_loss: 14.9739 - val_mae: 2.6648 - val_mse: 14.9739\n",
            "Epoch 126/300\n",
            "9/9 [==============================] - 0s 7ms/step - loss: 8.8019 - mae: 2.0577 - mse: 8.8019 - val_loss: 14.5444 - val_mae: 2.6031 - val_mse: 14.5444\n",
            "Epoch 127/300\n",
            "9/9 [==============================] - 0s 7ms/step - loss: 8.6323 - mae: 2.0522 - mse: 8.6323 - val_loss: 14.6486 - val_mae: 2.6191 - val_mse: 14.6486\n",
            "Epoch 128/300\n",
            "9/9 [==============================] - 0s 5ms/step - loss: 8.5614 - mae: 2.0406 - mse: 8.5614 - val_loss: 14.5867 - val_mae: 2.6174 - val_mse: 14.5867\n",
            "Epoch 129/300\n",
            "9/9 [==============================] - 0s 4ms/step - loss: 8.5673 - mae: 2.0536 - mse: 8.5673 - val_loss: 14.2254 - val_mae: 2.5980 - val_mse: 14.2254\n",
            "Epoch 130/300\n",
            "9/9 [==============================] - 0s 6ms/step - loss: 8.4516 - mae: 2.0303 - mse: 8.4516 - val_loss: 14.4906 - val_mae: 2.6130 - val_mse: 14.4906\n",
            "Epoch 131/300\n",
            "9/9 [==============================] - 0s 6ms/step - loss: 8.4376 - mae: 2.0212 - mse: 8.4376 - val_loss: 14.3796 - val_mae: 2.6025 - val_mse: 14.3796\n",
            "Epoch 132/300\n",
            "9/9 [==============================] - 0s 6ms/step - loss: 8.4167 - mae: 2.0370 - mse: 8.4167 - val_loss: 14.4305 - val_mae: 2.6152 - val_mse: 14.4305\n",
            "Epoch 133/300\n",
            "9/9 [==============================] - 0s 8ms/step - loss: 8.3380 - mae: 2.0342 - mse: 8.3380 - val_loss: 14.3863 - val_mae: 2.6005 - val_mse: 14.3863\n",
            "Epoch 134/300\n",
            "9/9 [==============================] - 0s 4ms/step - loss: 8.2536 - mae: 2.0275 - mse: 8.2536 - val_loss: 14.4933 - val_mae: 2.5952 - val_mse: 14.4933\n",
            "Epoch 135/300\n",
            "9/9 [==============================] - 0s 6ms/step - loss: 8.3825 - mae: 2.0309 - mse: 8.3825 - val_loss: 14.8920 - val_mae: 2.6391 - val_mse: 14.8920\n",
            "Epoch 136/300\n",
            "9/9 [==============================] - 0s 7ms/step - loss: 8.1819 - mae: 2.0169 - mse: 8.1819 - val_loss: 14.2564 - val_mae: 2.5944 - val_mse: 14.2564\n",
            "Epoch 137/300\n",
            "9/9 [==============================] - 0s 5ms/step - loss: 8.1972 - mae: 2.0300 - mse: 8.1972 - val_loss: 14.0718 - val_mae: 2.5864 - val_mse: 14.0718\n",
            "Epoch 138/300\n",
            "9/9 [==============================] - 0s 5ms/step - loss: 8.1268 - mae: 2.0136 - mse: 8.1268 - val_loss: 14.2028 - val_mae: 2.5861 - val_mse: 14.2028\n",
            "Epoch 139/300\n",
            "9/9 [==============================] - 0s 5ms/step - loss: 8.1056 - mae: 2.0121 - mse: 8.1056 - val_loss: 14.2567 - val_mae: 2.6009 - val_mse: 14.2567\n",
            "Epoch 140/300\n",
            "9/9 [==============================] - 0s 4ms/step - loss: 8.1051 - mae: 2.0019 - mse: 8.1051 - val_loss: 14.0558 - val_mae: 2.5701 - val_mse: 14.0558\n",
            "Epoch 141/300\n",
            "9/9 [==============================] - 0s 7ms/step - loss: 8.0616 - mae: 2.0108 - mse: 8.0616 - val_loss: 14.0427 - val_mae: 2.5878 - val_mse: 14.0427\n",
            "Epoch 142/300\n",
            "9/9 [==============================] - 0s 7ms/step - loss: 7.9590 - mae: 2.0016 - mse: 7.9590 - val_loss: 14.3429 - val_mae: 2.6068 - val_mse: 14.3429\n",
            "Epoch 143/300\n",
            "9/9 [==============================] - 0s 7ms/step - loss: 7.9161 - mae: 1.9850 - mse: 7.9161 - val_loss: 13.9739 - val_mae: 2.5834 - val_mse: 13.9739\n",
            "Epoch 144/300\n",
            "9/9 [==============================] - 0s 5ms/step - loss: 7.8795 - mae: 1.9888 - mse: 7.8795 - val_loss: 14.0520 - val_mae: 2.5797 - val_mse: 14.0520\n",
            "Epoch 145/300\n",
            "9/9 [==============================] - 0s 5ms/step - loss: 7.9026 - mae: 1.9834 - mse: 7.9026 - val_loss: 14.0926 - val_mae: 2.5782 - val_mse: 14.0926\n",
            "Epoch 146/300\n",
            "9/9 [==============================] - 0s 4ms/step - loss: 7.7998 - mae: 1.9757 - mse: 7.7998 - val_loss: 14.0256 - val_mae: 2.5815 - val_mse: 14.0256\n",
            "Epoch 147/300\n",
            "9/9 [==============================] - 0s 5ms/step - loss: 7.8078 - mae: 1.9824 - mse: 7.8078 - val_loss: 13.9214 - val_mae: 2.5649 - val_mse: 13.9214\n",
            "Epoch 148/300\n",
            "9/9 [==============================] - 0s 5ms/step - loss: 7.7827 - mae: 1.9868 - mse: 7.7827 - val_loss: 13.5758 - val_mae: 2.5665 - val_mse: 13.5758\n",
            "Epoch 149/300\n",
            "9/9 [==============================] - 0s 6ms/step - loss: 7.8415 - mae: 1.9664 - mse: 7.8415 - val_loss: 13.9739 - val_mae: 2.5660 - val_mse: 13.9739\n",
            "Epoch 150/300\n",
            "9/9 [==============================] - 0s 4ms/step - loss: 7.6716 - mae: 1.9720 - mse: 7.6716 - val_loss: 13.7520 - val_mae: 2.5797 - val_mse: 13.7520\n",
            "Epoch 151/300\n",
            "9/9 [==============================] - 0s 7ms/step - loss: 7.6032 - mae: 1.9593 - mse: 7.6032 - val_loss: 13.7229 - val_mae: 2.5556 - val_mse: 13.7229\n",
            "Epoch 152/300\n",
            "9/9 [==============================] - 0s 5ms/step - loss: 7.5583 - mae: 1.9492 - mse: 7.5583 - val_loss: 13.3872 - val_mae: 2.5366 - val_mse: 13.3872\n",
            "Epoch 153/300\n",
            "9/9 [==============================] - 0s 5ms/step - loss: 7.5236 - mae: 1.9586 - mse: 7.5236 - val_loss: 13.3456 - val_mae: 2.5440 - val_mse: 13.3456\n",
            "Epoch 154/300\n",
            "9/9 [==============================] - 0s 4ms/step - loss: 7.5763 - mae: 1.9625 - mse: 7.5763 - val_loss: 13.7964 - val_mae: 2.5645 - val_mse: 13.7964\n",
            "Epoch 155/300\n",
            "9/9 [==============================] - 0s 4ms/step - loss: 7.4522 - mae: 1.9294 - mse: 7.4522 - val_loss: 13.5436 - val_mae: 2.5437 - val_mse: 13.5436\n",
            "Epoch 156/300\n",
            "9/9 [==============================] - 0s 6ms/step - loss: 7.5668 - mae: 1.9692 - mse: 7.5668 - val_loss: 13.4327 - val_mae: 2.5526 - val_mse: 13.4327\n",
            "Epoch 157/300\n",
            "9/9 [==============================] - 0s 7ms/step - loss: 7.4644 - mae: 1.9428 - mse: 7.4644 - val_loss: 13.9299 - val_mae: 2.5685 - val_mse: 13.9299\n",
            "Epoch 158/300\n",
            "9/9 [==============================] - 0s 5ms/step - loss: 7.4192 - mae: 1.9288 - mse: 7.4192 - val_loss: 13.6971 - val_mae: 2.5441 - val_mse: 13.6971\n",
            "Epoch 159/300\n",
            "9/9 [==============================] - 0s 6ms/step - loss: 7.3184 - mae: 1.9542 - mse: 7.3184 - val_loss: 13.1393 - val_mae: 2.5332 - val_mse: 13.1393\n",
            "Epoch 160/300\n",
            "9/9 [==============================] - 0s 4ms/step - loss: 7.3215 - mae: 1.9498 - mse: 7.3215 - val_loss: 13.4795 - val_mae: 2.5494 - val_mse: 13.4795\n",
            "Epoch 161/300\n",
            "9/9 [==============================] - 0s 4ms/step - loss: 7.2146 - mae: 1.9216 - mse: 7.2146 - val_loss: 13.6462 - val_mae: 2.5325 - val_mse: 13.6462\n",
            "Epoch 162/300\n",
            "9/9 [==============================] - 0s 4ms/step - loss: 7.2008 - mae: 1.9121 - mse: 7.2008 - val_loss: 13.5354 - val_mae: 2.5267 - val_mse: 13.5354\n",
            "Epoch 163/300\n",
            "9/9 [==============================] - 0s 7ms/step - loss: 7.1151 - mae: 1.9086 - mse: 7.1151 - val_loss: 13.2868 - val_mae: 2.5261 - val_mse: 13.2868\n",
            "Epoch 164/300\n",
            "9/9 [==============================] - 0s 5ms/step - loss: 7.1111 - mae: 1.9265 - mse: 7.1111 - val_loss: 13.1462 - val_mae: 2.5253 - val_mse: 13.1462\n",
            "Epoch 165/300\n",
            "9/9 [==============================] - 0s 5ms/step - loss: 7.1991 - mae: 1.9252 - mse: 7.1991 - val_loss: 13.1615 - val_mae: 2.5070 - val_mse: 13.1615\n",
            "Epoch 166/300\n",
            "9/9 [==============================] - 0s 4ms/step - loss: 6.9844 - mae: 1.8977 - mse: 6.9844 - val_loss: 13.3781 - val_mae: 2.5357 - val_mse: 13.3781\n",
            "Epoch 167/300\n",
            "9/9 [==============================] - 0s 4ms/step - loss: 6.9847 - mae: 1.9019 - mse: 6.9847 - val_loss: 13.3434 - val_mae: 2.5318 - val_mse: 13.3434\n",
            "Epoch 168/300\n",
            "9/9 [==============================] - 0s 5ms/step - loss: 6.9112 - mae: 1.8985 - mse: 6.9112 - val_loss: 12.9445 - val_mae: 2.4926 - val_mse: 12.9445\n",
            "Epoch 169/300\n",
            "9/9 [==============================] - 0s 4ms/step - loss: 6.8936 - mae: 1.8889 - mse: 6.8936 - val_loss: 13.2734 - val_mae: 2.5149 - val_mse: 13.2734\n",
            "Epoch 170/300\n",
            "9/9 [==============================] - 0s 5ms/step - loss: 6.8614 - mae: 1.8865 - mse: 6.8614 - val_loss: 13.2097 - val_mae: 2.5166 - val_mse: 13.2097\n",
            "Epoch 171/300\n",
            "9/9 [==============================] - 0s 6ms/step - loss: 6.8162 - mae: 1.8735 - mse: 6.8162 - val_loss: 13.0560 - val_mae: 2.4919 - val_mse: 13.0560\n",
            "Epoch 172/300\n",
            "9/9 [==============================] - 0s 4ms/step - loss: 6.7795 - mae: 1.8777 - mse: 6.7795 - val_loss: 12.8463 - val_mae: 2.4882 - val_mse: 12.8463\n",
            "Epoch 173/300\n",
            "9/9 [==============================] - 0s 5ms/step - loss: 6.7617 - mae: 1.8870 - mse: 6.7617 - val_loss: 12.8123 - val_mae: 2.4896 - val_mse: 12.8123\n",
            "Epoch 174/300\n",
            "9/9 [==============================] - 0s 5ms/step - loss: 6.6516 - mae: 1.8612 - mse: 6.6516 - val_loss: 13.2824 - val_mae: 2.5055 - val_mse: 13.2824\n",
            "Epoch 175/300\n",
            "9/9 [==============================] - 0s 4ms/step - loss: 6.6966 - mae: 1.8530 - mse: 6.6966 - val_loss: 13.2116 - val_mae: 2.5126 - val_mse: 13.2116\n",
            "Epoch 176/300\n",
            "9/9 [==============================] - 0s 7ms/step - loss: 6.6705 - mae: 1.8708 - mse: 6.6705 - val_loss: 12.8027 - val_mae: 2.4913 - val_mse: 12.8027\n",
            "Epoch 177/300\n",
            "9/9 [==============================] - 0s 4ms/step - loss: 6.5576 - mae: 1.8544 - mse: 6.5576 - val_loss: 12.8834 - val_mae: 2.4752 - val_mse: 12.8834\n",
            "Epoch 178/300\n",
            "9/9 [==============================] - 0s 5ms/step - loss: 6.5752 - mae: 1.8447 - mse: 6.5752 - val_loss: 12.8206 - val_mae: 2.4813 - val_mse: 12.8206\n",
            "Epoch 179/300\n",
            "9/9 [==============================] - 0s 5ms/step - loss: 6.4740 - mae: 1.8422 - mse: 6.4740 - val_loss: 12.9122 - val_mae: 2.4749 - val_mse: 12.9122\n",
            "Epoch 180/300\n",
            "9/9 [==============================] - 0s 6ms/step - loss: 6.5232 - mae: 1.8494 - mse: 6.5232 - val_loss: 12.7688 - val_mae: 2.4721 - val_mse: 12.7688\n",
            "Epoch 181/300\n",
            "9/9 [==============================] - 0s 7ms/step - loss: 6.3939 - mae: 1.8241 - mse: 6.3939 - val_loss: 13.0300 - val_mae: 2.4847 - val_mse: 13.0300\n",
            "Epoch 182/300\n",
            "9/9 [==============================] - 0s 5ms/step - loss: 6.4395 - mae: 1.8261 - mse: 6.4395 - val_loss: 12.8172 - val_mae: 2.4588 - val_mse: 12.8172\n",
            "Epoch 183/300\n",
            "9/9 [==============================] - 0s 5ms/step - loss: 6.3786 - mae: 1.8317 - mse: 6.3786 - val_loss: 12.5505 - val_mae: 2.4555 - val_mse: 12.5505\n",
            "Epoch 184/300\n",
            "9/9 [==============================] - 0s 4ms/step - loss: 6.3307 - mae: 1.8346 - mse: 6.3307 - val_loss: 12.7293 - val_mae: 2.4605 - val_mse: 12.7293\n",
            "Epoch 185/300\n",
            "9/9 [==============================] - 0s 6ms/step - loss: 6.3611 - mae: 1.8222 - mse: 6.3611 - val_loss: 13.0085 - val_mae: 2.4887 - val_mse: 13.0085\n",
            "Epoch 186/300\n",
            "9/9 [==============================] - 0s 7ms/step - loss: 6.2842 - mae: 1.8225 - mse: 6.2842 - val_loss: 12.4189 - val_mae: 2.4441 - val_mse: 12.4189\n",
            "Epoch 187/300\n",
            "9/9 [==============================] - 0s 6ms/step - loss: 6.2449 - mae: 1.8132 - mse: 6.2449 - val_loss: 12.6090 - val_mae: 2.4651 - val_mse: 12.6090\n",
            "Epoch 188/300\n",
            "9/9 [==============================] - 0s 4ms/step - loss: 6.2401 - mae: 1.8014 - mse: 6.2401 - val_loss: 12.7425 - val_mae: 2.4619 - val_mse: 12.7425\n",
            "Epoch 189/300\n",
            "9/9 [==============================] - 0s 4ms/step - loss: 6.2191 - mae: 1.8147 - mse: 6.2191 - val_loss: 12.3379 - val_mae: 2.4426 - val_mse: 12.3379\n",
            "Epoch 190/300\n",
            "9/9 [==============================] - 0s 7ms/step - loss: 6.1588 - mae: 1.7987 - mse: 6.1588 - val_loss: 12.8147 - val_mae: 2.4571 - val_mse: 12.8147\n",
            "Epoch 191/300\n",
            "9/9 [==============================] - 0s 4ms/step - loss: 6.1518 - mae: 1.8076 - mse: 6.1518 - val_loss: 12.4694 - val_mae: 2.4508 - val_mse: 12.4694\n",
            "Epoch 192/300\n",
            "9/9 [==============================] - 0s 5ms/step - loss: 6.0897 - mae: 1.8017 - mse: 6.0897 - val_loss: 12.6727 - val_mae: 2.4602 - val_mse: 12.6727\n",
            "Epoch 193/300\n",
            "9/9 [==============================] - 0s 5ms/step - loss: 6.0623 - mae: 1.7861 - mse: 6.0623 - val_loss: 12.6287 - val_mae: 2.4460 - val_mse: 12.6287\n",
            "Epoch 194/300\n",
            "9/9 [==============================] - 0s 6ms/step - loss: 6.0990 - mae: 1.7834 - mse: 6.0990 - val_loss: 12.4775 - val_mae: 2.4291 - val_mse: 12.4775\n",
            "Epoch 195/300\n",
            "9/9 [==============================] - 0s 4ms/step - loss: 6.0040 - mae: 1.7945 - mse: 6.0040 - val_loss: 12.2089 - val_mae: 2.4537 - val_mse: 12.2089\n",
            "Epoch 196/300\n",
            "9/9 [==============================] - 0s 5ms/step - loss: 5.9253 - mae: 1.7795 - mse: 5.9253 - val_loss: 12.6213 - val_mae: 2.4380 - val_mse: 12.6213\n",
            "Epoch 197/300\n",
            "9/9 [==============================] - 0s 6ms/step - loss: 5.9545 - mae: 1.7713 - mse: 5.9545 - val_loss: 12.2699 - val_mae: 2.4226 - val_mse: 12.2699\n",
            "Epoch 198/300\n",
            "9/9 [==============================] - 0s 5ms/step - loss: 5.8856 - mae: 1.7696 - mse: 5.8856 - val_loss: 12.3771 - val_mae: 2.4422 - val_mse: 12.3771\n",
            "Epoch 199/300\n",
            "9/9 [==============================] - 0s 6ms/step - loss: 5.8786 - mae: 1.7755 - mse: 5.8786 - val_loss: 12.1740 - val_mae: 2.4125 - val_mse: 12.1740\n",
            "Epoch 200/300\n",
            "9/9 [==============================] - 0s 7ms/step - loss: 5.9224 - mae: 1.7545 - mse: 5.9224 - val_loss: 12.5382 - val_mae: 2.4535 - val_mse: 12.5382\n",
            "Epoch 201/300\n",
            "9/9 [==============================] - 0s 6ms/step - loss: 5.8506 - mae: 1.7573 - mse: 5.8506 - val_loss: 11.9962 - val_mae: 2.4204 - val_mse: 11.9962\n",
            "Epoch 202/300\n",
            "9/9 [==============================] - 0s 5ms/step - loss: 5.7881 - mae: 1.7693 - mse: 5.7881 - val_loss: 12.1584 - val_mae: 2.4327 - val_mse: 12.1584\n",
            "Epoch 203/300\n",
            "9/9 [==============================] - 0s 5ms/step - loss: 5.8161 - mae: 1.7513 - mse: 5.8161 - val_loss: 12.6267 - val_mae: 2.4482 - val_mse: 12.6267\n",
            "Epoch 204/300\n",
            "9/9 [==============================] - 0s 4ms/step - loss: 5.7667 - mae: 1.7347 - mse: 5.7667 - val_loss: 12.2333 - val_mae: 2.4241 - val_mse: 12.2333\n",
            "Epoch 205/300\n",
            "9/9 [==============================] - 0s 4ms/step - loss: 5.6889 - mae: 1.7501 - mse: 5.6889 - val_loss: 12.0372 - val_mae: 2.4462 - val_mse: 12.0372\n",
            "Epoch 206/300\n",
            "9/9 [==============================] - 0s 5ms/step - loss: 5.6901 - mae: 1.7373 - mse: 5.6901 - val_loss: 12.2872 - val_mae: 2.4289 - val_mse: 12.2872\n",
            "Epoch 207/300\n",
            "9/9 [==============================] - 0s 5ms/step - loss: 5.6589 - mae: 1.7234 - mse: 5.6589 - val_loss: 12.2613 - val_mae: 2.4247 - val_mse: 12.2613\n",
            "Epoch 208/300\n",
            "9/9 [==============================] - 0s 5ms/step - loss: 5.5821 - mae: 1.7221 - mse: 5.5821 - val_loss: 12.0403 - val_mae: 2.4107 - val_mse: 12.0403\n",
            "Epoch 209/300\n",
            "9/9 [==============================] - 0s 6ms/step - loss: 5.6166 - mae: 1.7224 - mse: 5.6166 - val_loss: 12.1012 - val_mae: 2.4172 - val_mse: 12.1012\n",
            "Epoch 210/300\n",
            "9/9 [==============================] - 0s 4ms/step - loss: 5.6023 - mae: 1.7408 - mse: 5.6023 - val_loss: 11.8554 - val_mae: 2.4109 - val_mse: 11.8554\n",
            "Epoch 211/300\n",
            "9/9 [==============================] - 0s 5ms/step - loss: 5.6881 - mae: 1.7094 - mse: 5.6881 - val_loss: 12.4200 - val_mae: 2.4083 - val_mse: 12.4200\n",
            "Epoch 212/300\n",
            "9/9 [==============================] - 0s 5ms/step - loss: 5.4673 - mae: 1.6932 - mse: 5.4673 - val_loss: 12.0339 - val_mae: 2.4515 - val_mse: 12.0339\n",
            "Epoch 213/300\n",
            "9/9 [==============================] - 0s 4ms/step - loss: 5.5202 - mae: 1.7161 - mse: 5.5202 - val_loss: 11.6135 - val_mae: 2.3831 - val_mse: 11.6135\n",
            "Epoch 214/300\n",
            "9/9 [==============================] - 0s 5ms/step - loss: 5.4552 - mae: 1.7077 - mse: 5.4552 - val_loss: 11.8466 - val_mae: 2.4148 - val_mse: 11.8466\n",
            "Epoch 215/300\n",
            "9/9 [==============================] - 0s 7ms/step - loss: 5.4268 - mae: 1.7077 - mse: 5.4268 - val_loss: 11.7592 - val_mae: 2.4159 - val_mse: 11.7592\n",
            "Epoch 216/300\n",
            "9/9 [==============================] - 0s 5ms/step - loss: 5.3707 - mae: 1.6909 - mse: 5.3707 - val_loss: 11.8502 - val_mae: 2.3756 - val_mse: 11.8502\n",
            "Epoch 217/300\n",
            "9/9 [==============================] - 0s 5ms/step - loss: 5.4111 - mae: 1.6849 - mse: 5.4111 - val_loss: 12.0140 - val_mae: 2.4077 - val_mse: 12.0140\n",
            "Epoch 218/300\n",
            "9/9 [==============================] - 0s 4ms/step - loss: 5.3425 - mae: 1.6793 - mse: 5.3425 - val_loss: 11.6614 - val_mae: 2.3978 - val_mse: 11.6614\n",
            "Epoch 219/300\n",
            "9/9 [==============================] - 0s 6ms/step - loss: 5.3185 - mae: 1.6938 - mse: 5.3185 - val_loss: 11.6528 - val_mae: 2.4011 - val_mse: 11.6528\n",
            "Epoch 220/300\n",
            "9/9 [==============================] - 0s 5ms/step - loss: 5.2975 - mae: 1.6832 - mse: 5.2975 - val_loss: 12.0435 - val_mae: 2.4045 - val_mse: 12.0435\n",
            "Epoch 221/300\n",
            "9/9 [==============================] - 0s 7ms/step - loss: 5.3009 - mae: 1.6649 - mse: 5.3009 - val_loss: 11.7282 - val_mae: 2.4227 - val_mse: 11.7282\n",
            "Epoch 222/300\n",
            "9/9 [==============================] - 0s 4ms/step - loss: 5.3139 - mae: 1.6853 - mse: 5.3139 - val_loss: 11.6226 - val_mae: 2.3813 - val_mse: 11.6226\n",
            "Epoch 223/300\n",
            "9/9 [==============================] - 0s 6ms/step - loss: 5.2082 - mae: 1.6629 - mse: 5.2082 - val_loss: 11.8614 - val_mae: 2.4023 - val_mse: 11.8614\n",
            "Epoch 224/300\n",
            "9/9 [==============================] - 0s 5ms/step - loss: 5.2756 - mae: 1.6696 - mse: 5.2756 - val_loss: 11.7117 - val_mae: 2.4022 - val_mse: 11.7117\n",
            "Epoch 225/300\n",
            "9/9 [==============================] - 0s 5ms/step - loss: 5.2055 - mae: 1.6618 - mse: 5.2055 - val_loss: 11.6153 - val_mae: 2.3931 - val_mse: 11.6153\n",
            "Epoch 226/300\n",
            "9/9 [==============================] - 0s 5ms/step - loss: 5.1202 - mae: 1.6558 - mse: 5.1202 - val_loss: 11.7179 - val_mae: 2.4164 - val_mse: 11.7179\n",
            "Epoch 227/300\n",
            "9/9 [==============================] - 0s 5ms/step - loss: 5.1560 - mae: 1.6722 - mse: 5.1560 - val_loss: 11.5008 - val_mae: 2.3861 - val_mse: 11.5008\n",
            "Epoch 228/300\n",
            "9/9 [==============================] - 0s 5ms/step - loss: 5.1354 - mae: 1.6537 - mse: 5.1354 - val_loss: 11.5888 - val_mae: 2.3527 - val_mse: 11.5888\n",
            "Epoch 229/300\n",
            "9/9 [==============================] - 0s 5ms/step - loss: 5.0924 - mae: 1.6433 - mse: 5.0924 - val_loss: 11.4225 - val_mae: 2.4067 - val_mse: 11.4225\n",
            "Epoch 230/300\n",
            "9/9 [==============================] - 0s 5ms/step - loss: 5.0516 - mae: 1.6368 - mse: 5.0516 - val_loss: 11.5339 - val_mae: 2.3641 - val_mse: 11.5339\n",
            "Epoch 231/300\n",
            "9/9 [==============================] - 0s 6ms/step - loss: 5.0716 - mae: 1.6348 - mse: 5.0716 - val_loss: 11.4733 - val_mae: 2.3770 - val_mse: 11.4733\n",
            "Epoch 232/300\n",
            "9/9 [==============================] - 0s 5ms/step - loss: 4.9761 - mae: 1.6394 - mse: 4.9761 - val_loss: 11.6730 - val_mae: 2.4296 - val_mse: 11.6730\n",
            "Epoch 233/300\n",
            "9/9 [==============================] - 0s 4ms/step - loss: 4.9953 - mae: 1.6395 - mse: 4.9953 - val_loss: 11.5855 - val_mae: 2.3762 - val_mse: 11.5855\n",
            "Epoch 234/300\n",
            "9/9 [==============================] - 0s 5ms/step - loss: 4.9813 - mae: 1.6333 - mse: 4.9813 - val_loss: 11.3936 - val_mae: 2.3774 - val_mse: 11.3936\n",
            "Epoch 235/300\n",
            "9/9 [==============================] - 0s 8ms/step - loss: 4.9327 - mae: 1.6221 - mse: 4.9327 - val_loss: 11.5285 - val_mae: 2.4135 - val_mse: 11.5285\n",
            "Epoch 236/300\n",
            "9/9 [==============================] - 0s 7ms/step - loss: 4.9020 - mae: 1.5980 - mse: 4.9020 - val_loss: 11.2992 - val_mae: 2.3535 - val_mse: 11.2992\n",
            "Epoch 237/300\n",
            "9/9 [==============================] - 0s 6ms/step - loss: 5.0003 - mae: 1.6433 - mse: 5.0003 - val_loss: 11.2922 - val_mae: 2.3707 - val_mse: 11.2922\n",
            "Epoch 238/300\n",
            "9/9 [==============================] - 0s 5ms/step - loss: 5.0439 - mae: 1.6309 - mse: 5.0439 - val_loss: 11.8036 - val_mae: 2.4001 - val_mse: 11.8036\n",
            "Epoch 239/300\n",
            "9/9 [==============================] - 0s 6ms/step - loss: 4.8629 - mae: 1.6033 - mse: 4.8629 - val_loss: 11.0516 - val_mae: 2.3542 - val_mse: 11.0516\n",
            "Epoch 240/300\n",
            "9/9 [==============================] - 0s 7ms/step - loss: 4.8984 - mae: 1.6493 - mse: 4.8984 - val_loss: 11.0811 - val_mae: 2.3878 - val_mse: 11.0811\n",
            "Epoch 241/300\n",
            "9/9 [==============================] - 0s 5ms/step - loss: 4.9384 - mae: 1.6242 - mse: 4.9384 - val_loss: 11.4777 - val_mae: 2.3739 - val_mse: 11.4777\n",
            "Epoch 242/300\n",
            "9/9 [==============================] - 0s 5ms/step - loss: 4.8975 - mae: 1.6267 - mse: 4.8975 - val_loss: 11.1687 - val_mae: 2.3929 - val_mse: 11.1687\n",
            "Epoch 243/300\n",
            "9/9 [==============================] - 0s 5ms/step - loss: 4.8417 - mae: 1.6235 - mse: 4.8417 - val_loss: 11.4136 - val_mae: 2.3516 - val_mse: 11.4136\n",
            "Epoch 244/300\n",
            "9/9 [==============================] - 0s 7ms/step - loss: 4.8656 - mae: 1.5996 - mse: 4.8656 - val_loss: 11.2697 - val_mae: 2.3707 - val_mse: 11.2697\n",
            "Epoch 245/300\n",
            "9/9 [==============================] - 0s 5ms/step - loss: 4.7321 - mae: 1.6072 - mse: 4.7321 - val_loss: 11.1924 - val_mae: 2.4004 - val_mse: 11.1924\n",
            "Epoch 246/300\n",
            "9/9 [==============================] - 0s 7ms/step - loss: 4.7068 - mae: 1.5985 - mse: 4.7068 - val_loss: 10.9010 - val_mae: 2.3333 - val_mse: 10.9010\n",
            "Epoch 247/300\n",
            "9/9 [==============================] - 0s 4ms/step - loss: 4.6692 - mae: 1.5764 - mse: 4.6692 - val_loss: 11.0281 - val_mae: 2.3336 - val_mse: 11.0281\n",
            "Epoch 248/300\n",
            "9/9 [==============================] - 0s 7ms/step - loss: 4.7132 - mae: 1.6032 - mse: 4.7132 - val_loss: 11.1305 - val_mae: 2.3685 - val_mse: 11.1305\n",
            "Epoch 249/300\n",
            "9/9 [==============================] - 0s 7ms/step - loss: 4.7056 - mae: 1.5791 - mse: 4.7056 - val_loss: 11.3121 - val_mae: 2.3586 - val_mse: 11.3121\n",
            "Epoch 250/300\n",
            "9/9 [==============================] - 0s 5ms/step - loss: 4.6239 - mae: 1.5723 - mse: 4.6239 - val_loss: 10.9854 - val_mae: 2.3768 - val_mse: 10.9854\n",
            "Epoch 251/300\n",
            "9/9 [==============================] - 0s 6ms/step - loss: 4.6227 - mae: 1.5911 - mse: 4.6227 - val_loss: 10.8243 - val_mae: 2.3343 - val_mse: 10.8243\n",
            "Epoch 252/300\n",
            "9/9 [==============================] - 0s 5ms/step - loss: 4.5969 - mae: 1.5674 - mse: 4.5969 - val_loss: 11.2049 - val_mae: 2.3554 - val_mse: 11.2049\n",
            "Epoch 253/300\n",
            "9/9 [==============================] - 0s 6ms/step - loss: 4.5504 - mae: 1.5686 - mse: 4.5504 - val_loss: 10.9943 - val_mae: 2.3782 - val_mse: 10.9943\n",
            "Epoch 254/300\n",
            "9/9 [==============================] - 0s 5ms/step - loss: 4.5509 - mae: 1.5688 - mse: 4.5509 - val_loss: 11.2074 - val_mae: 2.3618 - val_mse: 11.2074\n",
            "Epoch 255/300\n",
            "9/9 [==============================] - 0s 5ms/step - loss: 4.5611 - mae: 1.5539 - mse: 4.5611 - val_loss: 11.3810 - val_mae: 2.3760 - val_mse: 11.3810\n",
            "Epoch 256/300\n",
            "9/9 [==============================] - 0s 5ms/step - loss: 4.4831 - mae: 1.5378 - mse: 4.4831 - val_loss: 11.2447 - val_mae: 2.3840 - val_mse: 11.2447\n",
            "Epoch 257/300\n",
            "9/9 [==============================] - 0s 5ms/step - loss: 4.5024 - mae: 1.5675 - mse: 4.5024 - val_loss: 10.8641 - val_mae: 2.3574 - val_mse: 10.8641\n",
            "Epoch 258/300\n",
            "9/9 [==============================] - 0s 5ms/step - loss: 4.5050 - mae: 1.5445 - mse: 4.5050 - val_loss: 11.1461 - val_mae: 2.3587 - val_mse: 11.1461\n",
            "Epoch 259/300\n",
            "9/9 [==============================] - 0s 5ms/step - loss: 4.4245 - mae: 1.5493 - mse: 4.4245 - val_loss: 10.6215 - val_mae: 2.3300 - val_mse: 10.6215\n",
            "Epoch 260/300\n",
            "9/9 [==============================] - 0s 9ms/step - loss: 4.4016 - mae: 1.5357 - mse: 4.4016 - val_loss: 11.0047 - val_mae: 2.3477 - val_mse: 11.0047\n",
            "Epoch 261/300\n",
            "9/9 [==============================] - 0s 5ms/step - loss: 4.4374 - mae: 1.5269 - mse: 4.4374 - val_loss: 10.7295 - val_mae: 2.3346 - val_mse: 10.7295\n",
            "Epoch 262/300\n",
            "9/9 [==============================] - 0s 4ms/step - loss: 4.3875 - mae: 1.5370 - mse: 4.3875 - val_loss: 10.4819 - val_mae: 2.3147 - val_mse: 10.4819\n",
            "Epoch 263/300\n",
            "9/9 [==============================] - 0s 5ms/step - loss: 4.3863 - mae: 1.5308 - mse: 4.3863 - val_loss: 10.7774 - val_mae: 2.3323 - val_mse: 10.7774\n",
            "Epoch 264/300\n",
            "9/9 [==============================] - 0s 5ms/step - loss: 4.3844 - mae: 1.5353 - mse: 4.3844 - val_loss: 10.7580 - val_mae: 2.3537 - val_mse: 10.7580\n",
            "Epoch 265/300\n",
            "9/9 [==============================] - 0s 6ms/step - loss: 4.5637 - mae: 1.5390 - mse: 4.5637 - val_loss: 10.7807 - val_mae: 2.3162 - val_mse: 10.7807\n",
            "Epoch 266/300\n",
            "9/9 [==============================] - 0s 5ms/step - loss: 4.2994 - mae: 1.5171 - mse: 4.2994 - val_loss: 10.5152 - val_mae: 2.3299 - val_mse: 10.5152\n",
            "Epoch 267/300\n",
            "9/9 [==============================] - 0s 5ms/step - loss: 4.2667 - mae: 1.5099 - mse: 4.2667 - val_loss: 10.7401 - val_mae: 2.3141 - val_mse: 10.7401\n",
            "Epoch 268/300\n",
            "9/9 [==============================] - 0s 5ms/step - loss: 4.2325 - mae: 1.4946 - mse: 4.2325 - val_loss: 10.8679 - val_mae: 2.3527 - val_mse: 10.8679\n",
            "Epoch 269/300\n",
            "9/9 [==============================] - 0s 5ms/step - loss: 4.3793 - mae: 1.5425 - mse: 4.3793 - val_loss: 10.7020 - val_mae: 2.3326 - val_mse: 10.7020\n",
            "Epoch 270/300\n",
            "9/9 [==============================] - 0s 5ms/step - loss: 4.2581 - mae: 1.4981 - mse: 4.2581 - val_loss: 10.8549 - val_mae: 2.3271 - val_mse: 10.8549\n",
            "Epoch 271/300\n",
            "9/9 [==============================] - 0s 6ms/step - loss: 4.1873 - mae: 1.4903 - mse: 4.1873 - val_loss: 10.4757 - val_mae: 2.3169 - val_mse: 10.4757\n",
            "Epoch 272/300\n",
            "9/9 [==============================] - 0s 6ms/step - loss: 4.2275 - mae: 1.5152 - mse: 4.2275 - val_loss: 10.5579 - val_mae: 2.3211 - val_mse: 10.5579\n",
            "Epoch 273/300\n",
            "9/9 [==============================] - 0s 5ms/step - loss: 4.1712 - mae: 1.4904 - mse: 4.1712 - val_loss: 11.0041 - val_mae: 2.3534 - val_mse: 11.0041\n",
            "Epoch 274/300\n",
            "9/9 [==============================] - 0s 5ms/step - loss: 4.2105 - mae: 1.4941 - mse: 4.2105 - val_loss: 10.6650 - val_mae: 2.3072 - val_mse: 10.6650\n",
            "Epoch 275/300\n",
            "9/9 [==============================] - 0s 7ms/step - loss: 4.2468 - mae: 1.4937 - mse: 4.2468 - val_loss: 10.6963 - val_mae: 2.3272 - val_mse: 10.6963\n",
            "Epoch 276/300\n",
            "9/9 [==============================] - 0s 5ms/step - loss: 4.1364 - mae: 1.4820 - mse: 4.1364 - val_loss: 10.5346 - val_mae: 2.3006 - val_mse: 10.5346\n",
            "Epoch 277/300\n",
            "9/9 [==============================] - 0s 5ms/step - loss: 4.1971 - mae: 1.4946 - mse: 4.1971 - val_loss: 10.5363 - val_mae: 2.3025 - val_mse: 10.5363\n",
            "Epoch 278/300\n",
            "9/9 [==============================] - 0s 5ms/step - loss: 4.2380 - mae: 1.5029 - mse: 4.2380 - val_loss: 10.7824 - val_mae: 2.3390 - val_mse: 10.7824\n",
            "Epoch 279/300\n",
            "9/9 [==============================] - 0s 5ms/step - loss: 4.0604 - mae: 1.4792 - mse: 4.0604 - val_loss: 10.6802 - val_mae: 2.3239 - val_mse: 10.6802\n",
            "Epoch 280/300\n",
            "9/9 [==============================] - 0s 5ms/step - loss: 4.1200 - mae: 1.4709 - mse: 4.1200 - val_loss: 10.8380 - val_mae: 2.3470 - val_mse: 10.8380\n",
            "Epoch 281/300\n",
            "9/9 [==============================] - 0s 4ms/step - loss: 4.1548 - mae: 1.4942 - mse: 4.1548 - val_loss: 10.3916 - val_mae: 2.2924 - val_mse: 10.3916\n",
            "Epoch 282/300\n",
            "9/9 [==============================] - 0s 6ms/step - loss: 4.0622 - mae: 1.4695 - mse: 4.0622 - val_loss: 10.9666 - val_mae: 2.3579 - val_mse: 10.9666\n",
            "Epoch 283/300\n",
            "9/9 [==============================] - 0s 5ms/step - loss: 4.2103 - mae: 1.5008 - mse: 4.2103 - val_loss: 10.4500 - val_mae: 2.3134 - val_mse: 10.4500\n",
            "Epoch 284/300\n",
            "9/9 [==============================] - 0s 4ms/step - loss: 4.3110 - mae: 1.5395 - mse: 4.3110 - val_loss: 11.0136 - val_mae: 2.3677 - val_mse: 11.0136\n",
            "Epoch 285/300\n",
            "9/9 [==============================] - 0s 5ms/step - loss: 4.0937 - mae: 1.4722 - mse: 4.0937 - val_loss: 10.5824 - val_mae: 2.2982 - val_mse: 10.5824\n",
            "Epoch 286/300\n",
            "9/9 [==============================] - 0s 6ms/step - loss: 4.0799 - mae: 1.4581 - mse: 4.0799 - val_loss: 10.8627 - val_mae: 2.3726 - val_mse: 10.8627\n",
            "Epoch 287/300\n",
            "9/9 [==============================] - 0s 5ms/step - loss: 4.1224 - mae: 1.4753 - mse: 4.1224 - val_loss: 10.5695 - val_mae: 2.3162 - val_mse: 10.5695\n",
            "Epoch 288/300\n",
            "9/9 [==============================] - 0s 5ms/step - loss: 4.0410 - mae: 1.4713 - mse: 4.0410 - val_loss: 10.8807 - val_mae: 2.3677 - val_mse: 10.8807\n",
            "Epoch 289/300\n",
            "9/9 [==============================] - 0s 6ms/step - loss: 3.9647 - mae: 1.4466 - mse: 3.9647 - val_loss: 10.8229 - val_mae: 2.3173 - val_mse: 10.8229\n",
            "Epoch 290/300\n",
            "9/9 [==============================] - 0s 7ms/step - loss: 3.9234 - mae: 1.4370 - mse: 3.9234 - val_loss: 10.5216 - val_mae: 2.3216 - val_mse: 10.5216\n",
            "Epoch 291/300\n",
            "9/9 [==============================] - 0s 7ms/step - loss: 3.9505 - mae: 1.4499 - mse: 3.9505 - val_loss: 10.5541 - val_mae: 2.3070 - val_mse: 10.5541\n",
            "Epoch 292/300\n",
            "9/9 [==============================] - 0s 6ms/step - loss: 3.9358 - mae: 1.4389 - mse: 3.9358 - val_loss: 10.4195 - val_mae: 2.3036 - val_mse: 10.4195\n",
            "Epoch 293/300\n",
            "9/9 [==============================] - 0s 5ms/step - loss: 3.9518 - mae: 1.4463 - mse: 3.9518 - val_loss: 10.3546 - val_mae: 2.2840 - val_mse: 10.3546\n",
            "Epoch 294/300\n",
            "9/9 [==============================] - 0s 7ms/step - loss: 3.9489 - mae: 1.4686 - mse: 3.9489 - val_loss: 10.5407 - val_mae: 2.3403 - val_mse: 10.5407\n",
            "Epoch 295/300\n",
            "9/9 [==============================] - 0s 5ms/step - loss: 3.9279 - mae: 1.4503 - mse: 3.9279 - val_loss: 10.8688 - val_mae: 2.3280 - val_mse: 10.8688\n",
            "Epoch 296/300\n",
            "9/9 [==============================] - 0s 5ms/step - loss: 3.9931 - mae: 1.4773 - mse: 3.9931 - val_loss: 10.5121 - val_mae: 2.3475 - val_mse: 10.5121\n",
            "Epoch 297/300\n",
            "9/9 [==============================] - 0s 8ms/step - loss: 4.0504 - mae: 1.4622 - mse: 4.0504 - val_loss: 10.7207 - val_mae: 2.2821 - val_mse: 10.7207\n",
            "Epoch 298/300\n",
            "9/9 [==============================] - 0s 5ms/step - loss: 3.9131 - mae: 1.4525 - mse: 3.9131 - val_loss: 10.4500 - val_mae: 2.3273 - val_mse: 10.4500\n",
            "Epoch 299/300\n",
            "9/9 [==============================] - 0s 5ms/step - loss: 3.8614 - mae: 1.4185 - mse: 3.8614 - val_loss: 10.8813 - val_mae: 2.2964 - val_mse: 10.8813\n",
            "Epoch 300/300\n",
            "9/9 [==============================] - 0s 4ms/step - loss: 3.7788 - mae: 1.4076 - mse: 3.7788 - val_loss: 10.5071 - val_mae: 2.3281 - val_mse: 10.5071\n"
          ],
          "name": "stdout"
        }
      ]
    },
    {
      "cell_type": "markdown",
      "metadata": {
        "id": "S4RZvbu7nf2X"
      },
      "source": [
        "# 모델 결과 그리기"
      ]
    },
    {
      "cell_type": "code",
      "metadata": {
        "colab": {
          "base_uri": "https://localhost:8080/",
          "height": 349
        },
        "id": "8WQmDvjIn1qn",
        "outputId": "aa2da533-936b-44b9-8c6d-39f454cd148f"
      },
      "source": [
        "import matplotlib.pyplot as plt\n",
        "\n",
        "his_dict = history.history\n",
        "mse = his_dict['mse']\n",
        "val_mse = his_dict['val_mse'] # 검증 데이터가 있는 경우 ‘val_’ 수식어가 붙습니다.\n",
        "\n",
        "epochs = range(1, len(mse) + 1)\n",
        "fig = plt.figure(figsize = (10, 5))\n",
        "\n",
        "# 훈련 및 검증 손실 그리기\n",
        "ax1 = fig.add_subplot(1, 2, 1)\n",
        "ax1.plot(epochs, mse, color = 'blue', label = 'train_mse')\n",
        "ax1.plot(epochs, val_mse, color = 'orange', label = 'val_mse')\n",
        "ax1.set_title('train and val mse')\n",
        "ax1.set_xlabel('epochs')\n",
        "ax1.set_ylabel('mse')\n",
        "ax1.legend()\n",
        "\n",
        "mae = his_dict['mae']\n",
        "val_mae = his_dict['val_mae']\n",
        "\n",
        "# 훈련 및 검증 정확도 그리기\n",
        "ax2 = fig.add_subplot(1, 2, 2)\n",
        "ax2.plot(epochs, mae, color = 'blue', label = 'train_mae')\n",
        "ax2.plot(epochs, val_mae, color = 'orange', label = 'val_mae')\n",
        "ax2.set_title('train and val mae')\n",
        "ax2.set_xlabel('epochs')\n",
        "ax2.set_ylabel('mae')\n",
        "ax2.legend()\n",
        "\n",
        "plt.show()\n"
      ],
      "execution_count": null,
      "outputs": [
        {
          "output_type": "display_data",
          "data": {
            "image/png": "[encoded data removed]",
            "text/plain": [
              "<Figure size 720x360 with 2 Axes>"
            ]
          },
          "metadata": {
            "tags": [],
            "needs_background": "light"
          }
        }
      ]
    },
    {
      "cell_type": "markdown",
      "metadata": {
        "id": "sUmfUTqnn3UI"
      },
      "source": [
        "# 모델 평가하기"
      ]
    },
    {
      "cell_type": "code",
      "metadata": {
        "colab": {
          "base_uri": "https://localhost:8080/"
        },
        "id": "aOaxvxdnn_P_",
        "outputId": "00247c15-a829-4a3b-cf69-223d60ddfc34"
      },
      "source": [
        "model.evaluate(x_test, y_test) #mae 2.0 -> 실제 집값과 2,000달러 정도 차이"
      ],
      "execution_count": null,
      "outputs": [
        {
          "output_type": "stream",
          "text": [
            "4/4 [==============================] - 0s 3ms/step - loss: 9.3832 - mae: 2.2310 - mse: 9.3832\n"
          ],
          "name": "stdout"
        },
        {
          "output_type": "execute_result",
          "data": {
            "text/plain": [
              "[9.383197784423828, 2.23103404045105, 9.383197784423828]"
            ]
          },
          "metadata": {
            "tags": []
          },
          "execution_count": 14
        }
      ]
    },
    {
      "cell_type": "markdown",
      "metadata": {
        "id": "nNXxKGKXoLrw"
      },
      "source": [
        "# 모델 예측하기"
      ]
    },
    {
      "cell_type": "code",
      "metadata": {
        "colab": {
          "base_uri": "https://localhost:8080/",
          "height": 279
        },
        "id": "k5xxIg2VoFbL",
        "outputId": "7ce1bc7c-8e9c-47cb-a56b-d85c7a9dd727"
      },
      "source": [
        "test_predictions = model.predict(x_test).flatten()\n",
        "\n",
        "plt.scatter(y_test, test_predictions)\n",
        "plt.xlabel('True Values [Price]')\n",
        "plt.ylabel('Predictions [Price]')\n",
        "plt.axis('equal')\n",
        "plt.axis('square')\n",
        "plt.xlim([0,plt.xlim()[1]])\n",
        "plt.ylim([0,plt.ylim()[1]])\n",
        "_ = plt.plot([-100, 100], [-100, 100])\n",
        "\n",
        "# 추세선 아래 있는 것들은 실제 값보다 낮게 예측\n",
        "# 추세선 위에 있는 것들은 실제 값보다 높게 예측\n",
        "# 추세선과 일치하는 값들은 오차율 0"
      ],
      "execution_count": null,
      "outputs": [
        {
          "output_type": "display_data",
          "data": {
            "image/png": "[encoded data removed]",
            "text/plain": [
              "<Figure size 432x288 with 1 Axes>"
            ]
          },
          "metadata": {
            "tags": [],
            "needs_background": "light"
          }
        }
      ]
    },
    {
      "cell_type": "code",
      "metadata": {
        "id": "CVjBhBA7oQN-"
      },
      "source": [
        ""
      ],
      "execution_count": null,
      "outputs": []
    }
  ]
}