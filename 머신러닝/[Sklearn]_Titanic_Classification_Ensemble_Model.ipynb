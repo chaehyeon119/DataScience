{
  "nbformat": 4,
  "nbformat_minor": 0,
  "metadata": {
    "colab": {
      "name": "[Sklearn] Titanic Classification - Ensemble Model.ipynb",
      "provenance": [],
      "collapsed_sections": []
    },
    "kernelspec": {
      "name": "python3",
      "display_name": "Python 3"
    },
    "language_info": {
      "name": "python"
    }
  },
  "cells": [
    {
      "cell_type": "markdown",
      "metadata": {
        "id": "RoGMbsdGqMkS"
      },
      "source": [
        "# 문제 정의: 타이타닉 생존자 예측 "
      ]
    },
    {
      "cell_type": "code",
      "metadata": {
        "id": "J-8I1ypEqoHl"
      },
      "source": [
        "#Libraries for reading and handling the data\n",
        "import numpy as np\n",
        "import pandas as pd\n",
        "import re\n",
        "\n",
        "#Libraries for data visvalization\n",
        "import matplotlib.pyplot as plt\n",
        "import seaborn as sns\n",
        "\n",
        "#Libraries for data preprocessing\n",
        "from sklearn.model_selection import train_test_split\n",
        "from  sklearn.preprocessing import StandardScaler, OrdinalEncoder,OneHotEncoder\n",
        "from sklearn.compose import  ColumnTransformer\n",
        "from sklearn.base import BaseEstimator, TransformerMixin\n",
        "\n",
        "#Libraries for creating mL model\n",
        "from sklearn.linear_model import  LogisticRegression\n",
        "from sklearn.tree import DecisionTreeClassifier\n",
        "from sklearn.ensemble import RandomForestClassifier\n",
        "from sklearn.ensemble import  GradientBoostingClassifier\n",
        "\n",
        "#Libraries for creating mL model\n",
        "from sklearn import metrics"
      ],
      "execution_count": 1,
      "outputs": []
    },
    {
      "cell_type": "markdown",
      "metadata": {
        "id": "eV-k1k6crVgI"
      },
      "source": [
        "# 데이터 준비하기"
      ]
    },
    {
      "cell_type": "code",
      "metadata": {
        "id": "o7mGxWl0sHMA"
      },
      "source": [
        "train_path = 'train.csv'\n",
        "\n",
        "target = 'Survived'\n",
        "\n",
        "index = 'PassengerId'\n",
        "\n",
        "dtypes = ({\n",
        "    'Survived': bool, \n",
        "    'Pclass':   'category', \n",
        "    'Name':     'category',\n",
        "    'Sex':      'category',\n",
        "    'Age':      float,\n",
        "    'SibSp':    int,\n",
        "    'Parch':    int,\n",
        "    'Ticket':  'category',\n",
        "    'Fare':     float,\n",
        "    'Cabin':   'category',\n",
        "    'Embarked':'category'\n",
        "})\n",
        "# => 알려준대로 데이터셋을 가져옴\n",
        "\n",
        "titanic = pd.read_csv(train_path, index_col=index, dtype = dtypes)\n"
      ],
      "execution_count": 2,
      "outputs": []
    },
    {
      "cell_type": "code",
      "metadata": {
        "colab": {
          "base_uri": "https://localhost:8080/",
          "height": 388
        },
        "id": "xvDC-Jcws8c-",
        "outputId": "6684c5bf-a24f-43d3-8c0c-b6ee739e9c9e"
      },
      "source": [
        "titanic.head()"
      ],
      "execution_count": 3,
      "outputs": [
        {
          "output_type": "execute_result",
          "data": {
            "text/html": [
              "<div>\n",
              "<style scoped>\n",
              "    .dataframe tbody tr th:only-of-type {\n",
              "        vertical-align: middle;\n",
              "    }\n",
              "\n",
              "    .dataframe tbody tr th {\n",
              "        vertical-align: top;\n",
              "    }\n",
              "\n",
              "    .dataframe thead th {\n",
              "        text-align: right;\n",
              "    }\n",
              "</style>\n",
              "<table border=\"1\" class=\"dataframe\">\n",
              "  <thead>\n",
              "    <tr style=\"text-align: right;\">\n",
              "      <th></th>\n",
              "      <th>Survived</th>\n",
              "      <th>Pclass</th>\n",
              "      <th>Name</th>\n",
              "      <th>Sex</th>\n",
              "      <th>Age</th>\n",
              "      <th>SibSp</th>\n",
              "      <th>Parch</th>\n",
              "      <th>Ticket</th>\n",
              "      <th>Fare</th>\n",
              "      <th>Cabin</th>\n",
              "      <th>Embarked</th>\n",
              "    </tr>\n",
              "    <tr>\n",
              "      <th>PassengerId</th>\n",
              "      <th></th>\n",
              "      <th></th>\n",
              "      <th></th>\n",
              "      <th></th>\n",
              "      <th></th>\n",
              "      <th></th>\n",
              "      <th></th>\n",
              "      <th></th>\n",
              "      <th></th>\n",
              "      <th></th>\n",
              "      <th></th>\n",
              "    </tr>\n",
              "  </thead>\n",
              "  <tbody>\n",
              "    <tr>\n",
              "      <th>1</th>\n",
              "      <td>False</td>\n",
              "      <td>3</td>\n",
              "      <td>Braund, Mr. Owen Harris</td>\n",
              "      <td>male</td>\n",
              "      <td>22.0</td>\n",
              "      <td>1</td>\n",
              "      <td>0</td>\n",
              "      <td>A/5 21171</td>\n",
              "      <td>7.2500</td>\n",
              "      <td>NaN</td>\n",
              "      <td>S</td>\n",
              "    </tr>\n",
              "    <tr>\n",
              "      <th>2</th>\n",
              "      <td>True</td>\n",
              "      <td>1</td>\n",
              "      <td>Cumings, Mrs. John Bradley (Florence Briggs Th...</td>\n",
              "      <td>female</td>\n",
              "      <td>38.0</td>\n",
              "      <td>1</td>\n",
              "      <td>0</td>\n",
              "      <td>PC 17599</td>\n",
              "      <td>71.2833</td>\n",
              "      <td>C85</td>\n",
              "      <td>C</td>\n",
              "    </tr>\n",
              "    <tr>\n",
              "      <th>3</th>\n",
              "      <td>True</td>\n",
              "      <td>3</td>\n",
              "      <td>Heikkinen, Miss. Laina</td>\n",
              "      <td>female</td>\n",
              "      <td>26.0</td>\n",
              "      <td>0</td>\n",
              "      <td>0</td>\n",
              "      <td>STON/O2. 3101282</td>\n",
              "      <td>7.9250</td>\n",
              "      <td>NaN</td>\n",
              "      <td>S</td>\n",
              "    </tr>\n",
              "    <tr>\n",
              "      <th>4</th>\n",
              "      <td>True</td>\n",
              "      <td>1</td>\n",
              "      <td>Futrelle, Mrs. Jacques Heath (Lily May Peel)</td>\n",
              "      <td>female</td>\n",
              "      <td>35.0</td>\n",
              "      <td>1</td>\n",
              "      <td>0</td>\n",
              "      <td>113803</td>\n",
              "      <td>53.1000</td>\n",
              "      <td>C123</td>\n",
              "      <td>S</td>\n",
              "    </tr>\n",
              "    <tr>\n",
              "      <th>5</th>\n",
              "      <td>False</td>\n",
              "      <td>3</td>\n",
              "      <td>Allen, Mr. William Henry</td>\n",
              "      <td>male</td>\n",
              "      <td>35.0</td>\n",
              "      <td>0</td>\n",
              "      <td>0</td>\n",
              "      <td>373450</td>\n",
              "      <td>8.0500</td>\n",
              "      <td>NaN</td>\n",
              "      <td>S</td>\n",
              "    </tr>\n",
              "  </tbody>\n",
              "</table>\n",
              "</div>"
            ],
            "text/plain": [
              "             Survived Pclass  ... Cabin Embarked\n",
              "PassengerId                   ...               \n",
              "1               False      3  ...   NaN        S\n",
              "2                True      1  ...   C85        C\n",
              "3                True      3  ...   NaN        S\n",
              "4                True      1  ...  C123        S\n",
              "5               False      3  ...   NaN        S\n",
              "\n",
              "[5 rows x 11 columns]"
            ]
          },
          "metadata": {
            "tags": []
          },
          "execution_count": 3
        }
      ]
    },
    {
      "cell_type": "code",
      "metadata": {
        "colab": {
          "base_uri": "https://localhost:8080/"
        },
        "id": "LM6TWCq8s-8f",
        "outputId": "dd58deb8-d0a0-464b-f512-741beb41a1be"
      },
      "source": [
        "titanic.info()\n",
        "# 데이터타입이 셋팅한 대로 왔는지 확인"
      ],
      "execution_count": 4,
      "outputs": [
        {
          "output_type": "stream",
          "text": [
            "<class 'pandas.core.frame.DataFrame'>\n",
            "Int64Index: 891 entries, 1 to 891\n",
            "Data columns (total 11 columns):\n",
            " #   Column    Non-Null Count  Dtype   \n",
            "---  ------    --------------  -----   \n",
            " 0   Survived  891 non-null    bool    \n",
            " 1   Pclass    891 non-null    category\n",
            " 2   Name      891 non-null    category\n",
            " 3   Sex       891 non-null    category\n",
            " 4   Age       714 non-null    float64 \n",
            " 5   SibSp     891 non-null    int64   \n",
            " 6   Parch     891 non-null    int64   \n",
            " 7   Ticket    891 non-null    category\n",
            " 8   Fare      891 non-null    float64 \n",
            " 9   Cabin     204 non-null    category\n",
            " 10  Embarked  889 non-null    category\n",
            "dtypes: bool(1), category(6), float64(2), int64(2)\n",
            "memory usage: 122.2 KB\n"
          ],
          "name": "stdout"
        }
      ]
    },
    {
      "cell_type": "markdown",
      "metadata": {
        "id": "2OeIs--BtGTd"
      },
      "source": [
        "# 데이터 시각화"
      ]
    },
    {
      "cell_type": "code",
      "metadata": {
        "colab": {
          "base_uri": "https://localhost:8080/"
        },
        "id": "STLYxCS1tR1w",
        "outputId": "b00b4949-ad20-4c35-ed05-4288008b0fc4"
      },
      "source": [
        "titanic['Survived'].value_counts()"
      ],
      "execution_count": 5,
      "outputs": [
        {
          "output_type": "execute_result",
          "data": {
            "text/plain": [
              "False    549\n",
              "True     342\n",
              "Name: Survived, dtype: int64"
            ]
          },
          "metadata": {
            "tags": []
          },
          "execution_count": 5
        }
      ]
    },
    {
      "cell_type": "code",
      "metadata": {
        "colab": {
          "base_uri": "https://localhost:8080/",
          "height": 486
        },
        "id": "OtzetYa_tVBN",
        "outputId": "bc1b2b22-6558-4f6c-ca19-f9e38cbd671e"
      },
      "source": [
        "attributes = ['Survived', 'Sex', 'Pclass', 'Embarked', 'SibSp', 'Parch']\n",
        "\n",
        "plt.figure(figsize=(14, 12), dpi=200)\n",
        "\n",
        "for i, feature in enumerate(attributes) :\n",
        "  plt.subplot(3, 3, i+1)\n",
        "  sns.countplot(data=titanic, x=feature, hue = 'Survived')\n",
        "\n",
        "sns.despine() # 차트 테두리 제거"
      ],
      "execution_count": 6,
      "outputs": [
        {
          "output_type": "display_data",
          "data": {
            "image/png": "[encoded data removed]",
            "text/plain": [
              "<Figure size 2800x2400 with 6 Axes>"
            ]
          },
          "metadata": {
            "tags": [],
            "needs_background": "light"
          }
        }
      ]
    },
    {
      "cell_type": "markdown",
      "metadata": {
        "id": "RoxvDn-puJX6"
      },
      "source": [
        "# 데이터 전처리"
      ]
    },
    {
      "cell_type": "code",
      "metadata": {
        "colab": {
          "base_uri": "https://localhost:8080/"
        },
        "id": "leqC7JC0vbLv",
        "outputId": "3a6384f0-2ecb-4d1e-ff92-221f3634f679"
      },
      "source": [
        "titanic['Name'].iloc[0:5]"
      ],
      "execution_count": 7,
      "outputs": [
        {
          "output_type": "execute_result",
          "data": {
            "text/plain": [
              "PassengerId\n",
              "1                              Braund, Mr. Owen Harris\n",
              "2    Cumings, Mrs. John Bradley (Florence Briggs Th...\n",
              "3                               Heikkinen, Miss. Laina\n",
              "4         Futrelle, Mrs. Jacques Heath (Lily May Peel)\n",
              "5                             Allen, Mr. William Henry\n",
              "Name: Name, dtype: category\n",
              "Categories (891, object): ['Abbing, Mr. Anthony', 'Abbott, Mr. Rossmore Edward',\n",
              "                           'Abbott, Mrs. Stanton (Rosa Hunt)', 'Abelson, Mr. Samuel', ..., 'de Pelsmaeker, Mr. Alfons',\n",
              "                           'del Carlo, Mr. Sebastiano', 'van Billiard, Mr. Austin Blyler',\n",
              "                           'van Melkebeke, Mr. Philemon']"
            ]
          },
          "metadata": {
            "tags": []
          },
          "execution_count": 7
        }
      ]
    },
    {
      "cell_type": "code",
      "metadata": {
        "id": "xEHK2iApvfS_"
      },
      "source": [
        "def get_title(name) :\n",
        "  return re.split(', |\\.', name)[1].strip()\n",
        "  "
      ],
      "execution_count": 8,
      "outputs": []
    },
    {
      "cell_type": "code",
      "metadata": {
        "id": "opWVdPJzwB-o"
      },
      "source": [
        "# 이름에서 호칭 추출(Miss, Mr, Mrs...)\n",
        "titanic['title'] = titanic['Name'].apply(get_title)"
      ],
      "execution_count": 9,
      "outputs": []
    },
    {
      "cell_type": "code",
      "metadata": {
        "colab": {
          "base_uri": "https://localhost:8080/",
          "height": 527
        },
        "id": "xfhOG8JvwItY",
        "outputId": "34ca1ce5-06e8-4f9e-9602-64c33bfe98f8"
      },
      "source": [
        "titanic.head()"
      ],
      "execution_count": 10,
      "outputs": [
        {
          "output_type": "execute_result",
          "data": {
            "text/html": [
              "<div>\n",
              "<style scoped>\n",
              "    .dataframe tbody tr th:only-of-type {\n",
              "        vertical-align: middle;\n",
              "    }\n",
              "\n",
              "    .dataframe tbody tr th {\n",
              "        vertical-align: top;\n",
              "    }\n",
              "\n",
              "    .dataframe thead th {\n",
              "        text-align: right;\n",
              "    }\n",
              "</style>\n",
              "<table border=\"1\" class=\"dataframe\">\n",
              "  <thead>\n",
              "    <tr style=\"text-align: right;\">\n",
              "      <th></th>\n",
              "      <th>Survived</th>\n",
              "      <th>Pclass</th>\n",
              "      <th>Name</th>\n",
              "      <th>Sex</th>\n",
              "      <th>Age</th>\n",
              "      <th>SibSp</th>\n",
              "      <th>Parch</th>\n",
              "      <th>Ticket</th>\n",
              "      <th>Fare</th>\n",
              "      <th>Cabin</th>\n",
              "      <th>Embarked</th>\n",
              "      <th>title</th>\n",
              "    </tr>\n",
              "    <tr>\n",
              "      <th>PassengerId</th>\n",
              "      <th></th>\n",
              "      <th></th>\n",
              "      <th></th>\n",
              "      <th></th>\n",
              "      <th></th>\n",
              "      <th></th>\n",
              "      <th></th>\n",
              "      <th></th>\n",
              "      <th></th>\n",
              "      <th></th>\n",
              "      <th></th>\n",
              "      <th></th>\n",
              "    </tr>\n",
              "  </thead>\n",
              "  <tbody>\n",
              "    <tr>\n",
              "      <th>1</th>\n",
              "      <td>False</td>\n",
              "      <td>3</td>\n",
              "      <td>Braund, Mr. Owen Harris</td>\n",
              "      <td>male</td>\n",
              "      <td>22.0</td>\n",
              "      <td>1</td>\n",
              "      <td>0</td>\n",
              "      <td>A/5 21171</td>\n",
              "      <td>7.2500</td>\n",
              "      <td>NaN</td>\n",
              "      <td>S</td>\n",
              "      <td>Mr</td>\n",
              "    </tr>\n",
              "    <tr>\n",
              "      <th>2</th>\n",
              "      <td>True</td>\n",
              "      <td>1</td>\n",
              "      <td>Cumings, Mrs. John Bradley (Florence Briggs Th...</td>\n",
              "      <td>female</td>\n",
              "      <td>38.0</td>\n",
              "      <td>1</td>\n",
              "      <td>0</td>\n",
              "      <td>PC 17599</td>\n",
              "      <td>71.2833</td>\n",
              "      <td>C85</td>\n",
              "      <td>C</td>\n",
              "      <td>Mrs</td>\n",
              "    </tr>\n",
              "    <tr>\n",
              "      <th>3</th>\n",
              "      <td>True</td>\n",
              "      <td>3</td>\n",
              "      <td>Heikkinen, Miss. Laina</td>\n",
              "      <td>female</td>\n",
              "      <td>26.0</td>\n",
              "      <td>0</td>\n",
              "      <td>0</td>\n",
              "      <td>STON/O2. 3101282</td>\n",
              "      <td>7.9250</td>\n",
              "      <td>NaN</td>\n",
              "      <td>S</td>\n",
              "      <td>Miss</td>\n",
              "    </tr>\n",
              "    <tr>\n",
              "      <th>4</th>\n",
              "      <td>True</td>\n",
              "      <td>1</td>\n",
              "      <td>Futrelle, Mrs. Jacques Heath (Lily May Peel)</td>\n",
              "      <td>female</td>\n",
              "      <td>35.0</td>\n",
              "      <td>1</td>\n",
              "      <td>0</td>\n",
              "      <td>113803</td>\n",
              "      <td>53.1000</td>\n",
              "      <td>C123</td>\n",
              "      <td>S</td>\n",
              "      <td>Mrs</td>\n",
              "    </tr>\n",
              "    <tr>\n",
              "      <th>5</th>\n",
              "      <td>False</td>\n",
              "      <td>3</td>\n",
              "      <td>Allen, Mr. William Henry</td>\n",
              "      <td>male</td>\n",
              "      <td>35.0</td>\n",
              "      <td>0</td>\n",
              "      <td>0</td>\n",
              "      <td>373450</td>\n",
              "      <td>8.0500</td>\n",
              "      <td>NaN</td>\n",
              "      <td>S</td>\n",
              "      <td>Mr</td>\n",
              "    </tr>\n",
              "  </tbody>\n",
              "</table>\n",
              "</div>"
            ],
            "text/plain": [
              "             Survived Pclass  ... Embarked title\n",
              "PassengerId                   ...               \n",
              "1               False      3  ...        S    Mr\n",
              "2                True      1  ...        C   Mrs\n",
              "3                True      3  ...        S  Miss\n",
              "4                True      1  ...        S   Mrs\n",
              "5               False      3  ...        S    Mr\n",
              "\n",
              "[5 rows x 12 columns]"
            ]
          },
          "metadata": {
            "tags": []
          },
          "execution_count": 10
        }
      ]
    },
    {
      "cell_type": "code",
      "metadata": {
        "id": "xfROr5FYwXjv"
      },
      "source": [
        "titles = titanic.groupby('title').agg({'Survived' : ['count', 'mean']})"
      ],
      "execution_count": 11,
      "outputs": []
    },
    {
      "cell_type": "code",
      "metadata": {
        "colab": {
          "base_uri": "https://localhost:8080/",
          "height": 638
        },
        "id": "s20VlR9YxT_P",
        "outputId": "148f165d-e0e4-44cc-997e-dfd879c5a918"
      },
      "source": [
        "titles"
      ],
      "execution_count": 12,
      "outputs": [
        {
          "output_type": "execute_result",
          "data": {
            "text/html": [
              "<div>\n",
              "<style scoped>\n",
              "    .dataframe tbody tr th:only-of-type {\n",
              "        vertical-align: middle;\n",
              "    }\n",
              "\n",
              "    .dataframe tbody tr th {\n",
              "        vertical-align: top;\n",
              "    }\n",
              "\n",
              "    .dataframe thead tr th {\n",
              "        text-align: left;\n",
              "    }\n",
              "\n",
              "    .dataframe thead tr:last-of-type th {\n",
              "        text-align: right;\n",
              "    }\n",
              "</style>\n",
              "<table border=\"1\" class=\"dataframe\">\n",
              "  <thead>\n",
              "    <tr>\n",
              "      <th></th>\n",
              "      <th colspan=\"2\" halign=\"left\">Survived</th>\n",
              "    </tr>\n",
              "    <tr>\n",
              "      <th></th>\n",
              "      <th>count</th>\n",
              "      <th>mean</th>\n",
              "    </tr>\n",
              "    <tr>\n",
              "      <th>title</th>\n",
              "      <th></th>\n",
              "      <th></th>\n",
              "    </tr>\n",
              "  </thead>\n",
              "  <tbody>\n",
              "    <tr>\n",
              "      <th>Capt</th>\n",
              "      <td>1</td>\n",
              "      <td>0.000000</td>\n",
              "    </tr>\n",
              "    <tr>\n",
              "      <th>Col</th>\n",
              "      <td>2</td>\n",
              "      <td>0.500000</td>\n",
              "    </tr>\n",
              "    <tr>\n",
              "      <th>Don</th>\n",
              "      <td>1</td>\n",
              "      <td>0.000000</td>\n",
              "    </tr>\n",
              "    <tr>\n",
              "      <th>Dr</th>\n",
              "      <td>7</td>\n",
              "      <td>0.428571</td>\n",
              "    </tr>\n",
              "    <tr>\n",
              "      <th>Jonkheer</th>\n",
              "      <td>1</td>\n",
              "      <td>0.000000</td>\n",
              "    </tr>\n",
              "    <tr>\n",
              "      <th>Lady</th>\n",
              "      <td>1</td>\n",
              "      <td>1.000000</td>\n",
              "    </tr>\n",
              "    <tr>\n",
              "      <th>Major</th>\n",
              "      <td>2</td>\n",
              "      <td>0.500000</td>\n",
              "    </tr>\n",
              "    <tr>\n",
              "      <th>Master</th>\n",
              "      <td>40</td>\n",
              "      <td>0.575000</td>\n",
              "    </tr>\n",
              "    <tr>\n",
              "      <th>Miss</th>\n",
              "      <td>182</td>\n",
              "      <td>0.697802</td>\n",
              "    </tr>\n",
              "    <tr>\n",
              "      <th>Mlle</th>\n",
              "      <td>2</td>\n",
              "      <td>1.000000</td>\n",
              "    </tr>\n",
              "    <tr>\n",
              "      <th>Mme</th>\n",
              "      <td>1</td>\n",
              "      <td>1.000000</td>\n",
              "    </tr>\n",
              "    <tr>\n",
              "      <th>Mr</th>\n",
              "      <td>517</td>\n",
              "      <td>0.156673</td>\n",
              "    </tr>\n",
              "    <tr>\n",
              "      <th>Mrs</th>\n",
              "      <td>125</td>\n",
              "      <td>0.792000</td>\n",
              "    </tr>\n",
              "    <tr>\n",
              "      <th>Ms</th>\n",
              "      <td>1</td>\n",
              "      <td>1.000000</td>\n",
              "    </tr>\n",
              "    <tr>\n",
              "      <th>Rev</th>\n",
              "      <td>6</td>\n",
              "      <td>0.000000</td>\n",
              "    </tr>\n",
              "    <tr>\n",
              "      <th>Sir</th>\n",
              "      <td>1</td>\n",
              "      <td>1.000000</td>\n",
              "    </tr>\n",
              "    <tr>\n",
              "      <th>the Countess</th>\n",
              "      <td>1</td>\n",
              "      <td>1.000000</td>\n",
              "    </tr>\n",
              "  </tbody>\n",
              "</table>\n",
              "</div>"
            ],
            "text/plain": [
              "             Survived          \n",
              "                count      mean\n",
              "title                          \n",
              "Capt                1  0.000000\n",
              "Col                 2  0.500000\n",
              "Don                 1  0.000000\n",
              "Dr                  7  0.428571\n",
              "Jonkheer            1  0.000000\n",
              "Lady                1  1.000000\n",
              "Major               2  0.500000\n",
              "Master             40  0.575000\n",
              "Miss              182  0.697802\n",
              "Mlle                2  1.000000\n",
              "Mme                 1  1.000000\n",
              "Mr                517  0.156673\n",
              "Mrs               125  0.792000\n",
              "Ms                  1  1.000000\n",
              "Rev                 6  0.000000\n",
              "Sir                 1  1.000000\n",
              "the Countess        1  1.000000"
            ]
          },
          "metadata": {
            "tags": []
          },
          "execution_count": 12
        }
      ]
    },
    {
      "cell_type": "code",
      "metadata": {
        "id": "qBTXcEgLxUlH"
      },
      "source": [
        "# 호칭이 생존에 과연 영향을 끼치는지 확인을 위해서 집계 합수 > 카운트, 평균\n",
        "titles = titanic.groupby('title').agg({'Survived': ['count', 'mean']})"
      ],
      "execution_count": 13,
      "outputs": []
    },
    {
      "cell_type": "code",
      "metadata": {
        "id": "mZSfDm7zxYaQ"
      },
      "source": [
        "# Survived 컬럼 레이어 정리\n",
        "titles.columns = titles.columns.droplevel()\n"
      ],
      "execution_count": 14,
      "outputs": []
    },
    {
      "cell_type": "code",
      "metadata": {
        "colab": {
          "base_uri": "https://localhost:8080/",
          "height": 607
        },
        "id": "196uC2aTzHUf",
        "outputId": "d7b31921-e4cf-439d-e820-3cd49628b631"
      },
      "source": [
        "# 생존 평균이 높은 순으로 정렬\n",
        "titles.sort_values('mean', ascending=False)"
      ],
      "execution_count": 15,
      "outputs": [
        {
          "output_type": "execute_result",
          "data": {
            "text/html": [
              "<div>\n",
              "<style scoped>\n",
              "    .dataframe tbody tr th:only-of-type {\n",
              "        vertical-align: middle;\n",
              "    }\n",
              "\n",
              "    .dataframe tbody tr th {\n",
              "        vertical-align: top;\n",
              "    }\n",
              "\n",
              "    .dataframe thead th {\n",
              "        text-align: right;\n",
              "    }\n",
              "</style>\n",
              "<table border=\"1\" class=\"dataframe\">\n",
              "  <thead>\n",
              "    <tr style=\"text-align: right;\">\n",
              "      <th></th>\n",
              "      <th>count</th>\n",
              "      <th>mean</th>\n",
              "    </tr>\n",
              "    <tr>\n",
              "      <th>title</th>\n",
              "      <th></th>\n",
              "      <th></th>\n",
              "    </tr>\n",
              "  </thead>\n",
              "  <tbody>\n",
              "    <tr>\n",
              "      <th>the Countess</th>\n",
              "      <td>1</td>\n",
              "      <td>1.000000</td>\n",
              "    </tr>\n",
              "    <tr>\n",
              "      <th>Mlle</th>\n",
              "      <td>2</td>\n",
              "      <td>1.000000</td>\n",
              "    </tr>\n",
              "    <tr>\n",
              "      <th>Sir</th>\n",
              "      <td>1</td>\n",
              "      <td>1.000000</td>\n",
              "    </tr>\n",
              "    <tr>\n",
              "      <th>Ms</th>\n",
              "      <td>1</td>\n",
              "      <td>1.000000</td>\n",
              "    </tr>\n",
              "    <tr>\n",
              "      <th>Lady</th>\n",
              "      <td>1</td>\n",
              "      <td>1.000000</td>\n",
              "    </tr>\n",
              "    <tr>\n",
              "      <th>Mme</th>\n",
              "      <td>1</td>\n",
              "      <td>1.000000</td>\n",
              "    </tr>\n",
              "    <tr>\n",
              "      <th>Mrs</th>\n",
              "      <td>125</td>\n",
              "      <td>0.792000</td>\n",
              "    </tr>\n",
              "    <tr>\n",
              "      <th>Miss</th>\n",
              "      <td>182</td>\n",
              "      <td>0.697802</td>\n",
              "    </tr>\n",
              "    <tr>\n",
              "      <th>Master</th>\n",
              "      <td>40</td>\n",
              "      <td>0.575000</td>\n",
              "    </tr>\n",
              "    <tr>\n",
              "      <th>Col</th>\n",
              "      <td>2</td>\n",
              "      <td>0.500000</td>\n",
              "    </tr>\n",
              "    <tr>\n",
              "      <th>Major</th>\n",
              "      <td>2</td>\n",
              "      <td>0.500000</td>\n",
              "    </tr>\n",
              "    <tr>\n",
              "      <th>Dr</th>\n",
              "      <td>7</td>\n",
              "      <td>0.428571</td>\n",
              "    </tr>\n",
              "    <tr>\n",
              "      <th>Mr</th>\n",
              "      <td>517</td>\n",
              "      <td>0.156673</td>\n",
              "    </tr>\n",
              "    <tr>\n",
              "      <th>Jonkheer</th>\n",
              "      <td>1</td>\n",
              "      <td>0.000000</td>\n",
              "    </tr>\n",
              "    <tr>\n",
              "      <th>Rev</th>\n",
              "      <td>6</td>\n",
              "      <td>0.000000</td>\n",
              "    </tr>\n",
              "    <tr>\n",
              "      <th>Don</th>\n",
              "      <td>1</td>\n",
              "      <td>0.000000</td>\n",
              "    </tr>\n",
              "    <tr>\n",
              "      <th>Capt</th>\n",
              "      <td>1</td>\n",
              "      <td>0.000000</td>\n",
              "    </tr>\n",
              "  </tbody>\n",
              "</table>\n",
              "</div>"
            ],
            "text/plain": [
              "              count      mean\n",
              "title                        \n",
              "the Countess      1  1.000000\n",
              "Mlle              2  1.000000\n",
              "Sir               1  1.000000\n",
              "Ms                1  1.000000\n",
              "Lady              1  1.000000\n",
              "Mme               1  1.000000\n",
              "Mrs             125  0.792000\n",
              "Miss            182  0.697802\n",
              "Master           40  0.575000\n",
              "Col               2  0.500000\n",
              "Major             2  0.500000\n",
              "Dr                7  0.428571\n",
              "Mr              517  0.156673\n",
              "Jonkheer          1  0.000000\n",
              "Rev               6  0.000000\n",
              "Don               1  0.000000\n",
              "Capt              1  0.000000"
            ]
          },
          "metadata": {
            "tags": []
          },
          "execution_count": 15
        }
      ]
    },
    {
      "cell_type": "code",
      "metadata": {
        "id": "Uxsp8vrWzKv8"
      },
      "source": [
        "# 호칭 추출이 되지 않은 title 값을 Other로 처리\n",
        "uncommon_titles = (['Don', 'Rev', 'Dr', 'Mme', 'Ms', 'Major', \n",
        "                    'Lady', 'Sir', 'Mlle', 'Col', 'Capt', \n",
        "                    'the Countess', 'Jonkheer'])\n",
        "titanic['title'] = titanic['title'].replace(uncommon_titles, 'other')"
      ],
      "execution_count": 16,
      "outputs": []
    },
    {
      "cell_type": "code",
      "metadata": {
        "colab": {
          "base_uri": "https://localhost:8080/",
          "height": 550
        },
        "id": "skwaJ14rzmNe",
        "outputId": "39410406-0c2f-4d8d-f33d-fbe057fe777b"
      },
      "source": [
        "sns.catplot(x = 'title', kind='count', hue='Survived',\n",
        "            data=titanic, height=7)\n",
        "plt.tick_params(labelsize=12)\n",
        "plt.ylabel('Count', fontsize=14)\n",
        "plt.xlabel('Titanic', fontsize=14)\n",
        "plt.title('Survival by Title')\n",
        "plt.show()"
      ],
      "execution_count": 17,
      "outputs": [
        {
          "output_type": "display_data",
          "data": {
            "image/png": "[encoded data removed]",
            "text/plain": [
              "<Figure size 565.25x504 with 1 Axes>"
            ]
          },
          "metadata": {
            "tags": [],
            "needs_background": "light"
          }
        }
      ]
    },
    {
      "cell_type": "code",
      "metadata": {
        "id": "uDiLD0yrz95-"
      },
      "source": [
        "# 가족 사이즈(fam_size) -> SibSp(동승한 자매 or 배우자) + Parch(동승한 부모 or 자식수)\n",
        "titanic['fam_size'] = titanic['SibSp'] + titanic['Parch']"
      ],
      "execution_count": 18,
      "outputs": []
    },
    {
      "cell_type": "code",
      "metadata": {
        "colab": {
          "base_uri": "https://localhost:8080/",
          "height": 478
        },
        "id": "xYbwrju81iAW",
        "outputId": "13527e17-fb25-48ab-a641-e7d6d718b027"
      },
      "source": [
        "sns.catplot(x='fam_size', kind='count', hue='Survived',\n",
        "            data=titanic, height=6)\n",
        "plt.tick_params(labelsize=12)\n",
        "plt.ylabel('Count', fontsize=14)\n",
        "plt.xlabel('fam_size', fontsize=14)\n",
        "plt.title('Survival by Family Size')\n",
        "plt.show()"
      ],
      "execution_count": 19,
      "outputs": [
        {
          "output_type": "display_data",
          "data": {
            "image/png": "[encoded data removed]",
            "text/plain": [
              "<Figure size 493.25x432 with 1 Axes>"
            ]
          },
          "metadata": {
            "tags": [],
            "needs_background": "light"
          }
        }
      ]
    },
    {
      "cell_type": "markdown",
      "metadata": {
        "id": "YsgmGA5F2YLw"
      },
      "source": [
        "# ML을 위한 전처리"
      ]
    },
    {
      "cell_type": "code",
      "metadata": {
        "id": "Eiai1XGO1xye"
      },
      "source": [
        "# 텍스트 데이터 삭제\n",
        "titanic = titanic.drop(['Name', 'Ticket', 'Cabin', 'Embarked', 'title'], axis=1)"
      ],
      "execution_count": 20,
      "outputs": []
    },
    {
      "cell_type": "code",
      "metadata": {
        "colab": {
          "base_uri": "https://localhost:8080/",
          "height": 235
        },
        "id": "bQHLS0eN2ydn",
        "outputId": "3edb7699-42ed-46e0-94a8-babb40b13833"
      },
      "source": [
        "titanic.head()"
      ],
      "execution_count": 21,
      "outputs": [
        {
          "output_type": "execute_result",
          "data": {
            "text/html": [
              "<div>\n",
              "<style scoped>\n",
              "    .dataframe tbody tr th:only-of-type {\n",
              "        vertical-align: middle;\n",
              "    }\n",
              "\n",
              "    .dataframe tbody tr th {\n",
              "        vertical-align: top;\n",
              "    }\n",
              "\n",
              "    .dataframe thead th {\n",
              "        text-align: right;\n",
              "    }\n",
              "</style>\n",
              "<table border=\"1\" class=\"dataframe\">\n",
              "  <thead>\n",
              "    <tr style=\"text-align: right;\">\n",
              "      <th></th>\n",
              "      <th>Survived</th>\n",
              "      <th>Pclass</th>\n",
              "      <th>Sex</th>\n",
              "      <th>Age</th>\n",
              "      <th>SibSp</th>\n",
              "      <th>Parch</th>\n",
              "      <th>Fare</th>\n",
              "      <th>fam_size</th>\n",
              "    </tr>\n",
              "    <tr>\n",
              "      <th>PassengerId</th>\n",
              "      <th></th>\n",
              "      <th></th>\n",
              "      <th></th>\n",
              "      <th></th>\n",
              "      <th></th>\n",
              "      <th></th>\n",
              "      <th></th>\n",
              "      <th></th>\n",
              "    </tr>\n",
              "  </thead>\n",
              "  <tbody>\n",
              "    <tr>\n",
              "      <th>1</th>\n",
              "      <td>False</td>\n",
              "      <td>3</td>\n",
              "      <td>male</td>\n",
              "      <td>22.0</td>\n",
              "      <td>1</td>\n",
              "      <td>0</td>\n",
              "      <td>7.2500</td>\n",
              "      <td>1</td>\n",
              "    </tr>\n",
              "    <tr>\n",
              "      <th>2</th>\n",
              "      <td>True</td>\n",
              "      <td>1</td>\n",
              "      <td>female</td>\n",
              "      <td>38.0</td>\n",
              "      <td>1</td>\n",
              "      <td>0</td>\n",
              "      <td>71.2833</td>\n",
              "      <td>1</td>\n",
              "    </tr>\n",
              "    <tr>\n",
              "      <th>3</th>\n",
              "      <td>True</td>\n",
              "      <td>3</td>\n",
              "      <td>female</td>\n",
              "      <td>26.0</td>\n",
              "      <td>0</td>\n",
              "      <td>0</td>\n",
              "      <td>7.9250</td>\n",
              "      <td>0</td>\n",
              "    </tr>\n",
              "    <tr>\n",
              "      <th>4</th>\n",
              "      <td>True</td>\n",
              "      <td>1</td>\n",
              "      <td>female</td>\n",
              "      <td>35.0</td>\n",
              "      <td>1</td>\n",
              "      <td>0</td>\n",
              "      <td>53.1000</td>\n",
              "      <td>1</td>\n",
              "    </tr>\n",
              "    <tr>\n",
              "      <th>5</th>\n",
              "      <td>False</td>\n",
              "      <td>3</td>\n",
              "      <td>male</td>\n",
              "      <td>35.0</td>\n",
              "      <td>0</td>\n",
              "      <td>0</td>\n",
              "      <td>8.0500</td>\n",
              "      <td>0</td>\n",
              "    </tr>\n",
              "  </tbody>\n",
              "</table>\n",
              "</div>"
            ],
            "text/plain": [
              "             Survived Pclass     Sex   Age  SibSp  Parch     Fare  fam_size\n",
              "PassengerId                                                                \n",
              "1               False      3    male  22.0      1      0   7.2500         1\n",
              "2                True      1  female  38.0      1      0  71.2833         1\n",
              "3                True      3  female  26.0      0      0   7.9250         0\n",
              "4                True      1  female  35.0      1      0  53.1000         1\n",
              "5               False      3    male  35.0      0      0   8.0500         0"
            ]
          },
          "metadata": {
            "tags": []
          },
          "execution_count": 21
        }
      ]
    },
    {
      "cell_type": "code",
      "metadata": {
        "id": "Qjuz6pqY27nv"
      },
      "source": [
        "# 여성을 1로 남성을 0으로 처리\n",
        "tmp = []\n",
        "for each in titanic['Sex'] :\n",
        "  if each == 'female' :\n",
        "    tmp.append(1)\n",
        "  elif each == 'male' :\n",
        "    tmp.append(0)\n",
        "  else:\n",
        "    tmp.append(np.nan) # 무조건 nan 형식으로 넣기\n",
        "\n",
        "titanic['Sex'] = tmp"
      ],
      "execution_count": 22,
      "outputs": []
    },
    {
      "cell_type": "code",
      "metadata": {
        "colab": {
          "base_uri": "https://localhost:8080/",
          "height": 235
        },
        "id": "6Xir2qD133EX",
        "outputId": "ab0e4cdb-b1d0-419a-9f7b-0816170a1752"
      },
      "source": [
        "titanic.head()\n",
        "# ↓ 성별이 1,0으로 바뀐 것을 확인할 수 있음"
      ],
      "execution_count": 23,
      "outputs": [
        {
          "output_type": "execute_result",
          "data": {
            "text/html": [
              "<div>\n",
              "<style scoped>\n",
              "    .dataframe tbody tr th:only-of-type {\n",
              "        vertical-align: middle;\n",
              "    }\n",
              "\n",
              "    .dataframe tbody tr th {\n",
              "        vertical-align: top;\n",
              "    }\n",
              "\n",
              "    .dataframe thead th {\n",
              "        text-align: right;\n",
              "    }\n",
              "</style>\n",
              "<table border=\"1\" class=\"dataframe\">\n",
              "  <thead>\n",
              "    <tr style=\"text-align: right;\">\n",
              "      <th></th>\n",
              "      <th>Survived</th>\n",
              "      <th>Pclass</th>\n",
              "      <th>Sex</th>\n",
              "      <th>Age</th>\n",
              "      <th>SibSp</th>\n",
              "      <th>Parch</th>\n",
              "      <th>Fare</th>\n",
              "      <th>fam_size</th>\n",
              "    </tr>\n",
              "    <tr>\n",
              "      <th>PassengerId</th>\n",
              "      <th></th>\n",
              "      <th></th>\n",
              "      <th></th>\n",
              "      <th></th>\n",
              "      <th></th>\n",
              "      <th></th>\n",
              "      <th></th>\n",
              "      <th></th>\n",
              "    </tr>\n",
              "  </thead>\n",
              "  <tbody>\n",
              "    <tr>\n",
              "      <th>1</th>\n",
              "      <td>False</td>\n",
              "      <td>3</td>\n",
              "      <td>0</td>\n",
              "      <td>22.0</td>\n",
              "      <td>1</td>\n",
              "      <td>0</td>\n",
              "      <td>7.2500</td>\n",
              "      <td>1</td>\n",
              "    </tr>\n",
              "    <tr>\n",
              "      <th>2</th>\n",
              "      <td>True</td>\n",
              "      <td>1</td>\n",
              "      <td>1</td>\n",
              "      <td>38.0</td>\n",
              "      <td>1</td>\n",
              "      <td>0</td>\n",
              "      <td>71.2833</td>\n",
              "      <td>1</td>\n",
              "    </tr>\n",
              "    <tr>\n",
              "      <th>3</th>\n",
              "      <td>True</td>\n",
              "      <td>3</td>\n",
              "      <td>1</td>\n",
              "      <td>26.0</td>\n",
              "      <td>0</td>\n",
              "      <td>0</td>\n",
              "      <td>7.9250</td>\n",
              "      <td>0</td>\n",
              "    </tr>\n",
              "    <tr>\n",
              "      <th>4</th>\n",
              "      <td>True</td>\n",
              "      <td>1</td>\n",
              "      <td>1</td>\n",
              "      <td>35.0</td>\n",
              "      <td>1</td>\n",
              "      <td>0</td>\n",
              "      <td>53.1000</td>\n",
              "      <td>1</td>\n",
              "    </tr>\n",
              "    <tr>\n",
              "      <th>5</th>\n",
              "      <td>False</td>\n",
              "      <td>3</td>\n",
              "      <td>0</td>\n",
              "      <td>35.0</td>\n",
              "      <td>0</td>\n",
              "      <td>0</td>\n",
              "      <td>8.0500</td>\n",
              "      <td>0</td>\n",
              "    </tr>\n",
              "  </tbody>\n",
              "</table>\n",
              "</div>"
            ],
            "text/plain": [
              "             Survived Pclass  Sex   Age  SibSp  Parch     Fare  fam_size\n",
              "PassengerId                                                             \n",
              "1               False      3    0  22.0      1      0   7.2500         1\n",
              "2                True      1    1  38.0      1      0  71.2833         1\n",
              "3                True      3    1  26.0      0      0   7.9250         0\n",
              "4                True      1    1  35.0      1      0  53.1000         1\n",
              "5               False      3    0  35.0      0      0   8.0500         0"
            ]
          },
          "metadata": {
            "tags": []
          },
          "execution_count": 23
        }
      ]
    },
    {
      "cell_type": "markdown",
      "metadata": {
        "id": "d2IKavtz3-Nu"
      },
      "source": [
        "# 데이터 형변환 및 결손 데이터 처리"
      ]
    },
    {
      "cell_type": "code",
      "metadata": {
        "colab": {
          "base_uri": "https://localhost:8080/"
        },
        "id": "lHUW0Caz7hR2",
        "outputId": "b86365eb-c148-40d5-d7c4-7f6fe7bb4724"
      },
      "source": [
        "# 데이터 형변환(소수점)\n",
        "titanic['Pclass'] = titanic['Pclass'].astype('float')\n",
        "titanic['Sex'] = titanic['Sex'].astype('float')\n",
        "titanic['SibSp'] = titanic['SibSp'].astype('float')\n",
        "titanic['Parch'] = titanic['Parch'].astype('float')\n",
        "titanic['Fare'] = titanic['Fare'].astype('float')\n",
        "\n",
        "#null(결손) 값인 경우 삭제\n",
        "titanic = titanic[titanic['Survived'].notnull()]\n",
        "titanic = titanic[titanic['Age'].notnull()]\n",
        "titanic = titanic[titanic['SibSp'].notnull()]\n",
        "titanic = titanic[titanic['Parch'].notnull()]\n",
        "titanic = titanic[titanic['Fare'].notnull()]\n",
        "\n",
        "titanic.info()"
      ],
      "execution_count": 24,
      "outputs": [
        {
          "output_type": "stream",
          "text": [
            "<class 'pandas.core.frame.DataFrame'>\n",
            "Int64Index: 714 entries, 1 to 891\n",
            "Data columns (total 8 columns):\n",
            " #   Column    Non-Null Count  Dtype  \n",
            "---  ------    --------------  -----  \n",
            " 0   Survived  714 non-null    bool   \n",
            " 1   Pclass    714 non-null    float64\n",
            " 2   Sex       714 non-null    float64\n",
            " 3   Age       714 non-null    float64\n",
            " 4   SibSp     714 non-null    float64\n",
            " 5   Parch     714 non-null    float64\n",
            " 6   Fare      714 non-null    float64\n",
            " 7   fam_size  714 non-null    int64  \n",
            "dtypes: bool(1), float64(6), int64(1)\n",
            "memory usage: 45.3 KB\n"
          ],
          "name": "stdout"
        }
      ]
    },
    {
      "cell_type": "code",
      "metadata": {
        "id": "30dVbsDO71iJ"
      },
      "source": [
        "# 데이터 분리하기 X(문제집), y(정답)\n",
        "titanic_labels = titanic['Survived'].copy()\n",
        "titanic = titanic.drop('Survived', axis=1)"
      ],
      "execution_count": 25,
      "outputs": []
    },
    {
      "cell_type": "markdown",
      "metadata": {
        "id": "yvya2_cL8O7J"
      },
      "source": [
        "# 훈련 데이터, 테스트 데이터셋 분리하기"
      ]
    },
    {
      "cell_type": "code",
      "metadata": {
        "id": "AyrImflH8Q7H"
      },
      "source": [
        "X_train, X_test, y_train, y_test = train_test_split(titanic,\n",
        "                                                    titanic_labels,\n",
        "                                                    train_size=0.8)\n"
      ],
      "execution_count": 26,
      "outputs": []
    },
    {
      "cell_type": "markdown",
      "metadata": {
        "id": "_5IIw71H8e20"
      },
      "source": [
        "#머신러닝 모델 구축 - 1) LogisticRegression"
      ]
    },
    {
      "cell_type": "code",
      "metadata": {
        "id": "eyCyxKfv8g6a"
      },
      "source": [
        "log_reg = LogisticRegression().fit(X_train, y_train)"
      ],
      "execution_count": 27,
      "outputs": []
    },
    {
      "cell_type": "code",
      "metadata": {
        "colab": {
          "base_uri": "https://localhost:8080/"
        },
        "id": "oTLdtwA88izA",
        "outputId": "d688b0b9-e87f-42be-d2a9-352d96184969"
      },
      "source": [
        "# 정확도 확인\n",
        "print('Train data Score: ', log_reg.score(X_train, y_train))\n",
        "print('Test data Score: ', log_reg.score(X_test, y_test))"
      ],
      "execution_count": 28,
      "outputs": [
        {
          "output_type": "stream",
          "text": [
            "Train data Score:  0.7898423817863398\n",
            "Test data Score:  0.8531468531468531\n"
          ],
          "name": "stdout"
        }
      ]
    },
    {
      "cell_type": "markdown",
      "metadata": {
        "id": "TFrqxC4n8l6f"
      },
      "source": [
        "#머신러닝 모델 구축 - 2) Decision Tree"
      ]
    },
    {
      "cell_type": "code",
      "metadata": {
        "id": "K7FaipRt8rcp"
      },
      "source": [
        "tree = DecisionTreeClassifier(max_depth=5,\n",
        "                              min_samples_leaf=20,\n",
        "                              min_samples_split=40).fit(X_train, y_train)"
      ],
      "execution_count": 29,
      "outputs": []
    },
    {
      "cell_type": "code",
      "metadata": {
        "colab": {
          "base_uri": "https://localhost:8080/"
        },
        "id": "Zi7v5_108tkZ",
        "outputId": "f7357fce-5a85-4571-cb34-baf687de1582"
      },
      "source": [
        "# 정확도 확인\n",
        "print('Train data Score: ', tree.score(X_train, y_train))\n",
        "print('Test data Score: ', tree.score(X_test, y_test))"
      ],
      "execution_count": 30,
      "outputs": [
        {
          "output_type": "stream",
          "text": [
            "Train data Score:  0.8143607705779334\n",
            "Test data Score:  0.8601398601398601\n"
          ],
          "name": "stdout"
        }
      ]
    },
    {
      "cell_type": "markdown",
      "metadata": {
        "id": "7iHLgNPn8zIY"
      },
      "source": [
        "# 머신러닝 모델 구축 - 3) GradientBoostingClassifier"
      ]
    },
    {
      "cell_type": "code",
      "metadata": {
        "id": "HD40Xg3q9RWv"
      },
      "source": [
        "boost = GradientBoostingClassifier(max_depth=3,\n",
        "                                   learning_rate=0.05).fit(X_train, y_train)"
      ],
      "execution_count": 31,
      "outputs": []
    },
    {
      "cell_type": "code",
      "metadata": {
        "colab": {
          "base_uri": "https://localhost:8080/"
        },
        "id": "TFcUKbpM9WeR",
        "outputId": "900da6bc-f962-4ec5-9372-7f5dabfb3b1f"
      },
      "source": [
        "# 정확도 확인\n",
        "print('Train data Score: ', boost.score(X_train, y_train))\n",
        "print('Test data Score: ', boost.score(X_test, y_test))"
      ],
      "execution_count": 32,
      "outputs": [
        {
          "output_type": "stream",
          "text": [
            "Train data Score:  0.8756567425569177\n",
            "Test data Score:  0.8671328671328671\n"
          ],
          "name": "stdout"
        }
      ]
    },
    {
      "cell_type": "markdown",
      "metadata": {
        "id": "EfOn6mqA9a0w"
      },
      "source": [
        "# 머신러닝 모델 구축 -4) RandomForestClassifier"
      ]
    },
    {
      "cell_type": "code",
      "metadata": {
        "id": "ISNjIIT39fCI"
      },
      "source": [
        "random = RandomForestClassifier(n_estimators=300,\n",
        "                                random_state=0).fit(X_train, y_train)"
      ],
      "execution_count": 33,
      "outputs": []
    },
    {
      "cell_type": "code",
      "metadata": {
        "colab": {
          "base_uri": "https://localhost:8080/"
        },
        "id": "A1q8cKIp9mQo",
        "outputId": "69f57a74-e644-4f74-db23-68febe2c40c5"
      },
      "source": [
        "# 정확도 확인\n",
        "print('Train accuracy score is: ', random.score(X_train, y_train))\n",
        "print('Test accuracy score is : ', random.score(X_test, y_test))"
      ],
      "execution_count": 34,
      "outputs": [
        {
          "output_type": "stream",
          "text": [
            "Train accuracy score is:  0.9859894921190894\n",
            "Test accuracy score is :  0.8391608391608392\n"
          ],
          "name": "stdout"
        }
      ]
    },
    {
      "cell_type": "markdown",
      "metadata": {
        "id": "hM5XtLqZ9v0B"
      },
      "source": [
        "# 성능평가 - ROC 커브"
      ]
    },
    {
      "cell_type": "code",
      "metadata": {
        "id": "6ilEEFMSAxNn"
      },
      "source": [
        "def plot_auc_roc(model):\n",
        "    probs = model.predict_proba(X_test)\n",
        "    preds = probs[:,1]\n",
        "    fpr, tpr, threshold = metrics.roc_curve(y_test, preds)\n",
        "    roc_auc = metrics.auc(fpr, tpr)\n",
        "\n",
        "    # method I: plt\n",
        "    import matplotlib.pyplot as plt\n",
        "    plt.title('Receiver Operating Characteristic')\n",
        "    plt.plot(fpr, tpr, 'b', label = 'AUC = %0.2f' % roc_auc)\n",
        "    plt.legend(loc = 'lower right')\n",
        "    plt.plot([0, 1], [0, 1],'r--')\n",
        "    plt.xlim([0, 1])\n",
        "    plt.ylim([0, 1])\n",
        "    plt.ylabel('True Positive Rate')\n",
        "    plt.xlabel('False Positive Rate')\n",
        "    plt.show()\n"
      ],
      "execution_count": 35,
      "outputs": []
    },
    {
      "cell_type": "code",
      "metadata": {
        "colab": {
          "base_uri": "https://localhost:8080/",
          "height": 295
        },
        "id": "xCJHmpzPAzVK",
        "outputId": "bc3db3ab-507a-44c0-b95b-47251aeffa5a"
      },
      "source": [
        "# Logistic Regression ROC\n",
        "plot_auc_roc(log_reg)"
      ],
      "execution_count": 36,
      "outputs": [
        {
          "output_type": "display_data",
          "data": {
            "image/png": "[encoded data removed]",
            "text/plain": [
              "<Figure size 432x288 with 1 Axes>"
            ]
          },
          "metadata": {
            "tags": [],
            "needs_background": "light"
          }
        }
      ]
    },
    {
      "cell_type": "code",
      "metadata": {
        "colab": {
          "base_uri": "https://localhost:8080/",
          "height": 295
        },
        "id": "GEEfmmw5A1og",
        "outputId": "a6f60288-90cd-428c-be54-c9fb446bad79"
      },
      "source": [
        "# Decision Tree\n",
        "plot_auc_roc(tree)"
      ],
      "execution_count": 37,
      "outputs": [
        {
          "output_type": "display_data",
          "data": {
            "image/png": "[encoded data removed]",
            "text/plain": [
              "<Figure size 432x288 with 1 Axes>"
            ]
          },
          "metadata": {
            "tags": [],
            "needs_background": "light"
          }
        }
      ]
    },
    {
      "cell_type": "code",
      "metadata": {
        "colab": {
          "base_uri": "https://localhost:8080/",
          "height": 295
        },
        "id": "q3qkpqhwBgsB",
        "outputId": "65d1f4ce-0ed4-442b-c0ca-4d22705a7f87"
      },
      "source": [
        "# GrandientBoostingClassifie\n",
        "plot_auc_roc(boost)"
      ],
      "execution_count": 38,
      "outputs": [
        {
          "output_type": "display_data",
          "data": {
            "image/png": "[encoded data removed]",
            "text/plain": [
              "<Figure size 432x288 with 1 Axes>"
            ]
          },
          "metadata": {
            "tags": [],
            "needs_background": "light"
          }
        }
      ]
    },
    {
      "cell_type": "markdown",
      "metadata": {
        "id": "cLIqgcJGBiFq"
      },
      "source": [
        "#성능평가 - 평가 지표(Classification_report)"
      ]
    },
    {
      "cell_type": "code",
      "metadata": {
        "id": "f9hU_zGcB3QI"
      },
      "source": [
        "precision_list = []\n",
        "recall_list = []"
      ],
      "execution_count": 39,
      "outputs": []
    },
    {
      "cell_type": "code",
      "metadata": {
        "colab": {
          "base_uri": "https://localhost:8080/"
        },
        "id": "m6qGTNRvCQ3O",
        "outputId": "027e2415-97db-4ed3-fb63-ffc253e255e9"
      },
      "source": [
        "# Logistic Regression 평가 지표\n",
        "lg_y_hat = log_reg.predict(X_test)\n",
        "lg_report = metrics.classification_report(y_test, lg_y_hat)\n",
        "print('Logistic Regression')\n",
        "print(lg_report)\n",
        "print('accuracy', metrics.accuracy_score(y_test,lg_y_hat) )\n",
        "print('precision', metrics.precision_score(y_test,lg_y_hat) )\n",
        "print('recall', metrics.recall_score(y_test,lg_y_hat) )\n",
        "print('f1', metrics.f1_score(y_test,lg_y_hat) )\n"
      ],
      "execution_count": 40,
      "outputs": [
        {
          "output_type": "stream",
          "text": [
            "Logistic Regression\n",
            "              precision    recall  f1-score   support\n",
            "\n",
            "       False       0.86      0.87      0.86        77\n",
            "        True       0.85      0.83      0.84        66\n",
            "\n",
            "    accuracy                           0.85       143\n",
            "   macro avg       0.85      0.85      0.85       143\n",
            "weighted avg       0.85      0.85      0.85       143\n",
            "\n",
            "accuracy 0.8531468531468531\n",
            "precision 0.8461538461538461\n",
            "recall 0.8333333333333334\n",
            "f1 0.8396946564885497\n"
          ],
          "name": "stdout"
        }
      ]
    },
    {
      "cell_type": "code",
      "metadata": {
        "colab": {
          "base_uri": "https://localhost:8080/"
        },
        "id": "Zlfx8uAgCUfz",
        "outputId": "7041fe4a-47ed-4131-9d92-0de4e6026cc0"
      },
      "source": [
        "# Decision Tree 평가 지표\n",
        "tree_y_hat = tree.predict(X_test)\n",
        "tree_report = metrics.classification_report(y_test, tree_y_hat)\n",
        "print('Tree 평가 지표')\n",
        "print(tree_report)\n",
        "print('accuracy', metrics.accuracy_score(y_test,tree_y_hat) )\n",
        "print('precision', metrics.precision_score(y_test,tree_y_hat) )\n",
        "print('recall', metrics.recall_score(y_test,tree_y_hat) )\n",
        "print('f1', metrics.f1_score(y_test,tree_y_hat) )"
      ],
      "execution_count": 41,
      "outputs": [
        {
          "output_type": "stream",
          "text": [
            "Tree 평가 지표\n",
            "              precision    recall  f1-score   support\n",
            "\n",
            "       False       0.86      0.88      0.87        77\n",
            "        True       0.86      0.83      0.85        66\n",
            "\n",
            "    accuracy                           0.86       143\n",
            "   macro avg       0.86      0.86      0.86       143\n",
            "weighted avg       0.86      0.86      0.86       143\n",
            "\n",
            "accuracy 0.8601398601398601\n",
            "precision 0.859375\n",
            "recall 0.8333333333333334\n",
            "f1 0.8461538461538461\n"
          ],
          "name": "stdout"
        }
      ]
    },
    {
      "cell_type": "code",
      "metadata": {
        "colab": {
          "base_uri": "https://localhost:8080/"
        },
        "id": "ve8lb6bTCbMp",
        "outputId": "d62a56d5-1747-4c67-9e71-9d135f07e170"
      },
      "source": [
        "# GrandientBoostingClassifier 평가 지표\n",
        "boost_y_hat = boost.predict(X_test)\n",
        "boost_report = metrics.classification_report(y_test, boost_y_hat)\n",
        "print('Boost 평가 지표')\n",
        "print(boost_report)\n",
        "print('accuracy', metrics.accuracy_score(y_test,boost_y_hat) )\n",
        "print('precision', metrics.precision_score(y_test,boost_y_hat) )\n",
        "print('recall', metrics.recall_score(y_test,boost_y_hat) )\n",
        "print('f1', metrics.f1_score(y_test,boost_y_hat) )"
      ],
      "execution_count": 42,
      "outputs": [
        {
          "output_type": "stream",
          "text": [
            "Boost 평가 지표\n",
            "              precision    recall  f1-score   support\n",
            "\n",
            "       False       0.85      0.92      0.88        77\n",
            "        True       0.90      0.80      0.85        66\n",
            "\n",
            "    accuracy                           0.87       143\n",
            "   macro avg       0.87      0.86      0.86       143\n",
            "weighted avg       0.87      0.87      0.87       143\n",
            "\n",
            "accuracy 0.8671328671328671\n",
            "precision 0.8983050847457628\n",
            "recall 0.803030303030303\n",
            "f1 0.8480000000000001\n"
          ],
          "name": "stdout"
        }
      ]
    },
    {
      "cell_type": "code",
      "metadata": {
        "colab": {
          "base_uri": "https://localhost:8080/"
        },
        "id": "2ZdbMzYuDpzn",
        "outputId": "7b916051-8cab-46d6-df14-17e5cb33ef1e"
      },
      "source": [
        "# RandomForestClassifier 평가지표\n",
        "random_y_hat = random.predict(X_test)\n",
        "random_report = metrics.classification_report(y_test, random_y_hat)\n",
        "\n",
        "print('GradientBoostingClassifier 평가 지표')\n",
        "print(boost_report)\n",
        "print('accuracy', metrics.accuracy_score(y_test, random_y_hat) )\n",
        "print('precision', metrics.precision_score(y_test, random_y_hat) )\n",
        "print('recall', metrics.recall_score(y_test, random_y_hat) )\n",
        "print('f1', metrics.f1_score(y_test, random_y_hat) )"
      ],
      "execution_count": 43,
      "outputs": [
        {
          "output_type": "stream",
          "text": [
            "GradientBoostingClassifier 평가 지표\n",
            "              precision    recall  f1-score   support\n",
            "\n",
            "       False       0.85      0.92      0.88        77\n",
            "        True       0.90      0.80      0.85        66\n",
            "\n",
            "    accuracy                           0.87       143\n",
            "   macro avg       0.87      0.86      0.86       143\n",
            "weighted avg       0.87      0.87      0.87       143\n",
            "\n",
            "accuracy 0.8391608391608392\n",
            "precision 0.8028169014084507\n",
            "recall 0.8636363636363636\n",
            "f1 0.832116788321168\n"
          ],
          "name": "stdout"
        }
      ]
    },
    {
      "cell_type": "markdown",
      "metadata": {
        "id": "vtta0ZgVCDCQ"
      },
      "source": [
        "성능 평가 - precision_score, recall_score 각 모델별로 추출한 후 그래프로 시각화"
      ]
    },
    {
      "cell_type": "code",
      "metadata": {
        "id": "AOMbNtPOCboK"
      },
      "source": [
        "precision_list = []\n",
        "recall_list = []\n",
        "\n",
        "precision_list.append(metrics.precision_score(y_test, lg_y_hat))\n",
        "recall_list.append(metrics.recall_score(y_test, lg_y_hat))\n",
        "\n",
        "precision_list.append(metrics.precision_score(y_test, tree_y_hat))\n",
        "recall_list.append(metrics.recall_score(y_test, tree_y_hat))\n",
        "\n",
        "precision_list.append(metrics.precision_score(y_test, boost_y_hat))\n",
        "recall_list.append(metrics.recall_score(y_test, boost_y_hat))\n",
        "\n",
        "precision_list.append(metrics.precision_score(y_test, random_y_hat))\n",
        "recall_list.append(metrics.recall_score(y_test, random_y_hat))\n"
      ],
      "execution_count": 47,
      "outputs": []
    },
    {
      "cell_type": "code",
      "metadata": {
        "colab": {
          "base_uri": "https://localhost:8080/",
          "height": 265
        },
        "id": "iju1KmjxGyuD",
        "outputId": "d44b7cc0-40e0-4ae0-a7da-b91097438415"
      },
      "source": [
        "plt.plot(['lg', 'tree', 'boost', 'random'], precision_list, label='precision')\n",
        "plt.plot(['lg', 'tree', 'boost', 'random'], recall_list, label='recall')\n",
        "plt.legend()\n",
        "plt.show()"
      ],
      "execution_count": 48,
      "outputs": [
        {
          "output_type": "display_data",
          "data": {
            "image/png": "[encoded data removed]",
            "text/plain": [
              "<Figure size 432x288 with 1 Axes>"
            ]
          },
          "metadata": {
            "tags": [],
            "needs_background": "light"
          }
        }
      ]
    },
    {
      "cell_type": "code",
      "metadata": {
        "id": "80GAFc10G01q"
      },
      "source": [
        "# Precision : 예측한 모델 중 실제 사람이 있는 비율\n",
        "# Recall :실제 중 모델이 심장병이라 예측한 사람\n",
        "# Recall 낮을수록 오진단 (심장병인데 아니라는 진단을 낮추려면 Recall이 높아야한다.)\n",
        "# Recall을 중점으로 봐야함\n",
        "# Recall이 제일 높은 모델을 선택해야 한다.\n",
        "# 둘 다 중요하다면 f1 score를 확인한다.\n",
        "# 정확도를 요구할 때는 Precision을 사용"
      ],
      "execution_count": 46,
      "outputs": []
    },
    {
      "cell_type": "code",
      "metadata": {
        "id": "PZ08AFsiG-Ux"
      },
      "source": [
        ""
      ],
      "execution_count": null,
      "outputs": []
    }
  ]
}