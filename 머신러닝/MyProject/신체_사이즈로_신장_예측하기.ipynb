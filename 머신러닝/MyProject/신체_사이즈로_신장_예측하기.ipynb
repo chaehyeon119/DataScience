{
  "nbformat": 4,
  "nbformat_minor": 0,
  "metadata": {
    "colab": {
      "name": "신체 사이즈로 신장 예측하기",
      "provenance": [],
      "collapsed_sections": []
    },
    "kernelspec": {
      "name": "python3",
      "display_name": "Python 3"
    },
    "language_info": {
      "name": "python"
    },
    "accelerator": "GPU"
  },
  "cells": [
    {
      "cell_type": "markdown",
      "metadata": {
        "id": "be_0cuUKi2Mv"
      },
      "source": [
        "신체 사이즈로 신장 예측 => 회귀"
      ]
    },
    {
      "cell_type": "code",
      "metadata": {
        "id": "zsXqtg-uWEo-"
      },
      "source": [
        "#Libraries for reading and handling the data\n",
        "import numpy as np\n",
        "import pandas as pd\n",
        "import re\n",
        "\n",
        "#Libraries for data visvalization\n",
        "import matplotlib.pyplot as plt\n",
        "import seaborn as sns\n",
        "\n",
        "\n",
        "#Libraries for data preprocessing\n",
        "from sklearn.model_selection import train_test_split\n",
        "from  sklearn.preprocessing import StandardScaler, OrdinalEncoder,OneHotEncoder\n",
        "from sklearn.compose import  ColumnTransformer\n",
        "from sklearn.base import BaseEstimator, TransformerMixin\n",
        "\n",
        "#Libraries for creating mL model\n",
        "from sklearn.linear_model import  LogisticRegression\n",
        "from sklearn.tree import DecisionTreeClassifier\n",
        "from sklearn.ensemble import RandomForestClassifier\n",
        "from sklearn.ensemble import  GradientBoostingClassifier\n",
        "\n",
        "\n",
        "#Libraries for creating mL model\n",
        "from sklearn import metrics"
      ],
      "execution_count": 1,
      "outputs": []
    },
    {
      "cell_type": "code",
      "metadata": {
        "colab": {
          "base_uri": "https://localhost:8080/",
          "height": 420
        },
        "id": "w5pxqKSLWICi",
        "outputId": "4ce81616-888d-495c-d3a3-ac5dd0859bf6"
      },
      "source": [
        "# 드라이브에서 데이터셋 가져오기\n",
        "df = pd.read_csv('/content/drive/MyDrive/tall.csv', header=0, encoding='euc-kr')\n",
        "df"
      ],
      "execution_count": 2,
      "outputs": [
        {
          "output_type": "execute_result",
          "data": {
            "text/html": [
              "<div>\n",
              "<style scoped>\n",
              "    .dataframe tbody tr th:only-of-type {\n",
              "        vertical-align: middle;\n",
              "    }\n",
              "\n",
              "    .dataframe tbody tr th {\n",
              "        vertical-align: top;\n",
              "    }\n",
              "\n",
              "    .dataframe thead th {\n",
              "        text-align: right;\n",
              "    }\n",
              "</style>\n",
              "<table border=\"1\" class=\"dataframe\">\n",
              "  <thead>\n",
              "    <tr style=\"text-align: right;\">\n",
              "      <th></th>\n",
              "      <th>순번</th>\n",
              "      <th>측정 일자</th>\n",
              "      <th>가슴 둘레 센티미터</th>\n",
              "      <th>소매길이 센티미터</th>\n",
              "      <th>신장 센티미터</th>\n",
              "      <th>허리 둘레 센티미터</th>\n",
              "      <th>샅높이 센티미터</th>\n",
              "      <th>머리 둘레 센티미터</th>\n",
              "      <th>발 길이 센티미터</th>\n",
              "      <th>몸무게 킬로그램</th>\n",
              "    </tr>\n",
              "  </thead>\n",
              "  <tbody>\n",
              "    <tr>\n",
              "      <th>0</th>\n",
              "      <td>1</td>\n",
              "      <td>20140106</td>\n",
              "      <td>96.3</td>\n",
              "      <td>92.6</td>\n",
              "      <td>185.5</td>\n",
              "      <td>82.5</td>\n",
              "      <td>83.8</td>\n",
              "      <td>57.1</td>\n",
              "      <td>28.5</td>\n",
              "      <td>73.2</td>\n",
              "    </tr>\n",
              "    <tr>\n",
              "      <th>1</th>\n",
              "      <td>2</td>\n",
              "      <td>2013</td>\n",
              "      <td>101.9</td>\n",
              "      <td>83.8</td>\n",
              "      <td>167.2</td>\n",
              "      <td>81.2</td>\n",
              "      <td>74.4</td>\n",
              "      <td>55.0</td>\n",
              "      <td>24.2</td>\n",
              "      <td>65.1</td>\n",
              "    </tr>\n",
              "    <tr>\n",
              "      <th>2</th>\n",
              "      <td>3</td>\n",
              "      <td>20140106</td>\n",
              "      <td>99.5</td>\n",
              "      <td>89.6</td>\n",
              "      <td>179.9</td>\n",
              "      <td>99.2</td>\n",
              "      <td>84.2</td>\n",
              "      <td>56.3</td>\n",
              "      <td>28.1</td>\n",
              "      <td>93.2</td>\n",
              "    </tr>\n",
              "    <tr>\n",
              "      <th>3</th>\n",
              "      <td>4</td>\n",
              "      <td>2013</td>\n",
              "      <td>98.6</td>\n",
              "      <td>85.5</td>\n",
              "      <td>171.4</td>\n",
              "      <td>85.9</td>\n",
              "      <td>76.4</td>\n",
              "      <td>54.5</td>\n",
              "      <td>27.4</td>\n",
              "      <td>71.6</td>\n",
              "    </tr>\n",
              "    <tr>\n",
              "      <th>4</th>\n",
              "      <td>5</td>\n",
              "      <td>20140106</td>\n",
              "      <td>94.7</td>\n",
              "      <td>88.1</td>\n",
              "      <td>176.9</td>\n",
              "      <td>78.3</td>\n",
              "      <td>79.7</td>\n",
              "      <td>58.5</td>\n",
              "      <td>26.5</td>\n",
              "      <td>67.1</td>\n",
              "    </tr>\n",
              "    <tr>\n",
              "      <th>...</th>\n",
              "      <td>...</td>\n",
              "      <td>...</td>\n",
              "      <td>...</td>\n",
              "      <td>...</td>\n",
              "      <td>...</td>\n",
              "      <td>...</td>\n",
              "      <td>...</td>\n",
              "      <td>...</td>\n",
              "      <td>...</td>\n",
              "      <td>...</td>\n",
              "    </tr>\n",
              "    <tr>\n",
              "      <th>167978</th>\n",
              "      <td>167979</td>\n",
              "      <td>20170131</td>\n",
              "      <td>100.6</td>\n",
              "      <td>86.4</td>\n",
              "      <td>173.2</td>\n",
              "      <td>86.7</td>\n",
              "      <td>77.1</td>\n",
              "      <td>56.9</td>\n",
              "      <td>27.1</td>\n",
              "      <td>73.7</td>\n",
              "    </tr>\n",
              "    <tr>\n",
              "      <th>167979</th>\n",
              "      <td>167980</td>\n",
              "      <td>20170131</td>\n",
              "      <td>97.9</td>\n",
              "      <td>82.7</td>\n",
              "      <td>166.3</td>\n",
              "      <td>90.5</td>\n",
              "      <td>73.4</td>\n",
              "      <td>61.5</td>\n",
              "      <td>28.8</td>\n",
              "      <td>70.7</td>\n",
              "    </tr>\n",
              "    <tr>\n",
              "      <th>167980</th>\n",
              "      <td>167981</td>\n",
              "      <td>20170131</td>\n",
              "      <td>97.9</td>\n",
              "      <td>87.2</td>\n",
              "      <td>175.2</td>\n",
              "      <td>94.3</td>\n",
              "      <td>83.1</td>\n",
              "      <td>57.1</td>\n",
              "      <td>27.6</td>\n",
              "      <td>78.7</td>\n",
              "    </tr>\n",
              "    <tr>\n",
              "      <th>167981</th>\n",
              "      <td>167982</td>\n",
              "      <td>20170131</td>\n",
              "      <td>85.3</td>\n",
              "      <td>86.8</td>\n",
              "      <td>173.6</td>\n",
              "      <td>75.9</td>\n",
              "      <td>76.6</td>\n",
              "      <td>57.6</td>\n",
              "      <td>24.3</td>\n",
              "      <td>57.4</td>\n",
              "    </tr>\n",
              "    <tr>\n",
              "      <th>167982</th>\n",
              "      <td>167983</td>\n",
              "      <td>20170131</td>\n",
              "      <td>86.6</td>\n",
              "      <td>88.3</td>\n",
              "      <td>175.8</td>\n",
              "      <td>73.0</td>\n",
              "      <td>77.8</td>\n",
              "      <td>56.3</td>\n",
              "      <td>26.1</td>\n",
              "      <td>51.7</td>\n",
              "    </tr>\n",
              "  </tbody>\n",
              "</table>\n",
              "<p>167983 rows × 10 columns</p>\n",
              "</div>"
            ],
            "text/plain": [
              "            순번     측정 일자  가슴 둘레 센티미터  ...  머리 둘레 센티미터  발 길이 센티미터  몸무게 킬로그램\n",
              "0            1  20140106        96.3  ...        57.1       28.5      73.2\n",
              "1            2      2013       101.9  ...        55.0       24.2      65.1\n",
              "2            3  20140106        99.5  ...        56.3       28.1      93.2\n",
              "3            4      2013        98.6  ...        54.5       27.4      71.6\n",
              "4            5  20140106        94.7  ...        58.5       26.5      67.1\n",
              "...        ...       ...         ...  ...         ...        ...       ...\n",
              "167978  167979  20170131       100.6  ...        56.9       27.1      73.7\n",
              "167979  167980  20170131        97.9  ...        61.5       28.8      70.7\n",
              "167980  167981  20170131        97.9  ...        57.1       27.6      78.7\n",
              "167981  167982  20170131        85.3  ...        57.6       24.3      57.4\n",
              "167982  167983  20170131        86.6  ...        56.3       26.1      51.7\n",
              "\n",
              "[167983 rows x 10 columns]"
            ]
          },
          "metadata": {
            "tags": []
          },
          "execution_count": 2
        }
      ]
    },
    {
      "cell_type": "code",
      "metadata": {
        "colab": {
          "base_uri": "https://localhost:8080/"
        },
        "id": "FzS_l9yGY8QV",
        "outputId": "10565612-49ac-4460-dd18-3bf804c50621"
      },
      "source": [
        "df.info()"
      ],
      "execution_count": 3,
      "outputs": [
        {
          "output_type": "stream",
          "text": [
            "<class 'pandas.core.frame.DataFrame'>\n",
            "RangeIndex: 167983 entries, 0 to 167982\n",
            "Data columns (total 10 columns):\n",
            " #   Column      Non-Null Count   Dtype  \n",
            "---  ------      --------------   -----  \n",
            " 0   순번          167983 non-null  int64  \n",
            " 1   측정 일자       167983 non-null  int64  \n",
            " 2   가슴 둘레 센티미터  167982 non-null  float64\n",
            " 3   소매길이 센티미터   167983 non-null  float64\n",
            " 4   신장 센티미터     167983 non-null  float64\n",
            " 5   허리 둘레 센티미터  167983 non-null  float64\n",
            " 6   샅높이 센티미터    167983 non-null  float64\n",
            " 7   머리 둘레 센티미터  167981 non-null  float64\n",
            " 8   발 길이 센티미터   167983 non-null  float64\n",
            " 9   몸무게 킬로그램    167983 non-null  float64\n",
            "dtypes: float64(8), int64(2)\n",
            "memory usage: 12.8 MB\n"
          ],
          "name": "stdout"
        }
      ]
    },
    {
      "cell_type": "code",
      "metadata": {
        "colab": {
          "base_uri": "https://localhost:8080/"
        },
        "id": "DFXaL1Vbf8o7",
        "outputId": "9f7048ae-c7cd-4171-be4b-3647eea6d257"
      },
      "source": [
        "rdf = df.dropna(subset=['머리 둘레 센티미터', '가슴 둘레 센티미터'], how='any', axis=0) \n",
        "rdf.info()\n",
        "# 머리 둘레, 가슴 둘레 null값 삭제\n",
        "# null값 지우고 167980개 통일"
      ],
      "execution_count": 4,
      "outputs": [
        {
          "output_type": "stream",
          "text": [
            "<class 'pandas.core.frame.DataFrame'>\n",
            "Int64Index: 167980 entries, 0 to 167982\n",
            "Data columns (total 10 columns):\n",
            " #   Column      Non-Null Count   Dtype  \n",
            "---  ------      --------------   -----  \n",
            " 0   순번          167980 non-null  int64  \n",
            " 1   측정 일자       167980 non-null  int64  \n",
            " 2   가슴 둘레 센티미터  167980 non-null  float64\n",
            " 3   소매길이 센티미터   167980 non-null  float64\n",
            " 4   신장 센티미터     167980 non-null  float64\n",
            " 5   허리 둘레 센티미터  167980 non-null  float64\n",
            " 6   샅높이 센티미터    167980 non-null  float64\n",
            " 7   머리 둘레 센티미터  167980 non-null  float64\n",
            " 8   발 길이 센티미터   167980 non-null  float64\n",
            " 9   몸무게 킬로그램    167980 non-null  float64\n",
            "dtypes: float64(8), int64(2)\n",
            "memory usage: 14.1 MB\n"
          ],
          "name": "stdout"
        }
      ]
    },
    {
      "cell_type": "code",
      "metadata": {
        "colab": {
          "base_uri": "https://localhost:8080/"
        },
        "id": "436IhsUsliS0",
        "outputId": "bd68fc30-3fd5-4c62-a968-296710a0c126"
      },
      "source": [
        "# null 값 확인\n",
        "rdf.isnull().sum()"
      ],
      "execution_count": 5,
      "outputs": [
        {
          "output_type": "execute_result",
          "data": {
            "text/plain": [
              "순번            0\n",
              "측정 일자         0\n",
              "가슴 둘레 센티미터    0\n",
              "소매길이 센티미터     0\n",
              "신장 센티미터       0\n",
              "허리 둘레 센티미터    0\n",
              "샅높이 센티미터      0\n",
              "머리 둘레 센티미터    0\n",
              "발 길이 센티미터     0\n",
              "몸무게 킬로그램      0\n",
              "dtype: int64"
            ]
          },
          "metadata": {
            "tags": []
          },
          "execution_count": 5
        }
      ]
    },
    {
      "cell_type": "code",
      "metadata": {
        "id": "wOqHFHMihe47"
      },
      "source": [
        "# 분석에 활용할 속성을 선택 (가슴 둘레, 소매길이, 허리 둘레, 샅높이, 머리둘레, 발길이, 몸무게)\n",
        "X = rdf.iloc[:, [2,3,5,6,7,8,9]] # 독립 변수\n",
        "y = rdf['신장 센티미터']        # 종속 변수"
      ],
      "execution_count": 6,
      "outputs": []
    },
    {
      "cell_type": "code",
      "metadata": {
        "id": "7QAohl0FbjaA"
      },
      "source": [
        "# X = df.iloc[:, [3, 5, 6, 8, 9]]\n",
        "# y = df['신장 센티미터'] # 종속 변수"
      ],
      "execution_count": 7,
      "outputs": []
    },
    {
      "cell_type": "code",
      "metadata": {
        "colab": {
          "base_uri": "https://localhost:8080/",
          "height": 420
        },
        "id": "NoaZztg5tQNd",
        "outputId": "0564131b-a8c6-4bd6-c66c-d53382a34bb4"
      },
      "source": [
        "X"
      ],
      "execution_count": 8,
      "outputs": [
        {
          "output_type": "execute_result",
          "data": {
            "text/html": [
              "<div>\n",
              "<style scoped>\n",
              "    .dataframe tbody tr th:only-of-type {\n",
              "        vertical-align: middle;\n",
              "    }\n",
              "\n",
              "    .dataframe tbody tr th {\n",
              "        vertical-align: top;\n",
              "    }\n",
              "\n",
              "    .dataframe thead th {\n",
              "        text-align: right;\n",
              "    }\n",
              "</style>\n",
              "<table border=\"1\" class=\"dataframe\">\n",
              "  <thead>\n",
              "    <tr style=\"text-align: right;\">\n",
              "      <th></th>\n",
              "      <th>가슴 둘레 센티미터</th>\n",
              "      <th>소매길이 센티미터</th>\n",
              "      <th>허리 둘레 센티미터</th>\n",
              "      <th>샅높이 센티미터</th>\n",
              "      <th>머리 둘레 센티미터</th>\n",
              "      <th>발 길이 센티미터</th>\n",
              "      <th>몸무게 킬로그램</th>\n",
              "    </tr>\n",
              "  </thead>\n",
              "  <tbody>\n",
              "    <tr>\n",
              "      <th>0</th>\n",
              "      <td>96.3</td>\n",
              "      <td>92.6</td>\n",
              "      <td>82.5</td>\n",
              "      <td>83.8</td>\n",
              "      <td>57.1</td>\n",
              "      <td>28.5</td>\n",
              "      <td>73.2</td>\n",
              "    </tr>\n",
              "    <tr>\n",
              "      <th>1</th>\n",
              "      <td>101.9</td>\n",
              "      <td>83.8</td>\n",
              "      <td>81.2</td>\n",
              "      <td>74.4</td>\n",
              "      <td>55.0</td>\n",
              "      <td>24.2</td>\n",
              "      <td>65.1</td>\n",
              "    </tr>\n",
              "    <tr>\n",
              "      <th>2</th>\n",
              "      <td>99.5</td>\n",
              "      <td>89.6</td>\n",
              "      <td>99.2</td>\n",
              "      <td>84.2</td>\n",
              "      <td>56.3</td>\n",
              "      <td>28.1</td>\n",
              "      <td>93.2</td>\n",
              "    </tr>\n",
              "    <tr>\n",
              "      <th>3</th>\n",
              "      <td>98.6</td>\n",
              "      <td>85.5</td>\n",
              "      <td>85.9</td>\n",
              "      <td>76.4</td>\n",
              "      <td>54.5</td>\n",
              "      <td>27.4</td>\n",
              "      <td>71.6</td>\n",
              "    </tr>\n",
              "    <tr>\n",
              "      <th>4</th>\n",
              "      <td>94.7</td>\n",
              "      <td>88.1</td>\n",
              "      <td>78.3</td>\n",
              "      <td>79.7</td>\n",
              "      <td>58.5</td>\n",
              "      <td>26.5</td>\n",
              "      <td>67.1</td>\n",
              "    </tr>\n",
              "    <tr>\n",
              "      <th>...</th>\n",
              "      <td>...</td>\n",
              "      <td>...</td>\n",
              "      <td>...</td>\n",
              "      <td>...</td>\n",
              "      <td>...</td>\n",
              "      <td>...</td>\n",
              "      <td>...</td>\n",
              "    </tr>\n",
              "    <tr>\n",
              "      <th>167978</th>\n",
              "      <td>100.6</td>\n",
              "      <td>86.4</td>\n",
              "      <td>86.7</td>\n",
              "      <td>77.1</td>\n",
              "      <td>56.9</td>\n",
              "      <td>27.1</td>\n",
              "      <td>73.7</td>\n",
              "    </tr>\n",
              "    <tr>\n",
              "      <th>167979</th>\n",
              "      <td>97.9</td>\n",
              "      <td>82.7</td>\n",
              "      <td>90.5</td>\n",
              "      <td>73.4</td>\n",
              "      <td>61.5</td>\n",
              "      <td>28.8</td>\n",
              "      <td>70.7</td>\n",
              "    </tr>\n",
              "    <tr>\n",
              "      <th>167980</th>\n",
              "      <td>97.9</td>\n",
              "      <td>87.2</td>\n",
              "      <td>94.3</td>\n",
              "      <td>83.1</td>\n",
              "      <td>57.1</td>\n",
              "      <td>27.6</td>\n",
              "      <td>78.7</td>\n",
              "    </tr>\n",
              "    <tr>\n",
              "      <th>167981</th>\n",
              "      <td>85.3</td>\n",
              "      <td>86.8</td>\n",
              "      <td>75.9</td>\n",
              "      <td>76.6</td>\n",
              "      <td>57.6</td>\n",
              "      <td>24.3</td>\n",
              "      <td>57.4</td>\n",
              "    </tr>\n",
              "    <tr>\n",
              "      <th>167982</th>\n",
              "      <td>86.6</td>\n",
              "      <td>88.3</td>\n",
              "      <td>73.0</td>\n",
              "      <td>77.8</td>\n",
              "      <td>56.3</td>\n",
              "      <td>26.1</td>\n",
              "      <td>51.7</td>\n",
              "    </tr>\n",
              "  </tbody>\n",
              "</table>\n",
              "<p>167980 rows × 7 columns</p>\n",
              "</div>"
            ],
            "text/plain": [
              "        가슴 둘레 센티미터  소매길이 센티미터  허리 둘레 센티미터  ...  머리 둘레 센티미터  발 길이 센티미터  몸무게 킬로그램\n",
              "0             96.3       92.6        82.5  ...        57.1       28.5      73.2\n",
              "1            101.9       83.8        81.2  ...        55.0       24.2      65.1\n",
              "2             99.5       89.6        99.2  ...        56.3       28.1      93.2\n",
              "3             98.6       85.5        85.9  ...        54.5       27.4      71.6\n",
              "4             94.7       88.1        78.3  ...        58.5       26.5      67.1\n",
              "...            ...        ...         ...  ...         ...        ...       ...\n",
              "167978       100.6       86.4        86.7  ...        56.9       27.1      73.7\n",
              "167979        97.9       82.7        90.5  ...        61.5       28.8      70.7\n",
              "167980        97.9       87.2        94.3  ...        57.1       27.6      78.7\n",
              "167981        85.3       86.8        75.9  ...        57.6       24.3      57.4\n",
              "167982        86.6       88.3        73.0  ...        56.3       26.1      51.7\n",
              "\n",
              "[167980 rows x 7 columns]"
            ]
          },
          "metadata": {
            "tags": []
          },
          "execution_count": 8
        }
      ]
    },
    {
      "cell_type": "code",
      "metadata": {
        "colab": {
          "base_uri": "https://localhost:8080/"
        },
        "id": "Zsd298SfUNQY",
        "outputId": "4c541c77-db27-4d7d-ea0a-acb14c2786d5"
      },
      "source": [
        "y"
      ],
      "execution_count": 9,
      "outputs": [
        {
          "output_type": "execute_result",
          "data": {
            "text/plain": [
              "0         185.5\n",
              "1         167.2\n",
              "2         179.9\n",
              "3         171.4\n",
              "4         176.9\n",
              "          ...  \n",
              "167978    173.2\n",
              "167979    166.3\n",
              "167980    175.2\n",
              "167981    173.6\n",
              "167982    175.8\n",
              "Name: 신장 센티미터, Length: 167980, dtype: float64"
            ]
          },
          "metadata": {
            "tags": []
          },
          "execution_count": 9
        }
      ]
    },
    {
      "cell_type": "code",
      "metadata": {
        "id": "n_YiVvGjZoV8"
      },
      "source": [
        "# 숫자의 수와 차이가 크기 때문에 정규화 작업 \n",
        "from sklearn import preprocessing\n",
        "\n",
        "X = preprocessing.StandardScaler().fit(X).transform(X)"
      ],
      "execution_count": 10,
      "outputs": []
    },
    {
      "cell_type": "code",
      "metadata": {
        "id": "PPGBz7h4hMpe"
      },
      "source": [
        "# 검증 데이터셋을 만듭니다 \n",
        "from sklearn.model_selection import train_test_split\n",
        "\n",
        "X_train, X_test, y_train, y_test  = train_test_split(X, y, test_size=0.30, random_state=777) # 랜덤 추출 값\n"
      ],
      "execution_count": 11,
      "outputs": []
    },
    {
      "cell_type": "code",
      "metadata": {
        "id": "maS7nvUhWLzB"
      },
      "source": [
        "# 검증 데이터셋을 만듭니다\n",
        "from sklearn.model_selection import  train_test_split\n",
        "\n",
        "X_train, X_val, y_train, y_val = train_test_split(X_train,             # 독립 변수\n",
        "                                                   y_train,            # 종속 변수\n",
        "                                                   test_size=0.33,     # 검증 33%\n",
        "                                                   random_state=777)   # 랜덤 추출 값\n",
        "\n",
        "# !!! 데이터 수가 부족하면 validation 안 해도 됨!!!"
      ],
      "execution_count": 12,
      "outputs": []
    },
    {
      "cell_type": "code",
      "metadata": {
        "id": "DWN8zrRqj7wv"
      },
      "source": [
        "import numpy as np\n",
        "np.set_printoptions(suppress=True)\n",
        "\n",
        "X_train=np.array(X_train)\n",
        "X_test=np.array(X_test)\n",
        "y_train=np.array(y_train)\n",
        "y_test=np.array(y_test)\n",
        "X_val=np.array(X_val)\n",
        "y_val=np.array(y_val)"
      ],
      "execution_count": 13,
      "outputs": []
    },
    {
      "cell_type": "code",
      "metadata": {
        "colab": {
          "base_uri": "https://localhost:8080/"
        },
        "id": "RGHcbcfrnCkE",
        "outputId": "1dedca0b-49bf-499f-f1c9-df918540b12e"
      },
      "source": [
        "import numpy as np\n",
        "np.set_printoptions(suppress=True)\n",
        "\n",
        "print(X_train[0])"
      ],
      "execution_count": 14,
      "outputs": [
        {
          "output_type": "stream",
          "text": [
            "[ 1.0348624   0.94707653  1.1453702   1.36257206 -0.03184425 -0.02387411\n",
            "  1.64786679]\n"
          ],
          "name": "stdout"
        }
      ]
    },
    {
      "cell_type": "code",
      "metadata": {
        "id": "jT6LiqzxkBXr"
      },
      "source": [
        "# mean = np.mean(X_train, axis=0)\n",
        "# std = np.std(X_train, axis=0)\n",
        "\n",
        "# # (데이터[훈련, 테스트 데이터 모두] - 평균) / 표준편차(Standardization)\n",
        "# X_train = (X_train - mean)/std\n",
        "# X_test = (X_test-mean) / std\n",
        "\n",
        "# print(X_train)"
      ],
      "execution_count": 15,
      "outputs": []
    },
    {
      "cell_type": "markdown",
      "metadata": {
        "id": "8lVC-yHBjT_V"
      },
      "source": [
        "# 데이터 형태 확인하기"
      ]
    },
    {
      "cell_type": "code",
      "metadata": {
        "colab": {
          "base_uri": "https://localhost:8080/"
        },
        "id": "Vq--NUzPm2Sb",
        "outputId": "5355031d-b7f5-4a45-e19e-40e65009f44f"
      },
      "source": [
        "print(X_train.shape, y_train.shape)\n",
        "print(X_test.shape, y_test.shape)\n",
        "print(X_val.shape, y_val.shape)\n",
        "print(X_train.shape, X_val.shape)"
      ],
      "execution_count": 16,
      "outputs": [
        {
          "output_type": "stream",
          "text": [
            "(78782, 7) (78782,)\n",
            "(50394, 7) (50394,)\n",
            "(38804, 7) (38804,)\n",
            "(78782, 7) (38804, 7)\n"
          ],
          "name": "stdout"
        }
      ]
    },
    {
      "cell_type": "markdown",
      "metadata": {
        "id": "ogc-QPicjfat"
      },
      "source": [
        "# 데이터 전처리 및 검증 데이터셋 만들기"
      ]
    },
    {
      "cell_type": "markdown",
      "metadata": {
        "id": "PjO8RTFLlsk2"
      },
      "source": [
        "# 모델 구성하기"
      ]
    },
    {
      "cell_type": "code",
      "metadata": {
        "id": "Fozp4ghGmIDq"
      },
      "source": [
        "from tensorflow.keras.models import Sequential\n",
        "from tensorflow.keras.layers import Dense\n",
        "\n",
        "model = Sequential()\n",
        "#model.add(Dense(activation='relu', input_shape=(7,)))\n",
        "\n",
        "model.add(Dense(32, activation='relu', input_shape=(7,)))\n",
        "model.add(Dense(1)) # 하나의 값을 출력 -> 신장 길이\n",
        "\n",
        "# 활성화 함수를 안 적은 이유는 리니어가 디폴트이기 때문에 안 적어도 작동 됨"
      ],
      "execution_count": 17,
      "outputs": []
    },
    {
      "cell_type": "markdown",
      "metadata": {
        "id": "43piV9xAmjEe"
      },
      "source": [
        "# 모델 설정하기"
      ]
    },
    {
      "cell_type": "code",
      "metadata": {
        "id": "-2ct7npnm6Zm"
      },
      "source": [
        "model.compile(optimizer = 'adam', loss='mse', metrics=['mae', 'mse'])"
      ],
      "execution_count": 18,
      "outputs": []
    },
    {
      "cell_type": "markdown",
      "metadata": {
        "id": "3RA4LyCnnWiO"
      },
      "source": [
        "# 모델 학습하기"
      ]
    },
    {
      "cell_type": "code",
      "metadata": {
        "colab": {
          "base_uri": "https://localhost:8080/"
        },
        "id": "Dk_lFLX9W57J",
        "outputId": "ef31f989-944d-4f87-cc4f-8f4c1d54929b"
      },
      "source": [
        "history = model.fit(X_train, y_train,\n",
        "                    epochs=15,                          # 15번 공부시키기\n",
        "                    validation_data = (X_val, y_val)) "
      ],
      "execution_count": 19,
      "outputs": [
        {
          "output_type": "stream",
          "text": [
            "Epoch 1/15\n",
            "2462/2462 [==============================] - 10s 3ms/step - loss: 11130.8252 - mae: 91.1295 - mse: 11130.8252 - val_loss: 2673.6118 - val_mae: 37.6419 - val_mse: 2673.6118\n",
            "Epoch 2/15\n",
            "2462/2462 [==============================] - 6s 3ms/step - loss: 459.0285 - mae: 15.1459 - mse: 459.0285 - val_loss: 458.8745 - val_mae: 4.8036 - val_mse: 458.8745\n",
            "Epoch 3/15\n",
            "2462/2462 [==============================] - 8s 3ms/step - loss: 14.8181 - mae: 2.6725 - mse: 14.8181 - val_loss: 290.2993 - val_mae: 1.8994 - val_mse: 290.2993\n",
            "Epoch 4/15\n",
            "2462/2462 [==============================] - 6s 3ms/step - loss: 4.1317 - mae: 1.5338 - mse: 4.1317 - val_loss: 218.7451 - val_mae: 1.3760 - val_mse: 218.7451\n",
            "Epoch 5/15\n",
            "2462/2462 [==============================] - 6s 3ms/step - loss: 2.1836 - mae: 1.1125 - mse: 2.1836 - val_loss: 163.4806 - val_mae: 0.9588 - val_mse: 163.4806\n",
            "Epoch 6/15\n",
            "2462/2462 [==============================] - 6s 3ms/step - loss: 0.9861 - mae: 0.7273 - mse: 0.9861 - val_loss: 118.8182 - val_mae: 0.6300 - val_mse: 118.8182\n",
            "Epoch 7/15\n",
            "2462/2462 [==============================] - 6s 3ms/step - loss: 0.4999 - mae: 0.5333 - mse: 0.4999 - val_loss: 92.8019 - val_mae: 0.5497 - val_mse: 92.8019\n",
            "Epoch 8/15\n",
            "2462/2462 [==============================] - 6s 3ms/step - loss: 0.4043 - mae: 0.4998 - mse: 0.4043 - val_loss: 80.4760 - val_mae: 0.5390 - val_mse: 80.4760\n",
            "Epoch 9/15\n",
            "2462/2462 [==============================] - 6s 3ms/step - loss: 0.3583 - mae: 0.4888 - mse: 0.3583 - val_loss: 76.4341 - val_mae: 0.5368 - val_mse: 76.4341\n",
            "Epoch 10/15\n",
            "2462/2462 [==============================] - 6s 3ms/step - loss: 0.3413 - mae: 0.4842 - mse: 0.3413 - val_loss: 73.2858 - val_mae: 0.5421 - val_mse: 73.2858\n",
            "Epoch 11/15\n",
            "2462/2462 [==============================] - 6s 3ms/step - loss: 0.3341 - mae: 0.4836 - mse: 0.3341 - val_loss: 73.0737 - val_mae: 0.5512 - val_mse: 73.0737\n",
            "Epoch 12/15\n",
            "2462/2462 [==============================] - 6s 3ms/step - loss: 0.3300 - mae: 0.4817 - mse: 0.3300 - val_loss: 73.8106 - val_mae: 0.5359 - val_mse: 73.8106\n",
            "Epoch 13/15\n",
            "2462/2462 [==============================] - 6s 3ms/step - loss: 0.3288 - mae: 0.4819 - mse: 0.3288 - val_loss: 79.7875 - val_mae: 0.5234 - val_mse: 79.7875\n",
            "Epoch 14/15\n",
            "2462/2462 [==============================] - 6s 3ms/step - loss: 0.3259 - mae: 0.4801 - mse: 0.3259 - val_loss: 75.6740 - val_mae: 0.5251 - val_mse: 75.6740\n",
            "Epoch 15/15\n",
            "2462/2462 [==============================] - 6s 3ms/step - loss: 0.3248 - mae: 0.4800 - mse: 0.3248 - val_loss: 80.7481 - val_mae: 0.5235 - val_mse: 80.7481\n"
          ],
          "name": "stdout"
        }
      ]
    },
    {
      "cell_type": "markdown",
      "metadata": {
        "id": "S4RZvbu7nf2X"
      },
      "source": [
        "# 모델 결과 그리기"
      ]
    },
    {
      "cell_type": "code",
      "metadata": {
        "id": "8WQmDvjIn1qn",
        "colab": {
          "base_uri": "https://localhost:8080/",
          "height": 349
        },
        "outputId": "6c6de457-cc0f-4cd6-af83-6884ea92fd26"
      },
      "source": [
        "import matplotlib.pyplot as plt\n",
        "\n",
        "his_dict = history.history\n",
        "mse = his_dict['mse']\n",
        "val_mse = his_dict['val_mse'] # 검증 데이터가 있는 경우 ‘val_’ 수식어가 붙습니다.\n",
        "\n",
        "epochs = range(1, len(mse) + 1)\n",
        "fig = plt.figure(figsize = (10, 5))\n",
        "\n",
        "# 훈련 및 검증 손실 그리기\n",
        "ax1 = fig.add_subplot(1, 2, 1)\n",
        "ax1.plot(epochs, mse, color = 'blue', label = 'train_mse')\n",
        "ax1.plot(epochs, val_mse, color = 'orange', label = 'val_mse')\n",
        "ax1.set_title('train and val mse')\n",
        "ax1.set_xlabel('epochs')\n",
        "ax1.set_ylabel('mse')\n",
        "ax1.legend()\n",
        "\n",
        "mae = his_dict['mae']\n",
        "val_mae = his_dict['val_mae']\n",
        "\n",
        "# 훈련 및 검증 정확도 그리기\n",
        "ax2 = fig.add_subplot(1, 2, 2)\n",
        "ax2.plot(epochs, mae, color = 'blue', label = 'train_mae')\n",
        "ax2.plot(epochs, val_mae, color = 'orange', label = 'val_mae')\n",
        "ax2.set_title('train and val mae')\n",
        "ax2.set_xlabel('epochs')\n",
        "ax2.set_ylabel('mae')\n",
        "ax2.legend()\n",
        "\n",
        "plt.show()\n"
      ],
      "execution_count": 20,
      "outputs": [
        {
          "output_type": "display_data",
          "data": {
            "image/png": "[encoded data removed]",
            "text/plain": [
              "<Figure size 720x360 with 2 Axes>"
            ]
          },
          "metadata": {
            "tags": [],
            "needs_background": "light"
          }
        }
      ]
    },
    {
      "cell_type": "markdown",
      "metadata": {
        "id": "sUmfUTqnn3UI"
      },
      "source": [
        "# 모델 평가하기"
      ]
    },
    {
      "cell_type": "code",
      "metadata": {
        "id": "aOaxvxdnn_P_",
        "colab": {
          "base_uri": "https://localhost:8080/"
        },
        "outputId": "1bf6dcbf-54e9-4492-ec3a-7a827d918de5"
      },
      "source": [
        "model.evaluate(X_test, y_test)"
      ],
      "execution_count": 21,
      "outputs": [
        {
          "output_type": "stream",
          "text": [
            "1575/1575 [==============================] - 3s 2ms/step - loss: 0.3376 - mae: 0.4769 - mse: 0.3376\n"
          ],
          "name": "stdout"
        },
        {
          "output_type": "execute_result",
          "data": {
            "text/plain": [
              "[0.33755651116371155, 0.47688326239585876, 0.33755651116371155]"
            ]
          },
          "metadata": {
            "tags": []
          },
          "execution_count": 21
        }
      ]
    },
    {
      "cell_type": "markdown",
      "metadata": {
        "id": "nNXxKGKXoLrw"
      },
      "source": [
        "# 모델 예측하기"
      ]
    },
    {
      "cell_type": "code",
      "metadata": {
        "id": "k5xxIg2VoFbL",
        "colab": {
          "base_uri": "https://localhost:8080/",
          "height": 748
        },
        "outputId": "51816edd-df1f-4d3b-98c4-1832def1befe"
      },
      "source": [
        "test_predictions = model.predict(X_test).flatten()\n",
        "plt.figure(dpi=200)\n",
        "plt.scatter(y_test, test_predictions)\n",
        "plt.xlabel('True Values [Tall(cm)]')\n",
        "plt.ylabel('Predictions [Tall(cm)]')\n",
        "plt.axis('equal')\n",
        "plt.axis('square')\n",
        "plt.xlim([0,plt.xlim()[1]])\n",
        "plt.ylim([0,plt.ylim()[1]])\n",
        "_ = plt.plot([-300, 300], [-300, 300]) # 범위 조절\n",
        "\n",
        "# 추세선 아래 있는 것들은 실제 값보다 낮게 예측\n",
        "# 추세선 위에 있는 것들은 실제 값보다 높게 예측\n",
        "# 추세선과 일치하는 값들은 오차율 0"
      ],
      "execution_count": 35,
      "outputs": [
        {
          "output_type": "display_data",
          "data": {
            "image/png": "[encoded data removed]",
            "text/plain": [
              "<Figure size 1200x800 with 1 Axes>"
            ]
          },
          "metadata": {
            "tags": [],
            "needs_background": "light"
          }
        }
      ]
    },
    {
      "cell_type": "code",
      "metadata": {
        "colab": {
          "base_uri": "https://localhost:8080/"
        },
        "id": "6_JhZXJqFtsE",
        "outputId": "ca042f43-e0b5-4d3f-c6c4-fca318c1da97"
      },
      "source": [
        "from google.colab import drive\n",
        "drive.mount('/content/drive')"
      ],
      "execution_count": 23,
      "outputs": [
        {
          "output_type": "stream",
          "text": [
            "Drive already mounted at /content/drive; to attempt to forcibly remount, call drive.mount(\"/content/drive\", force_remount=True).\n"
          ],
          "name": "stdout"
        }
      ]
    },
    {
      "cell_type": "code",
      "metadata": {
        "colab": {
          "base_uri": "https://localhost:8080/"
        },
        "id": "siXwTW-o0OSy",
        "outputId": "ae42bdc7-398e-467d-bcca-5e6d1bf55fb2"
      },
      "source": [
        "X[0]"
      ],
      "execution_count": 24,
      "outputs": [
        {
          "output_type": "execute_result",
          "data": {
            "text/plain": [
              "array([ 0.07696313,  1.93356124, -0.35272211,  1.17775554, -0.1031317 ,\n",
              "        1.19240925,  0.07602794])"
            ]
          },
          "metadata": {
            "tags": []
          },
          "execution_count": 24
        }
      ]
    },
    {
      "cell_type": "code",
      "metadata": {
        "id": "CVjBhBA7oQN-",
        "colab": {
          "base_uri": "https://localhost:8080/"
        },
        "outputId": "0724c572-31f9-4dcc-fca5-e2a4d32af63e"
      },
      "source": [
        "man_a = np.array([ 0.07696313,  1.93356124, -0.35272211,  1.17775554, -0.1031317 ,1.19240925,  0.07602794]).reshape(1,7)\n",
        "#가슴 둘레 96.3cm , 소매길이 92.6cm, 허리 둘레 82.5cm, 샅높이 83.8cm, 머리 둘레 57.1cm, 발 길이 28.5cm,\t몸무게 73.2kg\n",
        "model.predict(man_a) # 실제 키 185.5cm\n"
      ],
      "execution_count": 25,
      "outputs": [
        {
          "output_type": "execute_result",
          "data": {
            "text/plain": [
              "array([[185.05519]], dtype=float32)"
            ]
          },
          "metadata": {
            "tags": []
          },
          "execution_count": 25
        }
      ]
    },
    {
      "cell_type": "code",
      "metadata": {
        "id": "pCkpkxJ6DHvm"
      },
      "source": [
        "dicaprio = np.array([3., 0., 19., 0., 0., 5.]).reshape(1,6) #3등실 탑승, 남성, 19살, 형제없고, 부모나 자녀없음, 싼 가격으로 표를 삼\n",
        "winslet = np.array([1., 1., 17., 1., 2., 100.]).reshape(1,6) #1등실 탑승, 여성, 17살,  운임은 비싸게 주었고, 부모와 함께 탑승하고, 약혼자도 있었다\n",
        "\n"
      ],
      "execution_count": 26,
      "outputs": []
    },
    {
      "cell_type": "code",
      "metadata": {
        "colab": {
          "base_uri": "https://localhost:8080/"
        },
        "id": "reFXr1iZ0V-p",
        "outputId": "a1f9300b-89c5-4c85-cf9d-cc0cf4ce4771"
      },
      "source": [
        "X[1]"
      ],
      "execution_count": 27,
      "outputs": [
        {
          "output_type": "execute_result",
          "data": {
            "text/plain": [
              "array([ 0.68653539, -1.2816482 , -0.46795998, -1.30406627, -0.31699406,\n",
              "       -1.88407218, -0.51341162])"
            ]
          },
          "metadata": {
            "tags": []
          },
          "execution_count": 27
        }
      ]
    },
    {
      "cell_type": "code",
      "metadata": {
        "id": "rMLfLQWDebpb",
        "colab": {
          "base_uri": "https://localhost:8080/"
        },
        "outputId": "04816431-d888-4f4a-cdf6-3a2158c6beaf"
      },
      "source": [
        "man_b = np.array([ 0.68653539, -1.2816482 , -0.46795998, -1.30406627, -0.31699406, -1.88407218, -0.51341162]).reshape(1,7)\n",
        "#가슴 둘레 101.9cm , 소매길이 83.8cm, 허리 둘레 81.2cm, 샅높이 74.4cm, 머리 둘레 55cm, 발 길이 24.2cm,\t몸무게 65.1kg\n",
        "model.predict(man_b) "
      ],
      "execution_count": 28,
      "outputs": [
        {
          "output_type": "execute_result",
          "data": {
            "text/plain": [
              "array([[167.77908]], dtype=float32)"
            ]
          },
          "metadata": {
            "tags": []
          },
          "execution_count": 28
        }
      ]
    },
    {
      "cell_type": "code",
      "metadata": {
        "id": "EfgVsqONvzEa"
      },
      "source": [
        "# 실제 키:167.2cm"
      ],
      "execution_count": 29,
      "outputs": []
    }
  ]
}