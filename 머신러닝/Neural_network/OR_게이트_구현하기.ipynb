{
  "nbformat": 4,
  "nbformat_minor": 0,
  "metadata": {
    "colab": {
      "name": "OR 게이트 구현하기.ipynb",
      "provenance": [],
      "collapsed_sections": []
    },
    "kernelspec": {
      "name": "python3",
      "display_name": "Python 3"
    },
    "language_info": {
      "name": "python"
    }
  },
  "cells": [
    {
      "cell_type": "markdown",
      "metadata": {
        "id": "_TlDGqXuQlLV"
      },
      "source": [
        "0702"
      ]
    },
    {
      "cell_type": "markdown",
      "metadata": {
        "id": "-m4rvxGnMbVf"
      },
      "source": [
        "# OR 게이트 구현해보기<br>\n",
        "0, 0 -> 0<br>\n",
        "1, 0 -> 1<br>\n",
        "0, 1 -> 1<br>\n",
        "1, 1 -> 1"
      ]
    },
    {
      "cell_type": "markdown",
      "metadata": {
        "id": "oCYjd386Mq1N"
      },
      "source": [
        "# 데이터 준비하기"
      ]
    },
    {
      "cell_type": "code",
      "metadata": {
        "id": "RQM5fJ-RMt6q"
      },
      "source": [
        "import numpy as np\n",
        "import tensorflow as tf\n",
        "tf.random.set_seed(777)\n",
        "\n",
        "from tensorflow.keras.models import Sequential\n",
        "from tensorflow.keras.layers import Dense\n",
        "from tensorflow.keras.optimizers import SGD\n",
        "from tensorflow.keras.losses import mse"
      ],
      "execution_count": 1,
      "outputs": []
    },
    {
      "cell_type": "code",
      "metadata": {
        "id": "SI3_uROaNW2q"
      },
      "source": [
        "#데이터 준비하기\n",
        "data = np.array([[0,0], [1,0], [0,1], [1,1]]) # OR 연산 학습 데이터\n",
        "# label = np.array([[0], [1], [1], [1]]) # 정답\n",
        "label = np.array([[0], [1], [1], [1]])"
      ],
      "execution_count": 2,
      "outputs": []
    },
    {
      "cell_type": "markdown",
      "metadata": {
        "id": "iyFlpOG7cYJ4"
      },
      "source": [
        ""
      ]
    },
    {
      "cell_type": "markdown",
      "metadata": {
        "id": "EY6icfZCNrFD"
      },
      "source": [
        "# 모델 구성하기"
      ]
    },
    {
      "cell_type": "code",
      "metadata": {
        "id": "_0-N6wmJN1Fi"
      },
      "source": [
        "model = Sequential()\n",
        "model.add(Dense(1, input_shape=(2,), activation='linear')) # 단층 퍼셉트론을 구성"
      ],
      "execution_count": 3,
      "outputs": []
    },
    {
      "cell_type": "markdown",
      "metadata": {
        "id": "JwKxhqp4ObSC"
      },
      "source": [
        "# 모델 설정하기"
      ]
    },
    {
      "cell_type": "code",
      "metadata": {
        "id": "bWX1L70ROcoC"
      },
      "source": [
        "model.compile(optimizer=SGD(), loss=mse, metrics=['acc'])"
      ],
      "execution_count": 4,
      "outputs": []
    },
    {
      "cell_type": "markdown",
      "metadata": {
        "id": "046O6C-AO3Wi"
      },
      "source": [
        "# 모델 확인하기"
      ]
    },
    {
      "cell_type": "code",
      "metadata": {
        "colab": {
          "base_uri": "https://localhost:8080/"
        },
        "id": "CzFzfEb8O6W_",
        "outputId": "1747cdbb-e325-4a22-eda3-cab2ee8bc00d"
      },
      "source": [
        "# 모델 확인하기\n",
        "model.summary()"
      ],
      "execution_count": 5,
      "outputs": [
        {
          "output_type": "stream",
          "text": [
            "Model: \"sequential\"\n",
            "_________________________________________________________________\n",
            "Layer (type)                 Output Shape              Param #   \n",
            "=================================================================\n",
            "dense (Dense)                (None, 1)                 3         \n",
            "=================================================================\n",
            "Total params: 3\n",
            "Trainable params: 3\n",
            "Non-trainable params: 0\n",
            "_________________________________________________________________\n"
          ],
          "name": "stdout"
        }
      ]
    },
    {
      "cell_type": "code",
      "metadata": {
        "colab": {
          "base_uri": "https://localhost:8080/",
          "height": 201
        },
        "id": "_b394gThO96N",
        "outputId": "3a8a6713-d340-4d41-871f-31bc54cd9fac"
      },
      "source": [
        "tf.keras.utils.plot_model(model, show_shapes=True, show_layer_names=True,rankdir='TB', expand_nested=False, dpi=96)\n"
      ],
      "execution_count": 6,
      "outputs": [
        {
          "output_type": "execute_result",
          "data": {
            "image/png": "[encoded data removed]",
            "text/plain": [
              "<IPython.core.display.Image object>"
            ]
          },
          "metadata": {
            "tags": []
          },
          "execution_count": 6
        }
      ]
    },
    {
      "cell_type": "markdown",
      "metadata": {
        "id": "9SFyzc3PPD36"
      },
      "source": [
        "# 모델 학습시키기"
      ]
    },
    {
      "cell_type": "code",
      "metadata": {
        "colab": {
          "base_uri": "https://localhost:8080/"
        },
        "id": "_la-LykUPMrb",
        "outputId": "f33eb8e6-d743-4edf-dd02-714967e99341"
      },
      "source": [
        "history = model.fit(data, label, epochs=40) # 학습 데이터, 정답, 공부 횟수\n",
        "# 문제집(data) 주고 정답지(label) 공부 888번 시킴"
      ],
      "execution_count": 7,
      "outputs": [
        {
          "output_type": "stream",
          "text": [
            "Epoch 1/40\n",
            "1/1 [==============================] - 0s 313ms/step - loss: 1.4290 - acc: 0.5000\n",
            "Epoch 2/40\n",
            "1/1 [==============================] - 0s 5ms/step - loss: 1.3602 - acc: 0.5000\n",
            "Epoch 3/40\n",
            "1/1 [==============================] - 0s 5ms/step - loss: 1.2956 - acc: 0.5000\n",
            "Epoch 4/40\n",
            "1/1 [==============================] - 0s 5ms/step - loss: 1.2349 - acc: 0.5000\n",
            "Epoch 5/40\n",
            "1/1 [==============================] - 0s 4ms/step - loss: 1.1779 - acc: 0.5000\n",
            "Epoch 6/40\n",
            "1/1 [==============================] - 0s 6ms/step - loss: 1.1242 - acc: 0.5000\n",
            "Epoch 7/40\n",
            "1/1 [==============================] - 0s 6ms/step - loss: 1.0738 - acc: 0.5000\n",
            "Epoch 8/40\n",
            "1/1 [==============================] - 0s 8ms/step - loss: 1.0264 - acc: 0.5000\n",
            "Epoch 9/40\n",
            "1/1 [==============================] - 0s 6ms/step - loss: 0.9819 - acc: 0.5000\n",
            "Epoch 10/40\n",
            "1/1 [==============================] - 0s 4ms/step - loss: 0.9399 - acc: 0.5000\n",
            "Epoch 11/40\n",
            "1/1 [==============================] - 0s 6ms/step - loss: 0.9005 - acc: 0.5000\n",
            "Epoch 12/40\n",
            "1/1 [==============================] - 0s 4ms/step - loss: 0.8634 - acc: 0.5000\n",
            "Epoch 13/40\n",
            "1/1 [==============================] - 0s 6ms/step - loss: 0.8284 - acc: 0.5000\n",
            "Epoch 14/40\n",
            "1/1 [==============================] - 0s 4ms/step - loss: 0.7955 - acc: 0.5000\n",
            "Epoch 15/40\n",
            "1/1 [==============================] - 0s 5ms/step - loss: 0.7646 - acc: 0.5000\n",
            "Epoch 16/40\n",
            "1/1 [==============================] - 0s 6ms/step - loss: 0.7354 - acc: 0.5000\n",
            "Epoch 17/40\n",
            "1/1 [==============================] - 0s 6ms/step - loss: 0.7079 - acc: 0.5000\n",
            "Epoch 18/40\n",
            "1/1 [==============================] - 0s 4ms/step - loss: 0.6820 - acc: 0.5000\n",
            "Epoch 19/40\n",
            "1/1 [==============================] - 0s 5ms/step - loss: 0.6576 - acc: 0.5000\n",
            "Epoch 20/40\n",
            "1/1 [==============================] - 0s 5ms/step - loss: 0.6346 - acc: 0.5000\n",
            "Epoch 21/40\n",
            "1/1 [==============================] - 0s 6ms/step - loss: 0.6129 - acc: 0.5000\n",
            "Epoch 22/40\n",
            "1/1 [==============================] - 0s 5ms/step - loss: 0.5925 - acc: 0.5000\n",
            "Epoch 23/40\n",
            "1/1 [==============================] - 0s 13ms/step - loss: 0.5732 - acc: 0.5000\n",
            "Epoch 24/40\n",
            "1/1 [==============================] - 0s 8ms/step - loss: 0.5549 - acc: 0.5000\n",
            "Epoch 25/40\n",
            "1/1 [==============================] - 0s 4ms/step - loss: 0.5377 - acc: 0.5000\n",
            "Epoch 26/40\n",
            "1/1 [==============================] - 0s 7ms/step - loss: 0.5215 - acc: 0.5000\n",
            "Epoch 27/40\n",
            "1/1 [==============================] - 0s 5ms/step - loss: 0.5061 - acc: 0.5000\n",
            "Epoch 28/40\n",
            "1/1 [==============================] - 0s 10ms/step - loss: 0.4916 - acc: 0.5000\n",
            "Epoch 29/40\n",
            "1/1 [==============================] - 0s 5ms/step - loss: 0.4778 - acc: 0.5000\n",
            "Epoch 30/40\n",
            "1/1 [==============================] - 0s 4ms/step - loss: 0.4648 - acc: 0.5000\n",
            "Epoch 31/40\n",
            "1/1 [==============================] - 0s 6ms/step - loss: 0.4525 - acc: 0.7500\n",
            "Epoch 32/40\n",
            "1/1 [==============================] - 0s 5ms/step - loss: 0.4409 - acc: 0.7500\n",
            "Epoch 33/40\n",
            "1/1 [==============================] - 0s 6ms/step - loss: 0.4298 - acc: 0.7500\n",
            "Epoch 34/40\n",
            "1/1 [==============================] - 0s 6ms/step - loss: 0.4193 - acc: 0.7500\n",
            "Epoch 35/40\n",
            "1/1 [==============================] - 0s 5ms/step - loss: 0.4094 - acc: 0.7500\n",
            "Epoch 36/40\n",
            "1/1 [==============================] - 0s 8ms/step - loss: 0.4000 - acc: 0.7500\n",
            "Epoch 37/40\n",
            "1/1 [==============================] - 0s 6ms/step - loss: 0.3911 - acc: 0.7500\n",
            "Epoch 38/40\n",
            "1/1 [==============================] - 0s 4ms/step - loss: 0.3826 - acc: 0.7500\n",
            "Epoch 39/40\n",
            "1/1 [==============================] - 0s 5ms/step - loss: 0.3745 - acc: 0.7500\n",
            "Epoch 40/40\n",
            "1/1 [==============================] - 0s 4ms/step - loss: 0.3668 - acc: 0.7500\n"
          ],
          "name": "stdout"
        }
      ]
    },
    {
      "cell_type": "markdown",
      "metadata": {
        "id": "hxku5kzpPcaA"
      },
      "source": [
        "# 학습 결과 그려보기"
      ]
    },
    {
      "cell_type": "code",
      "metadata": {
        "colab": {
          "base_uri": "https://localhost:8080/",
          "height": 350
        },
        "id": "SQvm-yGpP0Iy",
        "outputId": "0820cc3d-3ffc-4583-c95f-93cc899601eb"
      },
      "source": [
        "import matplotlib.pyplot as plt\n",
        "\n",
        "his_dict = history.history\n",
        "loss = his_dict['loss']\n",
        "\n",
        "epochs = range(1, len(loss) + 1)\n",
        "fig = plt.figure(figsize = (10, 5))\n",
        "\n",
        "# 훈련 및 검증 손실 그리기\n",
        "ax1 = fig.add_subplot(1, 2, 1)\n",
        "ax1.plot(epochs, loss, color = 'orange', label = 'train_loss')\n",
        "ax1.set_title('train loss')\n",
        "ax1.set_xlabel('epochs')\n",
        "ax1.set_ylabel('loss')\n",
        "ax1.legend()\n",
        "\n",
        "acc = his_dict['acc']\n",
        "\n",
        "# 훈련 및 검증 정확도 그리기\n",
        "ax2 = fig.add_subplot(1, 2, 2)\n",
        "ax2.plot(epochs, acc, color = 'blue', label = 'train_accuracy')\n",
        "ax2.set_title('train accuracy')\n",
        "ax2.set_xlabel('epochs')\n",
        "ax2.set_ylabel('accuracy')\n",
        "ax2.legend()\n",
        "\n",
        "plt.show()"
      ],
      "execution_count": 8,
      "outputs": [
        {
          "output_type": "display_data",
          "data": {
            "image/png": "[encoded data removed]",
            "text/plain": [
              "<Figure size 720x360 with 2 Axes>"
            ]
          },
          "metadata": {
            "tags": [],
            "needs_background": "light"
          }
        }
      ]
    },
    {
      "cell_type": "markdown",
      "metadata": {
        "id": "jubCAM2BP4Dz"
      },
      "source": [
        "# 모델 가중치 확인"
      ]
    },
    {
      "cell_type": "code",
      "metadata": {
        "colab": {
          "base_uri": "https://localhost:8080/"
        },
        "id": "oorF5y9BQXfi",
        "outputId": "3000f396-fb63-42be-9a28-486292976de7"
      },
      "source": [
        "model.get_weights()"
      ],
      "execution_count": 9,
      "outputs": [
        {
          "output_type": "execute_result",
          "data": {
            "text/plain": [
              "[array([[ 0.71852523],\n",
              "        [-0.4731414 ]], dtype=float32), array([0.40753067], dtype=float32)]"
            ]
          },
          "metadata": {
            "tags": []
          },
          "execution_count": 9
        }
      ]
    },
    {
      "cell_type": "markdown",
      "metadata": {
        "id": "RypdpEhiQY7j"
      },
      "source": [
        "# 모델 예측하기"
      ]
    },
    {
      "cell_type": "code",
      "metadata": {
        "colab": {
          "base_uri": "https://localhost:8080/"
        },
        "id": "FWZiQkuiQrYT",
        "outputId": "5651238c-a0be-40aa-e30e-fbcbe957d54f"
      },
      "source": [
        "result = model.predict_classes(data)\n",
        "print(result)"
      ],
      "execution_count": 10,
      "outputs": [
        {
          "output_type": "stream",
          "text": [
            "[[0]\n",
            " [1]\n",
            " [0]\n",
            " [1]]\n"
          ],
          "name": "stdout"
        },
        {
          "output_type": "stream",
          "text": [
            "/usr/local/lib/python3.7/dist-packages/tensorflow/python/keras/engine/sequential.py:455: UserWarning: `model.predict_classes()` is deprecated and will be removed after 2021-01-01. Please use instead:* `np.argmax(model.predict(x), axis=-1)`,   if your model does multi-class classification   (e.g. if it uses a `softmax` last-layer activation).* `(model.predict(x) > 0.5).astype(\"int32\")`,   if your model does binary classification   (e.g. if it uses a `sigmoid` last-layer activation).\n",
            "  warnings.warn('`model.predict_classes()` is deprecated and '\n"
          ],
          "name": "stderr"
        }
      ]
    },
    {
      "cell_type": "code",
      "metadata": {
        "id": "1KKNqQY8QvVT"
      },
      "source": [
        ""
      ],
      "execution_count": 10,
      "outputs": []
    }
  ]
}