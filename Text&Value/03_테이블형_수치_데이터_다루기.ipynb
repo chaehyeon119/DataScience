{
  "nbformat": 4,
  "nbformat_minor": 0,
  "metadata": {
    "colab": {
      "name": "03_테이블형 수치 데이터 다루기.ipynb",
      "provenance": [],
      "collapsed_sections": [],
      "authorship_tag": "ABX9TyPt9F/Bm06Fpr2iyNFEwrqu",
      "include_colab_link": true
    },
    "kernelspec": {
      "name": "python3",
      "display_name": "Python 3"
    },
    "language_info": {
      "name": "python"
    }
  },
  "cells": [
    {
      "cell_type": "markdown",
      "metadata": {
        "id": "view-in-github",
        "colab_type": "text"
      },
      "source": [
        "<a href=\"https://colab.research.google.com/github/chaehyeon119/DataScience/blob/main/03_%ED%85%8C%EC%9D%B4%EB%B8%94%ED%98%95_%EC%88%98%EC%B9%98_%EB%8D%B0%EC%9D%B4%ED%84%B0_%EB%8B%A4%EB%A3%A8%EA%B8%B0.ipynb\" target=\"_parent\"><img src=\"https://colab.research.google.com/assets/colab-badge.svg\" alt=\"Open In Colab\"/></a>"
      ]
    },
    {
      "cell_type": "markdown",
      "metadata": {
        "id": "K6t0t1iSi3ny"
      },
      "source": [
        "10개의 양수로 된 간단한 numpy 배열 만들기"
      ]
    },
    {
      "cell_type": "code",
      "metadata": {
        "colab": {
          "base_uri": "https://localhost:8080/"
        },
        "id": "wuO-kPCei94A",
        "outputId": "f6615db0-44bf-4ec1-d39c-449e64d6ce55"
      },
      "source": [
        "import numpy as np\n",
        "numbers= np.array(range(1,11), copy=True)\n",
        "numbers"
      ],
      "execution_count": null,
      "outputs": [
        {
          "output_type": "execute_result",
          "data": {
            "text/plain": [
              "array([ 1,  2,  3,  4,  5,  6,  7,  8,  9, 10])"
            ]
          },
          "metadata": {
            "tags": []
          },
          "execution_count": 3
        }
      ]
    },
    {
      "cell_type": "markdown",
      "metadata": {
        "id": "imFoOWyRj1_K"
      },
      "source": [
        "ones() -> 1, zeros() -> 0, empty() -> 아직 생성되지 않은 엔트리로 구성 \n",
        "https://numpy.org/doc/stable/reference/generated/numpy.array.html\n"
      ]
    },
    {
      "cell_type": "code",
      "metadata": {
        "colab": {
          "base_uri": "https://localhost:8080/"
        },
        "id": "HfbPgtgLkoSX",
        "outputId": "b8bc21fb-b1f1-4b89-a2a2-049758abca7c"
      },
      "source": [
        "# 아직 생성되지 않은 엔트리로 구성된 배열을 1로 채움\n",
        "ones=np.ones([2,4], dtype=np.float64)\n",
        "ones"
      ],
      "execution_count": null,
      "outputs": [
        {
          "output_type": "execute_result",
          "data": {
            "text/plain": [
              "array([[1., 1., 1., 1.],\n",
              "       [1., 1., 1., 1.]])"
            ]
          },
          "metadata": {
            "tags": []
          },
          "execution_count": 8
        }
      ]
    },
    {
      "cell_type": "code",
      "metadata": {
        "colab": {
          "base_uri": "https://localhost:8080/"
        },
        "id": "DXcXeoTqlQB4",
        "outputId": "4a2ba592-68c7-483e-d4f7-f8e9ed0abc04"
      },
      "source": [
        "# 아직 생성되지 않은 엔트리로 구성된 배열을 0로 채움\n",
        "zeros=np.zeros([2,4], dtype=np.float64)\n",
        "zeros"
      ],
      "execution_count": null,
      "outputs": [
        {
          "output_type": "execute_result",
          "data": {
            "text/plain": [
              "array([[0., 0., 0., 0.],\n",
              "       [0., 0., 0., 0.]])"
            ]
          },
          "metadata": {
            "tags": []
          },
          "execution_count": 10
        }
      ]
    },
    {
      "cell_type": "code",
      "metadata": {
        "colab": {
          "base_uri": "https://localhost:8080/"
        },
        "id": "lurWSE14ldCw",
        "outputId": "f9e3232e-673f-4ce0-93d6-c89e6dc85fa6"
      },
      "source": [
        "#아직 생성되지 않은 엔트리로 구성된 배열\n",
        "empty=np.empty([2,4], dtype=np.float64)\n",
        "empty"
      ],
      "execution_count": null,
      "outputs": [
        {
          "output_type": "execute_result",
          "data": {
            "text/plain": [
              "array([[0., 0., 0., 0.],\n",
              "       [0., 0., 0., 0.]])"
            ]
          },
          "metadata": {
            "tags": []
          },
          "execution_count": 12
        }
      ]
    },
    {
      "cell_type": "markdown",
      "metadata": {
        "id": "s1dRqGJHmFBe"
      },
      "source": [
        "데이터 확인하기"
      ]
    },
    {
      "cell_type": "code",
      "metadata": {
        "colab": {
          "base_uri": "https://localhost:8080/"
        },
        "id": "76-PYcHcmJSY",
        "outputId": "45a1482f-3c63-4114-d0a3-e55b92367b57"
      },
      "source": [
        "#데이터 업로드 된 다음에 잘 들어왔는지 확인할 때 shape 꼭 활용\n",
        "ones.shape"
      ],
      "execution_count": null,
      "outputs": [
        {
          "output_type": "execute_result",
          "data": {
            "text/plain": [
              "(2, 4)"
            ]
          },
          "metadata": {
            "tags": []
          },
          "execution_count": 14
        }
      ]
    },
    {
      "cell_type": "code",
      "metadata": {
        "colab": {
          "base_uri": "https://localhost:8080/"
        },
        "id": "ZCQuY7cUmdGC",
        "outputId": "e7dc724e-892b-424d-bc4b-73045b9127b9"
      },
      "source": [
        "#ndim은 넘파이의 차원을 보는 것-> 2는 2차원이다\n",
        "ones.ndim"
      ],
      "execution_count": null,
      "outputs": [
        {
          "output_type": "execute_result",
          "data": {
            "text/plain": [
              "2"
            ]
          },
          "metadata": {
            "tags": []
          },
          "execution_count": 16
        }
      ]
    },
    {
      "cell_type": "code",
      "metadata": {
        "colab": {
          "base_uri": "https://localhost:8080/"
        },
        "id": "7sDMU7qAmkzN",
        "outputId": "9088e535-7341-41a4-c8af-045c98b2c9de"
      },
      "source": [
        "ones.dtype\n",
        "#float -> 소수점으로 이루어져있다는 것을 알 수 있음"
      ],
      "execution_count": null,
      "outputs": [
        {
          "output_type": "execute_result",
          "data": {
            "text/plain": [
              "dtype('float64')"
            ]
          },
          "metadata": {
            "tags": []
          },
          "execution_count": 18
        }
      ]
    },
    {
      "cell_type": "code",
      "metadata": {
        "colab": {
          "base_uri": "https://localhost:8080/"
        },
        "id": "YpknM9YBmmSf",
        "outputId": "abb32f12-1b65-45a0-cd85-febf95bd6cb6"
      },
      "source": [
        "numbers.dtype"
      ],
      "execution_count": null,
      "outputs": [
        {
          "output_type": "execute_result",
          "data": {
            "text/plain": [
              "dtype('int64')"
            ]
          },
          "metadata": {
            "tags": []
          },
          "execution_count": 20
        }
      ]
    },
    {
      "cell_type": "markdown",
      "metadata": {
        "id": "ph0Id07Xmw0H"
      },
      "source": [
        "arange(start, stop, step, dtype=None) 일정 간격으로 배열 생성하는 함수\n"
      ]
    },
    {
      "cell_type": "code",
      "metadata": {
        "colab": {
          "base_uri": "https://localhost:8080/"
        },
        "id": "Y8GBhdvMnImH",
        "outputId": "5d8c63c2-06a9-436c-a960-79baf0cbf53d"
      },
      "source": [
        "np_numbers=np.arange(2,5,0.25)\n",
        "np_numbers"
      ],
      "execution_count": null,
      "outputs": [
        {
          "output_type": "execute_result",
          "data": {
            "text/plain": [
              "array([2.  , 2.25, 2.5 , 2.75, 3.  , 3.25, 3.5 , 3.75, 4.  , 4.25, 4.5 ,\n",
              "       4.75])"
            ]
          },
          "metadata": {
            "tags": []
          },
          "execution_count": 22
        }
      ]
    },
    {
      "cell_type": "markdown",
      "metadata": {
        "id": "Xt4p_-IInrU_"
      },
      "source": [
        "astype(dtype, casting=\"unsafe\", copy=True) 아이템의 타입 변경해 주는 함수"
      ]
    },
    {
      "cell_type": "code",
      "metadata": {
        "colab": {
          "base_uri": "https://localhost:8080/"
        },
        "id": "KNogQ0GQntXR",
        "outputId": "540a907d-6d86-4a03-b6f7-3d68099fea4a"
      },
      "source": [
        "np_numbers=np_numbers.astype(np.int)\n",
        "np_numbers.dtype"
      ],
      "execution_count": null,
      "outputs": [
        {
          "output_type": "execute_result",
          "data": {
            "text/plain": [
              "dtype('int64')"
            ]
          },
          "metadata": {
            "tags": []
          },
          "execution_count": 25
        }
      ]
    },
    {
      "cell_type": "markdown",
      "metadata": {
        "id": "GcE8U1Q2oSvr"
      },
      "source": [
        "reshape(d0, d1, ...) 대상 배열의 모양을 바꿔주는 함수\n"
      ]
    },
    {
      "cell_type": "code",
      "metadata": {
        "colab": {
          "base_uri": "https://localhost:8080/"
        },
        "id": "hzPENstWop15",
        "outputId": "44bd2f11-e3d4-4524-e3fa-05b9c95a3006"
      },
      "source": [
        "# 몇 가지 S&P 주식 기호들\n",
        "sap = np.array([\"MMM\", \"ABT\", \"ABBV\", \"ACN\", \"ACE\", \"ATVI\", \"ADBE\", \"ADT\"])\n",
        "sap #U4 는 4글자 유니코드\n",
        "#ATVI가 4글자라 U4"
      ],
      "execution_count": null,
      "outputs": [
        {
          "output_type": "execute_result",
          "data": {
            "text/plain": [
              "array(['MMM', 'ABT', 'ABBV', 'ACN', 'ACE', 'ATVI', 'ADBE', 'ADT'],\n",
              "      dtype='<U4')"
            ]
          },
          "metadata": {
            "tags": []
          },
          "execution_count": 27
        }
      ]
    },
    {
      "cell_type": "code",
      "metadata": {
        "colab": {
          "base_uri": "https://localhost:8080/"
        },
        "id": "HfAT4Fj_osHM",
        "outputId": "085669f9-50de-40f2-d788-c5fdb6725349"
      },
      "source": [
        "sap.shape"
      ],
      "execution_count": null,
      "outputs": [
        {
          "output_type": "execute_result",
          "data": {
            "text/plain": [
              "(8,)"
            ]
          },
          "metadata": {
            "tags": []
          },
          "execution_count": 28
        }
      ]
    },
    {
      "cell_type": "code",
      "metadata": {
        "colab": {
          "base_uri": "https://localhost:8080/"
        },
        "id": "q2nqQ7oMpCsa",
        "outputId": "a8bc0986-fedc-43fa-c514-f521ea6d61bc"
      },
      "source": [
        "sap2d=sap.reshape(2,4)\n",
        "sap2d"
      ],
      "execution_count": null,
      "outputs": [
        {
          "output_type": "execute_result",
          "data": {
            "text/plain": [
              "array([['MMM', 'ABT', 'ABBV', 'ACN'],\n",
              "       ['ACE', 'ATVI', 'ADBE', 'ADT']], dtype='<U4')"
            ]
          },
          "metadata": {
            "tags": []
          },
          "execution_count": 30
        }
      ]
    },
    {
      "cell_type": "code",
      "metadata": {
        "colab": {
          "base_uri": "https://localhost:8080/"
        },
        "id": "3fStpT2Zpfpn",
        "outputId": "2e2baf2b-b772-4629-cb52-f54664416eb6"
      },
      "source": [
        "# 기존 배열과 새로운 배열의 아이템의 개수는 항상 동일 해야 함\n",
        "# numpy 보존의 법칙 성립\n",
        "sap3d=sap.reshape(2,2,2) #3차원으로 변경\n",
        "sap3d"
      ],
      "execution_count": null,
      "outputs": [
        {
          "output_type": "execute_result",
          "data": {
            "text/plain": [
              "array([[['MMM', 'ABT'],\n",
              "        ['ABBV', 'ACN']],\n",
              "\n",
              "       [['ACE', 'ATVI'],\n",
              "        ['ADBE', 'ADT']]], dtype='<U4')"
            ]
          },
          "metadata": {
            "tags": []
          },
          "execution_count": 33
        }
      ]
    },
    {
      "cell_type": "code",
      "metadata": {
        "colab": {
          "base_uri": "https://localhost:8080/"
        },
        "id": "9T8knLgApxfv",
        "outputId": "3db72f6c-7a4d-4ce9-c9f1-ef25f8072b61"
      },
      "source": [
        "sap3d[0] #첫번째 차원"
      ],
      "execution_count": null,
      "outputs": [
        {
          "output_type": "execute_result",
          "data": {
            "text/plain": [
              "array([['MMM', 'ABT'],\n",
              "       ['ABBV', 'ACN']], dtype='<U4')"
            ]
          },
          "metadata": {
            "tags": []
          },
          "execution_count": 34
        }
      ]
    },
    {
      "cell_type": "code",
      "metadata": {
        "colab": {
          "base_uri": "https://localhost:8080/"
        },
        "id": "bsr-30ZNp0Wg",
        "outputId": "68fdaf1e-8c8a-432f-888e-d6e834695a61"
      },
      "source": [
        "sap3d[1] #두번째 차원"
      ],
      "execution_count": null,
      "outputs": [
        {
          "output_type": "execute_result",
          "data": {
            "text/plain": [
              "array([['ACE', 'ATVI'],\n",
              "       ['ADBE', 'ADT']], dtype='<U4')"
            ]
          },
          "metadata": {
            "tags": []
          },
          "execution_count": 35
        }
      ]
    },
    {
      "cell_type": "code",
      "metadata": {
        "colab": {
          "base_uri": "https://localhost:8080/",
          "height": 172
        },
        "id": "Ly84pdwKp4ED",
        "outputId": "9fda8da8-3963-434d-84b6-531945f61054"
      },
      "source": [
        "sap3d[2] #세번쨰 차원 -> 없음"
      ],
      "execution_count": null,
      "outputs": [
        {
          "output_type": "error",
          "ename": "IndexError",
          "evalue": "ignored",
          "traceback": [
            "\u001b[0;31m---------------------------------------------------------------------------\u001b[0m",
            "\u001b[0;31mIndexError\u001b[0m                                Traceback (most recent call last)",
            "\u001b[0;32m<ipython-input-36-8e0233871027>\u001b[0m in \u001b[0;36m<module>\u001b[0;34m()\u001b[0m\n\u001b[0;32m----> 1\u001b[0;31m \u001b[0msap3d\u001b[0m\u001b[0;34m[\u001b[0m\u001b[0;36m2\u001b[0m\u001b[0;34m]\u001b[0m \u001b[0;31m#3차원 -> 없음\u001b[0m\u001b[0;34m\u001b[0m\u001b[0;34m\u001b[0m\u001b[0m\n\u001b[0m",
            "\u001b[0;31mIndexError\u001b[0m: index 2 is out of bounds for axis 0 with size 2"
          ]
        }
      ]
    },
    {
      "cell_type": "markdown",
      "metadata": {
        "id": "9sLtcQfaqj2c"
      },
      "source": [
        "데이터 클리닝(data cleaning)을 위해 사용 되는 boolean indexing\n"
      ]
    },
    {
      "cell_type": "code",
      "metadata": {
        "colab": {
          "base_uri": "https://localhost:8080/"
        },
        "id": "9sF8TDKVrbsJ",
        "outputId": "837565e4-c8dd-486a-938e-9e9fb799e641"
      },
      "source": [
        "#절대 음수 값이 와서는 안되는 데이터셋\n",
        "dirty=np.array([9,4,1,-0.01,-0.02,-0.001])\n",
        "whos_dirty= dirty  < 0 #boolean indexing\n",
        "whos_dirty\n",
        "#음수값을 왜 true로 만들엇는지 dirty <0로 했늦지 생각해보기\n",
        "#항상 프로세스는 그 값이 true일 떄 하기 때문에 지우고 싶은 것들을 true로 줘야함"
      ],
      "execution_count": null,
      "outputs": [
        {
          "output_type": "execute_result",
          "data": {
            "text/plain": [
              "array([False, False, False,  True,  True,  True])"
            ]
          },
          "metadata": {
            "tags": []
          },
          "execution_count": 40
        }
      ]
    },
    {
      "cell_type": "code",
      "metadata": {
        "colab": {
          "base_uri": "https://localhost:8080/"
        },
        "id": "jSath_kGsZgT",
        "outputId": "aeac70a2-f545-42d3-83f4-8642784f6d1a"
      },
      "source": [
        "dirty[whos_dirty]=0 #모든 음수 값을 0으로 바꿈\n",
        "dirty"
      ],
      "execution_count": null,
      "outputs": [
        {
          "output_type": "execute_result",
          "data": {
            "text/plain": [
              "array([9., 4., 1., 0., 0., 0.])"
            ]
          },
          "metadata": {
            "tags": []
          },
          "execution_count": 41
        }
      ]
    },
    {
      "cell_type": "markdown",
      "metadata": {
        "id": "v4Vkro8WxiVP"
      },
      "source": [
        "논리 연산자 | or, & and, - not 결합하여 boolean indexing 사용\n"
      ]
    },
    {
      "cell_type": "code",
      "metadata": {
        "colab": {
          "base_uri": "https://localhost:8080/"
        },
        "id": "XDxn6T9BxkJ-",
        "outputId": "a83a45b4-9462-42d5-8f39-5a006f68a5cf"
      },
      "source": [
        "linear=np.arange(-1, 1.1, 0.2)\n",
        "linear"
      ],
      "execution_count": null,
      "outputs": [
        {
          "output_type": "execute_result",
          "data": {
            "text/plain": [
              "array([-1.00000000e+00, -8.00000000e-01, -6.00000000e-01, -4.00000000e-01,\n",
              "       -2.00000000e-01, -2.22044605e-16,  2.00000000e-01,  4.00000000e-01,\n",
              "        6.00000000e-01,  8.00000000e-01,  1.00000000e+00])"
            ]
          },
          "metadata": {
            "tags": []
          },
          "execution_count": 43
        }
      ]
    },
    {
      "cell_type": "code",
      "metadata": {
        "colab": {
          "base_uri": "https://localhost:8080/"
        },
        "id": "qUz3o6rgx0tu",
        "outputId": "d1e9db1c-5334-49eb-8099-766513e1fee7"
      },
      "source": [
        "#-0.5~0.5 사이의 값-> 0으로 변경하고 싶음\n",
        "#연산이 여러 개 있을때 ()를 씌우는 습관 기르기\n",
        "whos_linear=(linear <=0.5) & (linear >= -0.5)\n",
        "whos_linear"
      ],
      "execution_count": null,
      "outputs": [
        {
          "output_type": "execute_result",
          "data": {
            "text/plain": [
              "array([False, False, False,  True,  True,  True,  True,  True, False,\n",
              "       False, False])"
            ]
          },
          "metadata": {
            "tags": []
          },
          "execution_count": 45
        }
      ]
    },
    {
      "cell_type": "code",
      "metadata": {
        "colab": {
          "base_uri": "https://localhost:8080/"
        },
        "id": "CdrCI3M8y1lZ",
        "outputId": "9b54356a-c475-48cd-8c1d-5761f5cbe4f4"
      },
      "source": [
        "linear[whos_linear]=0\n",
        "linear"
      ],
      "execution_count": null,
      "outputs": [
        {
          "output_type": "execute_result",
          "data": {
            "text/plain": [
              "array([-1. , -0.8, -0.6,  0. ,  0. ,  0. ,  0. ,  0. ,  0.6,  0.8,  1. ])"
            ]
          },
          "metadata": {
            "tags": []
          },
          "execution_count": 47
        }
      ]
    },
    {
      "cell_type": "markdown",
      "metadata": {
        "id": "FRALfQuDzGD7"
      },
      "source": [
        "스마트 인덱싱"
      ]
    },
    {
      "cell_type": "code",
      "metadata": {
        "colab": {
          "base_uri": "https://localhost:8080/"
        },
        "id": "57oo-DcizI0E",
        "outputId": "e6a03ec3-aabe-4876-8fe3-885218f40232"
      },
      "source": [
        "#S&P 리스트에서 두번째, 세번째, 마지막 주식 기호를 추출\n",
        "sap[[1,2,-1]] #두번째, 세번째, 마지막"
      ],
      "execution_count": null,
      "outputs": [
        {
          "output_type": "execute_result",
          "data": {
            "text/plain": [
              "array(['ABT', 'ABBV', 'ADT'], dtype='<U4')"
            ]
          },
          "metadata": {
            "tags": []
          },
          "execution_count": 50
        }
      ]
    },
    {
      "cell_type": "code",
      "metadata": {
        "colab": {
          "base_uri": "https://localhost:8080/"
        },
        "id": "Q2W72rVazeIA",
        "outputId": "e19b56c9-f48f-4011-f7c0-04e202183547"
      },
      "source": [
        "sap2d"
      ],
      "execution_count": null,
      "outputs": [
        {
          "output_type": "execute_result",
          "data": {
            "text/plain": [
              "array([['MMM', 'ABT', 'ABBV', 'ACN'],\n",
              "       ['ACE', 'ATVI', 'ADBE', 'ADT']], dtype='<U4')"
            ]
          },
          "metadata": {
            "tags": []
          },
          "execution_count": 52
        }
      ]
    },
    {
      "cell_type": "code",
      "metadata": {
        "colab": {
          "base_uri": "https://localhost:8080/"
        },
        "id": "ILOcD07_zl2E",
        "outputId": "c5a9701a-f3c6-4d12-e25e-bd1128b76a93"
      },
      "source": [
        "sap2d[:, [1]]"
      ],
      "execution_count": null,
      "outputs": [
        {
          "output_type": "execute_result",
          "data": {
            "text/plain": [
              "array([['ABT'],\n",
              "       ['ATVI']], dtype='<U4')"
            ]
          },
          "metadata": {
            "tags": []
          },
          "execution_count": 54
        }
      ]
    },
    {
      "cell_type": "code",
      "metadata": {
        "colab": {
          "base_uri": "https://localhost:8080/"
        },
        "id": "MSs6Wn9vzz0K",
        "outputId": "32e69b1f-da03-4103-d54b-00c3862ae773"
      },
      "source": [
        "sap2d[:,1]\n",
        "#[]로 안 감싸면 1차원으로 배열함"
      ],
      "execution_count": null,
      "outputs": [
        {
          "output_type": "execute_result",
          "data": {
            "text/plain": [
              "array(['ABT', 'ATVI'], dtype='<U4')"
            ]
          },
          "metadata": {
            "tags": []
          },
          "execution_count": 56
        }
      ]
    },
    {
      "cell_type": "markdown",
      "metadata": {
        "id": "We9gV0u00CVk"
      },
      "source": [
        "차원만 같다면 numpy에서는 사칙연산 가능 (그낭 더하기) -> 브로드캐스팅\n"
      ]
    },
    {
      "cell_type": "code",
      "metadata": {
        "colab": {
          "base_uri": "https://localhost:8080/"
        },
        "id": "-GxBf7710Drl",
        "outputId": "97ed2368-c0bc-47bd-8e41-d2f5c3902b06"
      },
      "source": [
        "a = np.arange(4)\n",
        "b = np.arange(1,5)\n",
        "\n",
        "print(a)\n",
        "print(b)"
      ],
      "execution_count": null,
      "outputs": [
        {
          "output_type": "stream",
          "text": [
            "[0 1 2 3]\n",
            "[1 2 3 4]\n"
          ],
          "name": "stdout"
        }
      ]
    },
    {
      "cell_type": "code",
      "metadata": {
        "colab": {
          "base_uri": "https://localhost:8080/"
        },
        "id": "8MyXB7YC0csS",
        "outputId": "edd26e5a-1123-4665-8ae2-c1499d568f54"
      },
      "source": [
        "a+b"
      ],
      "execution_count": null,
      "outputs": [
        {
          "output_type": "execute_result",
          "data": {
            "text/plain": [
              "array([1, 3, 5, 7])"
            ]
          },
          "metadata": {
            "tags": []
          },
          "execution_count": 60
        }
      ]
    },
    {
      "cell_type": "code",
      "metadata": {
        "colab": {
          "base_uri": "https://localhost:8080/"
        },
        "id": "NVy2B1wY0pNb",
        "outputId": "c4e55077-e9e7-433a-faec-d97ed15e88f0"
      },
      "source": [
        "a*5"
      ],
      "execution_count": null,
      "outputs": [
        {
          "output_type": "execute_result",
          "data": {
            "text/plain": [
              "array([ 0,  5, 10, 15])"
            ]
          },
          "metadata": {
            "tags": []
          },
          "execution_count": 62
        }
      ]
    },
    {
      "cell_type": "code",
      "metadata": {
        "colab": {
          "base_uri": "https://localhost:8080/"
        },
        "id": "bsAEzxSE1UkN",
        "outputId": "d9c01208-9118-4100-9257-5416720534e8"
      },
      "source": [
        "noise=np.eye(4)\n",
        "noise"
      ],
      "execution_count": null,
      "outputs": [
        {
          "output_type": "execute_result",
          "data": {
            "text/plain": [
              "array([[1., 0., 0., 0.],\n",
              "       [0., 1., 0., 0.],\n",
              "       [0., 0., 1., 0.],\n",
              "       [0., 0., 0., 1.]])"
            ]
          },
          "metadata": {
            "tags": []
          },
          "execution_count": 63
        }
      ]
    },
    {
      "cell_type": "code",
      "metadata": {
        "colab": {
          "base_uri": "https://localhost:8080/"
        },
        "id": "RfnRFR2h1Yul",
        "outputId": "cd4c1726-2caf-4ea7-bf21-c803b806e45c"
      },
      "source": [
        "noise=np.eye(4) + 0.01 * np.random.random([4,4])\n",
        "noise"
      ],
      "execution_count": null,
      "outputs": [
        {
          "output_type": "execute_result",
          "data": {
            "text/plain": [
              "array([[1.00309933e+00, 3.44267909e-03, 7.27099203e-03, 2.05673204e-03],\n",
              "       [3.38056082e-03, 1.00025452e+00, 2.06173659e-03, 7.20946321e-03],\n",
              "       [1.12417721e-03, 4.86302525e-03, 1.00127557e+00, 9.85716824e-04],\n",
              "       [2.95457981e-03, 8.17651454e-03, 2.09843078e-03, 1.00469051e+00]])"
            ]
          },
          "metadata": {
            "tags": []
          },
          "execution_count": 64
        }
      ]
    }
  ]
}
