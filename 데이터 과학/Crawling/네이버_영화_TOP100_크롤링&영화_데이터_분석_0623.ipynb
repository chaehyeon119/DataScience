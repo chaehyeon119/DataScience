{
  "nbformat": 4,
  "nbformat_minor": 0,
  "metadata": {
    "colab": {
      "name": "네이버 영화 TOP100 크롤링&영화 데이터 분석_0623.ipynb",
      "provenance": [],
      "collapsed_sections": []
    },
    "kernelspec": {
      "name": "python3",
      "display_name": "Python 3"
    },
    "language_info": {
      "name": "python"
    }
  },
  "cells": [
    {
      "cell_type": "markdown",
      "metadata": {
        "id": "8K8iClQ9nhjA"
      },
      "source": [
        "0623"
      ]
    },
    {
      "cell_type": "markdown",
      "metadata": {
        "id": "KPc2ipwSjppo"
      },
      "source": [
        "#네이버 영화 TOP 100 크롤링"
      ]
    },
    {
      "cell_type": "markdown",
      "metadata": {
        "id": "1DfYOXbEiVC2"
      },
      "source": [
        "네이버 영화 TOP 100  크롤링 순서<br>\n",
        "1) 네이버 영화 TOP 100 페이지 별 링크 수집<br>\n",
        "2) 수집된 영화 링크에 접속하여 영화 정보(제목, 평점, 장르, 줄거리) 크롤링<br>\n",
        "3) 데이터 분석에 필요한 CSV 파일로 저장"
      ]
    },
    {
      "cell_type": "markdown",
      "metadata": {
        "id": "UxHq4Dt2jsAY"
      },
      "source": [
        "라이브러리 설치"
      ]
    },
    {
      "cell_type": "code",
      "metadata": {
        "colab": {
          "base_uri": "https://localhost:8080/"
        },
        "id": "FVanmxXRnnsw",
        "outputId": "25794539-e52f-40d1-8a06-b4f930f0e9d9"
      },
      "source": [
        "# 링크 수집을 위한 라이브러리 설치\n",
        "!pip install selenium"
      ],
      "execution_count": 1,
      "outputs": [
        {
          "output_type": "stream",
          "text": [
            "Requirement already satisfied: selenium in /usr/local/lib/python3.7/dist-packages (3.141.0)\n",
            "Requirement already satisfied: urllib3 in /usr/local/lib/python3.7/dist-packages (from selenium) (1.24.3)\n"
          ],
          "name": "stdout"
        }
      ]
    },
    {
      "cell_type": "markdown",
      "metadata": {
        "id": "y8vohoqlnu6Q"
      },
      "source": [
        "라이브러리 임포트"
      ]
    },
    {
      "cell_type": "code",
      "metadata": {
        "id": "EhrLWevZn9Zn"
      },
      "source": [
        "from bs4 import BeautifulSoup\n",
        "import requests\n",
        "from selenium import webdriver as wd\n",
        "from selenium.webdriver.common.keys import Keys\n",
        "import time\n",
        "import re\n",
        "import pandas as pd"
      ],
      "execution_count": 2,
      "outputs": []
    },
    {
      "cell_type": "code",
      "metadata": {
        "colab": {
          "base_uri": "https://localhost:8080/"
        },
        "id": "15J3RD6goUQy",
        "outputId": "64acaa01-f4e2-4c79-85e1-c725902ff567"
      },
      "source": [
        "# install chromium, its driver, and selenium\n",
        "!apt-get update\n",
        "!apt install chromium-chromedriver\n",
        "!cp /usr/lib/chromium-browser/chromedriver /usr/bin\n",
        "!pip install selenium\n",
        "# set options to be headless, ..\n",
        "from selenium import webdriver\n",
        "options = webdriver.ChromeOptions()\n",
        "options.add_argument('--headless')\n",
        "options.add_argument('--no-sandbox')\n",
        "options.add_argument('--disable-dev-shm-usage')\n",
        "\n",
        "driver = webdriver.Chrome('chromedriver',options=options)\n"
      ],
      "execution_count": 3,
      "outputs": [
        {
          "output_type": "stream",
          "text": [
            "\r0% [Working]\r            \rGet:1 http://security.ubuntu.com/ubuntu bionic-security InRelease [88.7 kB]\n",
            "\r0% [Connecting to archive.ubuntu.com (91.189.88.142)] [1 InRelease 8,378 B/88.7\r                                                                               \rIgn:2 https://developer.download.nvidia.com/compute/cuda/repos/ubuntu1804/x86_64  InRelease\n",
            "\r0% [Connecting to archive.ubuntu.com (91.189.88.142)] [1 InRelease 75.0 kB/88.7\r0% [Connecting to archive.ubuntu.com (91.189.88.142)] [Waiting for headers] [Wa\r                                                                               \rHit:3 https://cloud.r-project.org/bin/linux/ubuntu bionic-cran40/ InRelease\n",
            "Ign:4 https://developer.download.nvidia.com/compute/machine-learning/repos/ubuntu1804/x86_64  InRelease\n",
            "Hit:5 https://developer.download.nvidia.com/compute/cuda/repos/ubuntu1804/x86_64  Release\n",
            "Hit:6 http://ppa.launchpad.net/c2d4u.team/c2d4u4.0+/ubuntu bionic InRelease\n",
            "Hit:7 https://developer.download.nvidia.com/compute/machine-learning/repos/ubuntu1804/x86_64  Release\n",
            "Hit:8 http://archive.ubuntu.com/ubuntu bionic InRelease\n",
            "Get:9 http://archive.ubuntu.com/ubuntu bionic-updates InRelease [88.7 kB]\n",
            "Hit:10 http://ppa.launchpad.net/cran/libgit2/ubuntu bionic InRelease\n",
            "Hit:11 http://ppa.launchpad.net/deadsnakes/ppa/ubuntu bionic InRelease\n",
            "Get:12 http://archive.ubuntu.com/ubuntu bionic-backports InRelease [74.6 kB]\n",
            "Hit:13 http://ppa.launchpad.net/graphics-drivers/ppa/ubuntu bionic InRelease\n",
            "Get:16 http://archive.ubuntu.com/ubuntu bionic-updates/universe amd64 Packages [2,188 kB]\n",
            "Get:17 http://archive.ubuntu.com/ubuntu bionic-updates/main amd64 Packages [2,652 kB]\n",
            "Fetched 5,093 kB in 3s (1,660 kB/s)\n",
            "Reading package lists... Done\n",
            "Reading package lists... Done\n",
            "Building dependency tree       \n",
            "Reading state information... Done\n",
            "chromium-chromedriver is already the newest version (91.0.4472.101-0ubuntu0.18.04.1).\n",
            "0 upgraded, 0 newly installed, 0 to remove and 70 not upgraded.\n",
            "cp: '/usr/lib/chromium-browser/chromedriver' and '/usr/bin/chromedriver' are the same file\n",
            "Requirement already satisfied: selenium in /usr/local/lib/python3.7/dist-packages (3.141.0)\n",
            "Requirement already satisfied: urllib3 in /usr/local/lib/python3.7/dist-packages (from selenium) (1.24.3)\n"
          ],
          "name": "stdout"
        }
      ]
    },
    {
      "cell_type": "markdown",
      "metadata": {
        "id": "9Me2melwoXco"
      },
      "source": [
        "분석할 데이터 모으기(크롤링)"
      ]
    },
    {
      "cell_type": "markdown",
      "metadata": {
        "id": "AdiFeNjVryug"
      },
      "source": [
        "네이버 영화 TOP 100 페이지별 링크 수집"
      ]
    },
    {
      "cell_type": "markdown",
      "metadata": {
        "id": "8WRVemt19xfy"
      },
      "source": [
        "https://serieson.naver.com/movie/top100List.nhn?&rankingTypeCode=PC_R&page=(1,5) 실시간\n",
        "https://serieson.naver.com/movie/top100List.nhn?&rankingTypeCode=PC_D&page=(1,5) 일간\n",
        "https://serieson.naver.com/movie/top100List.nhn?&rankingTypeCode=PC_W&page=(1,5) 주간\n",
        "https://serieson.naver.com/movie/top100List.nhn?&rankingTypeCode=PC_M&page=(1,5) 월간\n"
      ]
    },
    {
      "cell_type": "code",
      "metadata": {
        "id": "_etkjGp8r2OJ"
      },
      "source": [
        "\n",
        "\n",
        "def getPageLinksWantRange(startPageNo, lastPageNo) :\n",
        "  links = [] # 100개의 영화 링크를 수집할 리스트 변수 선언\n",
        "  \n",
        "  for pageNo in range(startPageNo -1, lastPageNo) :\n",
        "    # 실수간 TOP 100 영화 링크 수집\n",
        "    url = 'https://serieson.naver.com/movie/top100List.nhn?&rankingTypeCode=PC_M&page='+ str(pageNo + 1)\n",
        "\n",
        "    req = requests.get(url) #requests.get(a) -> a의 정보를 받아올 수 있게 함 ==> 페이지 접속\n",
        "    soup = BeautifulSoup(req.text, 'lxml') # html 파싱을 위한 객체 생성\n",
        "    movielinks = soup.select('div.lst_thum_wrap ul li a[href]')\n",
        "    # <div class=\"lst_thum_wrap\"> -> <ul> -> <li> -> <a href =\"\">\n",
        "    # select는 무언갈 찾는 함수\n",
        "\n",
        "    for movielink in movielinks :\n",
        "      link = str(movielink.get('href'))\n",
        "      links.append('http://series.naver.com' + link)\n",
        "      # 풀링크를 만들 수 있게 됨(접속할 수 있는 전체 링크 형태로 변환)\n",
        "      \n",
        "  return links\n",
        "\n",
        "\n"
      ],
      "execution_count": 4,
      "outputs": []
    },
    {
      "cell_type": "markdown",
      "metadata": {
        "id": "ZvFA8BEtxpRg"
      },
      "source": [
        "#네이버 영화 제목, 평점, 장르, 줄거리 크롤링"
      ]
    },
    {
      "cell_type": "code",
      "metadata": {
        "id": "f1BgtmYkylF8"
      },
      "source": [
        "def getMovieDataFromNaverSeries(links):\n",
        "  title_infos = []   # 제목\n",
        "  content_infos = [] # 줄거리\n",
        "  genre_infos = []   # 장르\n",
        "  score_infos = []   # 평점\n",
        "  date_infos = []    # 개봉일\n",
        "\n",
        "  url2 = 'https://www.naver.com'\n",
        "\n",
        "  driver = webdriver.Chrome('chromedriver', options=options) # 가상의 driver를 만듦\n",
        "  driver.get(url2)\n",
        "  time.sleep(3.0) # 3초 sleep : 시간을 벌어주는 역할\n",
        "\n",
        "  driver.find_element_by_css_selector('body').send_keys(Keys.CONTROL + 't') # 컨트롤 t는 새 창여는 단축키\n",
        "  # body는 화면이라고 생각하면 됨\n",
        "  \n",
        "  for link in links:\n",
        "    print(link + ' 수집 중......')\n",
        "    driver.switch_to.window(driver.window_handles[-1]) # 새창 활성화\n",
        "    time.sleep(0.1)\n",
        "    driver.get(link)\n",
        "    time.sleep(0.1)\n",
        "    driver.switch_to.window(driver.window_handles[0]) # 새창 활성화\n",
        "    time.sleep(3.0)\n",
        "\n",
        "    html_source = driver.page_source # req. text 같은 동작\n",
        "    html_soup = BeautifulSoup(html_source, 'lxml')\n",
        "\n",
        "    # 청소년관람불가 영화 크롤링 할 경우 -> 인증 필요 ==> 수집 제외\n",
        "    flag = html_soup.text[0:10]\n",
        "\n",
        "    newflag = ''.join(flag)\n",
        "    newflag = newflag.replace('\\n', '')\n",
        "\n",
        "    if newflag == '네이버' :\n",
        "      time.sleep(1.0)\n",
        "\n",
        "      # 평점 수집\n",
        "      score = driver.find_element_by_css_selector('div.score_area > em ')\n",
        "      score = float(score.text)\n",
        "      score = int(score) # 7.7이 7로 수집됨\n",
        "      score_infos.append(score)\n",
        "      print(score)\n",
        "\n",
        "      # 장르 수집\n",
        "      genre = driver.find_element_by_css_selector('li.info_lst > ul > li:nth-child(4)').get_attribute('textContent')\n",
        "      genre = genre.replace('장르', '')\n",
        "      genre = genre.replace('\\n', '')\n",
        "      genre = genre.replace('\\t', '')\n",
        "      genre_infos.append(genre)\n",
        "\n",
        "      # 제목, 줄거리\n",
        "\n",
        "      try:\n",
        "        movieinfoUrl= driver.find_element_by_css_selector('li.info_lst > ul > li:nth-child(7) > a').get_attribute('href')\n",
        "      except:\n",
        "        movieinfoUrl= driver.find_element_by_css_selector('li.info_lst > ul > li:nth-child(6) > a').get_attribute('href')\n",
        "\n",
        "      # 영화 상세보기 페이지로 이동\n",
        "      movie_req = requests.get(movieinfoUrl)\n",
        "\n",
        "      # 제목 수집\n",
        "      movie_soup = BeautifulSoup(movie_req.text, 'lxml')\n",
        "      title = movie_soup.head.find('meta', {'property' : 'og:title'}).get('content')\n",
        "      title_infos.append(title)\n",
        "\n",
        "      # 줄거리 수집\n",
        "      contents_texts = movie_soup.select('div.story_area > p.con_tx')\n",
        "\n",
        "      if len(contents_texts) == 0:\n",
        "        content_infos.append('줄거리 오류')\n",
        "      \n",
        "      else:\n",
        "        for content in contents_texts :\n",
        "          # 줄거리 데이터 클렌징 작업\n",
        "          temp = content.text\n",
        "          temp = temp.replace('\\r', '')   # 줄바꿈 제거\n",
        "          temp = temp.replace('\\xa0', '') # 공백 제거\n",
        "          content_infos.append(temp)\n",
        "      \n",
        "    elif newflag == '' :\n",
        "        print('청불 영화로 데이터 수집하지 않습니다.')\n",
        "\n",
        "  print('수집 완료합니다......')\n",
        "    # 토탈 정보 찍기\n",
        "  print(len(score_infos), len(genre_infos), len(content_infos))\n",
        "  driver.close()\n",
        "\n",
        "  movie_dic = {'제목' : title_infos, '평점':score_infos, '장르':genre_infos, '줄거리':content_infos}\n",
        "\n",
        "    # 딕셔너리 -> DataFrame\n",
        "  movie_df = pd.DataFrame(movie_dic)\n",
        "\n",
        "    # 수집된 정보 중에 중복 데이터 삭제\n",
        "  movie_df2 = movie_df.drop_duplicates('줄거리', keep='first') # 줄거리 비교해서, 중복된 영화를 삭제(첫번째 수집 영화만 남김)\n",
        "\n",
        "  return movie_df2\n",
        "\n"
      ],
      "execution_count": 5,
      "outputs": []
    },
    {
      "cell_type": "markdown",
      "metadata": {
        "id": "3VUGcFZV2Pas"
      },
      "source": [
        "# CSV 파일로 저장"
      ]
    },
    {
      "cell_type": "code",
      "metadata": {
        "id": "s6Dv7SyzKo8g"
      },
      "source": [
        "def dftoCsv(movie_df, num) :\n",
        "  try : \n",
        "    movie_df.to_csv(('movie_my_data_' + str(num) + '.csv'),\n",
        "                    sep =',', na_rep ='NaN', encoding='euc-kr')\n",
        "  \n",
        "  except :\n",
        "    print('Error')"
      ],
      "execution_count": 6,
      "outputs": []
    },
    {
      "cell_type": "markdown",
      "metadata": {
        "id": "lTYcu3LLLceA"
      },
      "source": [
        "# 크롤링 실행"
      ]
    },
    {
      "cell_type": "code",
      "metadata": {
        "colab": {
          "base_uri": "https://localhost:8080/"
        },
        "id": "7OmH8zDOLfjt",
        "outputId": "d032fdfa-9dd7-4a55-f8ba-9e7babe758d5"
      },
      "source": [
        "#1) 크롤링 할 링크 생성\n",
        "\n",
        "links = getPageLinksWantRange(1,5)\n",
        "\n",
        "#2) 영화 상세 정보 수집\n",
        "\n",
        "movie_df2 = getMovieDataFromNaverSeries(links)\n",
        "\n",
        "#3) csv 파일 저장\n",
        "\n",
        "dftoCsv(movie_df2, len(movie_df2))"
      ],
      "execution_count": 7,
      "outputs": [
        {
          "output_type": "stream",
          "text": [
            "http://series.naver.com/movie/detail.nhn?productNo=6119777 수집 중......\n",
            "7\n",
            "http://series.naver.com/movie/detail.nhn?productNo=6176165 수집 중......\n",
            "8\n",
            "http://series.naver.com/movie/detail.nhn?productNo=6158879 수집 중......\n",
            "9\n",
            "http://series.naver.com/movie/detail.nhn?productNo=6098871 수집 중......\n",
            "9\n",
            "http://series.naver.com/movie/detail.nhn?productNo=6023769 수집 중......\n",
            "9\n",
            "http://series.naver.com/movie/detail.nhn?productNo=6139377 수집 중......\n",
            "8\n",
            "http://series.naver.com/movie/detail.nhn?productNo=6139375 수집 중......\n",
            "9\n",
            "http://series.naver.com/movie/detail.nhn?productNo=6119778 수집 중......\n",
            "7\n",
            "http://series.naver.com/movie/detail.nhn?productNo=4356726 수집 중......\n",
            "9\n",
            "http://series.naver.com/movie/detail.nhn?productNo=6176518 수집 중......\n",
            "청불 영화로 데이터 수집하지 않습니다.\n",
            "http://series.naver.com/movie/detail.nhn?productNo=3293948 수집 중......\n",
            "청불 영화로 데이터 수집하지 않습니다.\n",
            "http://series.naver.com/movie/detail.nhn?productNo=6039515 수집 중......\n",
            "0\n",
            "http://series.naver.com/movie/detail.nhn?productNo=6176542 수집 중......\n",
            "8\n",
            "http://series.naver.com/movie/detail.nhn?productNo=1965132 수집 중......\n",
            "청불 영화로 데이터 수집하지 않습니다.\n",
            "http://series.naver.com/movie/detail.nhn?productNo=1808511 수집 중......\n",
            "9\n",
            "http://series.naver.com/movie/detail.nhn?productNo=6176166 수집 중......\n",
            "8\n",
            "http://series.naver.com/movie/detail.nhn?productNo=2747742 수집 중......\n",
            "8\n",
            "http://series.naver.com/movie/detail.nhn?productNo=4475562 수집 중......\n",
            "7\n",
            "http://series.naver.com/movie/detail.nhn?productNo=5751044 수집 중......\n",
            "8\n",
            "http://series.naver.com/movie/detail.nhn?productNo=5843892 수집 중......\n",
            "8\n",
            "http://series.naver.com/movie/detail.nhn?productNo=2822635 수집 중......\n",
            "청불 영화로 데이터 수집하지 않습니다.\n",
            "http://series.naver.com/movie/detail.nhn?productNo=6176543 수집 중......\n",
            "8\n",
            "http://series.naver.com/movie/detail.nhn?productNo=5607754 수집 중......\n",
            "8\n",
            "http://series.naver.com/movie/detail.nhn?productNo=1729987 수집 중......\n",
            "청불 영화로 데이터 수집하지 않습니다.\n",
            "http://series.naver.com/movie/detail.nhn?productNo=4579842 수집 중......\n",
            "8\n",
            "http://series.naver.com/movie/detail.nhn?productNo=2790610 수집 중......\n",
            "8\n",
            "http://series.naver.com/movie/detail.nhn?productNo=1373317 수집 중......\n",
            "청불 영화로 데이터 수집하지 않습니다.\n",
            "http://series.naver.com/movie/detail.nhn?productNo=552985 수집 중......\n",
            "청불 영화로 데이터 수집하지 않습니다.\n",
            "http://series.naver.com/movie/detail.nhn?productNo=6189997 수집 중......\n",
            "7\n",
            "http://series.naver.com/movie/detail.nhn?productNo=5009512 수집 중......\n",
            "8\n",
            "http://series.naver.com/movie/detail.nhn?productNo=4465876 수집 중......\n",
            "7\n",
            "http://series.naver.com/movie/detail.nhn?productNo=1781025 수집 중......\n",
            "9\n",
            "http://series.naver.com/movie/detail.nhn?productNo=4508244 수집 중......\n",
            "9\n",
            "http://series.naver.com/movie/detail.nhn?productNo=6147667 수집 중......\n",
            "8\n",
            "http://series.naver.com/movie/detail.nhn?productNo=1049059 수집 중......\n",
            "8\n",
            "http://series.naver.com/movie/detail.nhn?productNo=1126516 수집 중......\n",
            "8\n",
            "http://series.naver.com/movie/detail.nhn?productNo=2968150 수집 중......\n",
            "청불 영화로 데이터 수집하지 않습니다.\n",
            "http://series.naver.com/movie/detail.nhn?productNo=3400212 수집 중......\n",
            "7\n",
            "http://series.naver.com/movie/detail.nhn?productNo=2166247 수집 중......\n",
            "청불 영화로 데이터 수집하지 않습니다.\n",
            "http://series.naver.com/movie/detail.nhn?productNo=977821 수집 중......\n",
            "8\n",
            "http://series.naver.com/movie/detail.nhn?productNo=6189996 수집 중......\n",
            "7\n",
            "http://series.naver.com/movie/detail.nhn?productNo=3318482 수집 중......\n",
            "청불 영화로 데이터 수집하지 않습니다.\n",
            "http://series.naver.com/movie/detail.nhn?productNo=6143439 수집 중......\n",
            "9\n",
            "http://series.naver.com/movie/detail.nhn?productNo=6139376 수집 중......\n",
            "9\n",
            "http://series.naver.com/movie/detail.nhn?productNo=3100069 수집 중......\n",
            "9\n",
            "http://series.naver.com/movie/detail.nhn?productNo=2441904 수집 중......\n",
            "8\n",
            "http://series.naver.com/movie/detail.nhn?productNo=1537164 수집 중......\n",
            "청불 영화로 데이터 수집하지 않습니다.\n",
            "http://series.naver.com/movie/detail.nhn?productNo=4695510 수집 중......\n",
            "청불 영화로 데이터 수집하지 않습니다.\n",
            "http://series.naver.com/movie/detail.nhn?productNo=585441 수집 중......\n",
            "9\n",
            "http://series.naver.com/movie/detail.nhn?productNo=3448644 수집 중......\n",
            "8\n",
            "http://series.naver.com/movie/detail.nhn?productNo=2787777 수집 중......\n",
            "청불 영화로 데이터 수집하지 않습니다.\n",
            "http://series.naver.com/movie/detail.nhn?productNo=3744353 수집 중......\n",
            "9\n",
            "http://series.naver.com/movie/detail.nhn?productNo=1775085 수집 중......\n",
            "청불 영화로 데이터 수집하지 않습니다.\n",
            "http://series.naver.com/movie/detail.nhn?productNo=3532815 수집 중......\n",
            "8\n",
            "http://series.naver.com/movie/detail.nhn?productNo=5778853 수집 중......\n",
            "7\n",
            "http://series.naver.com/movie/detail.nhn?productNo=3593762 수집 중......\n",
            "8\n",
            "http://series.naver.com/movie/detail.nhn?productNo=1798015 수집 중......\n",
            "7\n",
            "http://series.naver.com/movie/detail.nhn?productNo=3843473 수집 중......\n",
            "7\n",
            "http://series.naver.com/movie/detail.nhn?productNo=977825 수집 중......\n",
            "8\n",
            "http://series.naver.com/movie/detail.nhn?productNo=3241116 수집 중......\n",
            "9\n",
            "http://series.naver.com/movie/detail.nhn?productNo=6112492 수집 중......\n",
            "0\n",
            "http://series.naver.com/movie/detail.nhn?productNo=5110441 수집 중......\n",
            "청불 영화로 데이터 수집하지 않습니다.\n",
            "http://series.naver.com/movie/detail.nhn?productNo=5156470 수집 중......\n",
            "8\n",
            "http://series.naver.com/movie/detail.nhn?productNo=2686058 수집 중......\n",
            "청불 영화로 데이터 수집하지 않습니다.\n",
            "http://series.naver.com/movie/detail.nhn?productNo=1798013 수집 중......\n",
            "8\n",
            "http://series.naver.com/movie/detail.nhn?productNo=6158864 수집 중......\n",
            "0\n",
            "http://series.naver.com/movie/detail.nhn?productNo=2909332 수집 중......\n",
            "8\n",
            "http://series.naver.com/movie/detail.nhn?productNo=412868 수집 중......\n",
            "9\n",
            "http://series.naver.com/movie/detail.nhn?productNo=6210977 수집 중......\n",
            "9\n",
            "http://series.naver.com/movie/detail.nhn?productNo=3946722 수집 중......\n",
            "청불 영화로 데이터 수집하지 않습니다.\n",
            "http://series.naver.com/movie/detail.nhn?productNo=6225301 수집 중......\n",
            "6\n",
            "http://series.naver.com/movie/detail.nhn?productNo=5482161 수집 중......\n",
            "7\n",
            "http://series.naver.com/movie/detail.nhn?productNo=1849600 수집 중......\n",
            "청불 영화로 데이터 수집하지 않습니다.\n",
            "http://series.naver.com/movie/detail.nhn?productNo=2284790 수집 중......\n",
            "8\n",
            "http://series.naver.com/movie/detail.nhn?productNo=4406203 수집 중......\n",
            "청불 영화로 데이터 수집하지 않습니다.\n",
            "http://series.naver.com/movie/detail.nhn?productNo=3478547 수집 중......\n",
            "9\n",
            "http://series.naver.com/movie/detail.nhn?productNo=5023130 수집 중......\n",
            "청불 영화로 데이터 수집하지 않습니다.\n",
            "http://series.naver.com/movie/detail.nhn?productNo=4581368 수집 중......\n",
            "청불 영화로 데이터 수집하지 않습니다.\n",
            "http://series.naver.com/movie/detail.nhn?productNo=4021296 수집 중......\n",
            "9\n",
            "http://series.naver.com/movie/detail.nhn?productNo=1405968 수집 중......\n",
            "청불 영화로 데이터 수집하지 않습니다.\n",
            "http://series.naver.com/movie/detail.nhn?productNo=2133611 수집 중......\n",
            "8\n",
            "http://series.naver.com/movie/detail.nhn?productNo=4821120 수집 중......\n",
            "8\n",
            "http://series.naver.com/movie/detail.nhn?productNo=2015025 수집 중......\n",
            "9\n",
            "http://series.naver.com/movie/detail.nhn?productNo=1605628 수집 중......\n",
            "8\n",
            "http://series.naver.com/movie/detail.nhn?productNo=2118078 수집 중......\n",
            "4\n",
            "http://series.naver.com/movie/detail.nhn?productNo=3241117 수집 중......\n",
            "9\n",
            "http://series.naver.com/movie/detail.nhn?productNo=6063434 수집 중......\n",
            "7\n",
            "http://series.naver.com/movie/detail.nhn?productNo=6147086 수집 중......\n",
            "8\n",
            "http://series.naver.com/movie/detail.nhn?productNo=5404435 수집 중......\n",
            "9\n",
            "http://series.naver.com/movie/detail.nhn?productNo=1787179 수집 중......\n",
            "9\n",
            "http://series.naver.com/movie/detail.nhn?productNo=3262026 수집 중......\n",
            "9\n",
            "http://series.naver.com/movie/detail.nhn?productNo=3285301 수집 중......\n",
            "7\n",
            "http://series.naver.com/movie/detail.nhn?productNo=442567 수집 중......\n",
            "6\n",
            "http://series.naver.com/movie/detail.nhn?productNo=3239240 수집 중......\n",
            "9\n",
            "http://series.naver.com/movie/detail.nhn?productNo=2956707 수집 중......\n",
            "청불 영화로 데이터 수집하지 않습니다.\n",
            "http://series.naver.com/movie/detail.nhn?productNo=4821119 수집 중......\n",
            "8\n",
            "http://series.naver.com/movie/detail.nhn?productNo=1402314 수집 중......\n",
            "9\n",
            "http://series.naver.com/movie/detail.nhn?productNo=475495 수집 중......\n",
            "8\n",
            "http://series.naver.com/movie/detail.nhn?productNo=412869 수집 중......\n",
            "8\n",
            "http://series.naver.com/movie/detail.nhn?productNo=5991457 수집 중......\n",
            "5\n",
            "수집 완료합니다......\n",
            "77 77 77\n"
          ],
          "name": "stdout"
        }
      ]
    },
    {
      "cell_type": "code",
      "metadata": {
        "id": "7th1N6C8OEE1"
      },
      "source": [
        ""
      ],
      "execution_count": 7,
      "outputs": []
    }
  ]
}