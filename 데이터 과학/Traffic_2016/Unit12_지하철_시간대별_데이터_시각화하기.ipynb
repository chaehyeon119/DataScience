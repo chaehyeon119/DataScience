{
  "nbformat": 4,
  "nbformat_minor": 0,
  "metadata": {
    "colab": {
      "name": "Unit12-지하철 시간대별 데이터 시각화하기.ipynb",
      "provenance": []
    },
    "kernelspec": {
      "name": "python3",
      "display_name": "Python 3"
    },
    "language_info": {
      "name": "python"
    }
  },
  "cells": [
    {
      "cell_type": "markdown",
      "metadata": {
        "id": "2Qq-9svd1r8Q"
      },
      "source": [
        "#지하철 시간대별 데이터 시각화하기\n",
        "1. 지하철 시간대별 이용 현황 데이터 정제하기\n",
        "2. 출근 시간대 사람들이 가장 많이 타고 내리는 역은 어디일까\n",
        "3. 밤 11시에 사람들이 가장 많이 타는 역은 어디일까\n",
        "4. 시간대별로 사람들이 가장 많이 타고 내리는 역은 어디일까\n",
        "5. 모든 지하철역에서 시간대별 승하차 인원을 모두 더하면"
      ]
    },
    {
      "cell_type": "code",
      "metadata": {
        "id": "-zfov_7610x3"
      },
      "source": [
        "import csv\n",
        "f = open('subwaytime.csv')\n",
        "\n",
        "data = csv.reader(f)\n",
        "\n",
        "for row in data:\n",
        "  print(row)"
      ],
      "execution_count": null,
      "outputs": []
    },
    {
      "cell_type": "markdown",
      "metadata": {
        "id": "iUKhnRxA2R9x"
      },
      "source": [
        "헤더 제외하고 map 함수를 활용한 데이터 타입 바꾸기(문자열 - > 정수)"
      ]
    },
    {
      "cell_type": "code",
      "metadata": {
        "id": "lVKdfyJq2Wr4"
      },
      "source": [
        "import csv\n",
        "f = open('subwaytime.csv')\n",
        "\n",
        "data = csv.reader(f)\n",
        "next(data)\n",
        "next(data)\n",
        "\n",
        "for row in data:\n",
        "  row[4:] = map(int,row[4:]) #리스트 값을 다 바꿔버린다 row[4:]를 int로 바꾼다\n",
        "  print(row)"
      ],
      "execution_count": null,
      "outputs": []
    },
    {
      "cell_type": "markdown",
      "metadata": {
        "id": "jR1bHvg16ZaH"
      },
      "source": [
        "출근 시간대 사람들이 가장 많이 타고 내리는 역은 어디일까"
      ]
    },
    {
      "cell_type": "markdown",
      "metadata": {
        "id": "klac8Jxz6-Qt"
      },
      "source": [
        "아침 7시 승차 데이터 추출 -> 10번 인덱스 데이터 값 추출\n"
      ]
    },
    {
      "cell_type": "code",
      "metadata": {
        "id": "suX9JhMo7BwW"
      },
      "source": [
        "import csv\n",
        "f = open('subwaytime.csv')\n",
        "\n",
        "data = csv.reader(f)\n",
        "next(data)\n",
        "next(data)\n",
        "\n",
        "result = [] #아침 7시 승차 데이터 추출 -> 10번째 인덱스에 존재\n",
        "\n",
        "\n",
        "for row in data:\n",
        "  row[4:] = map(int,row[4:]) #리스트 값을 다 바꿔버린다 row[4:]를 int(정수)로 바꾼다\n",
        "  result.append(row[10])\n",
        "\n",
        "print(len(result))\n",
        "print(result) #x축을 정의하지 않는 그래프는 대부분 그릴 수 있음\n",
        "\n"
      ],
      "execution_count": null,
      "outputs": []
    },
    {
      "cell_type": "markdown",
      "metadata": {
        "id": "3wzWquL-7_0f"
      },
      "source": [
        "아침 7시 승차 데이터 막대 그래프로 표현하기\n"
      ]
    },
    {
      "cell_type": "code",
      "metadata": {
        "id": "dnQkQslR8AKp"
      },
      "source": [
        "import csv\n",
        "import matplotlib.pyplot as plt\n",
        "\n",
        "f = open('subwaytime.csv')\n",
        "\n",
        "data = csv.reader(f)\n",
        "next(data)\n",
        "next(data)\n",
        "\n",
        "result = [] #아침 7시 승차 데이터 추출 -> 10번째 인덱스에 존재\n",
        "\n",
        "\n",
        "for row in data:\n",
        "  row[4:] = map(int,row[4:]) #리스트 값을 다 바꿔버린다 row[4:]를 int(정수)로 바꾼다\n",
        "  result.append(row[10])\n",
        "\n",
        "#데이터 시각화\n",
        "plt.figure(dpi = 200)\n",
        "plt.style.use('ggplot')\n",
        "plt.bar(range(len(result)), result)\n",
        "plt.show()"
      ],
      "execution_count": null,
      "outputs": []
    },
    {
      "cell_type": "markdown",
      "metadata": {
        "id": "TKxHrh6b8rgQ"
      },
      "source": [
        "오름차순으로 데이터 정렬하여 그래프 그리기\n",
        "result.sort()\n",
        "---\n",
        "\n"
      ]
    },
    {
      "cell_type": "code",
      "metadata": {
        "id": "JHu-jLKN8tPP"
      },
      "source": [
        "import csv\n",
        "import matplotlib.pyplot as plt\n",
        "\n",
        "f = open('subwaytime.csv')\n",
        "\n",
        "data = csv.reader(f)\n",
        "next(data)\n",
        "next(data)\n",
        "\n",
        "result = [] #아침 7시 승차 데이터 추출 -> 10번째 인덱스에 존재\n",
        "\n",
        "\n",
        "for row in data:\n",
        "  row[4:] = map(int,row[4:]) #리스트 값을 다 바꿔버린다 row[4:]를 int(정수)로 바꾼다\n",
        "  result.append(row[10])\n",
        "\n",
        "result.sort() #데이터를 오름차순으로 정렬\n",
        "\n",
        "#데이터 시각화\n",
        "plt.figure(dpi = 200)\n",
        "plt.style.use('ggplot')\n",
        "plt.bar(range(len(result)), result)\n",
        "plt.show()"
      ],
      "execution_count": null,
      "outputs": []
    },
    {
      "cell_type": "markdown",
      "metadata": {
        "id": "bvgPuD8r9I2z"
      },
      "source": [
        "출근 시간 (7-9시) 막대 그래프 그리기"
      ]
    },
    {
      "cell_type": "code",
      "metadata": {
        "id": "6kM_F8hY9NT6"
      },
      "source": [
        "import csv\n",
        "import matplotlib.pyplot as plt\n",
        "\n",
        "f = open('subwaytime.csv')\n",
        "\n",
        "data = csv.reader(f)\n",
        "next(data)\n",
        "next(data)\n",
        "\n",
        "result = [] #출근 시간(7시-9시) 승차 데이터 추출 -> 10, 12, 14번째 인덱스에 존재\n",
        "\n",
        "\n",
        "for row in data:\n",
        "  row[4:] = map(int,row[4:]) #리스트 값을 다 바꿔버린다 row[4:]를 int(정수)로 바꾼다\n",
        "  result.append(sum(row[10 : 15 : 2])) #10 ,12, 14 추출\n",
        "\n",
        "result.sort() #데이터를 오름차순으로 정렬\n",
        "\n",
        "#데이터 시각화\n",
        "plt.figure(dpi = 200)\n",
        "plt.style.use('ggplot')\n",
        "plt.bar(range(len(result)), result)\n",
        "plt.show()"
      ],
      "execution_count": null,
      "outputs": []
    },
    {
      "cell_type": "markdown",
      "metadata": {
        "id": "5elYg5lj-KvZ"
      },
      "source": [
        "7시부터 9시까지 승차 인원 합계의 최댓값 찾기"
      ]
    },
    {
      "cell_type": "code",
      "metadata": {
        "colab": {
          "base_uri": "https://localhost:8080/"
        },
        "id": "qHqmPRj7-OuU",
        "outputId": "d657b4f9-2d57-4037-bdde-0c9e451fefb6"
      },
      "source": [
        "import csv\n",
        "import matplotlib.pyplot as plt\n",
        "\n",
        "f = open('subwaytime.csv')\n",
        "\n",
        "data = csv.reader(f)\n",
        "next(data)\n",
        "next(data)\n",
        "\n",
        "\n",
        "mx = 0\n",
        "mx_station = ''\n",
        "result = [] #출근 시간(7시-9시) 승차 데이터 추출 -> 10, 12, 14번째 인덱스에 존재\n",
        "\n",
        "\n",
        "for row in data:\n",
        "  row[4:] = map(int,row[4:])\n",
        "  if sum(row[10 : 15 :2]) > mx :\n",
        "    mx = sum(row[10 : 15 :2])\n",
        "    mx_station = row[3] + '(' + row[1] + ')'\n",
        "\n",
        "print(mx_station, mx)"
      ],
      "execution_count": null,
      "outputs": [
        {
          "output_type": "stream",
          "text": [
            "신림(2호선) 809541\n"
          ],
          "name": "stdout"
        }
      ]
    },
    {
      "cell_type": "markdown",
      "metadata": {
        "id": "36NKkHMD_Xxi"
      },
      "source": [
        "출근 시간대에 사람들이 가장 많이 내리는 역 찾기"
      ]
    },
    {
      "cell_type": "code",
      "metadata": {
        "colab": {
          "base_uri": "https://localhost:8080/"
        },
        "id": "jeyT-0Fl_XWJ",
        "outputId": "1f2c642a-25a5-44a3-bee2-67f6643f4447"
      },
      "source": [
        "import csv\n",
        "import matplotlib.pyplot as plt\n",
        "\n",
        "f = open('subwaytime.csv')\n",
        "\n",
        "data = csv.reader(f)\n",
        "next(data)\n",
        "next(data)\n",
        "\n",
        "\n",
        "mx = 0\n",
        "mx_station = ''\n",
        "result = [] #출근 시간(7시-9시) 승차 데이터 추출 -> 10, 12, 14번째 인덱스에 존재\n",
        "\n",
        "\n",
        "for row in data:\n",
        "  row[4:] = map(int,row[4:])\n",
        "  if sum(row[11 : 16 :2]) > mx : ##여기만 바뀜 / 하차 인우너 값 추출\n",
        "    mx = sum(row[11 : 16 :2])\n",
        "    mx_station = row[3] + '(' + row[1] + ')'\n",
        "\n",
        "print(mx_station, mx)"
      ],
      "execution_count": null,
      "outputs": [
        {
          "output_type": "stream",
          "text": [
            "강남(2호선) 984427\n"
          ],
          "name": "stdout"
        }
      ]
    },
    {
      "cell_type": "markdown",
      "metadata": {
        "id": "pW4NEpUYDcU6"
      },
      "source": [
        "퇴근 시간대 사람들이 가장 많이 타고 내리는 역은 어디일까(저녁 6~8시 승차, 하차 최대 역 찾기)\n",
        "\n",
        "-> 막대그래프로 퇴근 시간대 승차 인원 표출\n",
        "\n",
        "-> 최대 승차역\n",
        "\n",
        "-> 최대 하차역"
      ]
    },
    {
      "cell_type": "markdown",
      "metadata": {
        "id": "eTt5iEBeEDuM"
      },
      "source": [
        "막대그래프로 퇴근 시간대 저녁 6~8시 승차 인원 표출"
      ]
    },
    {
      "cell_type": "code",
      "metadata": {
        "id": "Bl1VxmnRD0pQ"
      },
      "source": [
        "import csv\n",
        "import matplotlib.pyplot as plt\n",
        "\n",
        "f = open('subwaytime.csv')\n",
        "\n",
        "data = csv.reader(f)\n",
        "next(data)\n",
        "next(data)\n",
        "\n",
        "result = []\n",
        "\n",
        "\n",
        "for row in data:\n",
        "  row[4:] = map(int,row[4:]) #리스트 값을 다 바꿔버린다 row[4:]를 int(정수)로 바꾼다\n",
        "  result.append(sum(row[32 : 37 : 2])) #10 ,12, 14 추출\n",
        "\n",
        "result.sort() #데이터를 오름차순으로 정렬\n",
        "\n",
        "#데이터 시각화\n",
        "plt.figure(dpi = 200)\n",
        "plt.style.use('classic') #ggplot은 수치가 크면 안 나와서 값 나오게 하려면 스타일 classic을 씀\n",
        "plt.bar(range(len(result)), result)\n",
        "plt.show()\n",
        "\n"
      ],
      "execution_count": null,
      "outputs": []
    },
    {
      "cell_type": "markdown",
      "metadata": {
        "id": "wxHN0NkiE7jw"
      },
      "source": [
        "저녁 6~8시  최대 승차역"
      ]
    },
    {
      "cell_type": "code",
      "metadata": {
        "colab": {
          "base_uri": "https://localhost:8080/"
        },
        "id": "7fd99CUSEhT9",
        "outputId": "079805f1-1884-4aba-b259-05aaa98eaab2"
      },
      "source": [
        "import csv\n",
        "import matplotlib.pyplot as plt\n",
        "\n",
        "f = open('subwaytime.csv')\n",
        "\n",
        "data = csv.reader(f)\n",
        "next(data)\n",
        "next(data)\n",
        "\n",
        "\n",
        "min = 0\n",
        "min_station = ''\n",
        "result = [] #출근 시간(7시-9시) 승차 데이터 추출 -> 10, 12, 14번째 인덱스에 존재\n",
        "\n",
        "\n",
        "for row in data:\n",
        "  row[4:] = map(int,row[4:])\n",
        "  if sum(row[34 : 36]) > min : ##여기만 바뀜 / 하차 인원 값 추출\n",
        "    min = sum(row[34 : 36])\n",
        "    min_station = row[3] + '(' + row[1] + ')'\n",
        "\n",
        "print(min_station, min)"
      ],
      "execution_count": null,
      "outputs": [
        {
          "output_type": "stream",
          "text": [
            "강남(2호선) 518993\n"
          ],
          "name": "stdout"
        }
      ]
    },
    {
      "cell_type": "markdown",
      "metadata": {
        "id": "WKa253IXFi5z"
      },
      "source": [
        "최대 하차역\n",
        "\n"
      ]
    },
    {
      "cell_type": "code",
      "metadata": {
        "colab": {
          "base_uri": "https://localhost:8080/"
        },
        "id": "Wmki4KmdFgoj",
        "outputId": "b807b643-244c-4923-9ecd-c068d1241166"
      },
      "source": [
        "import csv\n",
        "import matplotlib.pyplot as plt\n",
        "\n",
        "f = open('subwaytime.csv')\n",
        "\n",
        "data = csv.reader(f)\n",
        "next(data)\n",
        "next(data)\n",
        "\n",
        "\n",
        "mx = 0\n",
        "mx_station = ''\n",
        "result = [] #출근 시간(7시-9시) 승차 데이터 추출 -> 10, 12, 14번째 인덱스에 존재\n",
        "\n",
        "\n",
        "for row in data:\n",
        "  row[4:] = map(int,row[4:])\n",
        "  if sum(row[33 : 35]) > mx : ##여기만 바뀜 / 하차인원 값 추출\n",
        "    mx = sum(row[33 : 35])\n",
        "    mx_station = row[3] + '(' + row[1] + ')'\n",
        "\n",
        "print(mx_station, mx)"
      ],
      "execution_count": null,
      "outputs": [
        {
          "output_type": "stream",
          "text": [
            "강남(2호선) 594036\n"
          ],
          "name": "stdout"
        }
      ]
    },
    {
      "cell_type": "code",
      "metadata": {
        "colab": {
          "base_uri": "https://localhost:8080/"
        },
        "id": "0_fNL-k6HjST",
        "outputId": "2f51fe2f-c1c0-4f40-cc39-dd46dafb65a4"
      },
      "source": [
        "import pandas as pd\n",
        "\n",
        "df = pd.read_csv('/content/subwaytime.csv', header=None)\n",
        "\n",
        "for idx in range(len(df.columns)) :\n",
        "  if df.loc[0,idx] == \"18:00:00~18:59:59\" :\n",
        "    print(idx)"
      ],
      "execution_count": null,
      "outputs": [
        {
          "output_type": "stream",
          "text": [
            "32\n"
          ],
          "name": "stdout"
        }
      ]
    },
    {
      "cell_type": "code",
      "metadata": {
        "id": "7NQ5VV0hsvLV"
      },
      "source": [
        ""
      ],
      "execution_count": null,
      "outputs": []
    },
    {
      "cell_type": "markdown",
      "metadata": {
        "id": "6YsomY6usvuc"
      },
      "source": [
        "밤 11시에 사람들이 가장 많이 타는 역은 어디일까\n"
      ]
    },
    {
      "cell_type": "markdown",
      "metadata": {
        "id": "AqjkCdNXs09t"
      },
      "source": [
        "승차 패턴 찾기<br> \n",
        "승차 시각이 1시간씩 늦어질 때 마다 인덱스 2씩 늘어남 <br> 승차 시작 시간의 인덱스 값 4 -> 4시부터 승차가 시작(첫차)<br> \n",
        "승차 시각(t) 와 승차 인원이 적힌 인덱스(i) 관계 분석 <br>\n",
        "#i = 4 + (t -4) * 2\n"
      ]
    },
    {
      "cell_type": "code",
      "metadata": {
        "colab": {
          "base_uri": "https://localhost:8080/"
        },
        "id": "R9-9e_8_sxIE",
        "outputId": "60e346b9-0eb8-4de7-f966-2f913acc55d9"
      },
      "source": [
        "import csv\n",
        "import matplotlib.pyplot as plt\n",
        "\n",
        "f = open('subwaytime.csv')\n",
        "\n",
        "data = csv.reader(f)\n",
        "next(data)\n",
        "next(data)\n",
        "\n",
        "\n",
        "mx = 0\n",
        "mx_station = ''\n",
        "\n",
        "t = int(input('몇 시의 승차인원이 가장 많은 역이 궁금하세요?: '))\n",
        "\n",
        "for row in data :\n",
        "  row[4:] = map(int,row[4:])\n",
        "  a = row[4 + (t-4)*2] # 입력 받은 시각의 승차 인원 값 추출\n",
        "\n",
        "  if a > mx : \n",
        "    mx = a\n",
        "    mx_station = row[3] + '(' + row[1] + ')'\n",
        "\n",
        "print(mx_station, mx)\n"
      ],
      "execution_count": null,
      "outputs": [
        {
          "output_type": "stream",
          "text": [
            "몇 시의 승차인원이 가장 많은 역이 궁금하세요?: 24\n",
            "강남(2호선) 27203\n"
          ],
          "name": "stdout"
        }
      ]
    },
    {
      "cell_type": "markdown",
      "metadata": {
        "id": "5F9P6ngSuin8"
      },
      "source": [
        "한글 꺠짐 방지"
      ]
    },
    {
      "cell_type": "code",
      "metadata": {
        "colab": {
          "base_uri": "https://localhost:8080/"
        },
        "id": "SXT4GjAmukox",
        "outputId": "c395e322-b15d-4c2a-e1be-907cd28fbddb"
      },
      "source": [
        "import matplotlib as mpl\n",
        "import matplotlib.pyplot as plt\n",
        " \n",
        "%config InlineBackend.figure_format = 'retina'\n",
        " \n",
        "!apt -qq -y install fonts-nanum\n",
        " \n",
        "import matplotlib.font_manager as fm\n",
        "\n",
        "fontpath = '/usr/share/fonts/truetype/nanum/NanumBarunGothic.ttf'\n",
        "font = fm.FontProperties(fname=fontpath, size=9)\n",
        "plt.rc('font', family='NanumBarunGothic') \n",
        "mpl.font_manager._rebuild()\n"
      ],
      "execution_count": null,
      "outputs": [
        {
          "output_type": "stream",
          "text": [
            "fonts-nanum is already the newest version (20170925-1).\n",
            "0 upgraded, 0 newly installed, 0 to remove and 39 not upgraded.\n"
          ],
          "name": "stdout"
        }
      ]
    },
    {
      "cell_type": "markdown",
      "metadata": {
        "id": "GgUGzKqIuw01"
      },
      "source": [
        "시간대별 최대 승차 역 이름 및 승차 인원 막대 그래프로 표현하기"
      ]
    },
    {
      "cell_type": "code",
      "metadata": {
        "id": "99hNXbFdu3LU"
      },
      "source": [
        "import csv\n",
        "import matplotlib.pyplot as plt\n",
        "\n",
        "f = open('subwaytime.csv')\n",
        "\n",
        "data = csv.reader(f)\n",
        "next(data)\n",
        "next(data)\n",
        "\n",
        "\n",
        "mx = [0] * 24\n",
        "mx_station = [''] * 24\n",
        "\n",
        "for row in data:\n",
        "  row[4:] = map(int, row[4:])\n",
        "  for j in range(24) :\n",
        "    a= row[j * 2 + 4 ] #시작 인덱스 4 # 시간대별 패턴 i = j * 2 + 4 (j는 0 ~ 23까지)\n",
        "    if a > mx[j] : \n",
        "      mx[j] = a\n",
        "      mx_station[j] = row[3] + '(' + str(j+4)+ ')' #역 이름과 시간 추가\n",
        "\n",
        "plt.style.use('ggplot')\n",
        "plt.rc('font', family='NanumBarunGothic')\n",
        "\n",
        "plt.figure(dpi = 200)\n",
        "plt.title('시간대별 승차 인원이 많은 역')\n",
        "plt.bar(range(24), mx)\n",
        "\n",
        "plt.xticks(range(24), mx_station, rotation=90) #rotation=90 x축의 이름을 90도로 돌린다\n",
        "#xticks -> x축의 눈금 값 설정\n",
        "plt.show()"
      ],
      "execution_count": null,
      "outputs": []
    },
    {
      "cell_type": "code",
      "metadata": {
        "id": "-KBj-1y3x8Hd"
      },
      "source": [
        "import csv\n",
        "import matplotlib.pyplot as plt\n",
        "\n",
        "f = open('subwaytime.csv')\n",
        "\n",
        "data = csv.reader(f)\n",
        "next(data)\n",
        "next(data)\n",
        "\n",
        "\n",
        "mx = [0] * 24\n",
        "mx_station = [''] * 24\n",
        "\n",
        "for row in data:\n",
        "  row[4:] = map(int, row[4:])\n",
        "  for j in range(24) :\n",
        "    a= row[j * 2 + 4 ] #시작 인덱스 4 # 시간대별 패턴 i = j * 2 + 4 (j는 0 ~ 23까지)\n",
        "    if a > mx[j] : \n",
        "      mx[j] = a\n",
        "      mx_station[j] = row[3]\n",
        "\n",
        "plt.rc('font', family='NanumBarunGothic')\n",
        "plt.figure(dpi = 200)\n",
        "plt.bar(range(24), mx)\n",
        "plt.xticks(range(24), mx_station, rotation=90) #rotation=90 x축의 이름을 90도로 돌린다\n",
        "#xticks -> x축의 눈금 값 설정\n",
        "plt.show()"
      ],
      "execution_count": null,
      "outputs": []
    },
    {
      "cell_type": "markdown",
      "metadata": {
        "id": "cZ4Kyx5Q0SNA"
      },
      "source": [
        "시간대별로 하차 인원이 가장 많은 역 막대 그래프로 표현하기"
      ]
    },
    {
      "cell_type": "code",
      "metadata": {
        "id": "Nl9g1pxK0Xb2"
      },
      "source": [
        "import csv\n",
        "import matplotlib.pyplot as plt\n",
        "\n",
        "f = open('subwaytime.csv')\n",
        "\n",
        "data = csv.reader(f)\n",
        "next(data)\n",
        "next(data)\n",
        "\n",
        "\n",
        "mx = [0] * 24\n",
        "mx_station = [''] * 24\n",
        "\n",
        "for row in data:\n",
        "  row[4:] = map(int, row[4:])\n",
        "  for j in range(24) :\n",
        "    a= row[5 + j * 2 ] #숫자 4 -> 5로 바뀜\n",
        "    if a > mx[j] : \n",
        "      mx[j] = a\n",
        "      mx_station[j] = row[3]\n",
        "\n",
        "plt.rc('font', family='NanumBarunGothic')\n",
        "plt.figure(dpi = 200)\n",
        "plt.title('시간대별 하차 인원이 많은 역')\n",
        "plt.bar(range(24), mx)\n",
        "plt.xticks(range(24), mx_station, rotation=90) #rotation=90 x축의 이름을 90도로 돌린다\n",
        "#xticks -> x축의 눈금 값 설정\n",
        "plt.show()"
      ],
      "execution_count": null,
      "outputs": []
    },
    {
      "cell_type": "markdown",
      "metadata": {
        "id": "IL5U4kS-1BV8"
      },
      "source": [
        "모든 지하철역에서 시간대별 승하차 인원을 모두 더하면"
      ]
    },
    {
      "cell_type": "code",
      "metadata": {
        "id": "wIC2TTqc1FN3"
      },
      "source": [
        "import csv\n",
        "import matplotlib.pyplot as plt\n",
        "\n",
        "f = open('subwaytime.csv')\n",
        "\n",
        "data = csv.reader(f)\n",
        "next(data)\n",
        "next(data)\n",
        "\n",
        "\n",
        "s_in = [0] * 24\n",
        "s_out = [0] * 24\n",
        "\n",
        "for row in data:\n",
        "  row[4:] = map(int, row[4:])\n",
        "  for i in range(24) :\n",
        "    s_in[i] += row[4 + i * 2]   # 승차\n",
        "    s_out[i] += row[5 + i * 2]  # 하차\n",
        "\n",
        "plt.rc('font', family='NanumBarunGothic')\n",
        "plt.style.use('ggplot')\n",
        "plt.figure(dpi = 200)\n",
        "plt.title('지하철 시간대별 승하차 인원 추이')\n",
        "plt.plot(s_in, label='승차')\n",
        "plt.plot(s_out, label='하차')\n",
        "plt.legend()\n",
        "plt.xticks(range(24), range(4,28)) #새벽 4시부터 나타나게\n",
        "plt.show"
      ],
      "execution_count": null,
      "outputs": []
    },
    {
      "cell_type": "code",
      "metadata": {
        "id": "BfRiANB55_NH"
      },
      "source": [
        ""
      ],
      "execution_count": null,
      "outputs": []
    }
  ]
}