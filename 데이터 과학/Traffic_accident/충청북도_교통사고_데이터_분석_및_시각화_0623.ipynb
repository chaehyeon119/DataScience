{
  "nbformat": 4,
  "nbformat_minor": 0,
  "metadata": {
    "colab": {
      "name": "충청북도 교통사고 데이터 분석 및 시각화_0623.ipynb",
      "provenance": [],
      "collapsed_sections": []
    },
    "kernelspec": {
      "name": "python3",
      "display_name": "Python 3"
    },
    "language_info": {
      "name": "python"
    }
  },
  "cells": [
    {
      "cell_type": "markdown",
      "metadata": {
        "id": "dMounsD3b3C0"
      },
      "source": [
        "0623(수)"
      ]
    },
    {
      "cell_type": "markdown",
      "metadata": {
        "id": "78kpQJime5Dm"
      },
      "source": [
        "* 데이터셋 업로드<br>\n",
        "/content/도로교통공단_교통사고 정보.csv"
      ]
    },
    {
      "cell_type": "markdown",
      "metadata": {
        "id": "TgqdDp1ZfGKm"
      },
      "source": [
        "라이브러리 임포트"
      ]
    },
    {
      "cell_type": "code",
      "metadata": {
        "id": "erTUqBpUfIKt"
      },
      "source": [
        "import plotly.express as px\n",
        "import pandas as pd"
      ],
      "execution_count": null,
      "outputs": []
    },
    {
      "cell_type": "markdown",
      "metadata": {
        "id": "ZWngur51fWAn"
      },
      "source": [
        "* 데이터 준비하기"
      ]
    },
    {
      "cell_type": "code",
      "metadata": {
        "colab": {
          "base_uri": "https://localhost:8080/",
          "height": 391
        },
        "id": "mHXV-Z5rfQAn",
        "outputId": "5413c480-12c2-4f53-e20f-946ee1930045"
      },
      "source": [
        "df = pd.read_csv('/content/도로교통공단_교통사고 정보.csv', encoding = 'euc-kr')\n",
        "df.head()"
      ],
      "execution_count": null,
      "outputs": [
        {
          "output_type": "execute_result",
          "data": {
            "text/html": [
              "<div>\n",
              "<style scoped>\n",
              "    .dataframe tbody tr th:only-of-type {\n",
              "        vertical-align: middle;\n",
              "    }\n",
              "\n",
              "    .dataframe tbody tr th {\n",
              "        vertical-align: top;\n",
              "    }\n",
              "\n",
              "    .dataframe thead th {\n",
              "        text-align: right;\n",
              "    }\n",
              "</style>\n",
              "<table border=\"1\" class=\"dataframe\">\n",
              "  <thead>\n",
              "    <tr style=\"text-align: right;\">\n",
              "      <th></th>\n",
              "      <th>발생년</th>\n",
              "      <th>발생년월일시</th>\n",
              "      <th>주야</th>\n",
              "      <th>요일</th>\n",
              "      <th>사망자수</th>\n",
              "      <th>부상자수</th>\n",
              "      <th>중상자수</th>\n",
              "      <th>경상자수</th>\n",
              "      <th>부상신고자수</th>\n",
              "      <th>발생지시도</th>\n",
              "      <th>발생지시군구</th>\n",
              "      <th>사고유형_대분류</th>\n",
              "      <th>사고유형_중분류</th>\n",
              "      <th>사고유형</th>\n",
              "      <th>가해자법규위반</th>\n",
              "      <th>도로형태_대분류</th>\n",
              "      <th>도로형태</th>\n",
              "      <th>가해자_당사자종별</th>\n",
              "      <th>피해자_당사자종별</th>\n",
              "      <th>발생위치X_UTMK</th>\n",
              "      <th>발생위치Y_UTMK</th>\n",
              "      <th>경도</th>\n",
              "      <th>위도</th>\n",
              "    </tr>\n",
              "  </thead>\n",
              "  <tbody>\n",
              "    <tr>\n",
              "      <th>0</th>\n",
              "      <td>2019</td>\n",
              "      <td>2019010100</td>\n",
              "      <td>야</td>\n",
              "      <td>화</td>\n",
              "      <td>1</td>\n",
              "      <td>0</td>\n",
              "      <td>0</td>\n",
              "      <td>0</td>\n",
              "      <td>0</td>\n",
              "      <td>부산</td>\n",
              "      <td>해운대구</td>\n",
              "      <td>차대사람</td>\n",
              "      <td>기타</td>\n",
              "      <td>기타</td>\n",
              "      <td>중앙선 침범</td>\n",
              "      <td>교차로</td>\n",
              "      <td>교차로내</td>\n",
              "      <td>승용차</td>\n",
              "      <td>보행자</td>\n",
              "      <td>1150507.0</td>\n",
              "      <td>1685987.0</td>\n",
              "      <td>129.152465</td>\n",
              "      <td>35.157884</td>\n",
              "    </tr>\n",
              "    <tr>\n",
              "      <th>1</th>\n",
              "      <td>2019</td>\n",
              "      <td>2019010103</td>\n",
              "      <td>야</td>\n",
              "      <td>화</td>\n",
              "      <td>1</td>\n",
              "      <td>0</td>\n",
              "      <td>0</td>\n",
              "      <td>0</td>\n",
              "      <td>0</td>\n",
              "      <td>경기</td>\n",
              "      <td>안산시</td>\n",
              "      <td>차대차</td>\n",
              "      <td>정면충돌</td>\n",
              "      <td>정면충돌</td>\n",
              "      <td>중앙선 침범</td>\n",
              "      <td>단일로</td>\n",
              "      <td>기타단일로</td>\n",
              "      <td>승용차</td>\n",
              "      <td>승용차</td>\n",
              "      <td>943018.0</td>\n",
              "      <td>1921233.0</td>\n",
              "      <td>126.857149</td>\n",
              "      <td>37.288292</td>\n",
              "    </tr>\n",
              "    <tr>\n",
              "      <th>2</th>\n",
              "      <td>2019</td>\n",
              "      <td>2019010116</td>\n",
              "      <td>주</td>\n",
              "      <td>화</td>\n",
              "      <td>1</td>\n",
              "      <td>0</td>\n",
              "      <td>0</td>\n",
              "      <td>0</td>\n",
              "      <td>0</td>\n",
              "      <td>경북</td>\n",
              "      <td>청도군</td>\n",
              "      <td>차대차</td>\n",
              "      <td>측면충돌</td>\n",
              "      <td>측면충돌</td>\n",
              "      <td>안전운전 의무 불이행</td>\n",
              "      <td>교차로</td>\n",
              "      <td>교차로부근</td>\n",
              "      <td>승용차</td>\n",
              "      <td>사륜오토바이(ATV)</td>\n",
              "      <td>1100414.0</td>\n",
              "      <td>1739893.0</td>\n",
              "      <td>128.609230</td>\n",
              "      <td>35.650108</td>\n",
              "    </tr>\n",
              "    <tr>\n",
              "      <th>3</th>\n",
              "      <td>2019</td>\n",
              "      <td>2019010119</td>\n",
              "      <td>야</td>\n",
              "      <td>화</td>\n",
              "      <td>1</td>\n",
              "      <td>0</td>\n",
              "      <td>0</td>\n",
              "      <td>0</td>\n",
              "      <td>0</td>\n",
              "      <td>대전</td>\n",
              "      <td>서구</td>\n",
              "      <td>차대사람</td>\n",
              "      <td>횡단중</td>\n",
              "      <td>횡단중</td>\n",
              "      <td>안전운전 의무 불이행</td>\n",
              "      <td>교차로</td>\n",
              "      <td>교차로부근</td>\n",
              "      <td>승용차</td>\n",
              "      <td>보행자</td>\n",
              "      <td>989194.0</td>\n",
              "      <td>1817621.0</td>\n",
              "      <td>127.379560</td>\n",
              "      <td>36.355946</td>\n",
              "    </tr>\n",
              "    <tr>\n",
              "      <th>4</th>\n",
              "      <td>2019</td>\n",
              "      <td>2019010121</td>\n",
              "      <td>야</td>\n",
              "      <td>화</td>\n",
              "      <td>1</td>\n",
              "      <td>0</td>\n",
              "      <td>0</td>\n",
              "      <td>0</td>\n",
              "      <td>0</td>\n",
              "      <td>경북</td>\n",
              "      <td>영천시</td>\n",
              "      <td>차대사람</td>\n",
              "      <td>기타</td>\n",
              "      <td>기타</td>\n",
              "      <td>안전운전 의무 불이행</td>\n",
              "      <td>단일로</td>\n",
              "      <td>기타단일로</td>\n",
              "      <td>승용차</td>\n",
              "      <td>보행자</td>\n",
              "      <td>1127700.0</td>\n",
              "      <td>1767912.0</td>\n",
              "      <td>128.915041</td>\n",
              "      <td>35.899506</td>\n",
              "    </tr>\n",
              "  </tbody>\n",
              "</table>\n",
              "</div>"
            ],
            "text/plain": [
              "    발생년      발생년월일시 주야 요일  ...  발생위치X_UTMK  발생위치Y_UTMK          경도         위도\n",
              "0  2019  2019010100  야  화  ...   1150507.0   1685987.0  129.152465  35.157884\n",
              "1  2019  2019010103  야  화  ...    943018.0   1921233.0  126.857149  37.288292\n",
              "2  2019  2019010116  주  화  ...   1100414.0   1739893.0  128.609230  35.650108\n",
              "3  2019  2019010119  야  화  ...    989194.0   1817621.0  127.379560  36.355946\n",
              "4  2019  2019010121  야  화  ...   1127700.0   1767912.0  128.915041  35.899506\n",
              "\n",
              "[5 rows x 23 columns]"
            ]
          },
          "metadata": {
            "tags": []
          },
          "execution_count": 28
        }
      ]
    },
    {
      "cell_type": "code",
      "metadata": {
        "colab": {
          "base_uri": "https://localhost:8080/"
        },
        "id": "6R60ChdvfUsv",
        "outputId": "042a1fe4-8147-484e-ab53-36446d2b33ff"
      },
      "source": [
        "df.info()\n",
        "\n",
        "# '발생년월일시'가 int형이다\n",
        "# -> datatime(날짜형)으로 바꿀까했지만 원하는 날짜 형식으로 자르기 어려움 \n",
        "# string 형으로 수정하고 자를 것임"
      ],
      "execution_count": null,
      "outputs": [
        {
          "output_type": "stream",
          "text": [
            "<class 'pandas.core.frame.DataFrame'>\n",
            "RangeIndex: 3233 entries, 0 to 3232\n",
            "Data columns (total 23 columns):\n",
            " #   Column      Non-Null Count  Dtype  \n",
            "---  ------      --------------  -----  \n",
            " 0   발생년         3233 non-null   int64  \n",
            " 1   발생년월일시      3233 non-null   int64  \n",
            " 2   주야          3233 non-null   object \n",
            " 3   요일          3233 non-null   object \n",
            " 4   사망자수        3233 non-null   int64  \n",
            " 5   부상자수        3233 non-null   int64  \n",
            " 6   중상자수        3233 non-null   int64  \n",
            " 7   경상자수        3233 non-null   int64  \n",
            " 8   부상신고자수      3233 non-null   int64  \n",
            " 9   발생지시도       3233 non-null   object \n",
            " 10  발생지시군구      3233 non-null   object \n",
            " 11  사고유형_대분류    3233 non-null   object \n",
            " 12  사고유형_중분류    3233 non-null   object \n",
            " 13  사고유형        3233 non-null   object \n",
            " 14  가해자법규위반     3233 non-null   object \n",
            " 15  도로형태_대분류    3233 non-null   object \n",
            " 16  도로형태        3233 non-null   object \n",
            " 17  가해자_당사자종별   3233 non-null   object \n",
            " 18  피해자_당사자종별   3233 non-null   object \n",
            " 19  발생위치X_UTMK  3233 non-null   float64\n",
            " 20  발생위치Y_UTMK  3233 non-null   float64\n",
            " 21  경도          3233 non-null   float64\n",
            " 22  위도          3233 non-null   float64\n",
            "dtypes: float64(4), int64(7), object(12)\n",
            "memory usage: 581.1+ KB\n"
          ],
          "name": "stdout"
        }
      ]
    },
    {
      "cell_type": "markdown",
      "metadata": {
        "id": "4qOeH1SGg8CX"
      },
      "source": [
        "교통사고 시간 전처리"
      ]
    },
    {
      "cell_type": "code",
      "metadata": {
        "id": "e7D5As2AhagI"
      },
      "source": [
        "#Substr 문자열 자르기를 위해 데이터타입 변경\n",
        "\n",
        "\n",
        "df = df.astype({'발생년월일시' : 'string'})\n",
        "# df.astype({'a' : b'}) a를 b타입으로 변경한다."
      ],
      "execution_count": null,
      "outputs": []
    },
    {
      "cell_type": "markdown",
      "metadata": {
        "id": "2TSzvdsCiPfQ"
      },
      "source": [
        "* 발생년월일시의 8째 이후 것을 추출해서 df에 발생시간이라는 컬럼을 만든다<br>\n",
        "=> df['발생시간'] = df['발생년월일시'].str[8:] "
      ]
    },
    {
      "cell_type": "code",
      "metadata": {
        "id": "NVkfneP8hq85"
      },
      "source": [
        "# 2019010100 -> 마지막 00만 시간으로 분리하고 싶음\n",
        "df['발생시간'] = df['발생년월일시'].str[8:]"
      ],
      "execution_count": null,
      "outputs": []
    },
    {
      "cell_type": "code",
      "metadata": {
        "id": "guMzeZsHiWv3"
      },
      "source": [
        "# 발생시간 숫자 데이터타입으로 변경\n",
        "df = df.astype({'발생시간' : 'int64'})"
      ],
      "execution_count": null,
      "outputs": []
    },
    {
      "cell_type": "code",
      "metadata": {
        "colab": {
          "base_uri": "https://localhost:8080/"
        },
        "id": "D6T13L8IibgO",
        "outputId": "673951b0-90e9-448f-b1d3-647e136544d3"
      },
      "source": [
        "df.info()\n",
        "# 발생시간이라는 컬럼이 만들어진 것을 확인 할 수 있음"
      ],
      "execution_count": null,
      "outputs": [
        {
          "output_type": "stream",
          "text": [
            "<class 'pandas.core.frame.DataFrame'>\n",
            "RangeIndex: 3233 entries, 0 to 3232\n",
            "Data columns (total 24 columns):\n",
            " #   Column      Non-Null Count  Dtype  \n",
            "---  ------      --------------  -----  \n",
            " 0   발생년         3233 non-null   int64  \n",
            " 1   발생년월일시      3233 non-null   string \n",
            " 2   주야          3233 non-null   object \n",
            " 3   요일          3233 non-null   object \n",
            " 4   사망자수        3233 non-null   int64  \n",
            " 5   부상자수        3233 non-null   int64  \n",
            " 6   중상자수        3233 non-null   int64  \n",
            " 7   경상자수        3233 non-null   int64  \n",
            " 8   부상신고자수      3233 non-null   int64  \n",
            " 9   발생지시도       3233 non-null   object \n",
            " 10  발생지시군구      3233 non-null   object \n",
            " 11  사고유형_대분류    3233 non-null   object \n",
            " 12  사고유형_중분류    3233 non-null   object \n",
            " 13  사고유형        3233 non-null   object \n",
            " 14  가해자법규위반     3233 non-null   object \n",
            " 15  도로형태_대분류    3233 non-null   object \n",
            " 16  도로형태        3233 non-null   object \n",
            " 17  가해자_당사자종별   3233 non-null   object \n",
            " 18  피해자_당사자종별   3233 non-null   object \n",
            " 19  발생위치X_UTMK  3233 non-null   float64\n",
            " 20  발생위치Y_UTMK  3233 non-null   float64\n",
            " 21  경도          3233 non-null   float64\n",
            " 22  위도          3233 non-null   float64\n",
            " 23  발생시간        3233 non-null   int64  \n",
            "dtypes: float64(4), int64(7), object(12), string(1)\n",
            "memory usage: 606.3+ KB\n"
          ],
          "name": "stdout"
        }
      ]
    },
    {
      "cell_type": "code",
      "metadata": {
        "colab": {
          "base_uri": "https://localhost:8080/",
          "height": 391
        },
        "id": "2oESrqqZkOL4",
        "outputId": "66085375-9f6b-49a3-c304-81f5c73059f7"
      },
      "source": [
        "df.head()"
      ],
      "execution_count": null,
      "outputs": [
        {
          "output_type": "execute_result",
          "data": {
            "text/html": [
              "<div>\n",
              "<style scoped>\n",
              "    .dataframe tbody tr th:only-of-type {\n",
              "        vertical-align: middle;\n",
              "    }\n",
              "\n",
              "    .dataframe tbody tr th {\n",
              "        vertical-align: top;\n",
              "    }\n",
              "\n",
              "    .dataframe thead th {\n",
              "        text-align: right;\n",
              "    }\n",
              "</style>\n",
              "<table border=\"1\" class=\"dataframe\">\n",
              "  <thead>\n",
              "    <tr style=\"text-align: right;\">\n",
              "      <th></th>\n",
              "      <th>발생년</th>\n",
              "      <th>발생년월일시</th>\n",
              "      <th>주야</th>\n",
              "      <th>요일</th>\n",
              "      <th>사망자수</th>\n",
              "      <th>부상자수</th>\n",
              "      <th>중상자수</th>\n",
              "      <th>경상자수</th>\n",
              "      <th>부상신고자수</th>\n",
              "      <th>발생지시도</th>\n",
              "      <th>발생지시군구</th>\n",
              "      <th>사고유형_대분류</th>\n",
              "      <th>사고유형_중분류</th>\n",
              "      <th>사고유형</th>\n",
              "      <th>가해자법규위반</th>\n",
              "      <th>도로형태_대분류</th>\n",
              "      <th>도로형태</th>\n",
              "      <th>가해자_당사자종별</th>\n",
              "      <th>피해자_당사자종별</th>\n",
              "      <th>발생위치X_UTMK</th>\n",
              "      <th>발생위치Y_UTMK</th>\n",
              "      <th>경도</th>\n",
              "      <th>위도</th>\n",
              "      <th>발생시간</th>\n",
              "    </tr>\n",
              "  </thead>\n",
              "  <tbody>\n",
              "    <tr>\n",
              "      <th>0</th>\n",
              "      <td>2019</td>\n",
              "      <td>2019010100</td>\n",
              "      <td>야</td>\n",
              "      <td>화</td>\n",
              "      <td>1</td>\n",
              "      <td>0</td>\n",
              "      <td>0</td>\n",
              "      <td>0</td>\n",
              "      <td>0</td>\n",
              "      <td>부산</td>\n",
              "      <td>해운대구</td>\n",
              "      <td>차대사람</td>\n",
              "      <td>기타</td>\n",
              "      <td>기타</td>\n",
              "      <td>중앙선 침범</td>\n",
              "      <td>교차로</td>\n",
              "      <td>교차로내</td>\n",
              "      <td>승용차</td>\n",
              "      <td>보행자</td>\n",
              "      <td>1150507.0</td>\n",
              "      <td>1685987.0</td>\n",
              "      <td>129.152465</td>\n",
              "      <td>35.157884</td>\n",
              "      <td>0</td>\n",
              "    </tr>\n",
              "    <tr>\n",
              "      <th>1</th>\n",
              "      <td>2019</td>\n",
              "      <td>2019010103</td>\n",
              "      <td>야</td>\n",
              "      <td>화</td>\n",
              "      <td>1</td>\n",
              "      <td>0</td>\n",
              "      <td>0</td>\n",
              "      <td>0</td>\n",
              "      <td>0</td>\n",
              "      <td>경기</td>\n",
              "      <td>안산시</td>\n",
              "      <td>차대차</td>\n",
              "      <td>정면충돌</td>\n",
              "      <td>정면충돌</td>\n",
              "      <td>중앙선 침범</td>\n",
              "      <td>단일로</td>\n",
              "      <td>기타단일로</td>\n",
              "      <td>승용차</td>\n",
              "      <td>승용차</td>\n",
              "      <td>943018.0</td>\n",
              "      <td>1921233.0</td>\n",
              "      <td>126.857149</td>\n",
              "      <td>37.288292</td>\n",
              "      <td>3</td>\n",
              "    </tr>\n",
              "    <tr>\n",
              "      <th>2</th>\n",
              "      <td>2019</td>\n",
              "      <td>2019010116</td>\n",
              "      <td>주</td>\n",
              "      <td>화</td>\n",
              "      <td>1</td>\n",
              "      <td>0</td>\n",
              "      <td>0</td>\n",
              "      <td>0</td>\n",
              "      <td>0</td>\n",
              "      <td>경북</td>\n",
              "      <td>청도군</td>\n",
              "      <td>차대차</td>\n",
              "      <td>측면충돌</td>\n",
              "      <td>측면충돌</td>\n",
              "      <td>안전운전 의무 불이행</td>\n",
              "      <td>교차로</td>\n",
              "      <td>교차로부근</td>\n",
              "      <td>승용차</td>\n",
              "      <td>사륜오토바이(ATV)</td>\n",
              "      <td>1100414.0</td>\n",
              "      <td>1739893.0</td>\n",
              "      <td>128.609230</td>\n",
              "      <td>35.650108</td>\n",
              "      <td>16</td>\n",
              "    </tr>\n",
              "    <tr>\n",
              "      <th>3</th>\n",
              "      <td>2019</td>\n",
              "      <td>2019010119</td>\n",
              "      <td>야</td>\n",
              "      <td>화</td>\n",
              "      <td>1</td>\n",
              "      <td>0</td>\n",
              "      <td>0</td>\n",
              "      <td>0</td>\n",
              "      <td>0</td>\n",
              "      <td>대전</td>\n",
              "      <td>서구</td>\n",
              "      <td>차대사람</td>\n",
              "      <td>횡단중</td>\n",
              "      <td>횡단중</td>\n",
              "      <td>안전운전 의무 불이행</td>\n",
              "      <td>교차로</td>\n",
              "      <td>교차로부근</td>\n",
              "      <td>승용차</td>\n",
              "      <td>보행자</td>\n",
              "      <td>989194.0</td>\n",
              "      <td>1817621.0</td>\n",
              "      <td>127.379560</td>\n",
              "      <td>36.355946</td>\n",
              "      <td>19</td>\n",
              "    </tr>\n",
              "    <tr>\n",
              "      <th>4</th>\n",
              "      <td>2019</td>\n",
              "      <td>2019010121</td>\n",
              "      <td>야</td>\n",
              "      <td>화</td>\n",
              "      <td>1</td>\n",
              "      <td>0</td>\n",
              "      <td>0</td>\n",
              "      <td>0</td>\n",
              "      <td>0</td>\n",
              "      <td>경북</td>\n",
              "      <td>영천시</td>\n",
              "      <td>차대사람</td>\n",
              "      <td>기타</td>\n",
              "      <td>기타</td>\n",
              "      <td>안전운전 의무 불이행</td>\n",
              "      <td>단일로</td>\n",
              "      <td>기타단일로</td>\n",
              "      <td>승용차</td>\n",
              "      <td>보행자</td>\n",
              "      <td>1127700.0</td>\n",
              "      <td>1767912.0</td>\n",
              "      <td>128.915041</td>\n",
              "      <td>35.899506</td>\n",
              "      <td>21</td>\n",
              "    </tr>\n",
              "  </tbody>\n",
              "</table>\n",
              "</div>"
            ],
            "text/plain": [
              "    발생년      발생년월일시 주야 요일  ...  발생위치Y_UTMK          경도         위도  발생시간\n",
              "0  2019  2019010100  야  화  ...   1685987.0  129.152465  35.157884     0\n",
              "1  2019  2019010103  야  화  ...   1921233.0  126.857149  37.288292     3\n",
              "2  2019  2019010116  주  화  ...   1739893.0  128.609230  35.650108    16\n",
              "3  2019  2019010119  야  화  ...   1817621.0  127.379560  36.355946    19\n",
              "4  2019  2019010121  야  화  ...   1767912.0  128.915041  35.899506    21\n",
              "\n",
              "[5 rows x 24 columns]"
            ]
          },
          "metadata": {
            "tags": []
          },
          "execution_count": 8
        }
      ]
    },
    {
      "cell_type": "code",
      "metadata": {
        "id": "TUqBZsaJicm3"
      },
      "source": [
        "# 2019010100 -> 20190101 추출 -> 2019-01-01 (날짜형태 YYYY-MM-DD 형태로 변경)\n",
        "#df['발생년월일시'] = pd.to_datetime(df['발생년월일시'], errors='raise')\n",
        "\n",
        "df['발생년월일시'] = pd.to_datetime(df['발생년월일시'].str[:8],\n",
        "                               format = '%Y-%m-%d', errors='raise')\n",
        "#erros='raise' 에러가 나면 알려달라는 함수\n",
        "\n",
        "#format 형식은 약속임 Y는 대문자 m,d는 소문자\n",
        "# pd.to_datetime() => datetime 형식으로 바꿔준다.\n",
        "\n",
        "# <<<<<< 오류가 났는데 런타임 다시 시작하고 위에서부터 재실행하니 해결됐음 >>>>>>"
      ],
      "execution_count": null,
      "outputs": []
    },
    {
      "cell_type": "markdown",
      "metadata": {
        "id": "l7zmHaDdjcsH"
      },
      "source": [
        "* 2019년 지역별 교통사고 데이터 시각화"
      ]
    },
    {
      "cell_type": "markdown",
      "metadata": {
        "id": "8TV1lSeZsYPg"
      },
      "source": [
        "# 지도 활용하여 교통사고 현황 분석"
      ]
    },
    {
      "cell_type": "markdown",
      "metadata": {
        "id": "kiY1kXQIwKoI"
      },
      "source": [
        "### 사망자수, 경상자수에 따른 CircleMarker 지도에 표출하기"
      ]
    },
    {
      "cell_type": "markdown",
      "metadata": {
        "id": "rPgyQtB12E-b"
      },
      "source": [
        "#지역별 교통사고 데이터 Practice"
      ]
    },
    {
      "cell_type": "markdown",
      "metadata": {
        "id": "IuLssWPP18PK"
      },
      "source": [
        "###1) 선택한 지역의 교통사고 발생 시간 별/구 별 사망자 현황<br>\n",
        "###2) 지도 활용하여 교통사고 현황 분석"
      ]
    },
    {
      "cell_type": "markdown",
      "metadata": {
        "id": "23FsF4852IbB"
      },
      "source": [
        "1) 선택한 지역의 교통사고 발생 시간 별/구 별 사망자 현황"
      ]
    },
    {
      "cell_type": "code",
      "metadata": {
        "colab": {
          "base_uri": "https://localhost:8080/"
        },
        "id": "vmL7YvvT2NAo",
        "outputId": "e7f721cb-4253-4978-e647-d1d29a706fab"
      },
      "source": [
        "df_cb = df[df.발생지시도 == '충북']\n",
        "df_cb.info()"
      ],
      "execution_count": null,
      "outputs": [
        {
          "output_type": "stream",
          "text": [
            "<class 'pandas.core.frame.DataFrame'>\n",
            "Int64Index: 178 entries, 5 to 3170\n",
            "Data columns (total 24 columns):\n",
            " #   Column      Non-Null Count  Dtype         \n",
            "---  ------      --------------  -----         \n",
            " 0   발생년         178 non-null    int64         \n",
            " 1   발생년월일시      178 non-null    datetime64[ns]\n",
            " 2   주야          178 non-null    object        \n",
            " 3   요일          178 non-null    object        \n",
            " 4   사망자수        178 non-null    int64         \n",
            " 5   부상자수        178 non-null    int64         \n",
            " 6   중상자수        178 non-null    int64         \n",
            " 7   경상자수        178 non-null    int64         \n",
            " 8   부상신고자수      178 non-null    int64         \n",
            " 9   발생지시도       178 non-null    object        \n",
            " 10  발생지시군구      178 non-null    object        \n",
            " 11  사고유형_대분류    178 non-null    object        \n",
            " 12  사고유형_중분류    178 non-null    object        \n",
            " 13  사고유형        178 non-null    object        \n",
            " 14  가해자법규위반     178 non-null    object        \n",
            " 15  도로형태_대분류    178 non-null    object        \n",
            " 16  도로형태        178 non-null    object        \n",
            " 17  가해자_당사자종별   178 non-null    object        \n",
            " 18  피해자_당사자종별   178 non-null    object        \n",
            " 19  발생위치X_UTMK  178 non-null    float64       \n",
            " 20  발생위치Y_UTMK  178 non-null    float64       \n",
            " 21  경도          178 non-null    float64       \n",
            " 22  위도          178 non-null    float64       \n",
            " 23  발생시간        178 non-null    int64         \n",
            "dtypes: datetime64[ns](1), float64(4), int64(7), object(12)\n",
            "memory usage: 34.8+ KB\n"
          ],
          "name": "stdout"
        }
      ]
    },
    {
      "cell_type": "code",
      "metadata": {
        "colab": {
          "base_uri": "https://localhost:8080/",
          "height": 542
        },
        "id": "6kejd8lR2bhS",
        "outputId": "613155bb-7c11-4f4c-f55c-63a078c3d71f"
      },
      "source": [
        "fig = px.bar(df_cb, x='사망자수', y='발생시간', orientation='h',\n",
        "             title='교통사고 발생 시간 별/구 별 사망자 현황')\n",
        "fig.show()"
      ],
      "execution_count": null,
      "outputs": [
        {
          "output_type": "display_data",
          "data": {
            "text/html": [
              "<html>\n",
              "<head><meta charset=\"utf-8\" /></head>\n",
              "<body>\n",
              "    <div>\n",
              "            <script src=\"https://cdnjs.cloudflare.com/ajax/libs/mathjax/2.7.5/MathJax.js?config=TeX-AMS-MML_SVG\"></script><script type=\"text/javascript\">if (window.MathJax) {MathJax.Hub.Config({SVG: {font: \"STIX-Web\"}});}</script>\n",
              "                <script type=\"text/javascript\">window.PlotlyConfig = {MathJaxConfig: 'local'};</script>\n",
              "        <script src=\"https://cdn.plot.ly/plotly-latest.min.js\"></script>    \n",
              "            <div id=\"0f5a063e-7e1b-4627-aa6a-5360db0ef87c\" class=\"plotly-graph-div\" style=\"height:525px; width:100%;\"></div>\n",
              "            <script type=\"text/javascript\">\n",
              "                \n",
              "                    window.PLOTLYENV=window.PLOTLYENV || {};\n",
              "                    \n",
              "                if (document.getElementById(\"0f5a063e-7e1b-4627-aa6a-5360db0ef87c\")) {\n",
              "                    Plotly.newPlot(\n",
              "                        '0f5a063e-7e1b-4627-aa6a-5360db0ef87c',\n",
              "                        [{\"alignmentgroup\": \"True\", \"hoverlabel\": {\"namelength\": 0}, \"hovertemplate\": \"\\uc0ac\\ub9dd\\uc790\\uc218=%{x}<br>\\ubc1c\\uc0dd\\uc2dc\\uac04=%{y}\", \"legendgroup\": \"\", \"marker\": {\"color\": \"#636efa\"}, \"name\": \"\", \"offsetgroup\": \"\", \"orientation\": \"h\", \"showlegend\": false, \"textposition\": \"auto\", \"type\": \"bar\", \"x\": [1, 1, 1, 1, 1, 1, 1, 1, 1, 1, 1, 1, 1, 1, 1, 1, 1, 1, 1, 1, 1, 1, 1, 1, 1, 1, 1, 1, 1, 1, 1, 1, 1, 1, 1, 1, 1, 1, 1, 1, 1, 1, 1, 1, 1, 1, 1, 1, 1, 1, 1, 1, 1, 1, 1, 1, 1, 1, 1, 1, 1, 1, 1, 1, 1, 1, 1, 1, 1, 1, 1, 1, 1, 1, 1, 2, 1, 1, 1, 1, 1, 1, 1, 1, 1, 1, 1, 1, 1, 1, 2, 1, 2, 1, 1, 1, 1, 1, 1, 1, 1, 1, 1, 2, 1, 1, 1, 1, 1, 1, 1, 1, 1, 1, 1, 1, 1, 1, 1, 1, 1, 2, 1, 1, 1, 1, 1, 1, 1, 1, 1, 1, 1, 1, 1, 1, 1, 1, 1, 1, 1, 1, 1, 1, 1, 1, 1, 1, 1, 2, 1, 1, 1, 1, 1, 1, 1, 1, 1, 1, 1, 1, 1, 1, 4, 1, 1, 1, 1, 1, 1, 1, 1, 1, 2, 1, 1, 1], \"xaxis\": \"x\", \"y\": [3, 15, 20, 14, 5, 5, 22, 10, 19, 11, 13, 7, 10, 3, 21, 20, 17, 13, 16, 22, 12, 18, 8, 16, 23, 7, 3, 0, 10, 22, 5, 3, 13, 19, 14, 8, 18, 5, 21, 14, 2, 10, 8, 19, 3, 15, 14, 16, 6, 21, 2, 0, 10, 14, 0, 2, 13, 15, 19, 20, 3, 20, 23, 12, 17, 19, 7, 10, 10, 14, 5, 12, 10, 8, 8, 12, 10, 9, 9, 12, 16, 10, 12, 18, 19, 21, 0, 16, 4, 11, 15, 16, 17, 11, 15, 22, 1, 10, 8, 12, 4, 3, 15, 11, 10, 13, 7, 21, 17, 2, 10, 10, 1, 4, 4, 5, 15, 21, 7, 10, 23, 16, 2, 14, 6, 19, 5, 4, 19, 16, 19, 12, 8, 12, 18, 7, 18, 21, 13, 22, 10, 14, 19, 19, 18, 5, 19, 21, 6, 16, 6, 1, 20, 15, 22, 20, 19, 6, 14, 18, 18, 6, 19, 12, 16, 22, 7, 18, 14, 18, 5, 6, 18, 0, 5, 21, 19, 4], \"yaxis\": \"y\"}],\n",
              "                        {\"barmode\": \"relative\", \"legend\": {\"tracegroupgap\": 0}, \"template\": {\"data\": {\"bar\": [{\"error_x\": {\"color\": \"#2a3f5f\"}, \"error_y\": {\"color\": \"#2a3f5f\"}, \"marker\": {\"line\": {\"color\": \"#E5ECF6\", \"width\": 0.5}}, \"type\": \"bar\"}], \"barpolar\": [{\"marker\": {\"line\": {\"color\": \"#E5ECF6\", \"width\": 0.5}}, \"type\": \"barpolar\"}], \"carpet\": [{\"aaxis\": {\"endlinecolor\": \"#2a3f5f\", \"gridcolor\": \"white\", \"linecolor\": \"white\", \"minorgridcolor\": \"white\", \"startlinecolor\": \"#2a3f5f\"}, \"baxis\": {\"endlinecolor\": \"#2a3f5f\", \"gridcolor\": \"white\", \"linecolor\": \"white\", \"minorgridcolor\": \"white\", \"startlinecolor\": \"#2a3f5f\"}, \"type\": \"carpet\"}], \"choropleth\": [{\"colorbar\": {\"outlinewidth\": 0, \"ticks\": \"\"}, \"type\": \"choropleth\"}], \"contour\": [{\"colorbar\": {\"outlinewidth\": 0, \"ticks\": \"\"}, \"colorscale\": [[0.0, \"#0d0887\"], [0.1111111111111111, \"#46039f\"], [0.2222222222222222, \"#7201a8\"], [0.3333333333333333, \"#9c179e\"], [0.4444444444444444, \"#bd3786\"], [0.5555555555555556, \"#d8576b\"], [0.6666666666666666, \"#ed7953\"], [0.7777777777777778, \"#fb9f3a\"], [0.8888888888888888, \"#fdca26\"], [1.0, \"#f0f921\"]], \"type\": \"contour\"}], \"contourcarpet\": [{\"colorbar\": {\"outlinewidth\": 0, \"ticks\": \"\"}, \"type\": \"contourcarpet\"}], \"heatmap\": [{\"colorbar\": {\"outlinewidth\": 0, \"ticks\": \"\"}, \"colorscale\": [[0.0, \"#0d0887\"], [0.1111111111111111, \"#46039f\"], [0.2222222222222222, \"#7201a8\"], [0.3333333333333333, \"#9c179e\"], [0.4444444444444444, \"#bd3786\"], [0.5555555555555556, \"#d8576b\"], [0.6666666666666666, \"#ed7953\"], [0.7777777777777778, \"#fb9f3a\"], [0.8888888888888888, \"#fdca26\"], [1.0, \"#f0f921\"]], \"type\": \"heatmap\"}], \"heatmapgl\": [{\"colorbar\": {\"outlinewidth\": 0, \"ticks\": \"\"}, \"colorscale\": [[0.0, \"#0d0887\"], [0.1111111111111111, \"#46039f\"], [0.2222222222222222, \"#7201a8\"], [0.3333333333333333, \"#9c179e\"], [0.4444444444444444, \"#bd3786\"], [0.5555555555555556, \"#d8576b\"], [0.6666666666666666, \"#ed7953\"], [0.7777777777777778, \"#fb9f3a\"], [0.8888888888888888, \"#fdca26\"], [1.0, \"#f0f921\"]], \"type\": \"heatmapgl\"}], \"histogram\": [{\"marker\": {\"colorbar\": {\"outlinewidth\": 0, \"ticks\": \"\"}}, \"type\": \"histogram\"}], \"histogram2d\": [{\"colorbar\": {\"outlinewidth\": 0, \"ticks\": \"\"}, \"colorscale\": [[0.0, \"#0d0887\"], [0.1111111111111111, \"#46039f\"], [0.2222222222222222, \"#7201a8\"], [0.3333333333333333, \"#9c179e\"], [0.4444444444444444, \"#bd3786\"], [0.5555555555555556, \"#d8576b\"], [0.6666666666666666, \"#ed7953\"], [0.7777777777777778, \"#fb9f3a\"], [0.8888888888888888, \"#fdca26\"], [1.0, \"#f0f921\"]], \"type\": \"histogram2d\"}], \"histogram2dcontour\": [{\"colorbar\": {\"outlinewidth\": 0, \"ticks\": \"\"}, \"colorscale\": [[0.0, \"#0d0887\"], [0.1111111111111111, \"#46039f\"], [0.2222222222222222, \"#7201a8\"], [0.3333333333333333, \"#9c179e\"], [0.4444444444444444, \"#bd3786\"], [0.5555555555555556, \"#d8576b\"], [0.6666666666666666, \"#ed7953\"], [0.7777777777777778, \"#fb9f3a\"], [0.8888888888888888, \"#fdca26\"], [1.0, \"#f0f921\"]], \"type\": \"histogram2dcontour\"}], \"mesh3d\": [{\"colorbar\": {\"outlinewidth\": 0, \"ticks\": \"\"}, \"type\": \"mesh3d\"}], \"parcoords\": [{\"line\": {\"colorbar\": {\"outlinewidth\": 0, \"ticks\": \"\"}}, \"type\": \"parcoords\"}], \"pie\": [{\"automargin\": true, \"type\": \"pie\"}], \"scatter\": [{\"marker\": {\"colorbar\": {\"outlinewidth\": 0, \"ticks\": \"\"}}, \"type\": \"scatter\"}], \"scatter3d\": [{\"line\": {\"colorbar\": {\"outlinewidth\": 0, \"ticks\": \"\"}}, \"marker\": {\"colorbar\": {\"outlinewidth\": 0, \"ticks\": \"\"}}, \"type\": \"scatter3d\"}], \"scattercarpet\": [{\"marker\": {\"colorbar\": {\"outlinewidth\": 0, \"ticks\": \"\"}}, \"type\": \"scattercarpet\"}], \"scattergeo\": [{\"marker\": {\"colorbar\": {\"outlinewidth\": 0, \"ticks\": \"\"}}, \"type\": \"scattergeo\"}], \"scattergl\": [{\"marker\": {\"colorbar\": {\"outlinewidth\": 0, \"ticks\": \"\"}}, \"type\": \"scattergl\"}], \"scattermapbox\": [{\"marker\": {\"colorbar\": {\"outlinewidth\": 0, \"ticks\": \"\"}}, \"type\": \"scattermapbox\"}], \"scatterpolar\": [{\"marker\": {\"colorbar\": {\"outlinewidth\": 0, \"ticks\": \"\"}}, \"type\": \"scatterpolar\"}], \"scatterpolargl\": [{\"marker\": {\"colorbar\": {\"outlinewidth\": 0, \"ticks\": \"\"}}, \"type\": \"scatterpolargl\"}], \"scatterternary\": [{\"marker\": {\"colorbar\": {\"outlinewidth\": 0, \"ticks\": \"\"}}, \"type\": \"scatterternary\"}], \"surface\": [{\"colorbar\": {\"outlinewidth\": 0, \"ticks\": \"\"}, \"colorscale\": [[0.0, \"#0d0887\"], [0.1111111111111111, \"#46039f\"], [0.2222222222222222, \"#7201a8\"], [0.3333333333333333, \"#9c179e\"], [0.4444444444444444, \"#bd3786\"], [0.5555555555555556, \"#d8576b\"], [0.6666666666666666, \"#ed7953\"], [0.7777777777777778, \"#fb9f3a\"], [0.8888888888888888, \"#fdca26\"], [1.0, \"#f0f921\"]], \"type\": \"surface\"}], \"table\": [{\"cells\": {\"fill\": {\"color\": \"#EBF0F8\"}, \"line\": {\"color\": \"white\"}}, \"header\": {\"fill\": {\"color\": \"#C8D4E3\"}, \"line\": {\"color\": \"white\"}}, \"type\": \"table\"}]}, \"layout\": {\"annotationdefaults\": {\"arrowcolor\": \"#2a3f5f\", \"arrowhead\": 0, \"arrowwidth\": 1}, \"coloraxis\": {\"colorbar\": {\"outlinewidth\": 0, \"ticks\": \"\"}}, \"colorscale\": {\"diverging\": [[0, \"#8e0152\"], [0.1, \"#c51b7d\"], [0.2, \"#de77ae\"], [0.3, \"#f1b6da\"], [0.4, \"#fde0ef\"], [0.5, \"#f7f7f7\"], [0.6, \"#e6f5d0\"], [0.7, \"#b8e186\"], [0.8, \"#7fbc41\"], [0.9, \"#4d9221\"], [1, \"#276419\"]], \"sequential\": [[0.0, \"#0d0887\"], [0.1111111111111111, \"#46039f\"], [0.2222222222222222, \"#7201a8\"], [0.3333333333333333, \"#9c179e\"], [0.4444444444444444, \"#bd3786\"], [0.5555555555555556, \"#d8576b\"], [0.6666666666666666, \"#ed7953\"], [0.7777777777777778, \"#fb9f3a\"], [0.8888888888888888, \"#fdca26\"], [1.0, \"#f0f921\"]], \"sequentialminus\": [[0.0, \"#0d0887\"], [0.1111111111111111, \"#46039f\"], [0.2222222222222222, \"#7201a8\"], [0.3333333333333333, \"#9c179e\"], [0.4444444444444444, \"#bd3786\"], [0.5555555555555556, \"#d8576b\"], [0.6666666666666666, \"#ed7953\"], [0.7777777777777778, \"#fb9f3a\"], [0.8888888888888888, \"#fdca26\"], [1.0, \"#f0f921\"]]}, \"colorway\": [\"#636efa\", \"#EF553B\", \"#00cc96\", \"#ab63fa\", \"#FFA15A\", \"#19d3f3\", \"#FF6692\", \"#B6E880\", \"#FF97FF\", \"#FECB52\"], \"font\": {\"color\": \"#2a3f5f\"}, \"geo\": {\"bgcolor\": \"white\", \"lakecolor\": \"white\", \"landcolor\": \"#E5ECF6\", \"showlakes\": true, \"showland\": true, \"subunitcolor\": \"white\"}, \"hoverlabel\": {\"align\": \"left\"}, \"hovermode\": \"closest\", \"mapbox\": {\"style\": \"light\"}, \"paper_bgcolor\": \"white\", \"plot_bgcolor\": \"#E5ECF6\", \"polar\": {\"angularaxis\": {\"gridcolor\": \"white\", \"linecolor\": \"white\", \"ticks\": \"\"}, \"bgcolor\": \"#E5ECF6\", \"radialaxis\": {\"gridcolor\": \"white\", \"linecolor\": \"white\", \"ticks\": \"\"}}, \"scene\": {\"xaxis\": {\"backgroundcolor\": \"#E5ECF6\", \"gridcolor\": \"white\", \"gridwidth\": 2, \"linecolor\": \"white\", \"showbackground\": true, \"ticks\": \"\", \"zerolinecolor\": \"white\"}, \"yaxis\": {\"backgroundcolor\": \"#E5ECF6\", \"gridcolor\": \"white\", \"gridwidth\": 2, \"linecolor\": \"white\", \"showbackground\": true, \"ticks\": \"\", \"zerolinecolor\": \"white\"}, \"zaxis\": {\"backgroundcolor\": \"#E5ECF6\", \"gridcolor\": \"white\", \"gridwidth\": 2, \"linecolor\": \"white\", \"showbackground\": true, \"ticks\": \"\", \"zerolinecolor\": \"white\"}}, \"shapedefaults\": {\"line\": {\"color\": \"#2a3f5f\"}}, \"ternary\": {\"aaxis\": {\"gridcolor\": \"white\", \"linecolor\": \"white\", \"ticks\": \"\"}, \"baxis\": {\"gridcolor\": \"white\", \"linecolor\": \"white\", \"ticks\": \"\"}, \"bgcolor\": \"#E5ECF6\", \"caxis\": {\"gridcolor\": \"white\", \"linecolor\": \"white\", \"ticks\": \"\"}}, \"title\": {\"x\": 0.05}, \"xaxis\": {\"automargin\": true, \"gridcolor\": \"white\", \"linecolor\": \"white\", \"ticks\": \"\", \"title\": {\"standoff\": 15}, \"zerolinecolor\": \"white\", \"zerolinewidth\": 2}, \"yaxis\": {\"automargin\": true, \"gridcolor\": \"white\", \"linecolor\": \"white\", \"ticks\": \"\", \"title\": {\"standoff\": 15}, \"zerolinecolor\": \"white\", \"zerolinewidth\": 2}}}, \"title\": {\"text\": \"\\uad50\\ud1b5\\uc0ac\\uace0 \\ubc1c\\uc0dd \\uc2dc\\uac04 \\ubcc4/\\uad6c \\ubcc4 \\uc0ac\\ub9dd\\uc790 \\ud604\\ud669\"}, \"xaxis\": {\"anchor\": \"y\", \"domain\": [0.0, 1.0], \"title\": {\"text\": \"\\uc0ac\\ub9dd\\uc790\\uc218\"}}, \"yaxis\": {\"anchor\": \"x\", \"domain\": [0.0, 1.0], \"title\": {\"text\": \"\\ubc1c\\uc0dd\\uc2dc\\uac04\"}}},\n",
              "                        {\"responsive\": true}\n",
              "                    ).then(function(){\n",
              "                            \n",
              "var gd = document.getElementById('0f5a063e-7e1b-4627-aa6a-5360db0ef87c');\n",
              "var x = new MutationObserver(function (mutations, observer) {{\n",
              "        var display = window.getComputedStyle(gd).display;\n",
              "        if (!display || display === 'none') {{\n",
              "            console.log([gd, 'removed!']);\n",
              "            Plotly.purge(gd);\n",
              "            observer.disconnect();\n",
              "        }}\n",
              "}});\n",
              "\n",
              "// Listen for the removal of the full notebook cells\n",
              "var notebookContainer = gd.closest('#notebook-container');\n",
              "if (notebookContainer) {{\n",
              "    x.observe(notebookContainer, {childList: true});\n",
              "}}\n",
              "\n",
              "// Listen for the clearing of the current output cell\n",
              "var outputEl = gd.closest('.output');\n",
              "if (outputEl) {{\n",
              "    x.observe(outputEl, {childList: true});\n",
              "}}\n",
              "\n",
              "                        })\n",
              "                };\n",
              "                \n",
              "            </script>\n",
              "        </div>\n",
              "</body>\n",
              "</html>"
            ]
          },
          "metadata": {
            "tags": []
          }
        }
      ]
    },
    {
      "cell_type": "markdown",
      "metadata": {
        "id": "F40hETWyac2g"
      },
      "source": [
        "# 구글맵에 검색하고 지표를 오른쪽 마우스를 누르면 경도 위도를 알 수 있음"
      ]
    },
    {
      "cell_type": "code",
      "metadata": {
        "id": "dv4nVqgZ2goh"
      },
      "source": [
        "import folium\n",
        "# 36.6358262, 127.4826005 충청북도 도청의 좌표값\n",
        "\n",
        "\n",
        "map_cb = folium.Map(location=[36.6358262, 127.4826005])\n"
      ],
      "execution_count": null,
      "outputs": []
    },
    {
      "cell_type": "markdown",
      "metadata": {
        "id": "G1DAaqgNabTP"
      },
      "source": [
        ""
      ]
    },
    {
      "cell_type": "code",
      "metadata": {
        "colab": {
          "base_uri": "https://localhost:8080/",
          "height": 916
        },
        "id": "bS_SbP8B5TiE",
        "outputId": "8671289f-5397-401b-e1cc-318f831f5634"
      },
      "source": [
        "map_cb"
      ],
      "execution_count": null,
      "outputs": [
        {
          "output_type": "execute_result",
          "data": {
            "text/html": [
              "<div style=\"width:100%;\"><div style=\"position:relative;width:100%;height:0;padding-bottom:60%;\"><span style=\"color:#565656\">Make this Notebook Trusted to load map: File -> Trust Notebook</span><iframe src=\"about:blank\" style=\"position:absolute;width:100%;height:100%;left:0;top:0;border:none !important;\" data-html=%3C%21DOCTYPE%20html%3E%0A%3Chead%3E%20%20%20%20%0A%20%20%20%20%3Cmeta%20http-equiv%3D%22content-type%22%20content%3D%22text/html%3B%20charset%3DUTF-8%22%20/%3E%0A%20%20%20%20%3Cscript%3EL_PREFER_CANVAS%3Dfalse%3B%20L_NO_TOUCH%3Dfalse%3B%20L_DISABLE_3D%3Dfalse%3B%3C/script%3E%0A%20%20%20%20%3Cscript%20src%3D%22https%3A//cdn.jsdelivr.net/npm/leaflet%401.4.0/dist/leaflet.js%22%3E%3C/script%3E%0A%20%20%20%20%3Cscript%20src%3D%22https%3A//code.jquery.com/jquery-1.12.4.min.js%22%3E%3C/script%3E%0A%20%20%20%20%3Cscript%20src%3D%22https%3A//maxcdn.bootstrapcdn.com/bootstrap/3.2.0/js/bootstrap.min.js%22%3E%3C/script%3E%0A%20%20%20%20%3Cscript%20src%3D%22https%3A//cdnjs.cloudflare.com/ajax/libs/Leaflet.awesome-markers/2.0.2/leaflet.awesome-markers.js%22%3E%3C/script%3E%0A%20%20%20%20%3Clink%20rel%3D%22stylesheet%22%20href%3D%22https%3A//cdn.jsdelivr.net/npm/leaflet%401.4.0/dist/leaflet.css%22/%3E%0A%20%20%20%20%3Clink%20rel%3D%22stylesheet%22%20href%3D%22https%3A//maxcdn.bootstrapcdn.com/bootstrap/3.2.0/css/bootstrap.min.css%22/%3E%0A%20%20%20%20%3Clink%20rel%3D%22stylesheet%22%20href%3D%22https%3A//maxcdn.bootstrapcdn.com/bootstrap/3.2.0/css/bootstrap-theme.min.css%22/%3E%0A%20%20%20%20%3Clink%20rel%3D%22stylesheet%22%20href%3D%22https%3A//maxcdn.bootstrapcdn.com/font-awesome/4.6.3/css/font-awesome.min.css%22/%3E%0A%20%20%20%20%3Clink%20rel%3D%22stylesheet%22%20href%3D%22https%3A//cdnjs.cloudflare.com/ajax/libs/Leaflet.awesome-markers/2.0.2/leaflet.awesome-markers.css%22/%3E%0A%20%20%20%20%3Clink%20rel%3D%22stylesheet%22%20href%3D%22https%3A//rawcdn.githack.com/python-visualization/folium/master/folium/templates/leaflet.awesome.rotate.css%22/%3E%0A%20%20%20%20%3Cstyle%3Ehtml%2C%20body%20%7Bwidth%3A%20100%25%3Bheight%3A%20100%25%3Bmargin%3A%200%3Bpadding%3A%200%3B%7D%3C/style%3E%0A%20%20%20%20%3Cstyle%3E%23map%20%7Bposition%3Aabsolute%3Btop%3A0%3Bbottom%3A0%3Bright%3A0%3Bleft%3A0%3B%7D%3C/style%3E%0A%20%20%20%20%0A%20%20%20%20%3Cmeta%20name%3D%22viewport%22%20content%3D%22width%3Ddevice-width%2C%0A%20%20%20%20%20%20%20%20initial-scale%3D1.0%2C%20maximum-scale%3D1.0%2C%20user-scalable%3Dno%22%20/%3E%0A%20%20%20%20%3Cstyle%3E%23map_d558f936520947b18b8fe1e35c9daa42%20%7B%0A%20%20%20%20%20%20%20%20position%3A%20relative%3B%0A%20%20%20%20%20%20%20%20width%3A%20100.0%25%3B%0A%20%20%20%20%20%20%20%20height%3A%20100.0%25%3B%0A%20%20%20%20%20%20%20%20left%3A%200.0%25%3B%0A%20%20%20%20%20%20%20%20top%3A%200.0%25%3B%0A%20%20%20%20%20%20%20%20%7D%0A%20%20%20%20%3C/style%3E%0A%3C/head%3E%0A%3Cbody%3E%20%20%20%20%0A%20%20%20%20%0A%20%20%20%20%3Cdiv%20class%3D%22folium-map%22%20id%3D%22map_d558f936520947b18b8fe1e35c9daa42%22%20%3E%3C/div%3E%0A%3C/body%3E%0A%3Cscript%3E%20%20%20%20%0A%20%20%20%20%0A%20%20%20%20%0A%20%20%20%20%20%20%20%20var%20bounds%20%3D%20null%3B%0A%20%20%20%20%0A%0A%20%20%20%20var%20map_d558f936520947b18b8fe1e35c9daa42%20%3D%20L.map%28%0A%20%20%20%20%20%20%20%20%27map_d558f936520947b18b8fe1e35c9daa42%27%2C%20%7B%0A%20%20%20%20%20%20%20%20center%3A%20%5B36.6358262%2C%20127.4826005%5D%2C%0A%20%20%20%20%20%20%20%20zoom%3A%2010%2C%0A%20%20%20%20%20%20%20%20maxBounds%3A%20bounds%2C%0A%20%20%20%20%20%20%20%20layers%3A%20%5B%5D%2C%0A%20%20%20%20%20%20%20%20worldCopyJump%3A%20false%2C%0A%20%20%20%20%20%20%20%20crs%3A%20L.CRS.EPSG3857%2C%0A%20%20%20%20%20%20%20%20zoomControl%3A%20true%2C%0A%20%20%20%20%20%20%20%20%7D%29%3B%0A%0A%0A%20%20%20%20%0A%20%20%20%20var%20tile_layer_9ea5e82b50b84321a54cf74669d39852%20%3D%20L.tileLayer%28%0A%20%20%20%20%20%20%20%20%27https%3A//%7Bs%7D.tile.openstreetmap.org/%7Bz%7D/%7Bx%7D/%7By%7D.png%27%2C%0A%20%20%20%20%20%20%20%20%7B%0A%20%20%20%20%20%20%20%20%22attribution%22%3A%20null%2C%0A%20%20%20%20%20%20%20%20%22detectRetina%22%3A%20false%2C%0A%20%20%20%20%20%20%20%20%22maxNativeZoom%22%3A%2018%2C%0A%20%20%20%20%20%20%20%20%22maxZoom%22%3A%2018%2C%0A%20%20%20%20%20%20%20%20%22minZoom%22%3A%200%2C%0A%20%20%20%20%20%20%20%20%22noWrap%22%3A%20false%2C%0A%20%20%20%20%20%20%20%20%22opacity%22%3A%201%2C%0A%20%20%20%20%20%20%20%20%22subdomains%22%3A%20%22abc%22%2C%0A%20%20%20%20%20%20%20%20%22tms%22%3A%20false%0A%7D%29.addTo%28map_d558f936520947b18b8fe1e35c9daa42%29%3B%0A%3C/script%3E onload=\"this.contentDocument.open();this.contentDocument.write(    decodeURIComponent(this.getAttribute('data-html')));this.contentDocument.close();\" allowfullscreen webkitallowfullscreen mozallowfullscreen></iframe></div></div>"
            ],
            "text/plain": [
              "<folium.folium.Map at 0x7f540a39b410>"
            ]
          },
          "metadata": {
            "tags": []
          },
          "execution_count": 13
        }
      ]
    },
    {
      "cell_type": "code",
      "metadata": {
        "colab": {
          "base_uri": "https://localhost:8080/"
        },
        "id": "THDOUkhd9VkU",
        "outputId": "494927b1-24ed-44ff-e22b-4ebb9002a861"
      },
      "source": [
        "df_cb.info()"
      ],
      "execution_count": null,
      "outputs": [
        {
          "output_type": "stream",
          "text": [
            "<class 'pandas.core.frame.DataFrame'>\n",
            "Int64Index: 178 entries, 5 to 3170\n",
            "Data columns (total 24 columns):\n",
            " #   Column      Non-Null Count  Dtype         \n",
            "---  ------      --------------  -----         \n",
            " 0   발생년         178 non-null    int64         \n",
            " 1   발생년월일시      178 non-null    datetime64[ns]\n",
            " 2   주야          178 non-null    object        \n",
            " 3   요일          178 non-null    object        \n",
            " 4   사망자수        178 non-null    int64         \n",
            " 5   부상자수        178 non-null    int64         \n",
            " 6   중상자수        178 non-null    int64         \n",
            " 7   경상자수        178 non-null    int64         \n",
            " 8   부상신고자수      178 non-null    int64         \n",
            " 9   발생지시도       178 non-null    object        \n",
            " 10  발생지시군구      178 non-null    object        \n",
            " 11  사고유형_대분류    178 non-null    object        \n",
            " 12  사고유형_중분류    178 non-null    object        \n",
            " 13  사고유형        178 non-null    object        \n",
            " 14  가해자법규위반     178 non-null    object        \n",
            " 15  도로형태_대분류    178 non-null    object        \n",
            " 16  도로형태        178 non-null    object        \n",
            " 17  가해자_당사자종별   178 non-null    object        \n",
            " 18  피해자_당사자종별   178 non-null    object        \n",
            " 19  발생위치X_UTMK  178 non-null    float64       \n",
            " 20  발생위치Y_UTMK  178 non-null    float64       \n",
            " 21  경도          178 non-null    float64       \n",
            " 22  위도          178 non-null    float64       \n",
            " 23  발생시간        178 non-null    int64         \n",
            "dtypes: datetime64[ns](1), float64(4), int64(7), object(12)\n",
            "memory usage: 34.8+ KB\n"
          ],
          "name": "stdout"
        }
      ]
    },
    {
      "cell_type": "code",
      "metadata": {
        "id": "ZUfKmlGm4XYh"
      },
      "source": [
        "df_cb = df_cb.astype({'사망자수' : 'float64'})\n",
        "df_cb = df_cb.astype({'경상자수' : 'float64'})\n",
        "df_cb = df_cb.astype({'중상자수' : 'float64'})\n",
        "df_cb = df_cb.astype({'부상자수' : 'float64'})"
      ],
      "execution_count": null,
      "outputs": []
    },
    {
      "cell_type": "code",
      "metadata": {
        "id": "wj-p4rD44cB5"
      },
      "source": [
        "for n in df_cb.index:\n",
        "  cnt = df_cb['사망자수'][n] + df_cb['경상자수'][n] # 사망자수 + 경상자 수 -> CircleMarker 사이즈\n",
        "  folium.CircleMarker([df_cb['위도'][n], df_cb['경도'][n]],\n",
        "                       radius=cnt*10, popup=df_cb['사고유형'][n], color= '#3186cc', fill_color='#3186cc').add_to(map_cb)\n",
        "\n",
        "map_cb.save('충청북도 교통사고 현황.html')"
      ],
      "execution_count": null,
      "outputs": []
    },
    {
      "cell_type": "markdown",
      "metadata": {
        "id": "o6WFJJmR4hxP"
      },
      "source": [
        "#청주시 교통사고 현황 알아보기"
      ]
    },
    {
      "cell_type": "code",
      "metadata": {
        "colab": {
          "base_uri": "https://localhost:8080/"
        },
        "id": "Goli9uJL82ja",
        "outputId": "5b1a28a6-5fb9-43fb-84c0-06a5a406c31d"
      },
      "source": [
        "df = pd.read_csv('/content/도로교통공단_교통사고 정보.csv', encoding = 'euc-kr')\n",
        "df_cj = df[df.발생지시군구 == '청주시']\n",
        "df_cj.info()"
      ],
      "execution_count": null,
      "outputs": [
        {
          "output_type": "stream",
          "text": [
            "<class 'pandas.core.frame.DataFrame'>\n",
            "Int64Index: 48 entries, 118 to 3170\n",
            "Data columns (total 23 columns):\n",
            " #   Column      Non-Null Count  Dtype  \n",
            "---  ------      --------------  -----  \n",
            " 0   발생년         48 non-null     int64  \n",
            " 1   발생년월일시      48 non-null     int64  \n",
            " 2   주야          48 non-null     object \n",
            " 3   요일          48 non-null     object \n",
            " 4   사망자수        48 non-null     int64  \n",
            " 5   부상자수        48 non-null     int64  \n",
            " 6   중상자수        48 non-null     int64  \n",
            " 7   경상자수        48 non-null     int64  \n",
            " 8   부상신고자수      48 non-null     int64  \n",
            " 9   발생지시도       48 non-null     object \n",
            " 10  발생지시군구      48 non-null     object \n",
            " 11  사고유형_대분류    48 non-null     object \n",
            " 12  사고유형_중분류    48 non-null     object \n",
            " 13  사고유형        48 non-null     object \n",
            " 14  가해자법규위반     48 non-null     object \n",
            " 15  도로형태_대분류    48 non-null     object \n",
            " 16  도로형태        48 non-null     object \n",
            " 17  가해자_당사자종별   48 non-null     object \n",
            " 18  피해자_당사자종별   48 non-null     object \n",
            " 19  발생위치X_UTMK  48 non-null     float64\n",
            " 20  발생위치Y_UTMK  48 non-null     float64\n",
            " 21  경도          48 non-null     float64\n",
            " 22  위도          48 non-null     float64\n",
            "dtypes: float64(4), int64(7), object(12)\n",
            "memory usage: 9.0+ KB\n"
          ],
          "name": "stdout"
        }
      ]
    },
    {
      "cell_type": "code",
      "metadata": {
        "colab": {
          "base_uri": "https://localhost:8080/",
          "height": 542
        },
        "id": "wlmLKfYK860o",
        "outputId": "4fb831af-8dff-4481-f876-bd16f6863561"
      },
      "source": [
        "fig = px.bar(df_cj, x='사망자수', y='요일', orientation='h',\n",
        "             title='교통사고 발생 시간 별/구 별 사망자 현황')\n",
        "fig.show()"
      ],
      "execution_count": null,
      "outputs": [
        {
          "output_type": "display_data",
          "data": {
            "text/html": [
              "<html>\n",
              "<head><meta charset=\"utf-8\" /></head>\n",
              "<body>\n",
              "    <div>\n",
              "            <script src=\"https://cdnjs.cloudflare.com/ajax/libs/mathjax/2.7.5/MathJax.js?config=TeX-AMS-MML_SVG\"></script><script type=\"text/javascript\">if (window.MathJax) {MathJax.Hub.Config({SVG: {font: \"STIX-Web\"}});}</script>\n",
              "                <script type=\"text/javascript\">window.PlotlyConfig = {MathJaxConfig: 'local'};</script>\n",
              "        <script src=\"https://cdn.plot.ly/plotly-latest.min.js\"></script>    \n",
              "            <div id=\"f3e2dd84-42a9-4c3e-9583-c13c2f0c6de0\" class=\"plotly-graph-div\" style=\"height:525px; width:100%;\"></div>\n",
              "            <script type=\"text/javascript\">\n",
              "                \n",
              "                    window.PLOTLYENV=window.PLOTLYENV || {};\n",
              "                    \n",
              "                if (document.getElementById(\"f3e2dd84-42a9-4c3e-9583-c13c2f0c6de0\")) {\n",
              "                    Plotly.newPlot(\n",
              "                        'f3e2dd84-42a9-4c3e-9583-c13c2f0c6de0',\n",
              "                        [{\"alignmentgroup\": \"True\", \"hoverlabel\": {\"namelength\": 0}, \"hovertemplate\": \"\\uc0ac\\ub9dd\\uc790\\uc218=%{x}<br>\\uc694\\uc77c=%{y}\", \"legendgroup\": \"\", \"marker\": {\"color\": \"#636efa\"}, \"name\": \"\", \"offsetgroup\": \"\", \"orientation\": \"h\", \"showlegend\": false, \"textposition\": \"auto\", \"type\": \"bar\", \"x\": [1, 1, 1, 1, 1, 1, 1, 1, 1, 1, 1, 1, 1, 1, 1, 1, 1, 1, 1, 1, 1, 1, 1, 1, 1, 1, 1, 1, 1, 1, 1, 1, 1, 1, 1, 1, 1, 1, 1, 1, 1, 1, 1, 1, 1, 2, 1, 1], \"xaxis\": \"x\", \"y\": [\"\\ud654\", \"\\ubaa9\", \"\\ud1a0\", \"\\ud654\", \"\\uc6d4\", \"\\uc218\", \"\\ubaa9\", \"\\uc77c\", \"\\ud654\", \"\\uc77c\", \"\\ud1a0\", \"\\uc6d4\", \"\\ud654\", \"\\ud654\", \"\\uc218\", \"\\uae08\", \"\\ubaa9\", \"\\ud1a0\", \"\\uc77c\", \"\\uc6d4\", \"\\ud1a0\", \"\\uc77c\", \"\\uae08\", \"\\uc77c\", \"\\uc218\", \"\\uc77c\", \"\\uc218\", \"\\ubaa9\", \"\\uc77c\", \"\\ud1a0\", \"\\uc77c\", \"\\ubaa9\", \"\\uc6d4\", \"\\uc218\", \"\\uc218\", \"\\uae08\", \"\\ud654\", \"\\ubaa9\", \"\\uc6d4\", \"\\ubaa9\", \"\\ubaa9\", \"\\uae08\", \"\\uc6d4\", \"\\ud654\", \"\\uae08\", \"\\uae08\", \"\\uae08\", \"\\ud654\"], \"yaxis\": \"y\"}],\n",
              "                        {\"barmode\": \"relative\", \"legend\": {\"tracegroupgap\": 0}, \"template\": {\"data\": {\"bar\": [{\"error_x\": {\"color\": \"#2a3f5f\"}, \"error_y\": {\"color\": \"#2a3f5f\"}, \"marker\": {\"line\": {\"color\": \"#E5ECF6\", \"width\": 0.5}}, \"type\": \"bar\"}], \"barpolar\": [{\"marker\": {\"line\": {\"color\": \"#E5ECF6\", \"width\": 0.5}}, \"type\": \"barpolar\"}], \"carpet\": [{\"aaxis\": {\"endlinecolor\": \"#2a3f5f\", \"gridcolor\": \"white\", \"linecolor\": \"white\", \"minorgridcolor\": \"white\", \"startlinecolor\": \"#2a3f5f\"}, \"baxis\": {\"endlinecolor\": \"#2a3f5f\", \"gridcolor\": \"white\", \"linecolor\": \"white\", \"minorgridcolor\": \"white\", \"startlinecolor\": \"#2a3f5f\"}, \"type\": \"carpet\"}], \"choropleth\": [{\"colorbar\": {\"outlinewidth\": 0, \"ticks\": \"\"}, \"type\": \"choropleth\"}], \"contour\": [{\"colorbar\": {\"outlinewidth\": 0, \"ticks\": \"\"}, \"colorscale\": [[0.0, \"#0d0887\"], [0.1111111111111111, \"#46039f\"], [0.2222222222222222, \"#7201a8\"], [0.3333333333333333, \"#9c179e\"], [0.4444444444444444, \"#bd3786\"], [0.5555555555555556, \"#d8576b\"], [0.6666666666666666, \"#ed7953\"], [0.7777777777777778, \"#fb9f3a\"], [0.8888888888888888, \"#fdca26\"], [1.0, \"#f0f921\"]], \"type\": \"contour\"}], \"contourcarpet\": [{\"colorbar\": {\"outlinewidth\": 0, \"ticks\": \"\"}, \"type\": \"contourcarpet\"}], \"heatmap\": [{\"colorbar\": {\"outlinewidth\": 0, \"ticks\": \"\"}, \"colorscale\": [[0.0, \"#0d0887\"], [0.1111111111111111, \"#46039f\"], [0.2222222222222222, \"#7201a8\"], [0.3333333333333333, \"#9c179e\"], [0.4444444444444444, \"#bd3786\"], [0.5555555555555556, \"#d8576b\"], [0.6666666666666666, \"#ed7953\"], [0.7777777777777778, \"#fb9f3a\"], [0.8888888888888888, \"#fdca26\"], [1.0, \"#f0f921\"]], \"type\": \"heatmap\"}], \"heatmapgl\": [{\"colorbar\": {\"outlinewidth\": 0, \"ticks\": \"\"}, \"colorscale\": [[0.0, \"#0d0887\"], [0.1111111111111111, \"#46039f\"], [0.2222222222222222, \"#7201a8\"], [0.3333333333333333, \"#9c179e\"], [0.4444444444444444, \"#bd3786\"], [0.5555555555555556, \"#d8576b\"], [0.6666666666666666, \"#ed7953\"], [0.7777777777777778, \"#fb9f3a\"], [0.8888888888888888, \"#fdca26\"], [1.0, \"#f0f921\"]], \"type\": \"heatmapgl\"}], \"histogram\": [{\"marker\": {\"colorbar\": {\"outlinewidth\": 0, \"ticks\": \"\"}}, \"type\": \"histogram\"}], \"histogram2d\": [{\"colorbar\": {\"outlinewidth\": 0, \"ticks\": \"\"}, \"colorscale\": [[0.0, \"#0d0887\"], [0.1111111111111111, \"#46039f\"], [0.2222222222222222, \"#7201a8\"], [0.3333333333333333, \"#9c179e\"], [0.4444444444444444, \"#bd3786\"], [0.5555555555555556, \"#d8576b\"], [0.6666666666666666, \"#ed7953\"], [0.7777777777777778, \"#fb9f3a\"], [0.8888888888888888, \"#fdca26\"], [1.0, \"#f0f921\"]], \"type\": \"histogram2d\"}], \"histogram2dcontour\": [{\"colorbar\": {\"outlinewidth\": 0, \"ticks\": \"\"}, \"colorscale\": [[0.0, \"#0d0887\"], [0.1111111111111111, \"#46039f\"], [0.2222222222222222, \"#7201a8\"], [0.3333333333333333, \"#9c179e\"], [0.4444444444444444, \"#bd3786\"], [0.5555555555555556, \"#d8576b\"], [0.6666666666666666, \"#ed7953\"], [0.7777777777777778, \"#fb9f3a\"], [0.8888888888888888, \"#fdca26\"], [1.0, \"#f0f921\"]], \"type\": \"histogram2dcontour\"}], \"mesh3d\": [{\"colorbar\": {\"outlinewidth\": 0, \"ticks\": \"\"}, \"type\": \"mesh3d\"}], \"parcoords\": [{\"line\": {\"colorbar\": {\"outlinewidth\": 0, \"ticks\": \"\"}}, \"type\": \"parcoords\"}], \"pie\": [{\"automargin\": true, \"type\": \"pie\"}], \"scatter\": [{\"marker\": {\"colorbar\": {\"outlinewidth\": 0, \"ticks\": \"\"}}, \"type\": \"scatter\"}], \"scatter3d\": [{\"line\": {\"colorbar\": {\"outlinewidth\": 0, \"ticks\": \"\"}}, \"marker\": {\"colorbar\": {\"outlinewidth\": 0, \"ticks\": \"\"}}, \"type\": \"scatter3d\"}], \"scattercarpet\": [{\"marker\": {\"colorbar\": {\"outlinewidth\": 0, \"ticks\": \"\"}}, \"type\": \"scattercarpet\"}], \"scattergeo\": [{\"marker\": {\"colorbar\": {\"outlinewidth\": 0, \"ticks\": \"\"}}, \"type\": \"scattergeo\"}], \"scattergl\": [{\"marker\": {\"colorbar\": {\"outlinewidth\": 0, \"ticks\": \"\"}}, \"type\": \"scattergl\"}], \"scattermapbox\": [{\"marker\": {\"colorbar\": {\"outlinewidth\": 0, \"ticks\": \"\"}}, \"type\": \"scattermapbox\"}], \"scatterpolar\": [{\"marker\": {\"colorbar\": {\"outlinewidth\": 0, \"ticks\": \"\"}}, \"type\": \"scatterpolar\"}], \"scatterpolargl\": [{\"marker\": {\"colorbar\": {\"outlinewidth\": 0, \"ticks\": \"\"}}, \"type\": \"scatterpolargl\"}], \"scatterternary\": [{\"marker\": {\"colorbar\": {\"outlinewidth\": 0, \"ticks\": \"\"}}, \"type\": \"scatterternary\"}], \"surface\": [{\"colorbar\": {\"outlinewidth\": 0, \"ticks\": \"\"}, \"colorscale\": [[0.0, \"#0d0887\"], [0.1111111111111111, \"#46039f\"], [0.2222222222222222, \"#7201a8\"], [0.3333333333333333, \"#9c179e\"], [0.4444444444444444, \"#bd3786\"], [0.5555555555555556, \"#d8576b\"], [0.6666666666666666, \"#ed7953\"], [0.7777777777777778, \"#fb9f3a\"], [0.8888888888888888, \"#fdca26\"], [1.0, \"#f0f921\"]], \"type\": \"surface\"}], \"table\": [{\"cells\": {\"fill\": {\"color\": \"#EBF0F8\"}, \"line\": {\"color\": \"white\"}}, \"header\": {\"fill\": {\"color\": \"#C8D4E3\"}, \"line\": {\"color\": \"white\"}}, \"type\": \"table\"}]}, \"layout\": {\"annotationdefaults\": {\"arrowcolor\": \"#2a3f5f\", \"arrowhead\": 0, \"arrowwidth\": 1}, \"coloraxis\": {\"colorbar\": {\"outlinewidth\": 0, \"ticks\": \"\"}}, \"colorscale\": {\"diverging\": [[0, \"#8e0152\"], [0.1, \"#c51b7d\"], [0.2, \"#de77ae\"], [0.3, \"#f1b6da\"], [0.4, \"#fde0ef\"], [0.5, \"#f7f7f7\"], [0.6, \"#e6f5d0\"], [0.7, \"#b8e186\"], [0.8, \"#7fbc41\"], [0.9, \"#4d9221\"], [1, \"#276419\"]], \"sequential\": [[0.0, \"#0d0887\"], [0.1111111111111111, \"#46039f\"], [0.2222222222222222, \"#7201a8\"], [0.3333333333333333, \"#9c179e\"], [0.4444444444444444, \"#bd3786\"], [0.5555555555555556, \"#d8576b\"], [0.6666666666666666, \"#ed7953\"], [0.7777777777777778, \"#fb9f3a\"], [0.8888888888888888, \"#fdca26\"], [1.0, \"#f0f921\"]], \"sequentialminus\": [[0.0, \"#0d0887\"], [0.1111111111111111, \"#46039f\"], [0.2222222222222222, \"#7201a8\"], [0.3333333333333333, \"#9c179e\"], [0.4444444444444444, \"#bd3786\"], [0.5555555555555556, \"#d8576b\"], [0.6666666666666666, \"#ed7953\"], [0.7777777777777778, \"#fb9f3a\"], [0.8888888888888888, \"#fdca26\"], [1.0, \"#f0f921\"]]}, \"colorway\": [\"#636efa\", \"#EF553B\", \"#00cc96\", \"#ab63fa\", \"#FFA15A\", \"#19d3f3\", \"#FF6692\", \"#B6E880\", \"#FF97FF\", \"#FECB52\"], \"font\": {\"color\": \"#2a3f5f\"}, \"geo\": {\"bgcolor\": \"white\", \"lakecolor\": \"white\", \"landcolor\": \"#E5ECF6\", \"showlakes\": true, \"showland\": true, \"subunitcolor\": \"white\"}, \"hoverlabel\": {\"align\": \"left\"}, \"hovermode\": \"closest\", \"mapbox\": {\"style\": \"light\"}, \"paper_bgcolor\": \"white\", \"plot_bgcolor\": \"#E5ECF6\", \"polar\": {\"angularaxis\": {\"gridcolor\": \"white\", \"linecolor\": \"white\", \"ticks\": \"\"}, \"bgcolor\": \"#E5ECF6\", \"radialaxis\": {\"gridcolor\": \"white\", \"linecolor\": \"white\", \"ticks\": \"\"}}, \"scene\": {\"xaxis\": {\"backgroundcolor\": \"#E5ECF6\", \"gridcolor\": \"white\", \"gridwidth\": 2, \"linecolor\": \"white\", \"showbackground\": true, \"ticks\": \"\", \"zerolinecolor\": \"white\"}, \"yaxis\": {\"backgroundcolor\": \"#E5ECF6\", \"gridcolor\": \"white\", \"gridwidth\": 2, \"linecolor\": \"white\", \"showbackground\": true, \"ticks\": \"\", \"zerolinecolor\": \"white\"}, \"zaxis\": {\"backgroundcolor\": \"#E5ECF6\", \"gridcolor\": \"white\", \"gridwidth\": 2, \"linecolor\": \"white\", \"showbackground\": true, \"ticks\": \"\", \"zerolinecolor\": \"white\"}}, \"shapedefaults\": {\"line\": {\"color\": \"#2a3f5f\"}}, \"ternary\": {\"aaxis\": {\"gridcolor\": \"white\", \"linecolor\": \"white\", \"ticks\": \"\"}, \"baxis\": {\"gridcolor\": \"white\", \"linecolor\": \"white\", \"ticks\": \"\"}, \"bgcolor\": \"#E5ECF6\", \"caxis\": {\"gridcolor\": \"white\", \"linecolor\": \"white\", \"ticks\": \"\"}}, \"title\": {\"x\": 0.05}, \"xaxis\": {\"automargin\": true, \"gridcolor\": \"white\", \"linecolor\": \"white\", \"ticks\": \"\", \"title\": {\"standoff\": 15}, \"zerolinecolor\": \"white\", \"zerolinewidth\": 2}, \"yaxis\": {\"automargin\": true, \"gridcolor\": \"white\", \"linecolor\": \"white\", \"ticks\": \"\", \"title\": {\"standoff\": 15}, \"zerolinecolor\": \"white\", \"zerolinewidth\": 2}}}, \"title\": {\"text\": \"\\uad50\\ud1b5\\uc0ac\\uace0 \\ubc1c\\uc0dd \\uc2dc\\uac04 \\ubcc4/\\uad6c \\ubcc4 \\uc0ac\\ub9dd\\uc790 \\ud604\\ud669\"}, \"xaxis\": {\"anchor\": \"y\", \"domain\": [0.0, 1.0], \"title\": {\"text\": \"\\uc0ac\\ub9dd\\uc790\\uc218\"}}, \"yaxis\": {\"anchor\": \"x\", \"domain\": [0.0, 1.0], \"title\": {\"text\": \"\\uc694\\uc77c\"}}},\n",
              "                        {\"responsive\": true}\n",
              "                    ).then(function(){\n",
              "                            \n",
              "var gd = document.getElementById('f3e2dd84-42a9-4c3e-9583-c13c2f0c6de0');\n",
              "var x = new MutationObserver(function (mutations, observer) {{\n",
              "        var display = window.getComputedStyle(gd).display;\n",
              "        if (!display || display === 'none') {{\n",
              "            console.log([gd, 'removed!']);\n",
              "            Plotly.purge(gd);\n",
              "            observer.disconnect();\n",
              "        }}\n",
              "}});\n",
              "\n",
              "// Listen for the removal of the full notebook cells\n",
              "var notebookContainer = gd.closest('#notebook-container');\n",
              "if (notebookContainer) {{\n",
              "    x.observe(notebookContainer, {childList: true});\n",
              "}}\n",
              "\n",
              "// Listen for the clearing of the current output cell\n",
              "var outputEl = gd.closest('.output');\n",
              "if (outputEl) {{\n",
              "    x.observe(outputEl, {childList: true});\n",
              "}}\n",
              "\n",
              "                        })\n",
              "                };\n",
              "                \n",
              "            </script>\n",
              "        </div>\n",
              "</body>\n",
              "</html>"
            ]
          },
          "metadata": {
            "tags": []
          }
        }
      ]
    },
    {
      "cell_type": "code",
      "metadata": {
        "id": "RPfxO7Ks_nct"
      },
      "source": [
        "import folium\n",
        "# 청주 시청 좌표값: 36.642040078059374, 127.48873251096673\n",
        "\n",
        "\n",
        "map_cj = folium.Map(location=[36.642040078059374, 127.48873251096673])\n"
      ],
      "execution_count": null,
      "outputs": []
    },
    {
      "cell_type": "code",
      "metadata": {
        "colab": {
          "base_uri": "https://localhost:8080/",
          "height": 916
        },
        "id": "T_sb42WG_10i",
        "outputId": "a1d6a23b-8027-4ff0-d783-89d6d0d1b1ab"
      },
      "source": [
        "map_cj"
      ],
      "execution_count": null,
      "outputs": [
        {
          "output_type": "execute_result",
          "data": {
            "text/html": [
              "<div style=\"width:100%;\"><div style=\"position:relative;width:100%;height:0;padding-bottom:60%;\"><span style=\"color:#565656\">Make this Notebook Trusted to load map: File -> Trust Notebook</span><iframe src=\"about:blank\" style=\"position:absolute;width:100%;height:100%;left:0;top:0;border:none !important;\" data-html=%3C%21DOCTYPE%20html%3E%0A%3Chead%3E%20%20%20%20%0A%20%20%20%20%3Cmeta%20http-equiv%3D%22content-type%22%20content%3D%22text/html%3B%20charset%3DUTF-8%22%20/%3E%0A%20%20%20%20%3Cscript%3EL_PREFER_CANVAS%3Dfalse%3B%20L_NO_TOUCH%3Dfalse%3B%20L_DISABLE_3D%3Dfalse%3B%3C/script%3E%0A%20%20%20%20%3Cscript%20src%3D%22https%3A//cdn.jsdelivr.net/npm/leaflet%401.4.0/dist/leaflet.js%22%3E%3C/script%3E%0A%20%20%20%20%3Cscript%20src%3D%22https%3A//code.jquery.com/jquery-1.12.4.min.js%22%3E%3C/script%3E%0A%20%20%20%20%3Cscript%20src%3D%22https%3A//maxcdn.bootstrapcdn.com/bootstrap/3.2.0/js/bootstrap.min.js%22%3E%3C/script%3E%0A%20%20%20%20%3Cscript%20src%3D%22https%3A//cdnjs.cloudflare.com/ajax/libs/Leaflet.awesome-markers/2.0.2/leaflet.awesome-markers.js%22%3E%3C/script%3E%0A%20%20%20%20%3Clink%20rel%3D%22stylesheet%22%20href%3D%22https%3A//cdn.jsdelivr.net/npm/leaflet%401.4.0/dist/leaflet.css%22/%3E%0A%20%20%20%20%3Clink%20rel%3D%22stylesheet%22%20href%3D%22https%3A//maxcdn.bootstrapcdn.com/bootstrap/3.2.0/css/bootstrap.min.css%22/%3E%0A%20%20%20%20%3Clink%20rel%3D%22stylesheet%22%20href%3D%22https%3A//maxcdn.bootstrapcdn.com/bootstrap/3.2.0/css/bootstrap-theme.min.css%22/%3E%0A%20%20%20%20%3Clink%20rel%3D%22stylesheet%22%20href%3D%22https%3A//maxcdn.bootstrapcdn.com/font-awesome/4.6.3/css/font-awesome.min.css%22/%3E%0A%20%20%20%20%3Clink%20rel%3D%22stylesheet%22%20href%3D%22https%3A//cdnjs.cloudflare.com/ajax/libs/Leaflet.awesome-markers/2.0.2/leaflet.awesome-markers.css%22/%3E%0A%20%20%20%20%3Clink%20rel%3D%22stylesheet%22%20href%3D%22https%3A//rawcdn.githack.com/python-visualization/folium/master/folium/templates/leaflet.awesome.rotate.css%22/%3E%0A%20%20%20%20%3Cstyle%3Ehtml%2C%20body%20%7Bwidth%3A%20100%25%3Bheight%3A%20100%25%3Bmargin%3A%200%3Bpadding%3A%200%3B%7D%3C/style%3E%0A%20%20%20%20%3Cstyle%3E%23map%20%7Bposition%3Aabsolute%3Btop%3A0%3Bbottom%3A0%3Bright%3A0%3Bleft%3A0%3B%7D%3C/style%3E%0A%20%20%20%20%0A%20%20%20%20%3Cmeta%20name%3D%22viewport%22%20content%3D%22width%3Ddevice-width%2C%0A%20%20%20%20%20%20%20%20initial-scale%3D1.0%2C%20maximum-scale%3D1.0%2C%20user-scalable%3Dno%22%20/%3E%0A%20%20%20%20%3Cstyle%3E%23map_653c2e044dad4f1c9aaec7dd32d0862e%20%7B%0A%20%20%20%20%20%20%20%20position%3A%20relative%3B%0A%20%20%20%20%20%20%20%20width%3A%20100.0%25%3B%0A%20%20%20%20%20%20%20%20height%3A%20100.0%25%3B%0A%20%20%20%20%20%20%20%20left%3A%200.0%25%3B%0A%20%20%20%20%20%20%20%20top%3A%200.0%25%3B%0A%20%20%20%20%20%20%20%20%7D%0A%20%20%20%20%3C/style%3E%0A%3C/head%3E%0A%3Cbody%3E%20%20%20%20%0A%20%20%20%20%0A%20%20%20%20%3Cdiv%20class%3D%22folium-map%22%20id%3D%22map_653c2e044dad4f1c9aaec7dd32d0862e%22%20%3E%3C/div%3E%0A%3C/body%3E%0A%3Cscript%3E%20%20%20%20%0A%20%20%20%20%0A%20%20%20%20%0A%20%20%20%20%20%20%20%20var%20bounds%20%3D%20null%3B%0A%20%20%20%20%0A%0A%20%20%20%20var%20map_653c2e044dad4f1c9aaec7dd32d0862e%20%3D%20L.map%28%0A%20%20%20%20%20%20%20%20%27map_653c2e044dad4f1c9aaec7dd32d0862e%27%2C%20%7B%0A%20%20%20%20%20%20%20%20center%3A%20%5B36.642040078059374%2C%20127.48873251096673%5D%2C%0A%20%20%20%20%20%20%20%20zoom%3A%2010%2C%0A%20%20%20%20%20%20%20%20maxBounds%3A%20bounds%2C%0A%20%20%20%20%20%20%20%20layers%3A%20%5B%5D%2C%0A%20%20%20%20%20%20%20%20worldCopyJump%3A%20false%2C%0A%20%20%20%20%20%20%20%20crs%3A%20L.CRS.EPSG3857%2C%0A%20%20%20%20%20%20%20%20zoomControl%3A%20true%2C%0A%20%20%20%20%20%20%20%20%7D%29%3B%0A%0A%0A%20%20%20%20%0A%20%20%20%20var%20tile_layer_f2cf4757d9ec435dbf9d5e969286cac6%20%3D%20L.tileLayer%28%0A%20%20%20%20%20%20%20%20%27https%3A//%7Bs%7D.tile.openstreetmap.org/%7Bz%7D/%7Bx%7D/%7By%7D.png%27%2C%0A%20%20%20%20%20%20%20%20%7B%0A%20%20%20%20%20%20%20%20%22attribution%22%3A%20null%2C%0A%20%20%20%20%20%20%20%20%22detectRetina%22%3A%20false%2C%0A%20%20%20%20%20%20%20%20%22maxNativeZoom%22%3A%2018%2C%0A%20%20%20%20%20%20%20%20%22maxZoom%22%3A%2018%2C%0A%20%20%20%20%20%20%20%20%22minZoom%22%3A%200%2C%0A%20%20%20%20%20%20%20%20%22noWrap%22%3A%20false%2C%0A%20%20%20%20%20%20%20%20%22opacity%22%3A%201%2C%0A%20%20%20%20%20%20%20%20%22subdomains%22%3A%20%22abc%22%2C%0A%20%20%20%20%20%20%20%20%22tms%22%3A%20false%0A%7D%29.addTo%28map_653c2e044dad4f1c9aaec7dd32d0862e%29%3B%0A%3C/script%3E onload=\"this.contentDocument.open();this.contentDocument.write(    decodeURIComponent(this.getAttribute('data-html')));this.contentDocument.close();\" allowfullscreen webkitallowfullscreen mozallowfullscreen></iframe></div></div>"
            ],
            "text/plain": [
              "<folium.folium.Map at 0x7f54097413d0>"
            ]
          },
          "metadata": {
            "tags": []
          },
          "execution_count": 24
        }
      ]
    },
    {
      "cell_type": "code",
      "metadata": {
        "id": "JrjXCzkT9LgC"
      },
      "source": [
        "df_cj = df_cj.astype({'사망자수' : 'float64'})\n",
        "df_cj = df_cj.astype({'경상자수' : 'float64'})\n",
        "df_cj = df_cj.astype({'중상자수' : 'float64'})\n",
        "df_cj = df_cj.astype({'부상자수' : 'float64'})"
      ],
      "execution_count": null,
      "outputs": []
    },
    {
      "cell_type": "code",
      "metadata": {
        "id": "A9aPGJ2Z_XFs"
      },
      "source": [
        "for n in df_cj.index:\n",
        "  cnt = df_cj['사망자수'][n] + df_cj['경상자수'][n] # 사망자수 + 경상자 수 -> CircleMarker 사이즈\n",
        "  folium.CircleMarker([df_cj['위도'][n], df_cj['경도'][n]],\n",
        "                       radius=cnt*10, popup=df_cj['사고유형'][n], color= '#3186cc', fill_color='#3186cc').add_to(map_cj)\n",
        "\n",
        "map_cj.save('청주시 교통사고 현황.html')"
      ],
      "execution_count": null,
      "outputs": []
    },
    {
      "cell_type": "code",
      "metadata": {
        "id": "CJGdFnOF_7V3"
      },
      "source": [
        ""
      ],
      "execution_count": null,
      "outputs": []
    }
  ]
}