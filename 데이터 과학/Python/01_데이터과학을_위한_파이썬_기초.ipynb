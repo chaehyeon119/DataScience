{
  "nbformat": 4,
  "nbformat_minor": 0,
  "metadata": {
    "colab": {
      "name": "01_데이터과학을 위한 파이썬 기초.ipynb",
      "provenance": [],
      "collapsed_sections": [],
      "authorship_tag": "ABX9TyM8ADmEicYvTeQK8SRcg+8a",
      "include_colab_link": true
    },
    "kernelspec": {
      "name": "python3",
      "display_name": "Python 3"
    },
    "language_info": {
      "name": "python"
    }
  },
  "cells": [
    {
      "cell_type": "markdown",
      "metadata": {
        "id": "view-in-github",
        "colab_type": "text"
      },
      "source": [
        "<a href=\"https://colab.research.google.com/github/chaehyeon119/DataScience/blob/main/01_%EB%8D%B0%EC%9D%B4%ED%84%B0%EA%B3%BC%ED%95%99%EC%9D%84_%EC%9C%84%ED%95%9C_%ED%8C%8C%EC%9D%B4%EC%8D%AC_%EA%B8%B0%EC%B4%88.ipynb\" target=\"_parent\"><img src=\"https://colab.research.google.com/assets/colab-badge.svg\" alt=\"Open In Colab\"/></a>"
      ]
    },
    {
      "cell_type": "markdown",
      "metadata": {
        "id": "WNQc2YEuv1ra"
      },
      "source": [
        "strip() 공백 제거 함수"
      ]
    },
    {
      "cell_type": "code",
      "metadata": {
        "colab": {
          "base_uri": "https://localhost:8080/",
          "height": 35
        },
        "id": "3idAN5LHwYxr",
        "outputId": "9a3f397e-741f-44c6-dca7-63dd1f913437"
      },
      "source": [
        "st=\"Hello, World! \\t\\t\\n\" #모든 줄 바꿈과 탭(\\n, \\r,\\t)\n",
        "st"
      ],
      "execution_count": null,
      "outputs": [
        {
          "output_type": "execute_result",
          "data": {
            "application/vnd.google.colaboratory.intrinsic+json": {
              "type": "string"
            },
            "text/plain": [
              "'Hello, World! \\t\\t\\n'"
            ]
          },
          "metadata": {
            "tags": []
          },
          "execution_count": 2
        }
      ]
    },
    {
      "cell_type": "code",
      "metadata": {
        "colab": {
          "base_uri": "https://localhost:8080/",
          "height": 35
        },
        "id": "ju2vyWF-wQkz",
        "outputId": "c74914eb-111e-42ee-e9fe-743e396a2db6"
      },
      "source": [
        "st.strip() #모든 공백 제거"
      ],
      "execution_count": null,
      "outputs": [
        {
          "output_type": "execute_result",
          "data": {
            "application/vnd.google.colaboratory.intrinsic+json": {
              "type": "string"
            },
            "text/plain": [
              "'Hello, World!'"
            ]
          },
          "metadata": {
            "tags": []
          },
          "execution_count": 3
        }
      ]
    },
    {
      "cell_type": "code",
      "metadata": {
        "colab": {
          "base_uri": "https://localhost:8080/",
          "height": 35
        },
        "id": "o9xwqbCHwwc5",
        "outputId": "1e71c390-e5d2-4303-aa13-276f8f9f42dc"
      },
      "source": [
        "st.lstrip() #왼쪽 공백 제거"
      ],
      "execution_count": null,
      "outputs": [
        {
          "output_type": "execute_result",
          "data": {
            "application/vnd.google.colaboratory.intrinsic+json": {
              "type": "string"
            },
            "text/plain": [
              "'Hello, World! \\t\\t\\n'"
            ]
          },
          "metadata": {
            "tags": []
          },
          "execution_count": 4
        }
      ]
    },
    {
      "cell_type": "code",
      "metadata": {
        "colab": {
          "base_uri": "https://localhost:8080/",
          "height": 35
        },
        "id": "1CC0dz2Uw1Ff",
        "outputId": "b2ca019a-38c3-47eb-fe60-ca024566fac6"
      },
      "source": [
        "st.rstrip() #오른쪽 공백 제거"
      ],
      "execution_count": null,
      "outputs": [
        {
          "output_type": "execute_result",
          "data": {
            "application/vnd.google.colaboratory.intrinsic+json": {
              "type": "string"
            },
            "text/plain": [
              "'Hello, World!'"
            ]
          },
          "metadata": {
            "tags": []
          },
          "execution_count": 12
        }
      ]
    },
    {
      "cell_type": "markdown",
      "metadata": {
        "id": "2epxO9caxTyw"
      },
      "source": [
        "split(delim='') 문자열 자르기 함수"
      ]
    },
    {
      "cell_type": "code",
      "metadata": {
        "colab": {
          "base_uri": "https://localhost:8080/"
        },
        "id": "HIqRU9X_xZxh",
        "outputId": "d74e0b50-41c4-4c4f-c2bc-f497207ad797"
      },
      "source": [
        "'Hello, world'.split() #delim 구분자 -> default 공백"
      ],
      "execution_count": null,
      "outputs": [
        {
          "output_type": "execute_result",
          "data": {
            "text/plain": [
              "['Hello,', 'world']"
            ]
          },
          "metadata": {
            "tags": []
          },
          "execution_count": 14
        }
      ]
    },
    {
      "cell_type": "code",
      "metadata": {
        "colab": {
          "base_uri": "https://localhost:8080/"
        },
        "id": "LWaloC2dxmz0",
        "outputId": "0b4d59f9-6014-4a41-f641-3bcca85925b4"
      },
      "source": [
        "'Hello, world'.split(',') #구분자 => ,(콤마)"
      ],
      "execution_count": null,
      "outputs": [
        {
          "output_type": "execute_result",
          "data": {
            "text/plain": [
              "['Hello', ' world']"
            ]
          },
          "metadata": {
            "tags": []
          },
          "execution_count": 16
        }
      ]
    },
    {
      "cell_type": "code",
      "metadata": {
        "colab": {
          "base_uri": "https://localhost:8080/"
        },
        "id": "pW4JI6D3yIRC",
        "outputId": "c47475c3-90ae-441d-91d0-5fd30a3b2c37"
      },
      "source": [
        "\"www.networksciencelab.com\".split('.')"
      ],
      "execution_count": null,
      "outputs": [
        {
          "output_type": "execute_result",
          "data": {
            "text/plain": [
              "['www', 'networksciencelab', 'com']"
            ]
          },
          "metadata": {
            "tags": []
          },
          "execution_count": 17
        }
      ]
    },
    {
      "cell_type": "markdown",
      "metadata": {
        "id": "2wUoAWEpyr9d"
      },
      "source": [
        "join(ls) 문자열을 연결시키는 함수  /ls는 리스트의 약자"
      ]
    },
    {
      "cell_type": "code",
      "metadata": {
        "colab": {
          "base_uri": "https://localhost:8080/",
          "height": 35
        },
        "id": "4GgHWozWy5rG",
        "outputId": "dfb5c405-ac9a-47c1-dc91-aacdd08ff315"
      },
      "source": [
        "', '.join(['alpha', 'bravo', 'charlie', 'delta'])\n",
        "#문자열 리스트 ls 하나의 문자열로 붙임 -> 문자열 조각을 재조합 "
      ],
      "execution_count": null,
      "outputs": [
        {
          "output_type": "execute_result",
          "data": {
            "application/vnd.google.colaboratory.intrinsic+json": {
              "type": "string"
            },
            "text/plain": [
              "'alpha, bravo, charlie, delta'"
            ]
          },
          "metadata": {
            "tags": []
          },
          "execution_count": 19
        }
      ]
    },
    {
      "cell_type": "code",
      "metadata": {
        "colab": {
          "base_uri": "https://localhost:8080/",
          "height": 35
        },
        "id": "m7yUNXEfzRXr",
        "outputId": "61df80ea-0c10-4d8a-ea14-ac70c431bb10"
      },
      "source": [
        "\"-\".join(\"1.617.305.1985\".split(\".\"))"
      ],
      "execution_count": null,
      "outputs": [
        {
          "output_type": "execute_result",
          "data": {
            "application/vnd.google.colaboratory.intrinsic+json": {
              "type": "string"
            },
            "text/plain": [
              "'1-617-305-1985'"
            ]
          },
          "metadata": {
            "tags": []
          },
          "execution_count": 1
        }
      ]
    },
    {
      "cell_type": "code",
      "metadata": {
        "colab": {
          "base_uri": "https://localhost:8080/",
          "height": 35
        },
        "id": "8R4FPEv_zmsi",
        "outputId": "f22b4a4f-6d19-43eb-f64b-e6ab02689986"
      },
      "source": [
        "#1) \\n\\t 공백 데이터 기준으로 자르기\n",
        "ls='this string\\n\\r has many\\t\\tspaces'.split()\n",
        "#2) 공백 한칸으로 재조합\n",
        "' '.join(ls)"
      ],
      "execution_count": null,
      "outputs": [
        {
          "output_type": "execute_result",
          "data": {
            "application/vnd.google.colaboratory.intrinsic+json": {
              "type": "string"
            },
            "text/plain": [
              "'this string has many spaces'"
            ]
          },
          "metadata": {
            "tags": []
          },
          "execution_count": 6
        }
      ]
    },
    {
      "cell_type": "code",
      "metadata": {
        "colab": {
          "base_uri": "https://localhost:8080/",
          "height": 35
        },
        "id": "TBiITBNQ1sEg",
        "outputId": "6b4e4e0e-296e-40b2-d295-a2097c167f07"
      },
      "source": [
        "' '.join('this string\\n\\r has many\\t\\tspaces'.split())"
      ],
      "execution_count": null,
      "outputs": [
        {
          "output_type": "execute_result",
          "data": {
            "application/vnd.google.colaboratory.intrinsic+json": {
              "type": "string"
            },
            "text/plain": [
              "'this string has many spaces'"
            ]
          },
          "metadata": {
            "tags": []
          },
          "execution_count": 30
        }
      ]
    },
    {
      "cell_type": "markdown",
      "metadata": {
        "id": "hhDCY_nz17GX"
      },
      "source": [
        "find(needle) 해당 문자열에 부문 문자열 needle 처음 등장하는 인덱스 반환(위치) 없으면 -1 반환하는 함수(대소문자 구분)"
      ]
    },
    {
      "cell_type": "code",
      "metadata": {
        "colab": {
          "base_uri": "https://localhost:8080/"
        },
        "id": "qLI9VxjY15dv",
        "outputId": "eb19fa57-bf72-4b07-d885-43c0721d86a5"
      },
      "source": [
        "\"www.networksciencelab.com\".find('.com')"
      ],
      "execution_count": null,
      "outputs": [
        {
          "output_type": "execute_result",
          "data": {
            "text/plain": [
              "21"
            ]
          },
          "metadata": {
            "tags": []
          },
          "execution_count": 31
        }
      ]
    },
    {
      "cell_type": "code",
      "metadata": {
        "colab": {
          "base_uri": "https://localhost:8080/"
        },
        "id": "U0ypLFtm2HuV",
        "outputId": "96081379-41a4-4315-bd57-7eda8aa77ad0"
      },
      "source": [
        "\"www.networksciencelab.Com\".find('.com')\n",
        "#-1은 없다라는 뜻 정확하게 동일해야지만 찾을 수 있음\n",
        "#.Com => (x) .com"
      ],
      "execution_count": null,
      "outputs": [
        {
          "output_type": "execute_result",
          "data": {
            "text/plain": [
              "-1"
            ]
          },
          "metadata": {
            "tags": []
          },
          "execution_count": 33
        }
      ]
    },
    {
      "cell_type": "markdown",
      "metadata": {
        "id": "1YLg0c2f2lgf"
      },
      "source": [
        "count(needle) 해당 문자열에서 등장하는 횟수를 반환하는 함수 (대소문자 구분)"
      ]
    },
    {
      "cell_type": "code",
      "metadata": {
        "colab": {
          "base_uri": "https://localhost:8080/"
        },
        "id": "sGxUA1wM2drB",
        "outputId": "fa6d09c3-487f-490a-d42e-d2d0b8d1ab86"
      },
      "source": [
        "\"www.networksciencelab.com\".count('.')"
      ],
      "execution_count": null,
      "outputs": [
        {
          "output_type": "execute_result",
          "data": {
            "text/plain": [
              "2"
            ]
          },
          "metadata": {
            "tags": []
          },
          "execution_count": 35
        }
      ]
    },
    {
      "cell_type": "code",
      "metadata": {
        "colab": {
          "base_uri": "https://localhost:8080/"
        },
        "id": "FKnRNCn0227b",
        "outputId": "7d35672b-9160-4ed0-8dce-355a06f7ad7b"
      },
      "source": [
        "\"www.networksciencelab.com\".count('w')"
      ],
      "execution_count": null,
      "outputs": [
        {
          "output_type": "execute_result",
          "data": {
            "text/plain": [
              "4"
            ]
          },
          "metadata": {
            "tags": []
          },
          "execution_count": 37
        }
      ]
    },
    {
      "cell_type": "code",
      "metadata": {
        "colab": {
          "base_uri": "https://localhost:8080/"
        },
        "id": "E02Sohyg3EeJ",
        "outputId": "5b04df01-519b-45c9-a68f-569039ca69cc"
      },
      "source": [
        "\"www.networksciencelab.com\".count('C')\n",
        "#count 숫자를 세는 건 없으면 0"
      ],
      "execution_count": null,
      "outputs": [
        {
          "output_type": "execute_result",
          "data": {
            "text/plain": [
              "0"
            ]
          },
          "metadata": {
            "tags": []
          },
          "execution_count": 39
        }
      ]
    },
    {
      "cell_type": "markdown",
      "metadata": {
        "id": "jpT4GCze3Vtz"
      },
      "source": [
        "프리디케이트 함수 -> 문자열 s가 특정 클래스에 속하는지 True, False로 반환"
      ]
    },
    {
      "cell_type": "code",
      "metadata": {
        "colab": {
          "base_uri": "https://localhost:8080/"
        },
        "id": "-OiX9lO43Tp7",
        "outputId": "81a04e43-3991-4062-f58b-bacd50573c48"
      },
      "source": [
        "\"www.networksciencelab.com\".islower()\n",
        "#모든 알파벳 문자가 소문자인지 체크"
      ],
      "execution_count": null,
      "outputs": [
        {
          "output_type": "execute_result",
          "data": {
            "text/plain": [
              "True"
            ]
          },
          "metadata": {
            "tags": []
          },
          "execution_count": 41
        }
      ]
    },
    {
      "cell_type": "code",
      "metadata": {
        "colab": {
          "base_uri": "https://localhost:8080/"
        },
        "id": "LGmqPPfQ4QEy",
        "outputId": "4f53ef52-ef26-43b0-c11e-b72796a1a780"
      },
      "source": [
        "\"www.networksciencelab.com\".isupper()\n",
        "#모든 알파벳 문자가 대문자인지 체크"
      ],
      "execution_count": null,
      "outputs": [
        {
          "output_type": "execute_result",
          "data": {
            "text/plain": [
              "False"
            ]
          },
          "metadata": {
            "tags": []
          },
          "execution_count": 42
        }
      ]
    },
    {
      "cell_type": "code",
      "metadata": {
        "colab": {
          "base_uri": "https://localhost:8080/"
        },
        "id": "HBu1NOl84V6c",
        "outputId": "86a154d0-1114-41e6-afee-25327d4c4e13"
      },
      "source": [
        "\"www.networksciencelab.com\".isdigit()\n",
        "#0-9 사이 숫자인지 확인"
      ],
      "execution_count": null,
      "outputs": [
        {
          "output_type": "execute_result",
          "data": {
            "text/plain": [
              "False"
            ]
          },
          "metadata": {
            "tags": []
          },
          "execution_count": 45
        }
      ]
    },
    {
      "cell_type": "code",
      "metadata": {
        "colab": {
          "base_uri": "https://localhost:8080/"
        },
        "id": "3-lvZkDD4foV",
        "outputId": "b3deaea0-3895-4a26-f0d0-d5c766173445"
      },
      "source": [
        "\"www.networksciencelab.com\".isalpha()\n",
        "#dot(.) 제거해야만 True\n",
        "#순수하게 알파벳으로만 이루어졌는지 확인\n",
        "#숫자나 특수기호가 없어야 할 때 주로 적용"
      ],
      "execution_count": null,
      "outputs": [
        {
          "output_type": "execute_result",
          "data": {
            "text/plain": [
              "False"
            ]
          },
          "metadata": {
            "tags": []
          },
          "execution_count": 46
        }
      ]
    },
    {
      "cell_type": "code",
      "metadata": {
        "colab": {
          "base_uri": "https://localhost:8080/"
        },
        "id": "BTJDRtGL4qMv",
        "outputId": "b26bdadb-3fb3-4ce2-f07a-0467677c48e1"
      },
      "source": [
        "\"wwwnetworksciencelabcom\".isalpha()\n",
        "#알파벳(숫자, 특수기호x)인지 체크"
      ],
      "execution_count": null,
      "outputs": [
        {
          "output_type": "execute_result",
          "data": {
            "text/plain": [
              "True"
            ]
          },
          "metadata": {
            "tags": []
          },
          "execution_count": 47
        }
      ]
    },
    {
      "cell_type": "markdown",
      "metadata": {
        "id": "gA9mPc_m5Ca-"
      },
      "source": [
        "대 소문자 변환 함수-> 모든 문자 대소문자 변환(문자열 s의 복사본 반환)"
      ]
    },
    {
      "cell_type": "code",
      "metadata": {
        "colab": {
          "base_uri": "https://localhost:8080/",
          "height": 35
        },
        "id": "41PFN2Ps5JLG",
        "outputId": "98f5291b-9c7b-40b6-fa18-8f95a1b80f04"
      },
      "source": [
        "st= \"www.networksciencelab.com\".upper()\n",
        "st"
      ],
      "execution_count": null,
      "outputs": [
        {
          "output_type": "execute_result",
          "data": {
            "application/vnd.google.colaboratory.intrinsic+json": {
              "type": "string"
            },
            "text/plain": [
              "'WWW.NETWORKSCIENCELAB.COM'"
            ]
          },
          "metadata": {
            "tags": []
          },
          "execution_count": 48
        }
      ]
    },
    {
      "cell_type": "code",
      "metadata": {
        "colab": {
          "base_uri": "https://localhost:8080/",
          "height": 35
        },
        "id": "Hmv5DhIF5MbW",
        "outputId": "a6aeda8c-8799-46c8-a501-cccac5f6685d"
      },
      "source": [
        "st.lower()"
      ],
      "execution_count": null,
      "outputs": [
        {
          "output_type": "execute_result",
          "data": {
            "application/vnd.google.colaboratory.intrinsic+json": {
              "type": "string"
            },
            "text/plain": [
              "'www.networksciencelab.com'"
            ]
          },
          "metadata": {
            "tags": []
          },
          "execution_count": 49
        }
      ]
    },
    {
      "cell_type": "markdown",
      "metadata": {
        "id": "IbAqV2No5VZE"
      },
      "source": [
        "st는 변하지 않았음을 볼 수 있음\n",
        "복사본에 반환이 되었다."
      ]
    },
    {
      "cell_type": "code",
      "metadata": {
        "colab": {
          "base_uri": "https://localhost:8080/",
          "height": 35
        },
        "id": "q3szGAnz5Rd0",
        "outputId": "40dc281f-fe18-4d55-999b-403cde6e0feb"
      },
      "source": [
        "st"
      ],
      "execution_count": null,
      "outputs": [
        {
          "output_type": "execute_result",
          "data": {
            "application/vnd.google.colaboratory.intrinsic+json": {
              "type": "string"
            },
            "text/plain": [
              "'WWW.NETWORKSCIENCELAB.COM'"
            ]
          },
          "metadata": {
            "tags": []
          },
          "execution_count": 50
        }
      ]
    },
    {
      "cell_type": "markdown",
      "metadata": {
        "id": "7LkMj4uN5kJy"
      },
      "source": [
        "만약에 lower로 다 바꾸고 싶다면 다시 변수에 담아야함"
      ]
    },
    {
      "cell_type": "code",
      "metadata": {
        "colab": {
          "base_uri": "https://localhost:8080/",
          "height": 35
        },
        "id": "tcUebMwL5SKp",
        "outputId": "4277804e-2707-4a0c-c8a8-6feefc465e86"
      },
      "source": [
        "st=st.lower()\n",
        "st"
      ],
      "execution_count": null,
      "outputs": [
        {
          "output_type": "execute_result",
          "data": {
            "application/vnd.google.colaboratory.intrinsic+json": {
              "type": "string"
            },
            "text/plain": [
              "'www.networksciencelab.com'"
            ]
          },
          "metadata": {
            "tags": []
          },
          "execution_count": 51
        }
      ]
    },
    {
      "cell_type": "markdown",
      "metadata": {
        "id": "6_6lPPpKNx2S"
      },
      "source": [
        "2. 올바른 자료구조 선택하기 중복된 아이템이 있는 리스트-> myList"
      ]
    },
    {
      "cell_type": "code",
      "metadata": {
        "colab": {
          "base_uri": "https://localhost:8080/"
        },
        "id": "-U2N7CRKN9Zy",
        "outputId": "a1c615e0-5f3b-45ac-d729-3892b472e29a"
      },
      "source": [
        "myList = \"This string\\n\\r has many\\t\\tspaces\\tThis string\\n\\r has many\\t\\tspaces\".split()\n",
        "myList"
      ],
      "execution_count": null,
      "outputs": [
        {
          "output_type": "execute_result",
          "data": {
            "text/plain": [
              "['This',\n",
              " 'string',\n",
              " 'has',\n",
              " 'many',\n",
              " 'spaces',\n",
              " 'This',\n",
              " 'string',\n",
              " 'has',\n",
              " 'many',\n",
              " 'spaces']"
            ]
          },
          "metadata": {
            "tags": []
          },
          "execution_count": 53
        }
      ]
    },
    {
      "cell_type": "markdown",
      "metadata": {
        "id": "GIbnPx59OSwR"
      },
      "source": [
        "리스트 -> 셋 변환 -> 다시 리스트로 변환"
      ]
    },
    {
      "cell_type": "code",
      "metadata": {
        "colab": {
          "base_uri": "https://localhost:8080/"
        },
        "id": "FiF3LlIzOHEk",
        "outputId": "dd3ec870-5b4b-4bf5-ba9e-2275a85e4606"
      },
      "source": [
        "#1) 셋 변환 (중복 제거) 셋은 중복값을 가질 수 없기 때문\n",
        "set(myList)\n"
      ],
      "execution_count": null,
      "outputs": [
        {
          "output_type": "execute_result",
          "data": {
            "text/plain": [
              "{'This', 'has', 'many', 'spaces', 'string'}"
            ]
          },
          "metadata": {
            "tags": []
          },
          "execution_count": 58
        }
      ]
    },
    {
      "cell_type": "code",
      "metadata": {
        "colab": {
          "base_uri": "https://localhost:8080/"
        },
        "id": "tbt2bkhfPAw2",
        "outputId": "1f2296ef-eae9-4770-ff57-896353c96490"
      },
      "source": [
        "#2) 중복 제거한 데이트를 리스트로 변환\n",
        "myList=list(set(myList))\n",
        "myList"
      ],
      "execution_count": null,
      "outputs": [
        {
          "output_type": "execute_result",
          "data": {
            "text/plain": [
              "['This', 'many', 'has', 'string', 'spaces']"
            ]
          },
          "metadata": {
            "tags": []
          },
          "execution_count": 57
        }
      ]
    },
    {
      "cell_type": "markdown",
      "metadata": {
        "id": "rZtekbnuPO21"
      },
      "source": [
        "리스트 vs 셋 회원 명단 조회하기"
      ]
    },
    {
      "cell_type": "code",
      "metadata": {
        "colab": {
          "base_uri": "https://localhost:8080/"
        },
        "id": "jP2kurkOPHWk",
        "outputId": "a8524c13-bf37-4c28-cdf9-b974a458b294"
      },
      "source": [
        "bigList=[str(i) for i in range(10000000)]\n",
        "#2초 걸림\n",
        "'abc' in bigList #bigList 리스트에 abc 데이터 IN(포함) 되어 있는지 확인"
      ],
      "execution_count": null,
      "outputs": [
        {
          "output_type": "execute_result",
          "data": {
            "text/plain": [
              "False"
            ]
          },
          "metadata": {
            "tags": []
          },
          "execution_count": 61
        }
      ]
    },
    {
      "cell_type": "code",
      "metadata": {
        "colab": {
          "base_uri": "https://localhost:8080/"
        },
        "id": "UNvvwhTdPjFR",
        "outputId": "77257a92-10a8-45f9-ead5-685c7eb1b3d4"
      },
      "source": [
        "bigList=set(bigList)\n",
        "# 셋으로 변환하면 중복 제거되기 때문에 데이터 조회시 빠름\n",
        "#set은 한눈에 찾기 list는 차례대로 하나씩 찾기\n",
        "'abc' in bigList #0초 걸림"
      ],
      "execution_count": null,
      "outputs": [
        {
          "output_type": "execute_result",
          "data": {
            "text/plain": [
              "False"
            ]
          },
          "metadata": {
            "tags": []
          },
          "execution_count": 62
        }
      ]
    },
    {
      "cell_type": "markdown",
      "metadata": {
        "id": "RVtqgHS4Rdo6"
      },
      "source": [
        "딕셔너리(키-값으로 검색해야 할 때 매우 유용) \n",
        "영한사전 생각해보기"
      ]
    },
    {
      "cell_type": "markdown",
      "metadata": {
        "id": "gAfT4vbUSR9k"
      },
      "source": [
        "리스트 딕셔너리 만들기-enumerate 사용"
      ]
    },
    {
      "cell_type": "code",
      "metadata": {
        "colab": {
          "base_uri": "https://localhost:8080/"
        },
        "id": "Ao9reSGHRoLW",
        "outputId": "f07fcd96-afeb-40df-d7ab-807a212ad82e"
      },
      "source": [
        "#1) 리스트 준비\n",
        "seq=['alpha', 'bravo', 'charlie', 'delta']\n",
        "#2) 딕셔너리 만들기 -> 인덱스 정보를 key, Data를 value로 만든다\n",
        "dict(enumerate(seq))\n",
        "#이때 seq 안에 있는 a,b,c,d는 value 값이 됨\n",
        "#학번 이름 같은 것이 딕셔너리에 적합 "
      ],
      "execution_count": null,
      "outputs": [
        {
          "output_type": "execute_result",
          "data": {
            "text/plain": [
              "{0: 'alpha', 1: 'bravo', 2: 'charlie', 3: 'delta'}"
            ]
          },
          "metadata": {
            "tags": []
          },
          "execution_count": 64
        }
      ]
    },
    {
      "cell_type": "markdown",
      "metadata": {
        "id": "cvbX9-OGTjfw"
      },
      "source": [
        "리스트 딕셔너리 만들기-키순서열과 값 순서열에 클래스 생성자인 zip(key, value) 사용"
      ]
    },
    {
      "cell_type": "code",
      "metadata": {
        "colab": {
          "base_uri": "https://localhost:8080/"
        },
        "id": "J7bcLZ18ShEj",
        "outputId": "eb5ae79d-fb73-4d83-a229-c1f651cf8e69"
      },
      "source": [
        "kseq='abcd' #문자열 또한, 순서열이다.\n",
        "vseq=['alpha', 'bravo', 'charlie', 'delta']\n",
        "\n",
        "dict(zip(kseq, vseq))"
      ],
      "execution_count": null,
      "outputs": [
        {
          "output_type": "execute_result",
          "data": {
            "text/plain": [
              "{'a': 'alpha', 'b': 'bravo', 'c': 'charlie', 'd': 'delta'}"
            ]
          },
          "metadata": {
            "tags": []
          },
          "execution_count": 11
        }
      ]
    },
    {
      "cell_type": "code",
      "metadata": {
        "colab": {
          "base_uri": "https://localhost:8080/"
        },
        "id": "AClc5dfhsoBQ",
        "outputId": "b88edbac-81fe-482d-dd71-24c1cf4d14b9"
      },
      "source": [
        "kseq='가나다라' #문자열 또한, 순서열이다.\n",
        "vseq=['alpha', 'bravo', 'charlie', 'delta']\n",
        "\n",
        "dict(zip(kseq, vseq))"
      ],
      "execution_count": null,
      "outputs": [
        {
          "output_type": "execute_result",
          "data": {
            "text/plain": [
              "{'가': 'alpha', '나': 'bravo', '다': 'charlie', '라': 'delta'}"
            ]
          },
          "metadata": {
            "tags": []
          },
          "execution_count": 13
        }
      ]
    },
    {
      "cell_type": "code",
      "metadata": {
        "colab": {
          "base_uri": "https://localhost:8080/"
        },
        "id": "hkmAqP0Urtps",
        "outputId": "51f4f1cb-8f5c-4b18-fa4e-0e3be90a2cfb"
      },
      "source": [
        "kseq='라다나가' #문자열 또한, 순서열이다.\n",
        "vseq=['alpha', 'bravo', 'charlie', 'delta']\n",
        "\n",
        "dict(zip(kseq, vseq))"
      ],
      "execution_count": null,
      "outputs": [
        {
          "output_type": "execute_result",
          "data": {
            "text/plain": [
              "{'가': 'delta', '나': 'charlie', '다': 'bravo', '라': 'alpha'}"
            ]
          },
          "metadata": {
            "tags": []
          },
          "execution_count": 17
        }
      ]
    },
    {
      "cell_type": "code",
      "metadata": {
        "colab": {
          "base_uri": "https://localhost:8080/"
        },
        "id": "lnkeFbgBs4pH",
        "outputId": "560bb2d6-0bd2-444c-8508-a222e727301f"
      },
      "source": [
        "kseq='rkskekfk' #문자열 또한, 순서열이다.\n",
        "vseq=['alpha', 'bravo', 'charlie', 'delta']\n",
        "\n",
        "dict(zip(kseq, vseq))"
      ],
      "execution_count": null,
      "outputs": [
        {
          "output_type": "execute_result",
          "data": {
            "text/plain": [
              "{'k': 'delta', 'r': 'alpha', 's': 'charlie'}"
            ]
          },
          "metadata": {
            "tags": []
          },
          "execution_count": 18
        }
      ]
    },
    {
      "cell_type": "code",
      "metadata": {
        "colab": {
          "base_uri": "https://localhost:8080/"
        },
        "id": "dTGcJTrPUGhC",
        "outputId": "b07614cd-3f77-4460-c78f-7b243669db2e"
      },
      "source": [
        "kseq='aaaa'\n",
        "vseq=['alpha', 'bravo', 'charlie', 'delta']\n",
        "\n",
        "dict(zip(kseq, vseq))\n",
        "#딕셔너리는 key값이 같으면 안된다.\n",
        "#겹치면 최종 마지막으로 담긴 데이터만 가져온다"
      ],
      "execution_count": null,
      "outputs": [
        {
          "output_type": "execute_result",
          "data": {
            "text/plain": [
              "{'a': 'delta'}"
            ]
          },
          "metadata": {
            "tags": []
          },
          "execution_count": 69
        }
      ]
    },
    {
      "cell_type": "markdown",
      "metadata": {
        "id": "Fopf7qaBaLEY"
      },
      "source": [
        "카운터(counter)는 딕셔너리 스타일의 컬렉션에서 다른 컬렉션 안의 아이템 개수 셀 떄 사용"
      ]
    },
    {
      "cell_type": "code",
      "metadata": {
        "colab": {
          "base_uri": "https://localhost:8080/"
        },
        "id": "YOfD-vZRZ9jf",
        "outputId": "b25ad1c9-597b-4bcc-bb04-6f50eb7b9c8e"
      },
      "source": [
        "from collections import Counter\n",
        "\n",
        "phrase='a man a plan a panama'\n",
        "\n",
        "ls=Counter(phrase.split())\n",
        "\n",
        "ls\n"
      ],
      "execution_count": null,
      "outputs": [
        {
          "output_type": "execute_result",
          "data": {
            "text/plain": [
              "Counter({'a': 3, 'man': 1, 'panama': 1, 'plan': 1})"
            ]
          },
          "metadata": {
            "tags": []
          },
          "execution_count": 79
        }
      ]
    },
    {
      "cell_type": "code",
      "metadata": {
        "colab": {
          "base_uri": "https://localhost:8080/"
        },
        "id": "SJz3nWd-aTOx",
        "outputId": "6d0c08f4-f5ae-4522-98cc-953acccacc62"
      },
      "source": [
        "from collections import Counter\n",
        "phrase='a man a plan a panama'\n",
        "\n",
        "ls=Counter(phrase.split())\n",
        "cntr=Counter(ls)\n",
        "cntr.most_common(2)\n",
        "#개수가 동일할 경우 먼저 언급된 것이 먼저 나옴\n",
        "#스플릿으로 잘랐을 때의 순서\n",
        "\n",
        "#가장 빈번하게 등장하는 n개의 아이템과 빈도 추출\n",
        "# 디폴트는 모든 값/가장 빈번 2개만 보고 싶으면 common(2)\n",
        "#ex. 동명이인이 가장 많은 5명의 이름 추출"
      ],
      "execution_count": null,
      "outputs": [
        {
          "output_type": "execute_result",
          "data": {
            "text/plain": [
              "[('a', 3), ('man', 1)]"
            ]
          },
          "metadata": {
            "tags": []
          },
          "execution_count": 12
        }
      ]
    },
    {
      "cell_type": "code",
      "metadata": {
        "colab": {
          "base_uri": "https://localhost:8080/"
        },
        "id": "mjVM3cQXbAG5",
        "outputId": "6262c021-4140-470e-b694-334b98f71584"
      },
      "source": [
        ""
      ],
      "execution_count": null,
      "outputs": [
        {
          "output_type": "execute_result",
          "data": {
            "text/plain": [
              "[('a', 3), ('man', 1)]"
            ]
          },
          "metadata": {
            "tags": []
          },
          "execution_count": 77
        }
      ]
    },
    {
      "cell_type": "code",
      "metadata": {
        "colab": {
          "base_uri": "https://localhost:8080/"
        },
        "id": "IHxhmviNce8Y",
        "outputId": "11a3b83d-ab58-498b-c0f5-efd0125871cb"
      },
      "source": [
        "cntrDict=dict(cntr.most_common())\n",
        "#key : 추출된 아이템, value: 아이템 빈도\n",
        "cntrDict"
      ],
      "execution_count": null,
      "outputs": [
        {
          "output_type": "execute_result",
          "data": {
            "text/plain": [
              "{'a': 3, 'man': 1, 'panama': 1, 'plan': 1}"
            ]
          },
          "metadata": {
            "tags": []
          },
          "execution_count": 84
        }
      ]
    },
    {
      "cell_type": "code",
      "metadata": {
        "colab": {
          "base_uri": "https://localhost:8080/"
        },
        "id": "Ln1KXCyKclKA",
        "outputId": "357b2692-ed93-4a84-c7ed-ca20c5cf05f8"
      },
      "source": [
        "cntrDict['a']\n",
        "#key로 값을 가져올 수 있다"
      ],
      "execution_count": null,
      "outputs": [
        {
          "output_type": "execute_result",
          "data": {
            "text/plain": [
              "3"
            ]
          },
          "metadata": {
            "tags": []
          },
          "execution_count": 88
        }
      ]
    },
    {
      "cell_type": "markdown",
      "metadata": {
        "id": "T3fhwtsAc257"
      },
      "source": [
        "웹에 접근하기"
      ]
    },
    {
      "cell_type": "code",
      "metadata": {
        "colab": {
          "base_uri": "https://localhost:8080/"
        },
        "id": "AL0SMpeWeGDt",
        "outputId": "86db5c83-6f23-4f85-eeee-2b440219b291"
      },
      "source": [
        "import urllib.request\n",
        "try:\n",
        "  with urllib.urlopen(\"http://networksciencelab.com\") as doc:\n",
        "    html=doc.read()\n",
        "    print(html)\n",
        "\n",
        "except:\n",
        "  print(\"Could not open\")"
      ],
      "execution_count": null,
      "outputs": [
        {
          "output_type": "stream",
          "text": [
            "Could not open\n"
          ],
          "name": "stdout"
        }
      ]
    },
    {
      "cell_type": "code",
      "metadata": {
        "colab": {
          "base_uri": "https://localhost:8080/",
          "height": 134
        },
        "id": "MYAPbawqftw_",
        "outputId": "6b076e50-2c14-499b-a535-ed74f6e30d70"
      },
      "source": [
        "import urllib.request\n",
        "try:\n",
        "  with urllib.urlopen(\"http://networksciencelab.com\") as doc:\n",
        "    htmal=doc.read()\n",
        "    print(html)\n",
        "# except를 가동여부 차이 오류 처리 방식이 다름"
      ],
      "execution_count": null,
      "outputs": [
        {
          "output_type": "error",
          "ename": "SyntaxError",
          "evalue": "ignored",
          "traceback": [
            "\u001b[0;36m  File \u001b[0;32m\"<ipython-input-91-8766930b6f04>\"\u001b[0;36m, line \u001b[0;32m6\u001b[0m\n\u001b[0;31m    # except를 가동여부 차이 오류 처리 방식이 다름\u001b[0m\n\u001b[0m                                  ^\u001b[0m\n\u001b[0;31mSyntaxError\u001b[0m\u001b[0;31m:\u001b[0m unexpected EOF while parsing\n"
          ]
        }
      ]
    },
    {
      "cell_type": "code",
      "metadata": {
        "colab": {
          "base_uri": "https://localhost:8080/"
        },
        "id": "YhuaZskag8iS",
        "outputId": "48057083-4ff3-4115-abe8-c75c441d2ddc"
      },
      "source": [
        "import urllib.parse\n",
        "\n",
        "URL = \"http://networksciencelab.com/index.html;param?foo=bar#content\"\n",
        "# url 파싱하여 6개의 아이템으로 구성된 튜플로 분리 스키마 네트워크 주소, 파일 시스템 경로, 파라미터, 쿼리, 플래그먼트\n",
        "urllib.parse.urlparse(URL)"
      ],
      "execution_count": null,
      "outputs": [
        {
          "output_type": "execute_result",
          "data": {
            "text/plain": [
              "ParseResult(scheme='http', netloc='networksciencelab.com', path='/index.html', params='param', query='foo=bar', fragment='content')"
            ]
          },
          "metadata": {
            "tags": []
          },
          "execution_count": 93
        }
      ]
    },
    {
      "cell_type": "markdown",
      "metadata": {
        "id": "hGXvTn37pUnb"
      },
      "source": [
        "정규식"
      ]
    },
    {
      "cell_type": "code",
      "metadata": {
        "colab": {
          "base_uri": "https://localhost:8080/"
        },
        "id": "i_iqrkawgvGj",
        "outputId": "9cfe2da2-7f37-419e-d741-1ed82589b136"
      },
      "source": [
        "a='abcdef\\n'\n",
        "print(a)\n",
        "b=r'abcdef\\n'#원천 문자열(raw string)로 인식\n",
        "#앞에 r을 붙이면 raw데이터로 다 받아들이겠다라는 의미로 다 가져옴\n",
        "print(b)"
      ],
      "execution_count": null,
      "outputs": [
        {
          "output_type": "stream",
          "text": [
            "abcdef\n",
            "\n",
            "abcdef\\n\n"
          ],
          "name": "stdout"
        }
      ]
    },
    {
      "cell_type": "code",
      "metadata": {
        "colab": {
          "base_uri": "https://localhost:8080/"
        },
        "id": "srNHBF9Zosc1",
        "outputId": "29286d9d-5afe-41cc-fc4c-7acb3f7c7f8b"
      },
      "source": [
        "import re\n",
        "re.compile(r'(\\d+)/(\\d+)/(\\d+)')\n",
        "\n",
        "#raw string -> 0/0/0 1/1/1 3/3/3"
      ],
      "execution_count": null,
      "outputs": [
        {
          "output_type": "execute_result",
          "data": {
            "text/plain": [
              "re.compile(r'(\\d+)/(\\d+)/(\\d+)', re.UNICODE)"
            ]
          },
          "metadata": {
            "tags": []
          },
          "execution_count": 4
        }
      ]
    },
    {
      "cell_type": "code",
      "metadata": {
        "colab": {
          "base_uri": "https://localhost:8080/"
        },
        "id": "Ae9I04ESJ9qT",
        "outputId": "f4f278a1-833d-424f-9805-94c811231257"
      },
      "source": [
        "re.compile('(\\d+)/(\\d+)/(\\d+)')"
      ],
      "execution_count": null,
      "outputs": [
        {
          "output_type": "execute_result",
          "data": {
            "text/plain": [
              "re.compile(r'(\\d+)/(\\d+)/(\\d+)', re.UNICODE)"
            ]
          },
          "metadata": {
            "tags": []
          },
          "execution_count": 15
        }
      ]
    },
    {
      "cell_type": "code",
      "metadata": {
        "colab": {
          "base_uri": "https://localhost:8080/"
        },
        "id": "TL51JGwgpXBa",
        "outputId": "361737d1-118a-44a9-c961-6695a1f5620e"
      },
      "source": [
        "re.compile(r'(\\\\d+)/(\\\\d+)/(\\\\d+)') \n",
        "#raw string 사용하지 않으면, ㅡㄹ래시를 두 번 사용해야 하는 불편함\n",
        "# -> 그래서 보통 r문자를 붙여줌"
      ],
      "execution_count": null,
      "outputs": [
        {
          "output_type": "execute_result",
          "data": {
            "text/plain": [
              "re.compile(r'(\\\\d+)/(\\\\d+)/(\\\\d+)', re.UNICODE)"
            ]
          },
          "metadata": {
            "tags": []
          },
          "execution_count": 103
        }
      ]
    },
    {
      "cell_type": "code",
      "metadata": {
        "colab": {
          "base_uri": "https://localhost:8080/"
        },
        "id": "SoQFRl9GIG2E",
        "outputId": "9c79af9b-fe03-44c1-ea1f-4f7be7231793"
      },
      "source": [
        "import re\n",
        "\n",
        "re.compile(r\"(\\d+)/(\\d+)/(\\d+)\") # raw string\n",
        "\n",
        "re.compile(\"(\\d+)//(\\d+)//(\\d+)\") # raw string을 사용하지 않으면 슬래시를 두 번 사용해야 하는 불편함 > 보통 r문자를 붙인다."
      ],
      "execution_count": null,
      "outputs": [
        {
          "output_type": "execute_result",
          "data": {
            "text/plain": [
              "re.compile(r'(\\d+)//(\\d+)//(\\d+)', re.UNICODE)"
            ]
          },
          "metadata": {
            "tags": []
          },
          "execution_count": 161
        }
      ]
    },
    {
      "cell_type": "code",
      "metadata": {
        "colab": {
          "base_uri": "https://localhost:8080/"
        },
        "id": "BL-0Nsp6Ii3Z",
        "outputId": "b566929b-9990-4f0b-df03-5d760cee8998"
      },
      "source": [
        "re.compile(\"(\\d+)/(\\d+)/(\\d+)\")"
      ],
      "execution_count": null,
      "outputs": [
        {
          "output_type": "execute_result",
          "data": {
            "text/plain": [
              "re.compile(r'(\\d+)/(\\d+)/(\\d+)', re.UNICODE)"
            ]
          },
          "metadata": {
            "tags": []
          },
          "execution_count": 163
        }
      ]
    },
    {
      "cell_type": "markdown",
      "metadata": {
        "id": "fbmHQLShqU0U"
      },
      "source": [
        "정규 표현식으로 패턴 매칭하기"
      ]
    },
    {
      "cell_type": "markdown",
      "metadata": {
        "id": "8i_BZKhDqXT_"
      },
      "source": [
        "re.split() 함수 단어 분석을 위한 기본적인 단어 토크나이저로 사용 할 수 있음"
      ]
    },
    {
      "cell_type": "code",
      "metadata": {
        "colab": {
          "base_uri": "https://localhost:8080/"
        },
        "id": "9g8QAcVkqcOJ",
        "outputId": "ae89a8d5-132d-4e55-f066-7cee0ebd69b6"
      },
      "source": [
        "#정규식 쓸 떄 앞에 r 붙이기\n",
        "import re\n",
        "re.split(r'\\W','Hello, world!')#r'\\W'-> 숫자, 알파벳 제외 한 개체 1개 -> 잘라라\n",
        "#, !를 기준으로 잘렸음"
      ],
      "execution_count": null,
      "outputs": [
        {
          "output_type": "execute_result",
          "data": {
            "text/plain": [
              "['Hello', '', 'world', '']"
            ]
          },
          "metadata": {
            "tags": []
          },
          "execution_count": 107
        }
      ]
    },
    {
      "cell_type": "code",
      "metadata": {
        "colab": {
          "base_uri": "https://localhost:8080/"
        },
        "id": "Mp-FEnqRr5Jm",
        "outputId": "d3bee0f1-1c0f-4b10-e08e-c67135a8ba46"
      },
      "source": [
        "#인근에 위치한 비문자(non-letter)  (,)를 합친다.\n",
        "re.split(r'\\W+','Hello, world!')\n",
        "#r'\\W+' 알파벳이나 숫자가 아닌 개체 1개 이상 합친다(+) +추가함"
      ],
      "execution_count": null,
      "outputs": [
        {
          "output_type": "execute_result",
          "data": {
            "text/plain": [
              "['Hello', 'world', '']"
            ]
          },
          "metadata": {
            "tags": []
          },
          "execution_count": 109
        }
      ]
    },
    {
      "cell_type": "code",
      "metadata": {
        "colab": {
          "base_uri": "https://localhost:8080/"
        },
        "id": "_4B9g1d5tImA",
        "outputId": "924a87d8-1719-48c3-c6f1-1558faefa4ea"
      },
      "source": [
        "mo=re.match(r'\\d+','067 Starts with a number')\n",
        "mo\n",
        "#숫자 한 자리 찾고(\\d) 숫자가 나올 때 까지 흡수해라(+)\n",
        "#숫자가 나오고 공백이 있는거 까지 찾기"
      ],
      "execution_count": null,
      "outputs": [
        {
          "output_type": "execute_result",
          "data": {
            "text/plain": [
              "<re.Match object; span=(0, 3), match='067'>"
            ]
          },
          "metadata": {
            "tags": []
          },
          "execution_count": 112
        }
      ]
    },
    {
      "cell_type": "code",
      "metadata": {
        "colab": {
          "base_uri": "https://localhost:8080/",
          "height": 35
        },
        "id": "rEYK9ORQt4gy",
        "outputId": "d8bef847-22fc-45a8-d1af-5ccf2df6b9be"
      },
      "source": [
        "mo.group()"
      ],
      "execution_count": null,
      "outputs": [
        {
          "output_type": "execute_result",
          "data": {
            "application/vnd.google.colaboratory.intrinsic+json": {
              "type": "string"
            },
            "text/plain": [
              "'067'"
            ]
          },
          "metadata": {
            "tags": []
          },
          "execution_count": 114
        }
      ]
    },
    {
      "cell_type": "code",
      "metadata": {
        "colab": {
          "base_uri": "https://localhost:8080/"
        },
        "id": "D56gFo9_t9nw",
        "outputId": "f2f49219-9c1a-4cf9-c774-12d246d4e368"
      },
      "source": [
        "print(re.match(r'\\d+','Does not Starts with a number'))\n",
        "#숫자가 없어서 none이 나옴"
      ],
      "execution_count": null,
      "outputs": [
        {
          "output_type": "stream",
          "text": [
            "None\n"
          ],
          "name": "stdout"
        }
      ]
    },
    {
      "cell_type": "code",
      "metadata": {
        "colab": {
          "base_uri": "https://localhost:8080/"
        },
        "id": "wlucxaotuUcx",
        "outputId": "431fbbe2-0e57-4d4b-f2aa-da067293a3fd"
      },
      "source": [
        "print(re.match(r'\\d+','Does not 010 Starts with a number'))\n",
        "#match는 문장 첫 번째에 원하는 값이 시작되지 않으면 데이터를 못 찾음"
      ],
      "execution_count": null,
      "outputs": [
        {
          "output_type": "stream",
          "text": [
            "None\n"
          ],
          "name": "stdout"
        }
      ]
    },
    {
      "cell_type": "code",
      "metadata": {
        "id": "S-gxcip3ueNg"
      },
      "source": [
        "#중간에 있는 걸 찾고 싶으면 search를 쓰면 된다."
      ],
      "execution_count": null,
      "outputs": []
    },
    {
      "cell_type": "code",
      "metadata": {
        "colab": {
          "base_uri": "https://localhost:8080/",
          "height": 35
        },
        "id": "pFmYJKjXui0u",
        "outputId": "ff6f14da-dc1e-4422-f4c0-4f52c3c8c45c"
      },
      "source": [
        "#search 문자열 일부분이 정규식과 매칭되는지 확인(매칭되는게 앞부분에 없다면 이 함수 사용)\n",
        "#[a-z] :소문자 a부터 z까지 찾는 정규식\n",
        "#re.l : 대소문자 구분 하지 않음(리 아이)\n",
        "re.search(r'[a-z]+','0010010 Has at least one 010 letter 0010010').group()\n"
      ],
      "execution_count": null,
      "outputs": [
        {
          "output_type": "execute_result",
          "data": {
            "application/vnd.google.colaboratory.intrinsic+json": {
              "type": "string"
            },
            "text/plain": [
              "'as'"
            ]
          },
          "metadata": {
            "tags": []
          },
          "execution_count": 123
        }
      ]
    },
    {
      "cell_type": "code",
      "metadata": {
        "colab": {
          "base_uri": "https://localhost:8080/",
          "height": 35
        },
        "id": "Tz1wGbJguoEr",
        "outputId": "c351ad9d-5296-4a3e-e3f1-06d8b298d50a"
      },
      "source": [
        "#+가 없는 경우, 찾고 첫 번째에서 끝난다\n",
        "re.search(r'[a-z]','0010010 Has at least one 010 letter 0010010').group()"
      ],
      "execution_count": null,
      "outputs": [
        {
          "output_type": "execute_result",
          "data": {
            "application/vnd.google.colaboratory.intrinsic+json": {
              "type": "string"
            },
            "text/plain": [
              "'a'"
            ]
          },
          "metadata": {
            "tags": []
          },
          "execution_count": 125
        }
      ]
    },
    {
      "cell_type": "code",
      "metadata": {
        "colab": {
          "base_uri": "https://localhost:8080/",
          "height": 35
        },
        "id": "c4yvU39rve_w",
        "outputId": "078f7fb0-5702-44e1-e101-cb4d085ca91b"
      },
      "source": [
        "#re.I : 대소문자 구분 하지 않음 (리 아이)\n",
        "#search 최초로 나온 값만 나옴\n",
        "re.search(r'[a-z]+','0010010 Has at least one 010 letter 0010010', re.I).group()"
      ],
      "execution_count": null,
      "outputs": [
        {
          "output_type": "execute_result",
          "data": {
            "application/vnd.google.colaboratory.intrinsic+json": {
              "type": "string"
            },
            "text/plain": [
              "'Has'"
            ]
          },
          "metadata": {
            "tags": []
          },
          "execution_count": 130
        }
      ]
    },
    {
      "cell_type": "code",
      "metadata": {
        "colab": {
          "base_uri": "https://localhost:8080/",
          "height": 35
        },
        "id": "Z6d2uRRHv7LF",
        "outputId": "2131f16f-8763-4fd2-a423-579c8d790db3"
      },
      "source": [
        "#search 문자열 일부분이 정규식과 매칭되는지 확인(매칭되는게 앞부분에 없다면 이 함수 사용)\n",
        "#[A-Z] : 대문자들만 일치\n",
        "#re.l : 대소문자 구분 하지 않음(리 아이)\n",
        "re.search(r'[A-Z]+','0010010 has at least ONE 010 letter 0010010').group()\n"
      ],
      "execution_count": null,
      "outputs": [
        {
          "output_type": "execute_result",
          "data": {
            "application/vnd.google.colaboratory.intrinsic+json": {
              "type": "string"
            },
            "text/plain": [
              "'ONE'"
            ]
          },
          "metadata": {
            "tags": []
          },
          "execution_count": 133
        }
      ]
    },
    {
      "cell_type": "code",
      "metadata": {
        "colab": {
          "base_uri": "https://localhost:8080/"
        },
        "id": "Uzjj6fiywyLn",
        "outputId": "720d3b0b-ae04-407e-b90d-0ef3880d9423"
      },
      "source": [
        "#findall: 정규식에 부합하는 모든 문자열 찾기(대소문자 무시) -> 모든 소문자 들어 있는 토큰 찾기\n",
        "re.findall(r'[a-z]+','0010010 Has at least one 010 letter 0010010', re.I)"
      ],
      "execution_count": null,
      "outputs": [
        {
          "output_type": "execute_result",
          "data": {
            "text/plain": [
              "['Has', 'at', 'least', 'one', 'letter']"
            ]
          },
          "metadata": {
            "tags": []
          },
          "execution_count": 135
        }
      ]
    },
    {
      "cell_type": "code",
      "metadata": {
        "colab": {
          "base_uri": "https://localhost:8080/"
        },
        "id": "LxttmzuDxHeF",
        "outputId": "4a482781-a382-4d76-9b92-4519a15fc7b3"
      },
      "source": [
        "#findall: 정규식에 부합하는 모든 문자열 찾기 -> 모든 소문자 들어 있는 토큰 찾기\n",
        "#re.I 삭제 \n",
        "re.findall(r'[a-z]+','0010010 Has at least one 010 letter 0010010')"
      ],
      "execution_count": null,
      "outputs": [
        {
          "output_type": "execute_result",
          "data": {
            "text/plain": [
              "['as', 'at', 'least', 'one', 'letter']"
            ]
          },
          "metadata": {
            "tags": []
          },
          "execution_count": 136
        }
      ]
    },
    {
      "cell_type": "code",
      "metadata": {
        "colab": {
          "base_uri": "https://localhost:8080/"
        },
        "id": "iJAc1JUPxO2N",
        "outputId": "d2b1e725-9a1b-44b5-cf8f-681de6fa0885"
      },
      "source": [
        "#findall: 정규식에 부합하는 모든 숫자열 찾기 -> 모든 숫자열 들어 있는 토큰 찾기\n",
        "re.findall(r'\\d+','0010010 Has at least one 010 letter 0010010', re.I)"
      ],
      "execution_count": null,
      "outputs": [
        {
          "output_type": "execute_result",
          "data": {
            "text/plain": [
              "['0010010', '010', '0010010']"
            ]
          },
          "metadata": {
            "tags": []
          },
          "execution_count": 138
        }
      ]
    },
    {
      "cell_type": "code",
      "metadata": {
        "colab": {
          "base_uri": "https://localhost:8080/"
        },
        "id": "1CbfggpCxpWP",
        "outputId": "960d509c-e2ce-4f79-fca2-867dcea36928"
      },
      "source": [
        "#숫자를 만나기 전 모든 객체를 추출\n",
        "#\\D 숫자가 아닌 객체 1개\n",
        "re.findall(r'\\D+','0010010 Has at least one 010 letter 0010010', re.I)"
      ],
      "execution_count": null,
      "outputs": [
        {
          "output_type": "execute_result",
          "data": {
            "text/plain": [
              "[' Has at least one ', ' letter ']"
            ]
          },
          "metadata": {
            "tags": []
          },
          "execution_count": 141
        }
      ]
    },
    {
      "cell_type": "code",
      "metadata": {
        "colab": {
          "base_uri": "https://localhost:8080/"
        },
        "id": "aDf0hlf5x0yt",
        "outputId": "baeadc96-0619-4192-df5d-f214b25e30e6"
      },
      "source": [
        "# ^-> NOT 부정의 의미\n",
        "#findall: 정규식에 부합하는 모든 문자열 찾기 -> 모든 소문자 들어 있는 토큰 찾기\n",
        "#re.I 삭제 \n",
        "re.findall(r'[^a-z]+','0010010 Has at least one 010 letter 0010010')"
      ],
      "execution_count": null,
      "outputs": [
        {
          "output_type": "execute_result",
          "data": {
            "text/plain": [
              "['0010010 H', ' ', ' ', ' ', ' 010 ', ' 0010010']"
            ]
          },
          "metadata": {
            "tags": []
          },
          "execution_count": 143
        }
      ]
    },
    {
      "cell_type": "code",
      "metadata": {
        "colab": {
          "base_uri": "https://localhost:8080/",
          "height": 35
        },
        "id": "Ns5efaEGx711",
        "outputId": "886f102f-3a69-42ff-f497-c77e8ca2e23f"
      },
      "source": [
        "#sub: string으로 매칭되는 부분 문자열을 repl로 치환\n",
        "#ex) 이름의 중간이나 휴대전화 중간을 *로 만드는 등 치환\n",
        "\n",
        "re.sub(r'[a-z]+', '[...]', '0010010 Has at least one 010 letter 0010010', flags=re.I)"
      ],
      "execution_count": null,
      "outputs": [
        {
          "output_type": "execute_result",
          "data": {
            "application/vnd.google.colaboratory.intrinsic+json": {
              "type": "string"
            },
            "text/plain": [
              "'0010010 [...] [...] [...] [...] 010 [...] 0010010'"
            ]
          },
          "metadata": {
            "tags": []
          },
          "execution_count": 9
        }
      ]
    },
    {
      "cell_type": "code",
      "metadata": {
        "colab": {
          "base_uri": "https://localhost:8080/",
          "height": 35
        },
        "id": "ZSNV0W5a4662",
        "outputId": "6682b390-5c11-420e-e755-ee34532d6641"
      },
      "source": [
        "#010-abcd-0100 -> abcd 값을 ****으로 치환\n",
        "#re.sub() ﻿활용하기\n",
        "re.sub(r'[a-d]+', '****', '010-abcd-0100', flags=re.I)"
      ],
      "execution_count": null,
      "outputs": [
        {
          "output_type": "execute_result",
          "data": {
            "application/vnd.google.colaboratory.intrinsic+json": {
              "type": "string"
            },
            "text/plain": [
              "'010-****-0100'"
            ]
          },
          "metadata": {
            "tags": []
          },
          "execution_count": 11
        }
      ]
    },
    {
      "cell_type": "code",
      "metadata": {
        "colab": {
          "base_uri": "https://localhost:8080/",
          "height": 35
        },
        "id": "44FgZ0Gh5Pv-",
        "outputId": "96899bbb-4d1c-4a59-c025-1f64a27c3902"
      },
      "source": [
        "#010-abcd-0100 -> 숫자 값을 ****으로 치환\n",
        "#re.sub() ghkfdydgkrl\n",
        "re.sub(r'[0-1]+', '****', '010-abcd-0100', flags=0)"
      ],
      "execution_count": null,
      "outputs": [
        {
          "output_type": "execute_result",
          "data": {
            "application/vnd.google.colaboratory.intrinsic+json": {
              "type": "string"
            },
            "text/plain": [
              "'****-abcd-****'"
            ]
          },
          "metadata": {
            "tags": []
          },
          "execution_count": 151
        }
      ]
    },
    {
      "cell_type": "code",
      "metadata": {
        "colab": {
          "base_uri": "https://localhost:8080/",
          "height": 35
        },
        "id": "AjJUj2Ql5xGf",
        "outputId": "30e48adb-5fb4-4bd1-f032-ccdda580970f"
      },
      "source": [
        "#위와 같은 결과 다른 방식 \\d+ 활용\n",
        "#\\d 숫자 [0-9]와 동일\n",
        "#\\D 숫자가 아닌 문자 [^0-9]와 동일\n",
        "#\\W none alpha-numeric 문자 [^0-9a-zA-Z]와 동일\n",
        "#\\w 알파벳대소문자, [0-9a-zA-Z]와 동일\n",
        "\n",
        "re.sub(r'\\d+', '****', '010-abcd-0100', flags=0)"
      ],
      "execution_count": null,
      "outputs": [
        {
          "output_type": "execute_result",
          "data": {
            "application/vnd.google.colaboratory.intrinsic+json": {
              "type": "string"
            },
            "text/plain": [
              "'****-abcd-****'"
            ]
          },
          "metadata": {
            "tags": []
          },
          "execution_count": 155
        }
      ]
    }
  ]
}
