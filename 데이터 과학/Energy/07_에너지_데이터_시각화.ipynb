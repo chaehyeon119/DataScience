{
  "nbformat": 4,
  "nbformat_minor": 0,
  "metadata": {
    "colab": {
      "name": "07_에너지 데이터 시각화.ipynb",
      "provenance": [],
      "collapsed_sections": []
    },
    "kernelspec": {
      "name": "python3",
      "display_name": "Python 3"
    },
    "language_info": {
      "name": "python"
    }
  },
  "cells": [
    {
      "cell_type": "markdown",
      "metadata": {
        "id": "3PB0ONNbKvUj"
      },
      "source": [
        "0621"
      ]
    },
    {
      "cell_type": "code",
      "metadata": {
        "id": "hcEeKfT_K_8m"
      },
      "source": [
        "# 기본 베이스 코드\n",
        "\n",
        "import numpy as np\n",
        "import pandas as pd\n",
        "import seaborn as sns\n",
        "import plotly.express as px\n",
        "import plotly.graph_objects as go\n",
        "import matplotlib.pyplot as plt\n",
        "import matplotlib as mpl\n",
        "import matplotlib.font_manager as fm\n",
        "\n",
        "\n",
        "# 한글 깨짐 방지\n",
        " \n",
        "%config InlineBackend.figure_format = 'retina'\n",
        " \n",
        "!apt -qq -y install fonts-nanum\n",
        " \n",
        "fontpath = '/usr/share/fonts/truetype/nanum/NanumBarunGothic.ttf'\n",
        "font = fm.FontProperties(fname=fontpath, size=9)\n",
        "plt.rc('font', family='NanumBarunGothic') \n",
        "mpl.font_manager._rebuild()\n",
        "\n",
        "#save_image를 위한 plotly 설치\n",
        "\n",
        "!pip install plotly==4.4.1\n",
        "!wget https://github.com/plotly/orca/releases/download/v1.2.1/orca-1.2.1-x86_64.AppImage -O /usr/local/bin/orca\n",
        "!chmod +x /usr/local/bin/orca\n",
        "!apt-get install xvfb libgtk2.0-0 libgconf-2-4\n"
      ],
      "execution_count": null,
      "outputs": []
    },
    {
      "cell_type": "markdown",
      "metadata": {
        "id": "WzNCYpofLBxs"
      },
      "source": [
        "에너지 평균을 시각화"
      ]
    },
    {
      "cell_type": "markdown",
      "metadata": {
        "id": "S5gO6w8iLlkc"
      },
      "source": [
        "#데이터 준비하기"
      ]
    },
    {
      "cell_type": "code",
      "metadata": {
        "id": "YLdqF-eJLm2Y"
      },
      "source": [
        "df=pd.read_excel('energy.xlsx')"
      ],
      "execution_count": 2,
      "outputs": []
    },
    {
      "cell_type": "code",
      "metadata": {
        "colab": {
          "base_uri": "https://localhost:8080/",
          "height": 202
        },
        "id": "Vw0p7rEvLrxE",
        "outputId": "4f5291bd-1b8c-4ca7-953b-49b69da013a2"
      },
      "source": [
        "df.head()"
      ],
      "execution_count": 3,
      "outputs": [
        {
          "output_type": "execute_result",
          "data": {
            "text/html": [
              "<div>\n",
              "<style scoped>\n",
              "    .dataframe tbody tr th:only-of-type {\n",
              "        vertical-align: middle;\n",
              "    }\n",
              "\n",
              "    .dataframe tbody tr th {\n",
              "        vertical-align: top;\n",
              "    }\n",
              "\n",
              "    .dataframe thead th {\n",
              "        text-align: right;\n",
              "    }\n",
              "</style>\n",
              "<table border=\"1\" class=\"dataframe\">\n",
              "  <thead>\n",
              "    <tr style=\"text-align: right;\">\n",
              "      <th></th>\n",
              "      <th>dttm</th>\n",
              "      <th>weekday</th>\n",
              "      <th>day</th>\n",
              "      <th>month</th>\n",
              "      <th>time</th>\n",
              "      <th>avg_temperature</th>\n",
              "      <th>min_temperature</th>\n",
              "      <th>max_temperature</th>\n",
              "      <th>wclass</th>\n",
              "      <th>환기</th>\n",
              "      <th>콘센트</th>\n",
              "      <th>냉방</th>\n",
              "      <th>난방</th>\n",
              "      <th>조명</th>\n",
              "      <th>기타</th>\n",
              "    </tr>\n",
              "  </thead>\n",
              "  <tbody>\n",
              "    <tr>\n",
              "      <th>0</th>\n",
              "      <td>2018-12-01 00:15:00</td>\n",
              "      <td>Saturday</td>\n",
              "      <td>2018-12-01</td>\n",
              "      <td>12</td>\n",
              "      <td>00:15:00</td>\n",
              "      <td>5.5</td>\n",
              "      <td>0.8</td>\n",
              "      <td>12.4</td>\n",
              "      <td>B</td>\n",
              "      <td>2.501530</td>\n",
              "      <td>1.627272</td>\n",
              "      <td>1.047062</td>\n",
              "      <td>1.400422</td>\n",
              "      <td>1.370104</td>\n",
              "      <td>1.943357</td>\n",
              "    </tr>\n",
              "    <tr>\n",
              "      <th>1</th>\n",
              "      <td>2018-12-01 00:30:00</td>\n",
              "      <td>Saturday</td>\n",
              "      <td>2018-12-01</td>\n",
              "      <td>12</td>\n",
              "      <td>00:30:00</td>\n",
              "      <td>5.5</td>\n",
              "      <td>0.8</td>\n",
              "      <td>12.4</td>\n",
              "      <td>B</td>\n",
              "      <td>2.569669</td>\n",
              "      <td>1.671598</td>\n",
              "      <td>1.075581</td>\n",
              "      <td>1.438566</td>\n",
              "      <td>1.407422</td>\n",
              "      <td>1.996293</td>\n",
              "    </tr>\n",
              "    <tr>\n",
              "      <th>2</th>\n",
              "      <td>2018-12-01 00:45:00</td>\n",
              "      <td>Saturday</td>\n",
              "      <td>2018-12-01</td>\n",
              "      <td>12</td>\n",
              "      <td>00:45:00</td>\n",
              "      <td>5.5</td>\n",
              "      <td>0.8</td>\n",
              "      <td>12.4</td>\n",
              "      <td>B</td>\n",
              "      <td>2.501534</td>\n",
              "      <td>1.627280</td>\n",
              "      <td>1.047062</td>\n",
              "      <td>1.400422</td>\n",
              "      <td>1.370104</td>\n",
              "      <td>1.943368</td>\n",
              "    </tr>\n",
              "    <tr>\n",
              "      <th>3</th>\n",
              "      <td>2018-12-01 01:00:00</td>\n",
              "      <td>Saturday</td>\n",
              "      <td>2018-12-01</td>\n",
              "      <td>12</td>\n",
              "      <td>01:00:00</td>\n",
              "      <td>5.5</td>\n",
              "      <td>0.8</td>\n",
              "      <td>12.4</td>\n",
              "      <td>B</td>\n",
              "      <td>2.501534</td>\n",
              "      <td>1.627286</td>\n",
              "      <td>1.047062</td>\n",
              "      <td>1.400422</td>\n",
              "      <td>1.370104</td>\n",
              "      <td>1.943379</td>\n",
              "    </tr>\n",
              "    <tr>\n",
              "      <th>4</th>\n",
              "      <td>2018-12-01 01:15:00</td>\n",
              "      <td>Saturday</td>\n",
              "      <td>2018-12-01</td>\n",
              "      <td>12</td>\n",
              "      <td>01:15:00</td>\n",
              "      <td>5.5</td>\n",
              "      <td>0.8</td>\n",
              "      <td>12.4</td>\n",
              "      <td>B</td>\n",
              "      <td>2.443132</td>\n",
              "      <td>1.589302</td>\n",
              "      <td>1.022617</td>\n",
              "      <td>1.367728</td>\n",
              "      <td>1.338117</td>\n",
              "      <td>1.898016</td>\n",
              "    </tr>\n",
              "  </tbody>\n",
              "</table>\n",
              "</div>"
            ],
            "text/plain": [
              "                 dttm   weekday        day  ...        난방        조명        기타\n",
              "0 2018-12-01 00:15:00  Saturday 2018-12-01  ...  1.400422  1.370104  1.943357\n",
              "1 2018-12-01 00:30:00  Saturday 2018-12-01  ...  1.438566  1.407422  1.996293\n",
              "2 2018-12-01 00:45:00  Saturday 2018-12-01  ...  1.400422  1.370104  1.943368\n",
              "3 2018-12-01 01:00:00  Saturday 2018-12-01  ...  1.400422  1.370104  1.943379\n",
              "4 2018-12-01 01:15:00  Saturday 2018-12-01  ...  1.367728  1.338117  1.898016\n",
              "\n",
              "[5 rows x 15 columns]"
            ]
          },
          "metadata": {
            "tags": []
          },
          "execution_count": 3
        }
      ]
    },
    {
      "cell_type": "code",
      "metadata": {
        "colab": {
          "base_uri": "https://localhost:8080/"
        },
        "id": "3sbAIy7-LyNR",
        "outputId": "16cda228-483b-4443-8fab-773a7554cb29"
      },
      "source": [
        "df.info() # 각 컬럼이 어떤 데이터 타입을 갖고 있는지 확인하기"
      ],
      "execution_count": 4,
      "outputs": [
        {
          "output_type": "stream",
          "text": [
            "<class 'pandas.core.frame.DataFrame'>\n",
            "RangeIndex: 32159 entries, 0 to 32158\n",
            "Data columns (total 15 columns):\n",
            " #   Column           Non-Null Count  Dtype         \n",
            "---  ------           --------------  -----         \n",
            " 0   dttm             32159 non-null  datetime64[ns]\n",
            " 1   weekday          32159 non-null  object        \n",
            " 2   day              32159 non-null  datetime64[ns]\n",
            " 3   month            32159 non-null  int64         \n",
            " 4   time             32159 non-null  object        \n",
            " 5   avg_temperature  32159 non-null  float64       \n",
            " 6   min_temperature  32159 non-null  float64       \n",
            " 7   max_temperature  32159 non-null  float64       \n",
            " 8   wclass           32159 non-null  object        \n",
            " 9   환기               32159 non-null  float64       \n",
            " 10  콘센트              32159 non-null  float64       \n",
            " 11  냉방               32159 non-null  float64       \n",
            " 12  난방               32159 non-null  float64       \n",
            " 13  조명               32159 non-null  float64       \n",
            " 14  기타               32159 non-null  float64       \n",
            "dtypes: datetime64[ns](2), float64(9), int64(1), object(3)\n",
            "memory usage: 3.7+ MB\n"
          ],
          "name": "stdout"
        }
      ]
    },
    {
      "cell_type": "code",
      "metadata": {
        "id": "8lBQcVAjL1O4"
      },
      "source": [
        "fig = px.scatter(df, x='month', y='avg_temperature')\n",
        "fig.show()\n",
        "\n",
        "# legend()를 안 붙여도 차트에 정보가 표시됨\n",
        "# 오타 조심하기\n",
        "# x, y를 정의하면 그걸 기준으로 차트가 그려짐\n",
        "# px = plotly.express라는 라이브러리/ 빠르게 무언가를 그릴 수 있도록 제공하는 차트\n",
        "# 마우스 커서 가져다대면 관련 정보가 나온다"
      ],
      "execution_count": null,
      "outputs": []
    },
    {
      "cell_type": "markdown",
      "metadata": {
        "id": "BNWsMOJUNQew"
      },
      "source": [
        "위의 그래프에 요일 추가하기"
      ]
    },
    {
      "cell_type": "code",
      "metadata": {
        "id": "cMcZC5xBNMvm"
      },
      "source": [
        "# 요일 추가하기\n",
        "fig = px.scatter(df, x='month', y='avg_temperature', color='weekday') #요일마다 컬러를 다르게 칠함\n",
        "fig.show()"
      ],
      "execution_count": null,
      "outputs": []
    },
    {
      "cell_type": "markdown",
      "metadata": {
        "id": "RJxk652LNgx1"
      },
      "source": [
        "*같은 데이터와 데이터셋이어도 어떤 라이브러리를 쓰느냐에 따라 결과가 달라진다*"
      ]
    },
    {
      "cell_type": "code",
      "metadata": {
        "id": "RMgr7zjEN9VB"
      },
      "source": [
        "df = df[['day', '환기', '콘센트', '냉방', '난방', '조명', '기타']]\n",
        "df.head()"
      ],
      "execution_count": null,
      "outputs": []
    },
    {
      "cell_type": "code",
      "metadata": {
        "id": "wdauzU1nOz0a"
      },
      "source": [
        "df.info()\n",
        "# day의 datetime 형식 확인하기 datetime이냐 아니냐에 따라 처리방식이 달라짐(?)\n",
        "# 데이터셋에 non-null/ null 있는지 확인하기 "
      ],
      "execution_count": null,
      "outputs": []
    },
    {
      "cell_type": "markdown",
      "metadata": {
        "id": "T2V7ZlE1PqVh"
      },
      "source": [
        "1. 환기 데이터"
      ]
    },
    {
      "cell_type": "code",
      "metadata": {
        "id": "KzcEy3u7Ps0e"
      },
      "source": [
        "# go 라이브러리 = plotly.graph_objects\n",
        "# 내 데이터가 잘 그려지는 라이브러리로 그래프를 그려라\n",
        "# 한글깨짐 없어도 한글 잘 써짐\n",
        "\n",
        "\n",
        "fig = go.Figure(go.Scatter(\n",
        "    x = df['day'],\n",
        "    y = df['환기'], #여기 ,(콤마)  있어도 되고 없어도 됨\n",
        "))\n",
        "fig.update_layout(title_text='날짜별 환기 그래프')\n",
        "fig.show()\n",
        "\n",
        "# 9월에 경기가 많아서 환기 데이터 수치가 큼"
      ],
      "execution_count": null,
      "outputs": []
    },
    {
      "cell_type": "markdown",
      "metadata": {
        "id": "D4oT-dcJRkLz"
      },
      "source": [
        "그래프 색깔 바꿔보기"
      ]
    },
    {
      "cell_type": "code",
      "metadata": {
        "id": "_ZLpA6MFRnHT"
      },
      "source": [
        "# 라인 색상 변경\n",
        "\n",
        "fig = go.Figure(go.Scatter(\n",
        "    x = df['day'],\n",
        "    y = df['환기'],\n",
        "    line_color = 'green' #x축, y축 선언한 후에 line_color 넣기\n",
        "))\n",
        "fig.update_layout(title_text='날짜별 환기 그래프')\n",
        "fig.show()\n"
      ],
      "execution_count": null,
      "outputs": []
    },
    {
      "cell_type": "code",
      "metadata": {
        "id": "WMKI-6jxWtZe"
      },
      "source": [
        "# 차트 이미지 저장\n",
        "fig.write_image('날짜별 환기 그래프.png')\n",
        "\n",
        "# 이미지 저장하면 한글 깨짐 발생함"
      ],
      "execution_count": 11,
      "outputs": []
    },
    {
      "cell_type": "code",
      "metadata": {
        "colab": {
          "base_uri": "https://localhost:8080/",
          "height": 370
        },
        "id": "DIhkw_X1XYMc",
        "outputId": "a6ad2d78-a2f1-4996-dfb8-5317f7ed54e9"
      },
      "source": [
        "# 파이차트 그리기\n",
        "fig = px.pie(df, values='환기', names='month', title='월별 환기 에너지 파이차트') \n",
        "fig.show()\n",
        "#values = > 어떤 데이터를 가져올건지/ names => 어떤 기준으로 차트를 보고 싶니?\n",
        "\n",
        "\n",
        "\n",
        "##<<<<<<<오류 발생>>>>>>>>>>\n",
        "# #ValueError: Value of 'names' is not the name of a column in 'data_frame'.\n",
        "# Expected one of ['day', '환기', '콘센트', '냉방', '난방', '조명', '기타'] but received: month\n",
        "# ====> 데이터셋에 month가 없는데 왜 계속 month를 요구하냐는 에러가 뜬다.\n"
      ],
      "execution_count": 12,
      "outputs": [
        {
          "output_type": "error",
          "ename": "ValueError",
          "evalue": "ignored",
          "traceback": [
            "\u001b[0;31m---------------------------------------------------------------------------\u001b[0m",
            "\u001b[0;31mValueError\u001b[0m                                Traceback (most recent call last)",
            "\u001b[0;32m<ipython-input-12-fcc0c38fa3c4>\u001b[0m in \u001b[0;36m<module>\u001b[0;34m()\u001b[0m\n\u001b[1;32m      1\u001b[0m \u001b[0;31m# 파이차트 그리기\u001b[0m\u001b[0;34m\u001b[0m\u001b[0;34m\u001b[0m\u001b[0;34m\u001b[0m\u001b[0m\n\u001b[0;32m----> 2\u001b[0;31m \u001b[0mfig\u001b[0m \u001b[0;34m=\u001b[0m \u001b[0mpx\u001b[0m\u001b[0;34m.\u001b[0m\u001b[0mpie\u001b[0m\u001b[0;34m(\u001b[0m\u001b[0mdf\u001b[0m\u001b[0;34m,\u001b[0m \u001b[0mvalues\u001b[0m\u001b[0;34m=\u001b[0m\u001b[0;34m'환기'\u001b[0m\u001b[0;34m,\u001b[0m \u001b[0mnames\u001b[0m\u001b[0;34m=\u001b[0m\u001b[0;34m'month'\u001b[0m\u001b[0;34m,\u001b[0m \u001b[0mtitle\u001b[0m\u001b[0;34m=\u001b[0m\u001b[0;34m'월별 환기 에너지 파이차트'\u001b[0m\u001b[0;34m)\u001b[0m\u001b[0;34m\u001b[0m\u001b[0;34m\u001b[0m\u001b[0m\n\u001b[0m\u001b[1;32m      3\u001b[0m \u001b[0mfig\u001b[0m\u001b[0;34m.\u001b[0m\u001b[0mshow\u001b[0m\u001b[0;34m(\u001b[0m\u001b[0;34m)\u001b[0m\u001b[0;34m\u001b[0m\u001b[0;34m\u001b[0m\u001b[0m\n\u001b[1;32m      4\u001b[0m \u001b[0;31m#values = > 어떤 데이터를 가져올건지/ names => 어떤 기준으로 차트를 보고 싶니?\u001b[0m\u001b[0;34m\u001b[0m\u001b[0;34m\u001b[0m\u001b[0;34m\u001b[0m\u001b[0m\n\u001b[1;32m      5\u001b[0m \u001b[0;34m\u001b[0m\u001b[0m\n",
            "\u001b[0;32m/usr/local/lib/python3.7/dist-packages/plotly/express/_chart_types.py\u001b[0m in \u001b[0;36mpie\u001b[0;34m(data_frame, names, values, color, color_discrete_sequence, color_discrete_map, hover_name, hover_data, custom_data, labels, title, template, width, height, opacity, hole)\u001b[0m\n\u001b[1;32m   1232\u001b[0m         \u001b[0mconstructor\u001b[0m\u001b[0;34m=\u001b[0m\u001b[0mgo\u001b[0m\u001b[0;34m.\u001b[0m\u001b[0mPie\u001b[0m\u001b[0;34m,\u001b[0m\u001b[0;34m\u001b[0m\u001b[0;34m\u001b[0m\u001b[0m\n\u001b[1;32m   1233\u001b[0m         \u001b[0mtrace_patch\u001b[0m\u001b[0;34m=\u001b[0m\u001b[0mdict\u001b[0m\u001b[0;34m(\u001b[0m\u001b[0mshowlegend\u001b[0m\u001b[0;34m=\u001b[0m\u001b[0;34m(\u001b[0m\u001b[0mnames\u001b[0m \u001b[0;32mis\u001b[0m \u001b[0;32mnot\u001b[0m \u001b[0;32mNone\u001b[0m\u001b[0;34m)\u001b[0m\u001b[0;34m,\u001b[0m \u001b[0mhole\u001b[0m\u001b[0;34m=\u001b[0m\u001b[0mhole\u001b[0m\u001b[0;34m)\u001b[0m\u001b[0;34m,\u001b[0m\u001b[0;34m\u001b[0m\u001b[0;34m\u001b[0m\u001b[0m\n\u001b[0;32m-> 1234\u001b[0;31m         \u001b[0mlayout_patch\u001b[0m\u001b[0;34m=\u001b[0m\u001b[0mlayout_patch\u001b[0m\u001b[0;34m,\u001b[0m\u001b[0;34m\u001b[0m\u001b[0;34m\u001b[0m\u001b[0m\n\u001b[0m\u001b[1;32m   1235\u001b[0m     )\n\u001b[1;32m   1236\u001b[0m \u001b[0;34m\u001b[0m\u001b[0m\n",
            "\u001b[0;32m/usr/local/lib/python3.7/dist-packages/plotly/express/_core.py\u001b[0m in \u001b[0;36mmake_figure\u001b[0;34m(args, constructor, trace_patch, layout_patch)\u001b[0m\n\u001b[1;32m   1170\u001b[0m \u001b[0;34m\u001b[0m\u001b[0m\n\u001b[1;32m   1171\u001b[0m     args, trace_specs, grouped_mappings, sizeref, show_colorbar = infer_config(\n\u001b[0;32m-> 1172\u001b[0;31m         \u001b[0margs\u001b[0m\u001b[0;34m,\u001b[0m \u001b[0mconstructor\u001b[0m\u001b[0;34m,\u001b[0m \u001b[0mtrace_patch\u001b[0m\u001b[0;34m\u001b[0m\u001b[0;34m\u001b[0m\u001b[0m\n\u001b[0m\u001b[1;32m   1173\u001b[0m     )\n\u001b[1;32m   1174\u001b[0m     \u001b[0mgrouper\u001b[0m \u001b[0;34m=\u001b[0m \u001b[0;34m[\u001b[0m\u001b[0mx\u001b[0m\u001b[0;34m.\u001b[0m\u001b[0mgrouper\u001b[0m \u001b[0;32mor\u001b[0m \u001b[0mone_group\u001b[0m \u001b[0;32mfor\u001b[0m \u001b[0mx\u001b[0m \u001b[0;32min\u001b[0m \u001b[0mgrouped_mappings\u001b[0m\u001b[0;34m]\u001b[0m \u001b[0;32mor\u001b[0m \u001b[0;34m[\u001b[0m\u001b[0mone_group\u001b[0m\u001b[0;34m]\u001b[0m\u001b[0;34m\u001b[0m\u001b[0;34m\u001b[0m\u001b[0m\n",
            "\u001b[0;32m/usr/local/lib/python3.7/dist-packages/plotly/express/_core.py\u001b[0m in \u001b[0;36minfer_config\u001b[0;34m(args, constructor, trace_patch)\u001b[0m\n\u001b[1;32m   1026\u001b[0m             \u001b[0mall_attrables\u001b[0m \u001b[0;34m+=\u001b[0m \u001b[0;34m[\u001b[0m\u001b[0mgroup_attr\u001b[0m\u001b[0;34m]\u001b[0m\u001b[0;34m\u001b[0m\u001b[0;34m\u001b[0m\u001b[0m\n\u001b[1;32m   1027\u001b[0m \u001b[0;34m\u001b[0m\u001b[0m\n\u001b[0;32m-> 1028\u001b[0;31m     \u001b[0margs\u001b[0m \u001b[0;34m=\u001b[0m \u001b[0mbuild_dataframe\u001b[0m\u001b[0;34m(\u001b[0m\u001b[0margs\u001b[0m\u001b[0;34m,\u001b[0m \u001b[0mall_attrables\u001b[0m\u001b[0;34m,\u001b[0m \u001b[0marray_attrables\u001b[0m\u001b[0;34m)\u001b[0m\u001b[0;34m\u001b[0m\u001b[0;34m\u001b[0m\u001b[0m\n\u001b[0m\u001b[1;32m   1029\u001b[0m \u001b[0;34m\u001b[0m\u001b[0m\n\u001b[1;32m   1030\u001b[0m     \u001b[0mattrs\u001b[0m \u001b[0;34m=\u001b[0m \u001b[0;34m[\u001b[0m\u001b[0mk\u001b[0m \u001b[0;32mfor\u001b[0m \u001b[0mk\u001b[0m \u001b[0;32min\u001b[0m \u001b[0mattrables\u001b[0m \u001b[0;32mif\u001b[0m \u001b[0mk\u001b[0m \u001b[0;32min\u001b[0m \u001b[0margs\u001b[0m\u001b[0;34m]\u001b[0m\u001b[0;34m\u001b[0m\u001b[0;34m\u001b[0m\u001b[0m\n",
            "\u001b[0;32m/usr/local/lib/python3.7/dist-packages/plotly/express/_core.py\u001b[0m in \u001b[0;36mbuild_dataframe\u001b[0;34m(args, attrables, array_attrables)\u001b[0m\n\u001b[1;32m    944\u001b[0m                             \u001b[0;34m\"\\n To use the index, pass it in directly as `df.index`.\"\u001b[0m\u001b[0;34m\u001b[0m\u001b[0;34m\u001b[0m\u001b[0m\n\u001b[1;32m    945\u001b[0m                         )\n\u001b[0;32m--> 946\u001b[0;31m                     \u001b[0;32mraise\u001b[0m \u001b[0mValueError\u001b[0m\u001b[0;34m(\u001b[0m\u001b[0merr_msg\u001b[0m\u001b[0;34m)\u001b[0m\u001b[0;34m\u001b[0m\u001b[0;34m\u001b[0m\u001b[0m\n\u001b[0m\u001b[1;32m    947\u001b[0m                 \u001b[0;32mif\u001b[0m \u001b[0mlength\u001b[0m \u001b[0;32mand\u001b[0m \u001b[0mlen\u001b[0m\u001b[0;34m(\u001b[0m\u001b[0mdf_input\u001b[0m\u001b[0;34m[\u001b[0m\u001b[0margument\u001b[0m\u001b[0;34m]\u001b[0m\u001b[0;34m)\u001b[0m \u001b[0;34m!=\u001b[0m \u001b[0mlength\u001b[0m\u001b[0;34m:\u001b[0m\u001b[0;34m\u001b[0m\u001b[0;34m\u001b[0m\u001b[0m\n\u001b[1;32m    948\u001b[0m                     raise ValueError(\n",
            "\u001b[0;31mValueError\u001b[0m: Value of 'names' is not the name of a column in 'data_frame'. Expected one of ['day', '환기', '콘센트', '냉방', '난방', '조명', '기타'] but received: month"
          ]
        }
      ]
    },
    {
      "cell_type": "code",
      "metadata": {
        "id": "t7EjNifQYWMN"
      },
      "source": [
        "# 파이차트 그리기\n",
        "## 위처럼 오류가 나서 df를 다시 불러옴\n",
        "\n",
        "df=pd.read_excel('energy.xlsx')\n",
        "fig = px.pie(df, values='환기', names='month', title='월별 환기 에너지 파이차트') \n",
        "fig.show()"
      ],
      "execution_count": null,
      "outputs": []
    },
    {
      "cell_type": "code",
      "metadata": {
        "id": "Rihk1PeuY439"
      },
      "source": [
        "# 이미지 파일로 저장하기\n",
        "fig.write_image('월별 환기 에너지 파이차트.png')\n",
        "#### 이번에도 저장해서 열어보니 한글 깨짐이 발생함 => 그래서 한글깨짐 방지 코드를 추가로 넣었음(맨 위)"
      ],
      "execution_count": 14,
      "outputs": []
    },
    {
      "cell_type": "markdown",
      "metadata": {
        "id": "iDdBDGqlafpT"
      },
      "source": [
        "2. 콘센트 데이터"
      ]
    },
    {
      "cell_type": "code",
      "metadata": {
        "id": "LQX8kPcjbw_Z"
      },
      "source": [
        "# 라인 색상 변경\n",
        "\n",
        "fig = go.Figure(go.Scatter(\n",
        "    x = df['day'],\n",
        "    y = df['콘센트'],\n",
        "    line_color = 'green' #x축, y축 선언한 후에 line_color 넣기\n",
        "))\n",
        "fig.update_layout(title_text='날짜별 콘센트 그래프')\n",
        "fig.show()"
      ],
      "execution_count": null,
      "outputs": []
    },
    {
      "cell_type": "code",
      "metadata": {
        "id": "-ozQyhQ8cqjK"
      },
      "source": [
        "fig = px.pie(df,\n",
        "             values='콘센트',\n",
        "             names='month',\n",
        "             title='월별 콘센트 에너지 파이차트')\n",
        "\n",
        "fig.show()"
      ],
      "execution_count": null,
      "outputs": []
    },
    {
      "cell_type": "markdown",
      "metadata": {
        "id": "Niodex1Udrcr"
      },
      "source": [
        "3. 냉방 데이터"
      ]
    },
    {
      "cell_type": "code",
      "metadata": {
        "id": "opE7j1qpdHY-"
      },
      "source": [
        "fig = go.Figure(go.Scatter(\n",
        "    x = df['day'],\n",
        "    y = df['냉방'],\n",
        "    line_color = 'black' #x축, y축 선언한 후에 line_color 넣기\n",
        "))\n",
        "fig.update_layout(title_text='날짜별 냉방 막대그래프')\n",
        "fig.show()\n"
      ],
      "execution_count": null,
      "outputs": []
    },
    {
      "cell_type": "code",
      "metadata": {
        "id": "4gpHz-sJdjNt"
      },
      "source": [
        "fig = px.pie(df,\n",
        "             values='냉방',\n",
        "             names='month',\n",
        "             title='월별 콘센트 에너지 파이차트')\n",
        "\n",
        "fig.show()"
      ],
      "execution_count": null,
      "outputs": []
    },
    {
      "cell_type": "markdown",
      "metadata": {
        "id": "iCUiIuHSd76t"
      },
      "source": [
        "4. 난방 데이터"
      ]
    },
    {
      "cell_type": "code",
      "metadata": {
        "id": "XUBLvzrueBQk"
      },
      "source": [
        "fig = go.Figure(go.Scatter(\n",
        "    x = df['day'],\n",
        "    y = df['난방'],\n",
        "    line_color = 'red' #x축, y축 선언한 후에 line_color 넣기\n",
        "))\n",
        "fig.update_layout(title_text='날짜별 냉방 막대그래프')\n",
        "fig.show()"
      ],
      "execution_count": null,
      "outputs": []
    },
    {
      "cell_type": "code",
      "metadata": {
        "id": "FfMraxIhd91E"
      },
      "source": [
        "fig = px.pie(df,\n",
        "             values='난방',\n",
        "             names='month',\n",
        "             title='월별 난방 에너지 파이차트')\n",
        "\n",
        "fig.show()\n",
        "\n",
        "#5, 6, 7, 8, 9는 난방을 전혀 하지 않았다(0%)"
      ],
      "execution_count": null,
      "outputs": []
    },
    {
      "cell_type": "markdown",
      "metadata": {
        "id": "iG4V9xOkeePm"
      },
      "source": [
        "5. 조명 데이터"
      ]
    },
    {
      "cell_type": "code",
      "metadata": {
        "id": "HhrZkFmIesZH"
      },
      "source": [
        "fig = go.Figure(go.Scatter(\n",
        "    x = df['day'],\n",
        "    y = df['조명'],\n",
        "    line_color = 'red' #x축, y축 선언한 후에 line_color 넣기\n",
        "))\n",
        "fig.update_layout(title_text='날짜별 조명 막대그래프')\n",
        "fig.show()"
      ],
      "execution_count": null,
      "outputs": []
    },
    {
      "cell_type": "code",
      "metadata": {
        "id": "MAjnalSifQDU"
      },
      "source": [
        "# 이미지 파일로 저장하기\n",
        "fig.write_image('날짜별 조명 막대그래프.png')"
      ],
      "execution_count": 22,
      "outputs": []
    },
    {
      "cell_type": "code",
      "metadata": {
        "id": "bmDaUnugewJp"
      },
      "source": [
        "fig = px.pie(df,\n",
        "             values='조명',\n",
        "             names='month',\n",
        "             title='월별 조명 에너지 파이차트')\n",
        "\n",
        "fig.show()"
      ],
      "execution_count": null,
      "outputs": []
    },
    {
      "cell_type": "code",
      "metadata": {
        "id": "H5-2B852fM2D"
      },
      "source": [
        "# 이미지 파일로 저장하기\n",
        "fig.write_image('월별 조명 에너지 파이차트.png')"
      ],
      "execution_count": 24,
      "outputs": []
    },
    {
      "cell_type": "markdown",
      "metadata": {
        "id": "QLT2H0mQe1Qi"
      },
      "source": [
        "6. 기타"
      ]
    },
    {
      "cell_type": "code",
      "metadata": {
        "id": "tTYubFUWfCHs"
      },
      "source": [
        "fig = go.Figure(go.Scatter(\n",
        "    x = df['day'],\n",
        "    y = df['기타'],\n",
        "    line_color = 'purple' #x축, y축 선언한 후에 line_color 넣기\n",
        "))\n",
        "fig.update_layout(title_text='날짜별 기타 막대그래프')\n",
        "fig.show()"
      ],
      "execution_count": null,
      "outputs": []
    },
    {
      "cell_type": "code",
      "metadata": {
        "id": "gbrR43OAfUDl"
      },
      "source": [
        "# 이미지 파일로 저장하기\n",
        "fig.write_image('날짜별 기타 막대그래프.png')"
      ],
      "execution_count": 26,
      "outputs": []
    },
    {
      "cell_type": "code",
      "metadata": {
        "id": "NCihrBCee3Ok"
      },
      "source": [
        "fig = px.pie(df,\n",
        "             values='기타',\n",
        "             names='month',\n",
        "             title='월별 기타 에너지 파이차트')\n",
        "\n",
        "fig.show()"
      ],
      "execution_count": null,
      "outputs": []
    },
    {
      "cell_type": "code",
      "metadata": {
        "id": "k-yN2knVfFuJ"
      },
      "source": [
        "# 이미지 파일로 저장하기\n",
        "fig.write_image('월별 기타 에너지 파이차트.png')"
      ],
      "execution_count": 28,
      "outputs": []
    },
    {
      "cell_type": "markdown",
      "metadata": {
        "id": "Zesx7tTHlvNN"
      },
      "source": [
        "#10월달의 토요일 에너지 현황을 분석"
      ]
    },
    {
      "cell_type": "code",
      "metadata": {
        "id": "CHoFJA62lzaD"
      },
      "source": [
        "df1 =  df[(df.month == 10) & (df.weekday =='Saturday')]\n",
        "#여러 가지 조건이 있을 때 우선 순위를 정하기 위해 ()로 감쌈\n",
        "\n",
        "# 1) 실제 데이터 셋을 확인 df or df1.head() or tail() 활용\n",
        "df1"
      ],
      "execution_count": null,
      "outputs": []
    },
    {
      "cell_type": "code",
      "metadata": {
        "id": "glfAu551mdbo"
      },
      "source": [
        "df1.info()"
      ],
      "execution_count": null,
      "outputs": []
    },
    {
      "cell_type": "markdown",
      "metadata": {
        "id": "WuiEV0AunEw2"
      },
      "source": [
        "10월달의 토요일 에너지 현황을 분석 -> 1. 환기"
      ]
    },
    {
      "cell_type": "code",
      "metadata": {
        "id": "EwC3G0AonJwQ"
      },
      "source": [
        "#bar chart 그려보기\n",
        "\n",
        "fig = go.Figure(go.Bar(\n",
        "    x = df1['day'],\n",
        "    y = df1['환기'],\n",
        "))\n",
        "fig.update_layout(title_text='10월 토요일 환기 막대그래프')\n",
        "fig.show()"
      ],
      "execution_count": null,
      "outputs": []
    },
    {
      "cell_type": "markdown",
      "metadata": {
        "id": "qUxRy5NPozKR"
      },
      "source": [
        "본인이 가장 좋아하는 월중에 하나를 선택해서 모든 요일에 대한 전체 그래프 그리기"
      ]
    },
    {
      "cell_type": "code",
      "metadata": {
        "id": "3Ai0KDfDoy65"
      },
      "source": [
        "df2 = df[df.month==5]"
      ],
      "execution_count": 32,
      "outputs": []
    },
    {
      "cell_type": "code",
      "metadata": {
        "id": "M5GKhpazo2fa"
      },
      "source": [
        "df2.info()"
      ],
      "execution_count": null,
      "outputs": []
    },
    {
      "cell_type": "code",
      "metadata": {
        "id": "chkoi4NRo-fw"
      },
      "source": [
        "fig = go.Figure()\n",
        "#yyyy-mm-dd의 그 day\n",
        "fig.add_trace(go.Scatter(\n",
        "              x = df2.day,\n",
        "              y = df2['환기'], #df2.환기로 해도 되는데 가끔 에러남\n",
        "              #한글은 대괄호 안에 df2['환기'] 이런식을 적어주는게 좋음\n",
        "              name = '환기', #name은 범례와 같은 기능\n",
        "              line_color='#5E0DAC'))\n",
        "\n",
        "fig.add_trace(go.Scatter(\n",
        "    x = df2.day,\n",
        "    y = df2['콘센트'],\n",
        "    name = '콘센트',\n",
        "    line_color='black'\n",
        "    ))\n",
        "\n",
        "fig.add_trace(go.Scatter(\n",
        "    x = df2.day,\n",
        "    y = df2['냉방'],\n",
        "    name = '냉방',\n",
        "    line_color='blue'))\n",
        "\n",
        "fig.add_trace(go.Scatter(\n",
        "    x = df2.day,\n",
        "    y = df2['난방'],\n",
        "    name = '난방',\n",
        "    line_color='red'))\n",
        "\n",
        "fig.add_trace(go.Scatter(\n",
        "    x = df2.day,\n",
        "    y = df2['조명'],\n",
        "    name = '조명',\n",
        "    line_color='yellow'))\n",
        "\n",
        "fig.add_trace(go.Scatter(\n",
        "    x = df2.day,\n",
        "    y = df2['기타'],\n",
        "    name = '기타',\n",
        "    line_color='pink'))\n",
        "\n",
        "fig.update_layout(title_text='5월에 쓴 전체 에너지')\n",
        "fig.show()\n",
        "\n",
        "\n",
        "#line_color는 색상표 참고해서 하면 됨"
      ],
      "execution_count": null,
      "outputs": []
    },
    {
      "cell_type": "code",
      "metadata": {
        "id": "PM7dMCLksG-U"
      },
      "source": [
        "fig = go.Figure()\n",
        "#yyyy-mm-dd의 그 day\n",
        "fig.add_trace(go.Scatter(\n",
        "              x = df.day,\n",
        "              y = df['환기'], #df2.환기로 해도 되는데 가끔 에러남\n",
        "              #한글은 대괄호 안에 df2['환기'] 이런식을 적어주는게 좋음\n",
        "              name = '환기', #name은 범례와 같은 기능\n",
        "              line_color='#5E0DAC'))\n",
        "\n",
        "\n",
        "fig.add_trace(go.Scatter(\n",
        "    x = df.day,\n",
        "    y = df['기타'],\n",
        "    name = '기타',\n",
        "    line_color='pink'))\n",
        "\n",
        "\n",
        "fig.add_trace(go.Scatter(\n",
        "    x = df.day,\n",
        "    y = df['콘센트'],\n",
        "    name = '콘센트',\n",
        "    line_color='black'\n",
        "    ))\n",
        "\n",
        "\n",
        "\n",
        "fig.add_trace(go.Scatter(\n",
        "    x = df.day,\n",
        "    y = df['냉방'],\n",
        "    name = '냉방',\n",
        "    line_color='blue'))\n",
        "\n",
        "fig.add_trace(go.Scatter(\n",
        "    x = df.day,\n",
        "    y = df['조명'],\n",
        "    name = '조명',\n",
        "    line_color='yellow'))\n",
        "\n",
        "\n",
        "\n",
        "fig.add_trace(go.Scatter(\n",
        "    x = df.day,\n",
        "    y = df['난방'],\n",
        "    name = '난방',\n",
        "    line_color='red'))\n",
        "\n",
        "\n",
        "\n",
        "\n",
        "\n",
        "\n",
        "\n",
        "fig.update_layout(title_text='전체 에너지 사용량')\n",
        "fig.show()\n",
        "\n",
        "\n",
        "#line_color는 색상표 참고해서 하면 됨"
      ],
      "execution_count": null,
      "outputs": []
    },
    {
      "cell_type": "markdown",
      "metadata": {
        "id": "HnnAkLtvCNUo"
      },
      "source": [
        "#히트맵(heatmap)으로 에너지 분석 완성하기!<br>\n",
        "몇 월, 무슨 요일에 가장 에너지를 많이 사용했을까?"
      ]
    },
    {
      "cell_type": "markdown",
      "metadata": {
        "id": "OTzvqmqDCY6T"
      },
      "source": [
        "전체 에너지 데이터를 한번에 보고 싶어요"
      ]
    },
    {
      "cell_type": "code",
      "metadata": {
        "colab": {
          "base_uri": "https://localhost:8080/",
          "height": 202
        },
        "id": "xjWIGnB-CsLL",
        "outputId": "c28c4f9c-e3da-4a31-ccbc-03c0f8dcca96"
      },
      "source": [
        "#gapminder 변수 지정\n",
        "gapminder = pd.read_excel('energy.xlsx')\n",
        "gapminder.head()"
      ],
      "execution_count": 36,
      "outputs": [
        {
          "output_type": "execute_result",
          "data": {
            "text/html": [
              "<div>\n",
              "<style scoped>\n",
              "    .dataframe tbody tr th:only-of-type {\n",
              "        vertical-align: middle;\n",
              "    }\n",
              "\n",
              "    .dataframe tbody tr th {\n",
              "        vertical-align: top;\n",
              "    }\n",
              "\n",
              "    .dataframe thead th {\n",
              "        text-align: right;\n",
              "    }\n",
              "</style>\n",
              "<table border=\"1\" class=\"dataframe\">\n",
              "  <thead>\n",
              "    <tr style=\"text-align: right;\">\n",
              "      <th></th>\n",
              "      <th>dttm</th>\n",
              "      <th>weekday</th>\n",
              "      <th>day</th>\n",
              "      <th>month</th>\n",
              "      <th>time</th>\n",
              "      <th>avg_temperature</th>\n",
              "      <th>min_temperature</th>\n",
              "      <th>max_temperature</th>\n",
              "      <th>wclass</th>\n",
              "      <th>환기</th>\n",
              "      <th>콘센트</th>\n",
              "      <th>냉방</th>\n",
              "      <th>난방</th>\n",
              "      <th>조명</th>\n",
              "      <th>기타</th>\n",
              "    </tr>\n",
              "  </thead>\n",
              "  <tbody>\n",
              "    <tr>\n",
              "      <th>0</th>\n",
              "      <td>2018-12-01 00:15:00</td>\n",
              "      <td>Saturday</td>\n",
              "      <td>2018-12-01</td>\n",
              "      <td>12</td>\n",
              "      <td>00:15:00</td>\n",
              "      <td>5.5</td>\n",
              "      <td>0.8</td>\n",
              "      <td>12.4</td>\n",
              "      <td>B</td>\n",
              "      <td>2.501530</td>\n",
              "      <td>1.627272</td>\n",
              "      <td>1.047062</td>\n",
              "      <td>1.400422</td>\n",
              "      <td>1.370104</td>\n",
              "      <td>1.943357</td>\n",
              "    </tr>\n",
              "    <tr>\n",
              "      <th>1</th>\n",
              "      <td>2018-12-01 00:30:00</td>\n",
              "      <td>Saturday</td>\n",
              "      <td>2018-12-01</td>\n",
              "      <td>12</td>\n",
              "      <td>00:30:00</td>\n",
              "      <td>5.5</td>\n",
              "      <td>0.8</td>\n",
              "      <td>12.4</td>\n",
              "      <td>B</td>\n",
              "      <td>2.569669</td>\n",
              "      <td>1.671598</td>\n",
              "      <td>1.075581</td>\n",
              "      <td>1.438566</td>\n",
              "      <td>1.407422</td>\n",
              "      <td>1.996293</td>\n",
              "    </tr>\n",
              "    <tr>\n",
              "      <th>2</th>\n",
              "      <td>2018-12-01 00:45:00</td>\n",
              "      <td>Saturday</td>\n",
              "      <td>2018-12-01</td>\n",
              "      <td>12</td>\n",
              "      <td>00:45:00</td>\n",
              "      <td>5.5</td>\n",
              "      <td>0.8</td>\n",
              "      <td>12.4</td>\n",
              "      <td>B</td>\n",
              "      <td>2.501534</td>\n",
              "      <td>1.627280</td>\n",
              "      <td>1.047062</td>\n",
              "      <td>1.400422</td>\n",
              "      <td>1.370104</td>\n",
              "      <td>1.943368</td>\n",
              "    </tr>\n",
              "    <tr>\n",
              "      <th>3</th>\n",
              "      <td>2018-12-01 01:00:00</td>\n",
              "      <td>Saturday</td>\n",
              "      <td>2018-12-01</td>\n",
              "      <td>12</td>\n",
              "      <td>01:00:00</td>\n",
              "      <td>5.5</td>\n",
              "      <td>0.8</td>\n",
              "      <td>12.4</td>\n",
              "      <td>B</td>\n",
              "      <td>2.501534</td>\n",
              "      <td>1.627286</td>\n",
              "      <td>1.047062</td>\n",
              "      <td>1.400422</td>\n",
              "      <td>1.370104</td>\n",
              "      <td>1.943379</td>\n",
              "    </tr>\n",
              "    <tr>\n",
              "      <th>4</th>\n",
              "      <td>2018-12-01 01:15:00</td>\n",
              "      <td>Saturday</td>\n",
              "      <td>2018-12-01</td>\n",
              "      <td>12</td>\n",
              "      <td>01:15:00</td>\n",
              "      <td>5.5</td>\n",
              "      <td>0.8</td>\n",
              "      <td>12.4</td>\n",
              "      <td>B</td>\n",
              "      <td>2.443132</td>\n",
              "      <td>1.589302</td>\n",
              "      <td>1.022617</td>\n",
              "      <td>1.367728</td>\n",
              "      <td>1.338117</td>\n",
              "      <td>1.898016</td>\n",
              "    </tr>\n",
              "  </tbody>\n",
              "</table>\n",
              "</div>"
            ],
            "text/plain": [
              "                 dttm   weekday        day  ...        난방        조명        기타\n",
              "0 2018-12-01 00:15:00  Saturday 2018-12-01  ...  1.400422  1.370104  1.943357\n",
              "1 2018-12-01 00:30:00  Saturday 2018-12-01  ...  1.438566  1.407422  1.996293\n",
              "2 2018-12-01 00:45:00  Saturday 2018-12-01  ...  1.400422  1.370104  1.943368\n",
              "3 2018-12-01 01:00:00  Saturday 2018-12-01  ...  1.400422  1.370104  1.943379\n",
              "4 2018-12-01 01:15:00  Saturday 2018-12-01  ...  1.367728  1.338117  1.898016\n",
              "\n",
              "[5 rows x 15 columns]"
            ]
          },
          "metadata": {
            "tags": []
          },
          "execution_count": 36
        }
      ]
    },
    {
      "cell_type": "markdown",
      "metadata": {
        "id": "xAssabEhC7cc"
      },
      "source": [
        "월별, 요일별 가장 많이 사용한 에너지의 정보를 한 눈에 보고 싶다"
      ]
    },
    {
      "cell_type": "markdown",
      "metadata": {
        "id": "wdRiGiNxDAur"
      },
      "source": [
        "월별(month), 요일별(weekday), 평균 온도(avg_temperature) 사용 정보를 heatmap으로 표현"
      ]
    },
    {
      "cell_type": "code",
      "metadata": {
        "colab": {
          "base_uri": "https://localhost:8080/",
          "height": 416
        },
        "id": "wO58dTjCDRR8",
        "outputId": "d68b769d-cd16-4ce9-c055-d9b7a648b905"
      },
      "source": [
        "df_heat = gapminder[['weekday', 'month', 'avg_temperature']]\n",
        "df_heat"
      ],
      "execution_count": 37,
      "outputs": [
        {
          "output_type": "execute_result",
          "data": {
            "text/html": [
              "<div>\n",
              "<style scoped>\n",
              "    .dataframe tbody tr th:only-of-type {\n",
              "        vertical-align: middle;\n",
              "    }\n",
              "\n",
              "    .dataframe tbody tr th {\n",
              "        vertical-align: top;\n",
              "    }\n",
              "\n",
              "    .dataframe thead th {\n",
              "        text-align: right;\n",
              "    }\n",
              "</style>\n",
              "<table border=\"1\" class=\"dataframe\">\n",
              "  <thead>\n",
              "    <tr style=\"text-align: right;\">\n",
              "      <th></th>\n",
              "      <th>weekday</th>\n",
              "      <th>month</th>\n",
              "      <th>avg_temperature</th>\n",
              "    </tr>\n",
              "  </thead>\n",
              "  <tbody>\n",
              "    <tr>\n",
              "      <th>0</th>\n",
              "      <td>Saturday</td>\n",
              "      <td>12</td>\n",
              "      <td>5.5</td>\n",
              "    </tr>\n",
              "    <tr>\n",
              "      <th>1</th>\n",
              "      <td>Saturday</td>\n",
              "      <td>12</td>\n",
              "      <td>5.5</td>\n",
              "    </tr>\n",
              "    <tr>\n",
              "      <th>2</th>\n",
              "      <td>Saturday</td>\n",
              "      <td>12</td>\n",
              "      <td>5.5</td>\n",
              "    </tr>\n",
              "    <tr>\n",
              "      <th>3</th>\n",
              "      <td>Saturday</td>\n",
              "      <td>12</td>\n",
              "      <td>5.5</td>\n",
              "    </tr>\n",
              "    <tr>\n",
              "      <th>4</th>\n",
              "      <td>Saturday</td>\n",
              "      <td>12</td>\n",
              "      <td>5.5</td>\n",
              "    </tr>\n",
              "    <tr>\n",
              "      <th>...</th>\n",
              "      <td>...</td>\n",
              "      <td>...</td>\n",
              "      <td>...</td>\n",
              "    </tr>\n",
              "    <tr>\n",
              "      <th>32154</th>\n",
              "      <td>Thursday</td>\n",
              "      <td>10</td>\n",
              "      <td>14.8</td>\n",
              "    </tr>\n",
              "    <tr>\n",
              "      <th>32155</th>\n",
              "      <td>Thursday</td>\n",
              "      <td>10</td>\n",
              "      <td>14.8</td>\n",
              "    </tr>\n",
              "    <tr>\n",
              "      <th>32156</th>\n",
              "      <td>Thursday</td>\n",
              "      <td>10</td>\n",
              "      <td>14.8</td>\n",
              "    </tr>\n",
              "    <tr>\n",
              "      <th>32157</th>\n",
              "      <td>Thursday</td>\n",
              "      <td>10</td>\n",
              "      <td>14.8</td>\n",
              "    </tr>\n",
              "    <tr>\n",
              "      <th>32158</th>\n",
              "      <td>Thursday</td>\n",
              "      <td>10</td>\n",
              "      <td>14.8</td>\n",
              "    </tr>\n",
              "  </tbody>\n",
              "</table>\n",
              "<p>32159 rows × 3 columns</p>\n",
              "</div>"
            ],
            "text/plain": [
              "        weekday  month  avg_temperature\n",
              "0      Saturday     12              5.5\n",
              "1      Saturday     12              5.5\n",
              "2      Saturday     12              5.5\n",
              "3      Saturday     12              5.5\n",
              "4      Saturday     12              5.5\n",
              "...         ...    ...              ...\n",
              "32154  Thursday     10             14.8\n",
              "32155  Thursday     10             14.8\n",
              "32156  Thursday     10             14.8\n",
              "32157  Thursday     10             14.8\n",
              "32158  Thursday     10             14.8\n",
              "\n",
              "[32159 rows x 3 columns]"
            ]
          },
          "metadata": {
            "tags": []
          },
          "execution_count": 37
        }
      ]
    },
    {
      "cell_type": "code",
      "metadata": {
        "id": "GLE-mltIKDLV"
      },
      "source": [
        ""
      ],
      "execution_count": 37,
      "outputs": []
    },
    {
      "cell_type": "markdown",
      "metadata": {
        "id": "uebvtS_oFulm"
      },
      "source": [
        "#pivot_table<br> 그래프를 재구조화함\n",
        "<br> 세로로 된 애들을 가로로 변경"
      ]
    },
    {
      "cell_type": "markdown",
      "metadata": {
        "id": "GY7XFHOTGP2w"
      },
      "source": [
        "# x축에 요일이 넣고 싶으면 컬럼에 넣고<br> y축에 월을 넣고 싶으면 index에 month를 넣는다\n",
        "# 내가 정말 표현할 값을 values에 넣는다"
      ]
    },
    {
      "cell_type": "code",
      "metadata": {
        "id": "yZjm8upCD1BU"
      },
      "source": [
        "heatmap_data = pd.pivot_table(\n",
        "    df_heat,\n",
        "    values = 'avg_temperature',\n",
        "    index = ['month'],\n",
        "    columns = 'weekday'\n",
        "    )\n",
        "\n",
        "# x축에 요일이 넣고 싶으면 컬럼에 넣고 y축에 월을 넣고 싶으면 index에 month를 넣는다\n",
        "# 내가 정말 표현할 값을 values에 넣는다"
      ],
      "execution_count": 38,
      "outputs": []
    },
    {
      "cell_type": "code",
      "metadata": {
        "colab": {
          "base_uri": "https://localhost:8080/",
          "height": 418
        },
        "id": "yAbgiuqJFCoi",
        "outputId": "b3da790a-d518-40d7-bfe9-f9aa5fe08b54"
      },
      "source": [
        "heatmap_data"
      ],
      "execution_count": 39,
      "outputs": [
        {
          "output_type": "execute_result",
          "data": {
            "text/html": [
              "<div>\n",
              "<style scoped>\n",
              "    .dataframe tbody tr th:only-of-type {\n",
              "        vertical-align: middle;\n",
              "    }\n",
              "\n",
              "    .dataframe tbody tr th {\n",
              "        vertical-align: top;\n",
              "    }\n",
              "\n",
              "    .dataframe thead th {\n",
              "        text-align: right;\n",
              "    }\n",
              "</style>\n",
              "<table border=\"1\" class=\"dataframe\">\n",
              "  <thead>\n",
              "    <tr style=\"text-align: right;\">\n",
              "      <th>weekday</th>\n",
              "      <th>Friday</th>\n",
              "      <th>Monday</th>\n",
              "      <th>Saturday</th>\n",
              "      <th>Sunday</th>\n",
              "      <th>Thursday</th>\n",
              "      <th>Tuesday</th>\n",
              "      <th>Wednesday</th>\n",
              "    </tr>\n",
              "    <tr>\n",
              "      <th>month</th>\n",
              "      <th></th>\n",
              "      <th></th>\n",
              "      <th></th>\n",
              "      <th></th>\n",
              "      <th></th>\n",
              "      <th></th>\n",
              "      <th></th>\n",
              "    </tr>\n",
              "  </thead>\n",
              "  <tbody>\n",
              "    <tr>\n",
              "      <th>1</th>\n",
              "      <td>0.175</td>\n",
              "      <td>-0.125</td>\n",
              "      <td>0.275000</td>\n",
              "      <td>-0.775</td>\n",
              "      <td>-1.260</td>\n",
              "      <td>-1.740</td>\n",
              "      <td>-2.200</td>\n",
              "    </tr>\n",
              "    <tr>\n",
              "      <th>2</th>\n",
              "      <td>-1.250</td>\n",
              "      <td>0.500</td>\n",
              "      <td>0.025000</td>\n",
              "      <td>0.700</td>\n",
              "      <td>1.600</td>\n",
              "      <td>2.200</td>\n",
              "      <td>3.125</td>\n",
              "    </tr>\n",
              "    <tr>\n",
              "      <th>3</th>\n",
              "      <td>6.140</td>\n",
              "      <td>7.725</td>\n",
              "      <td>5.560000</td>\n",
              "      <td>6.900</td>\n",
              "      <td>7.125</td>\n",
              "      <td>8.425</td>\n",
              "      <td>8.450</td>\n",
              "    </tr>\n",
              "    <tr>\n",
              "      <th>4</th>\n",
              "      <td>11.250</td>\n",
              "      <td>12.200</td>\n",
              "      <td>11.750000</td>\n",
              "      <td>12.475</td>\n",
              "      <td>11.125</td>\n",
              "      <td>13.340</td>\n",
              "      <td>12.375</td>\n",
              "    </tr>\n",
              "    <tr>\n",
              "      <th>5</th>\n",
              "      <td>20.520</td>\n",
              "      <td>16.850</td>\n",
              "      <td>21.500000</td>\n",
              "      <td>21.175</td>\n",
              "      <td>19.780</td>\n",
              "      <td>17.475</td>\n",
              "      <td>18.500</td>\n",
              "    </tr>\n",
              "    <tr>\n",
              "      <th>6</th>\n",
              "      <td>22.450</td>\n",
              "      <td>22.100</td>\n",
              "      <td>22.000000</td>\n",
              "      <td>22.720</td>\n",
              "      <td>23.100</td>\n",
              "      <td>22.375</td>\n",
              "      <td>22.850</td>\n",
              "    </tr>\n",
              "    <tr>\n",
              "      <th>7</th>\n",
              "      <td>26.225</td>\n",
              "      <td>25.400</td>\n",
              "      <td>27.750000</td>\n",
              "      <td>25.950</td>\n",
              "      <td>25.125</td>\n",
              "      <td>26.060</td>\n",
              "      <td>24.940</td>\n",
              "    </tr>\n",
              "    <tr>\n",
              "      <th>8</th>\n",
              "      <td>26.580</td>\n",
              "      <td>27.450</td>\n",
              "      <td>26.880000</td>\n",
              "      <td>27.325</td>\n",
              "      <td>26.280</td>\n",
              "      <td>28.675</td>\n",
              "      <td>27.600</td>\n",
              "    </tr>\n",
              "    <tr>\n",
              "      <th>9</th>\n",
              "      <td>22.775</td>\n",
              "      <td>23.280</td>\n",
              "      <td>22.850000</td>\n",
              "      <td>22.760</td>\n",
              "      <td>21.600</td>\n",
              "      <td>22.800</td>\n",
              "      <td>22.250</td>\n",
              "    </tr>\n",
              "    <tr>\n",
              "      <th>10</th>\n",
              "      <td>18.725</td>\n",
              "      <td>14.800</td>\n",
              "      <td>15.900000</td>\n",
              "      <td>15.700</td>\n",
              "      <td>17.220</td>\n",
              "      <td>16.580</td>\n",
              "      <td>15.600</td>\n",
              "    </tr>\n",
              "    <tr>\n",
              "      <th>12</th>\n",
              "      <td>-4.150</td>\n",
              "      <td>0.580</td>\n",
              "      <td>-1.193946</td>\n",
              "      <td>-0.720</td>\n",
              "      <td>-1.625</td>\n",
              "      <td>2.525</td>\n",
              "      <td>0.150</td>\n",
              "    </tr>\n",
              "  </tbody>\n",
              "</table>\n",
              "</div>"
            ],
            "text/plain": [
              "weekday  Friday  Monday   Saturday  Sunday  Thursday  Tuesday  Wednesday\n",
              "month                                                                   \n",
              "1         0.175  -0.125   0.275000  -0.775    -1.260   -1.740     -2.200\n",
              "2        -1.250   0.500   0.025000   0.700     1.600    2.200      3.125\n",
              "3         6.140   7.725   5.560000   6.900     7.125    8.425      8.450\n",
              "4        11.250  12.200  11.750000  12.475    11.125   13.340     12.375\n",
              "5        20.520  16.850  21.500000  21.175    19.780   17.475     18.500\n",
              "6        22.450  22.100  22.000000  22.720    23.100   22.375     22.850\n",
              "7        26.225  25.400  27.750000  25.950    25.125   26.060     24.940\n",
              "8        26.580  27.450  26.880000  27.325    26.280   28.675     27.600\n",
              "9        22.775  23.280  22.850000  22.760    21.600   22.800     22.250\n",
              "10       18.725  14.800  15.900000  15.700    17.220   16.580     15.600\n",
              "12       -4.150   0.580  -1.193946  -0.720    -1.625    2.525      0.150"
            ]
          },
          "metadata": {
            "tags": []
          },
          "execution_count": 39
        }
      ]
    },
    {
      "cell_type": "code",
      "metadata": {
        "id": "JSBsJAUdFfuE"
      },
      "source": [
        "sns.heatmap(heatmap_data, cmap='YlGnBu') # ( , a) 어떤 형식 그래프 a를 쓸 건지\n",
        "\n",
        "#Y는 yello G는 green B는 blue\n",
        "#파랑색은 그래프가 긍정적으로 보여서 색상을 잘 쓰는 것이 중요하다\n"
      ],
      "execution_count": null,
      "outputs": []
    },
    {
      "cell_type": "markdown",
      "metadata": {
        "id": "OfR-DCVHG_qY"
      },
      "source": [
        "#더 디테일 하게 heatmap 그려보기"
      ]
    },
    {
      "cell_type": "code",
      "metadata": {
        "id": "h8wAQfQ6HCVa"
      },
      "source": [
        "#cmap 종류 참고 https://matplotlib.org/stable/tutorials/colors/colormaps.html\n",
        "\n",
        "sns.heatmap(heatmap_data, annot = True, linewidths=.5, cmap='YlGnBu')\n",
        "#annot = True  ===> 주석처럼 데이터의 값을 붙여줘라\n",
        "#linewidths=  ==>> 흰라인을 넣어서 나뉘게 됨\n",
        "\n",
        "\n",
        "##### 전반적으로 이해하고 싶으면 숫자를 없애는 경우도 있음"
      ],
      "execution_count": null,
      "outputs": []
    },
    {
      "cell_type": "markdown",
      "metadata": {
        "id": "VXbJ5cXGHw9s"
      },
      "source": [
        "위의 그래프를 빨간 계열로 그려보기<br> cmap='Reds'"
      ]
    },
    {
      "cell_type": "code",
      "metadata": {
        "id": "yKTs-PjZHuhX"
      },
      "source": [
        "sns.heatmap(heatmap_data, annot = True, linewidths=.5, cmap='Reds')"
      ],
      "execution_count": null,
      "outputs": []
    },
    {
      "cell_type": "code",
      "metadata": {
        "id": "ISoDjbUgIAAQ"
      },
      "source": [
        "#제일 높았던 곳 제일 낮았던 곳"
      ],
      "execution_count": 43,
      "outputs": []
    },
    {
      "cell_type": "code",
      "metadata": {
        "id": "NQ_-I1b9KFFi"
      },
      "source": [
        "df_heat1 = gapminder[['weekday', 'month', 'max_temperature']]\n",
        "df_heat1"
      ],
      "execution_count": null,
      "outputs": []
    },
    {
      "cell_type": "code",
      "metadata": {
        "id": "hd6sm2gmIJYj"
      },
      "source": [
        "heatmap_data = pd.pivot_table(\n",
        "    df_heat1,\n",
        "    values = 'max_temperature',\n",
        "    index = ['month'],\n",
        "    columns = 'weekday'\n",
        "    )"
      ],
      "execution_count": 45,
      "outputs": []
    },
    {
      "cell_type": "code",
      "metadata": {
        "id": "b94sOShJKPgC"
      },
      "source": [
        "heatmap_data"
      ],
      "execution_count": null,
      "outputs": []
    },
    {
      "cell_type": "code",
      "metadata": {
        "id": "0byP2McEKSKm"
      },
      "source": [
        "sns.heatmap(heatmap_data, annot = True, linewidths=.5, cmap='OrRd')"
      ],
      "execution_count": null,
      "outputs": []
    },
    {
      "cell_type": "code",
      "metadata": {
        "id": "9Ray6iD2Ld0M"
      },
      "source": [
        "df_heat2 = gapminder[['weekday', 'month', 'min_temperature']]\n",
        "df_heat2"
      ],
      "execution_count": null,
      "outputs": []
    },
    {
      "cell_type": "code",
      "metadata": {
        "id": "7ladZGvNLhvy"
      },
      "source": [
        "heatmap_data = pd.pivot_table(\n",
        "    df_heat2,\n",
        "    values = 'min_temperature',\n",
        "    index = ['month'],\n",
        "    columns = 'weekday'\n",
        "    )"
      ],
      "execution_count": 49,
      "outputs": []
    },
    {
      "cell_type": "code",
      "metadata": {
        "id": "v0uLPrE1LnJ2"
      },
      "source": [
        "heatmap_data"
      ],
      "execution_count": null,
      "outputs": []
    },
    {
      "cell_type": "code",
      "metadata": {
        "id": "Qi4NIPrjLpOD"
      },
      "source": [
        "sns.heatmap(heatmap_data, annot = True, linewidths=.5, cmap='PuBu')"
      ],
      "execution_count": null,
      "outputs": []
    },
    {
      "cell_type": "code",
      "metadata": {
        "id": "y-cItuC2Ltzh"
      },
      "source": [
        ""
      ],
      "execution_count": 51,
      "outputs": []
    }
  ]
}