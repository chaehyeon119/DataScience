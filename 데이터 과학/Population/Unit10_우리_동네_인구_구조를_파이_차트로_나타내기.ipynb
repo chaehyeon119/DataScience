{
  "nbformat": 4,
  "nbformat_minor": 0,
  "metadata": {
    "colab": {
      "name": "Unit10- 우리 동네 인구 구조를 파이 차트로 나타내기.ipynb",
      "provenance": [],
      "collapsed_sections": []
    },
    "kernelspec": {
      "name": "python3",
      "display_name": "Python 3"
    },
    "language_info": {
      "name": "python"
    }
  },
  "cells": [
    {
      "cell_type": "code",
      "metadata": {
        "colab": {
          "base_uri": "https://localhost:8080/"
        },
        "id": "yAWnQuytdJ54",
        "outputId": "070f35f1-80ae-44b3-c4e1-a0a7009863c5"
      },
      "source": [
        "import matplotlib as mpl\n",
        "import matplotlib.pyplot as plt\n",
        " \n",
        "%config InlineBackend.figure_format = 'retina'\n",
        " \n",
        "!apt -qq -y install fonts-nanum\n",
        " \n",
        "import matplotlib.font_manager as fm\n",
        "\n",
        "fontpath = '/usr/share/fonts/truetype/nanum/NanumBarunGothic.ttf'\n",
        "font = fm.FontProperties(fname=fontpath, size=9)\n",
        "plt.rc('font', family='NanumBarunGothic') \n",
        "mpl.font_manager._rebuild()\n"
      ],
      "execution_count": null,
      "outputs": [
        {
          "output_type": "stream",
          "text": [
            "fonts-nanum is already the newest version (20170925-1).\n",
            "0 upgraded, 0 newly installed, 0 to remove and 39 not upgraded.\n"
          ],
          "name": "stdout"
        }
      ]
    },
    {
      "cell_type": "markdown",
      "metadata": {
        "id": "36rAD3FYdROZ"
      },
      "source": [
        "꺾은 선 그래프로 표현하기"
      ]
    },
    {
      "cell_type": "code",
      "metadata": {
        "id": "RM0pQlesdf1R"
      },
      "source": [
        "import csv\n",
        "\n",
        "f = open(\"gender.csv\", encoding=\"CP949\")\n",
        "data = csv.reader(f)\n",
        "\n",
        "male = []\n",
        "female = []\n",
        "\n",
        "townName = input('인구 구조가 알고 싶은 지역의 이름(읍면동 단위)을 입력해주세요 : ')\n",
        "for row in data:\n",
        "    if townName in row[0]:\n",
        "        for i in row[3:104]: # 남성 데이터 : 3~103번 데이터 슬라이싱 - 정수 데이터로 변환 - male리스트에 저장\n",
        "            male.append(int(i.replace(',','')))\n",
        "        for i in row[106:]: # 남성 데이터 : 106~끝까지 데이터 슬라이싱 - 정수 데이터로 변환 - female리스트에 저장\n",
        "            female.append(int(i.replace(',','')))\n",
        "        break\n",
        "\n",
        "\n",
        "plt.style.use('ggplot')\n",
        "plt.figure(dpi= 200)\n",
        "\n",
        "# 꺾은선 그래프로 남여 인구수 데이터 표현하기\n",
        "plt.plot(male, label = \"남성\")\n",
        "plt.plot(female, label = \"여성\")\n",
        "plt.legend()\n",
        "plt.show()"
      ],
      "execution_count": null,
      "outputs": []
    },
    {
      "cell_type": "markdown",
      "metadata": {
        "id": "DQyrhvVMeBcp"
      },
      "source": [
        "연령별로 남성 인구수에서 여성 인구수를 뺀 차이의 막대그래프 그리기\n"
      ]
    },
    {
      "cell_type": "code",
      "metadata": {
        "id": "MEdvkRLZgI0b"
      },
      "source": [
        "\n",
        "# 라이브러리 불러오기\n",
        "import csv\n",
        "import matplotlib.pyplot as plt\n",
        "\n",
        "# 파일 열기\n",
        "f = open(\"/content/gender.csv\", encoding=\"cp949\")\n",
        "data = csv.reader(f)\n",
        "# next(data) # 헤더 넘기기\n",
        "\n",
        "# 지역 명을 입력받는 변수 선언\n",
        "name = input(\"인구 구조가 알고 싶은 지역의 이름(읍면동 단위)을 입력해주세요 : \")\n",
        "\n",
        "# 남자 인구 수 빼기 여자 인구수의 데이터 담을 리스트 생성\n",
        "result = []\n",
        "\n",
        "for row in data :\n",
        "  if name in row[0] :\n",
        "    for i in range(3,104) :\n",
        "      result.append(int(row[i].replace(',','')) - int(row[i+103].replace(',',''))) # 콤마를 공백으로 바꾼후 정수형으로 변환\n",
        "    break\n",
        "\n",
        "# 차트 설정\n",
        "plt.figure(dpi=200) # 해상도 조절\n",
        "plt.style.use('ggplot') # 스타일 지정\n",
        "plt.rc('font', family = 'NanumBarunGothic') # 나눔 바른 고딕을 기본 글꼴로 설정 -> 한글 깨짐 처리\n",
        "plt.rcParams['axes.unicode_minus'] = False # 마이너스 기호 깨짐 방지\n",
        "\n",
        "# 차트 그리기\n",
        "plt.bar(range(101), result)\n",
        "plt.title(name+' 지역의 남녀 성별 인구 차이')\n",
        "plt.show()"
      ],
      "execution_count": null,
      "outputs": []
    },
    {
      "cell_type": "markdown",
      "metadata": {
        "id": "2mNlj4BJjohX"
      },
      "source": [
        "#산점도로 표현하기 scatter()"
      ]
    },
    {
      "cell_type": "code",
      "metadata": {
        "id": "5THW7c98jqik"
      },
      "source": [
        "import matplotlib.pyplot as plt\n",
        "\n",
        "plt.figure(dpi=200) # 해상도 조절\n",
        "plt.style.use('ggplot') # 스타일 지정\n",
        "plt.scatter([1,2,3,4],[10,30,20,40]) #[x축], [y축] scatter(x,y)\n",
        "plt.show()"
      ],
      "execution_count": null,
      "outputs": []
    },
    {
      "cell_type": "markdown",
      "metadata": {
        "id": "zs-1j_jmkZFD"
      },
      "source": [
        "점의 크기 조절하기"
      ]
    },
    {
      "cell_type": "code",
      "metadata": {
        "id": "LEOlcSL0kUsj"
      },
      "source": [
        "import matplotlib.pyplot as plt\n",
        "\n",
        "plt.figure(dpi=200)                                  # 해상도 조절\n",
        "plt.style.use('ggplot')                              # 스타일 지정\n",
        "plt.scatter([1,2,3,4],[10,30,20,40], s=[100, 200, 250, 300])    #[x축], [y축] scatter(x,y)\n",
        "# s-> size 점의 크기\n",
        "\n",
        "plt.show()"
      ],
      "execution_count": null,
      "outputs": []
    },
    {
      "cell_type": "markdown",
      "metadata": {
        "id": "ayf8JrzOk7U6"
      },
      "source": [
        "색깔 변경하기 c = []"
      ]
    },
    {
      "cell_type": "code",
      "metadata": {
        "id": "H-4CnlzVlUFk"
      },
      "source": [
        "import matplotlib.pyplot as plt\n",
        "\n",
        "plt.figure(dpi=200)                                  # 해상도 조절\n",
        "plt.style.use('ggplot')                              # 스타일 지정\n",
        "plt.scatter([1,2,3,4],[10,30,20,40], s=[100, 200, 250, 300], c = ['red','blue','green','gold'])\n",
        "\n",
        "plt.show()"
      ],
      "execution_count": null,
      "outputs": []
    },
    {
      "cell_type": "code",
      "metadata": {
        "id": "RulWxmL5lcDc"
      },
      "source": [
        "import matplotlib.pyplot as plt\n",
        "\n",
        "plt.figure(dpi=200)                                  # 해상도 조절\n",
        "plt.style.use('ggplot')                              # 스타일 지정\n",
        "plt.scatter([1,2,3,4],[10,30,20,40], s=[100, 200, 250, 300], c = range(4))\n",
        "plt.colorbar()\n",
        "plt.show()"
      ],
      "execution_count": null,
      "outputs": []
    },
    {
      "cell_type": "markdown",
      "metadata": {
        "id": "gabYkrNlmNU0"
      },
      "source": [
        "색상 스타일 지정 cmap ="
      ]
    },
    {
      "cell_type": "code",
      "metadata": {
        "id": "DbfrJmaPl8j8"
      },
      "source": [
        "import matplotlib.pyplot as plt\n",
        "\n",
        "plt.figure(dpi=200)                                  # 해상도 조절\n",
        "plt.style.use('ggplot')                              # 스타일 지정\n",
        "plt.scatter([1,2,3,4],[10,30,20,40], s=[100, 200, 250, 300], c = range(4), cmap='jet')\n",
        "# 무지개색과 비슷한 jet 컬럽맵 사용\n",
        "# 컬러를 범위로 주면 컬러바의 색이 정해짐\n",
        "\n",
        "plt.colorbar()\n",
        "plt.show()"
      ],
      "execution_count": null,
      "outputs": []
    },
    {
      "cell_type": "markdown",
      "metadata": {
        "id": "j21k8goUqW6n"
      },
      "source": [
        "위치, 크기가 서로 다른 100개의 점 만들기"
      ]
    },
    {
      "cell_type": "code",
      "metadata": {
        "id": "Neg4C_3RqWgy"
      },
      "source": [
        "import matplotlib.pyplot as plt\n",
        "import random\n",
        "\n",
        "x = []\n",
        "y = []\n",
        "size = []\n",
        "\n",
        "for i in range(100) :\n",
        "  x.append(random.randint(50, 100)) #범위는 50~100\n",
        "  y.append(random.randint(50, 100))\n",
        "  size.append(random.randint(10,100))\n",
        "\n",
        "plt.figure(dpi=200)                                  # 해상도 조절\n",
        "plt.style.use('ggplot')                              # 스타일 지정\n",
        "plt.scatter(x, y, s=size)\n",
        "# 무지개색과 비슷한 jet 컬럽맵 사용\n",
        "# 컬러를 범위로 주면 컬러바의 색이 정해짐\n",
        "\n",
        "plt.show()"
      ],
      "execution_count": null,
      "outputs": []
    },
    {
      "cell_type": "markdown",
      "metadata": {
        "id": "FlT_8IbMrl1d"
      },
      "source": [
        "#c=size\n",
        "\n",
        "크기에 따라색을 다르게 조절"
      ]
    },
    {
      "cell_type": "code",
      "metadata": {
        "id": "zC5rC2A4rRpl"
      },
      "source": [
        "plt.figure(dpi=200)                                  # 해상도 조절\n",
        "plt.style.use('ggplot')                              # 스타일 지정\n",
        "plt.scatter(x, y, s=size, c=size, cmap='jet') #c=size 크기에 따라 색을 다르게 조절\n",
        "plt.colorbar()\n",
        "plt.show()"
      ],
      "execution_count": null,
      "outputs": []
    },
    {
      "cell_type": "markdown",
      "metadata": {
        "id": "A5z1_KNGsRc7"
      },
      "source": [
        "# alpha = \n",
        "겹치는 부분 투명도 조절하여 식별 가능하게 함\n",
        "# alpha 투명도 추가 0~1: 0에 가까울수록 투명, 1에 가까울수록 불투명\n"
      ]
    },
    {
      "cell_type": "code",
      "metadata": {
        "id": "YcsMrcXGsNYe"
      },
      "source": [
        "plt.figure(dpi=200)                                  # 해상도 조절\n",
        "plt.style.use('ggplot')                              # 스타일 지정\n",
        "plt.scatter(x, y, s=size, c=size, cmap='jet', alpha=0.8) #alpha = 0.7 or 0.8로 대체로 사용\n",
        "plt.colorbar()\n",
        "plt.show()"
      ],
      "execution_count": null,
      "outputs": []
    },
    {
      "cell_type": "markdown",
      "metadata": {
        "id": "op5T71xKs-O_"
      },
      "source": [
        "제주도의 연령대별 성별 비율을 산점도로 표현하기"
      ]
    },
    {
      "cell_type": "markdown",
      "metadata": {
        "id": "6A78h5C1tBLF"
      },
      "source": [
        "남녀 연령별 인구 데이터 scatter() 함수로 표현하기"
      ]
    },
    {
      "cell_type": "code",
      "metadata": {
        "id": "vrCHcS9jtIQa"
      },
      "source": [
        "import csv\n",
        "import matplotlib.pyplot as plt\n",
        "f = open(\"gender.csv\", encoding=\"CP949\")\n",
        "data = csv.reader(f)\n",
        "\n",
        "male = []\n",
        "female = []\n",
        "\n",
        "townName = input('인구 구조가 알고 싶은 지역의 이름(읍면동 단위)을 입력해주세요 : ')\n",
        "for row in data:\n",
        "    if townName in row[0]:\n",
        "        for i in row[3:104]: # 남성 데이터 : 3~103번 데이터 슬라이싱 - 정수 데이터로 변환 - male리스트에 저장\n",
        "            male.append(int(i.replace(',','')))\n",
        "        for i in row[106:]: # 남성 데이터 : 106~끝까지 데이터 슬라이싱 - 정수 데이터로 변환 - female리스트에 저장\n",
        "            female.append(int(i.replace(',','')))\n",
        "        break\n",
        "\n",
        "\n",
        "plt.style.use('ggplot')\n",
        "plt.figure(dpi= 200)\n",
        "\n",
        "# 산점도 그래프로 남여 인구수 데이터 표현하기\n",
        "plt.scatter(male, female) #x축은 남자, y축은 여자\n",
        "plt.show()"
      ],
      "execution_count": null,
      "outputs": []
    },
    {
      "cell_type": "markdown",
      "metadata": {
        "id": "hHU4NQEMuNnt"
      },
      "source": [
        "y = x 형태의 추세선 추가하기\n",
        "#추세선의 기준은 x축이다"
      ]
    },
    {
      "cell_type": "code",
      "metadata": {
        "id": "oT6orMlpjOEP"
      },
      "source": [
        "# 산점도 그래프로 남여 인구수 데이터 표현하기\n",
        "plt.figure(dpi = 200)\n",
        "plt.scatter(male, female) #x축은 남자, y축은 여자\n",
        "plt.plot(range(max(male)), range(max(male)), 'g')\n",
        "plt.show()\n",
        "\n",
        "#40대가 많다"
      ],
      "execution_count": null,
      "outputs": []
    },
    {
      "cell_type": "code",
      "metadata": {
        "id": "flkFh5RAjnC6"
      },
      "source": [
        "# 산점도 그래프로 남여 인구수 데이터 표현하기\n",
        "plt.figure(dpi = 200)\n",
        "plt.scatter(female, male) #x축은 남자, y축은 여자\n",
        "plt.plot(range(max(female)), range(max(female)), 'g')\n",
        "plt.show()\n",
        "\n",
        "#40대가 많다"
      ],
      "execution_count": null,
      "outputs": []
    },
    {
      "cell_type": "code",
      "metadata": {
        "id": "dCUZhyS9uNC1"
      },
      "source": [
        "# 산점도 그래프로 남여 인구수 데이터 표현하기\n",
        "plt.figure(dpi = 200)\n",
        "plt.scatter(male, female, c=range(101), cmap ='jet', alpha= 0.5) #x축은 남자, y축은 여자\n",
        "plt.colorbar()\n",
        "plt.plot(range(max(male)), range(max(male)), 'g')\n",
        "plt.show()\n",
        "\n",
        "#40대가 많다"
      ],
      "execution_count": null,
      "outputs": []
    },
    {
      "cell_type": "markdown",
      "metadata": {
        "id": "hsEo3BZ5kazS"
      },
      "source": [
        "연령대별 성별 비율 산점도로 표현하기(원의 크기는 인구수의 제곱근)"
      ]
    },
    {
      "cell_type": "code",
      "metadata": {
        "id": "WDe-aWh2wbR8"
      },
      "source": [
        "import csv\n",
        "import matplotlib.pyplot as plt\n",
        "import math  #제곱근 씌우기 위한 수학 함수 import\n",
        "\n",
        "\n",
        "\n",
        "f = open(\"gender.csv\", encoding=\"CP949\")\n",
        "data = csv.reader(f)\n",
        "\n",
        "male = []\n",
        "female = []\n",
        "size = [] # 인구수 사이즈 리스트 변수 선언\n",
        "\n",
        "townName = input('찾고 싶은 지역의 이름을 알려주세요 : ')\n",
        "for row in data:\n",
        "    if townName in row[0]:\n",
        "        for i in row[3:104]:\n",
        "            male.append(int(i.replace(',','')))\n",
        "            size.append(math.sqrt(int(i.replace(',',''))))\n",
        "            #제곱근 sqrt 넣는 이유는 인구수로 하면 원의 크기가 너무 커지기 때문\n",
        "        for i in row[106:]:\n",
        "            female.append(int(i.replace(',','')))\n",
        "        break\n",
        "\n",
        "\n",
        "\n",
        "# 산점도 그래프로 남여 인구수 데이터 표현하기\n",
        "plt.style.use('ggplot')\n",
        "plt.figure(dpi= 200)\n",
        "plt.scatter(male, female, s=size, c=range(101), cmap='jet', alpha=0.5)\n",
        "plt.colorbar()\n",
        "plt.plot(range(max(male)),range(max(male)), 'g') #추세선(기준) 추가\n",
        "plt.rc('font', family = 'NanumBarunGothic')\n",
        "plt.show()\n",
        "\n"
      ],
      "execution_count": null,
      "outputs": []
    },
    {
      "cell_type": "code",
      "metadata": {
        "id": "-A1oJSEKkn6p"
      },
      "source": [
        ""
      ],
      "execution_count": null,
      "outputs": []
    }
  ]
}