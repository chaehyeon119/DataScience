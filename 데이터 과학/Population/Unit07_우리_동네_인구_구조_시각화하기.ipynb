{
  "nbformat": 4,
  "nbformat_minor": 0,
  "metadata": {
    "colab": {
      "name": "Unit07-우리 동네 인구 구조 시각화하기.ipynb",
      "provenance": [],
      "collapsed_sections": []
    },
    "kernelspec": {
      "name": "python3",
      "display_name": "Python 3"
    },
    "language_info": {
      "name": "python"
    }
  },
  "cells": [
    {
      "cell_type": "markdown",
      "metadata": {
        "id": "1wegen8FQHlH"
      },
      "source": [
        "0615"
      ]
    },
    {
      "cell_type": "markdown",
      "metadata": {
        "id": "OJuJORrUQLkU"
      },
      "source": [
        "인공 공공데이터 준비하기"
      ]
    },
    {
      "cell_type": "markdown",
      "metadata": {
        "id": "eH9rjdsUtGm6"
      },
      "source": [
        "인구 공공데이터 준비하기\n",
        "\n",
        "알고리즘 설계\n",
        "1. 인구 데이터 파일 읽어오기\n",
        "2. 전체 데이터에서 한줄씩 반복해서 읽어온다.\n",
        "3. 우리 동네에 대한 데이터인지 확인한다.\n",
        "4. 우리 동네일 경우 0세부터 100세 이상까지의 인구를 순서대로 저장한다."
      ]
    },
    {
      "cell_type": "code",
      "metadata": {
        "id": "F5K0qyRgcBfp"
      },
      "source": [
        "import csv\n",
        "\n",
        "f = open('age.csv', encoding = 'cp949')\n",
        "data = csv.reader(f)\n",
        "\n",
        "for row in data :\n",
        "  print(row)\n",
        "\n",
        "#작은 따옴표로 숫자가 표현됐다는 것을 통해 숫자형이 아닌 문자형으로 표현됐다는 것을 알 수 있음\n",
        "#[0]번 컬럼 \"행정구역\" /[1] 총인구수/[2] 연량구간인구수 => 3번 데이터부터 가져오면 되겠다"
      ],
      "execution_count": null,
      "outputs": []
    },
    {
      "cell_type": "markdown",
      "metadata": {
        "id": "jSJU-2y2ck7X"
      },
      "source": [
        "신도림 데이터 확인하기"
      ]
    },
    {
      "cell_type": "markdown",
      "metadata": {
        "id": "vntLtQhhf4vU"
      },
      "source": [
        "in 연산자를 활용해 우리 동네 이름이 포함된 지역명 찾기"
      ]
    },
    {
      "cell_type": "code",
      "metadata": {
        "colab": {
          "base_uri": "https://localhost:8080/"
        },
        "id": "yMv1T9KJf9t3",
        "outputId": "643f341b-c59e-4174-ef99-dcc69f491190"
      },
      "source": [
        "print('신도림' in '서울특별시 구로구 신도림동(1153051000)') #in -> TRUE, FALSE\n",
        "print('1153' in '서울특별시 구로구 신도림동(1153051000)')\n",
        "print('()' in '서울특별시 구로구 신도림동(1153051000)')\n",
        "print(')' in '서울특별시 구로구 신도림동(1153051000)')"
      ],
      "execution_count": null,
      "outputs": [
        {
          "output_type": "stream",
          "text": [
            "True\n",
            "True\n",
            "False\n",
            "True\n"
          ],
          "name": "stdout"
        }
      ]
    },
    {
      "cell_type": "markdown",
      "metadata": {
        "id": "ioBmS-jOgws7"
      },
      "source": [
        "in 연산자를 활용해 우리 동네의 데이터 출력하기 -> 3번(우리동네 데이터인지) 확인"
      ]
    },
    {
      "cell_type": "code",
      "metadata": {
        "id": "UZKyiR7Agu6N"
      },
      "source": [
        "import csv\n",
        "\n",
        "f = open('age.csv', encoding = 'cp949')\n",
        "data = csv.reader(f)\n",
        "\n",
        "for row in data :\n",
        "  if '신도림' in row[0] :\n",
        "    print(row)"
      ],
      "execution_count": null,
      "outputs": []
    },
    {
      "cell_type": "markdown",
      "metadata": {
        "id": "ZnsnFoVRhKQS"
      },
      "source": [
        "연령별 인구수(0세~100세이상) 데이터 확인 -> 4번"
      ]
    },
    {
      "cell_type": "markdown",
      "metadata": {
        "id": "8e8_WgXrjWyK"
      },
      "source": [
        "우리 동네 연령별 인구수 result 리스트에 저장하기 -> 시각화를 위해"
      ]
    },
    {
      "cell_type": "code",
      "metadata": {
        "colab": {
          "base_uri": "https://localhost:8080/"
        },
        "id": "CjTXaZ_ThUr6",
        "outputId": "8a321f89-216a-4579-c54d-2bcae1460096"
      },
      "source": [
        "import csv\n",
        "#row[0]: 지역명, row[1]: 총인구수, row[2]: 연령구간인구수, row[3]~  인덱스 부터 연령별 인구 수\n",
        "f = open('age.csv', encoding = 'cp949')\n",
        "data = csv.reader(f)\n",
        "\n",
        "result = []\n",
        "\n",
        "for row in data :\n",
        "  if '신도림' in row[0] :\n",
        "    for i in row[3:]:\n",
        "      result.append(int(i)) #인구수 데이터 정수로 변환 후 result 변수에 담기\n",
        "\n",
        "print(result)\n",
        "\n",
        "#위 데이터랑 비교해보기"
      ],
      "execution_count": null,
      "outputs": [
        {
          "output_type": "stream",
          "text": [
            "[326, 334, 406, 413, 389, 408, 417, 434, 411, 387, 420, 383, 354, 357, 340, 338, 349, 339, 407, 380, 390, 453, 424, 516, 451, 466, 448, 484, 471, 476, 558, 541, 579, 619, 638, 740, 756, 792, 745, 789, 671, 687, 700, 636, 726, 691, 657, 619, 649, 585, 579, 470, 522, 534, 563, 445, 511, 569, 572, 513, 532, 456, 426, 497, 379, 384, 399, 279, 289, 276, 268, 271, 223, 170, 150, 154, 177, 140, 126, 114, 121, 97, 86, 80, 59, 48, 44, 43, 28, 29, 22, 15, 13, 12, 5, 8, 5, 4, 2, 3, 7]\n"
          ],
          "name": "stdout"
        }
      ]
    },
    {
      "cell_type": "markdown",
      "metadata": {
        "id": "f3zg-vQmkV5a"
      },
      "source": [
        "우리 동네 연령별 인구수 데이터 시각화하기"
      ]
    },
    {
      "cell_type": "code",
      "metadata": {
        "id": "tJMEykiMjWT8"
      },
      "source": [
        "import matplotlib.pyplot as plt\n",
        "\n",
        "plt.figure(dpi = 200)\n",
        "plt.style.use('bmh') #격자 무늬 스타일로 지정 classic, dark_background, ggplot(제일 많이 씀)\n",
        "plt.plot(result)\n",
        "plt.show()"
      ],
      "execution_count": null,
      "outputs": []
    },
    {
      "cell_type": "markdown",
      "metadata": {
        "id": "fRPtkPv7lMSU"
      },
      "source": [
        "matplotlib 다양한 스타일 확인"
      ]
    },
    {
      "cell_type": "code",
      "metadata": {
        "colab": {
          "base_uri": "https://localhost:8080/"
        },
        "id": "3MxOUO4mlLtD",
        "outputId": "8d407730-442a-4bd4-da90-730ac9ed3912"
      },
      "source": [
        "print(plt.style.available) #아래거 가져와서 쓰기"
      ],
      "execution_count": null,
      "outputs": [
        {
          "output_type": "stream",
          "text": [
            "['Solarize_Light2', '_classic_test_patch', 'bmh', 'classic', 'dark_background', 'fast', 'fivethirtyeight', 'ggplot', 'grayscale', 'seaborn', 'seaborn-bright', 'seaborn-colorblind', 'seaborn-dark', 'seaborn-dark-palette', 'seaborn-darkgrid', 'seaborn-deep', 'seaborn-muted', 'seaborn-notebook', 'seaborn-paper', 'seaborn-pastel', 'seaborn-poster', 'seaborn-talk', 'seaborn-ticks', 'seaborn-white', 'seaborn-whitegrid', 'tableau-colorblind10']\n"
          ],
          "name": "stdout"
        }
      ]
    },
    {
      "cell_type": "markdown",
      "metadata": {
        "id": "epV3Ei2mlRBs"
      },
      "source": [
        "내가 거주하는 지역(동)의 인구 구조 시각화 하기"
      ]
    },
    {
      "cell_type": "code",
      "metadata": {
        "id": "RcZzlMNAlqzY"
      },
      "source": [
        "import csv\n",
        "import matplotlib.pyplot as plt\n",
        "\n",
        "#row[0]: 지역명, row[1]: 총인구수, row[2]: 연령구간인구수, row[3]~  인덱스 부터 연령별 인구 수\n",
        "f = open('age.csv', encoding = 'cp949')\n",
        "data = csv.reader(f)\n",
        "\n",
        "result = []\n",
        "\n",
        "for row in data :\n",
        "  if '신도림' in row[0] :\n",
        "    for i in row[3:]:\n",
        "      result.append(int(i)) #인구수 데이터 정수로 변환 후 result 변수에 담기\n",
        "\n",
        "print(result)\n",
        "\n",
        "\n",
        "\n",
        "plt.figure(dpi = 200)\n",
        "plt.style.use('bmh') #격자 무늬 스타일로 지정 classic, dark_background, ggplot(제일 많이 씀)\n",
        "plt.plot(result)\n",
        "plt.show()\n",
        "\n",
        "#위 데이터랑 비교해보기"
      ],
      "execution_count": null,
      "outputs": []
    }
  ]
}