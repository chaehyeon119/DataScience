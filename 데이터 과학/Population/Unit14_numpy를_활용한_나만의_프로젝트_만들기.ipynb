{
  "nbformat": 4,
  "nbformat_minor": 0,
  "metadata": {
    "colab": {
      "name": "Unit14-numpy를 활용한 나만의 프로젝트 만들기.ipynb",
      "provenance": []
    },
    "kernelspec": {
      "name": "python3",
      "display_name": "Python 3"
    },
    "language_info": {
      "name": "python"
    }
  },
  "cells": [
    {
      "cell_type": "markdown",
      "metadata": {
        "id": "kBABJoeA6Ucr"
      },
      "source": [
        "#문제 정의: 전국에서 신도림동의 연령별 인구 구조와 가장 형태가 비슷한 지역은 어디일까?"
      ]
    },
    {
      "cell_type": "code",
      "metadata": {
        "colab": {
          "base_uri": "https://localhost:8080/"
        },
        "id": "8nYPlkoK_tnf",
        "outputId": "9bc977a8-1e09-4c83-fa4a-6fd1bbaf624a"
      },
      "source": [
        "import matplotlib as mpl\n",
        "import matplotlib.pyplot as plt\n",
        " \n",
        "%config InlineBackend.figure_format = 'retina'\n",
        " \n",
        "!apt -qq -y install fonts-nanum\n",
        " \n",
        "import matplotlib.font_manager as fm\n",
        "\n",
        "fontpath = '/usr/share/fonts/truetype/nanum/NanumBarunGothic.ttf'\n",
        "font = fm.FontProperties(fname=fontpath, size=9)\n",
        "plt.rc('font', family='NanumBarunGothic') \n",
        "mpl.font_manager._rebuild()"
      ],
      "execution_count": null,
      "outputs": [
        {
          "output_type": "stream",
          "text": [
            "The following NEW packages will be installed:\n",
            "  fonts-nanum\n",
            "0 upgraded, 1 newly installed, 0 to remove and 39 not upgraded.\n",
            "Need to get 9,604 kB of archives.\n",
            "After this operation, 29.5 MB of additional disk space will be used.\n",
            "Selecting previously unselected package fonts-nanum.\n",
            "(Reading database ... 160772 files and directories currently installed.)\n",
            "Preparing to unpack .../fonts-nanum_20170925-1_all.deb ...\n",
            "Unpacking fonts-nanum (20170925-1) ...\n",
            "Setting up fonts-nanum (20170925-1) ...\n",
            "Processing triggers for fontconfig (2.12.6-0ubuntu2) ...\n"
          ],
          "name": "stdout"
        }
      ]
    },
    {
      "cell_type": "markdown",
      "metadata": {
        "id": "ncbtvJHP84km"
      },
      "source": [
        "<알고리즘 설계> <br>\n",
        "1. 데이터를 읽어온다.\n",
        "2. 궁금한 지역의 이름을 입력 받는다.\n",
        "3. 궁금한 지역의 인구 구조를 저장한다.\n",
        "4. 궁금한 지역의 인구 구조와 가장 비슷한 인구 구조를 가진 지역을 찾는다.\n",
        "5. 가장 비슷한 곳의 인구 구조와 궁금한 지역의 인구 구조를 시각화 한다.\n"
      ]
    },
    {
      "cell_type": "markdown",
      "metadata": {
        "id": "rBV83xs_87gW"
      },
      "source": [
        "1. 데이터를 읽어온다. (공공데이터)"
      ]
    },
    {
      "cell_type": "code",
      "metadata": {
        "colab": {
          "base_uri": "https://localhost:8080/"
        },
        "id": "fn1APBRI9EUe",
        "outputId": "21ce5a18-0045-4873-c4bd-c9dc49906649"
      },
      "source": [
        "import csv\n",
        "import matplotlib.pyplot as plt\n",
        "\n",
        "f = open(\"/content/age.csv\", encoding=\"cp949\")\n",
        "data = csv.reader(f)\n",
        "next(data) #헤더 제거\n",
        "\n",
        "for row in data:\n",
        "  print(row)"
      ],
      "execution_count": null,
      "outputs": []
    },
    {
      "cell_type": "markdown",
      "metadata": {
        "id": "XrFtHzJ3-w1j"
      },
      "source": [
        "2. 궁금한 지역의 이름을 입력 받는다.\n"
      ]
    },
    {
      "cell_type": "markdown",
      "metadata": {
        "id": "JxJg3xhI_u_j"
      },
      "source": [
        ""
      ]
    },
    {
      "cell_type": "code",
      "metadata": {
        "colab": {
          "base_uri": "https://localhost:8080/",
          "height": 262
        },
        "id": "xBDlXDmM-xQA",
        "outputId": "950e3f49-1dff-4fd5-d281-5713eaed9820"
      },
      "source": [
        "import csv\n",
        "import matplotlib.pyplot as plt\n",
        "\n",
        "f = open(\"/content/age.csv\", encoding=\"cp949\")\n",
        "data = csv.reader(f)\n",
        "next(data) #헤더 제거\n",
        "\n",
        "home = [] #입력 받은 지역의 데이터를 저장할 리스트\n",
        "name = input('인구 구조가 알고 싶은 지역의 이름(읍면동 단위)을 입력해주세요 : ')\n",
        "\n",
        "for row in data:\n",
        "  if name in row[0] :\n",
        "    for i in row[3:] :\n",
        "      home.append(int(i.replace(',','')))\n",
        "\n",
        "print(home)"
      ],
      "execution_count": null,
      "outputs": [
        {
          "output_type": "stream",
          "text": [
            "인구 구조가 알고 싶은 지역의 이름(읍면동 단위)을 입력해주세요 : 신도림동\n"
          ],
          "name": "stdout"
        },
        {
          "output_type": "error",
          "ename": "ValueError",
          "evalue": "ignored",
          "traceback": [
            "\u001b[0;31m---------------------------------------------------------------------------\u001b[0m",
            "\u001b[0;31mValueError\u001b[0m                                Traceback (most recent call last)",
            "\u001b[0;32m<ipython-input-18-35c3926f20d6>\u001b[0m in \u001b[0;36m<module>\u001b[0;34m()\u001b[0m\n\u001b[1;32m     12\u001b[0m   \u001b[0;32mif\u001b[0m \u001b[0mname\u001b[0m \u001b[0;32min\u001b[0m \u001b[0mrow\u001b[0m\u001b[0;34m[\u001b[0m\u001b[0;36m0\u001b[0m\u001b[0;34m]\u001b[0m \u001b[0;34m:\u001b[0m\u001b[0;34m\u001b[0m\u001b[0;34m\u001b[0m\u001b[0m\n\u001b[1;32m     13\u001b[0m     \u001b[0;32mfor\u001b[0m \u001b[0mi\u001b[0m \u001b[0;32min\u001b[0m \u001b[0mrow\u001b[0m\u001b[0;34m[\u001b[0m\u001b[0;36m3\u001b[0m\u001b[0;34m:\u001b[0m\u001b[0;34m]\u001b[0m \u001b[0;34m:\u001b[0m\u001b[0;34m\u001b[0m\u001b[0;34m\u001b[0m\u001b[0m\n\u001b[0;32m---> 14\u001b[0;31m       \u001b[0mhome\u001b[0m\u001b[0;34m.\u001b[0m\u001b[0mappend\u001b[0m\u001b[0;34m(\u001b[0m\u001b[0mint\u001b[0m\u001b[0;34m(\u001b[0m\u001b[0mi\u001b[0m\u001b[0;34m.\u001b[0m\u001b[0mreplace\u001b[0m\u001b[0;34m(\u001b[0m\u001b[0;34m','\u001b[0m\u001b[0;34m,\u001b[0m\u001b[0;34m''\u001b[0m\u001b[0;34m)\u001b[0m\u001b[0;34m)\u001b[0m\u001b[0;34m)\u001b[0m\u001b[0;34m\u001b[0m\u001b[0;34m\u001b[0m\u001b[0m\n\u001b[0m\u001b[1;32m     15\u001b[0m \u001b[0;34m\u001b[0m\u001b[0m\n\u001b[1;32m     16\u001b[0m \u001b[0mprint\u001b[0m\u001b[0;34m(\u001b[0m\u001b[0mhome\u001b[0m\u001b[0;34m)\u001b[0m\u001b[0;34m\u001b[0m\u001b[0;34m\u001b[0m\u001b[0m\n",
            "\u001b[0;31mValueError\u001b[0m: invalid literal for int() with base 10: ''"
          ]
        }
      ]
    },
    {
      "cell_type": "markdown",
      "metadata": {
        "id": "WJK-qOWQ_-Nm"
      },
      "source": [
        "3. 궁금한 지역의 인구 구조를 저장한다."
      ]
    },
    {
      "cell_type": "code",
      "metadata": {
        "colab": {
          "base_uri": "https://localhost:8080/"
        },
        "id": "m95iO1M1__wt",
        "outputId": "e1955581-b8b9-47f9-9f7d-52fa066338ed"
      },
      "source": [
        "import csv\n",
        "import matplotlib.pyplot as plt\n",
        "import numpy as np\n",
        "\n",
        "\n",
        "f = open(\"/content/age.csv\", encoding=\"cp949\")\n",
        "data = csv.reader(f)\n",
        "next(data) #헤더 제거\n",
        "\n",
        "home = [] #입력 받은 지역의 데이터를 저장할 리스트\n",
        "name = input('인구 구조가 알고 싶은 지역의 이름(읍면동 단위)을 입력해주세요 : ')\n",
        "\n",
        "for row in data:\n",
        "  if name in row[0] :\n",
        "    home = np.array(row[3:], dtype = int) #numpy 배열로 저장할 때 데이터 타입 int로\n",
        "\n",
        "print(home)"
      ],
      "execution_count": null,
      "outputs": [
        {
          "output_type": "stream",
          "text": [
            "인구 구조가 알고 싶은 지역의 이름(읍면동 단위)을 입력해주세요 : 신도림동\n",
            "[326 334 406 413 389 408 417 434 411 387 420 383 354 357 340 338 349 339\n",
            " 407 380 390 453 424 516 451 466 448 484 471 476 558 541 579 619 638 740\n",
            " 756 792 745 789 671 687 700 636 726 691 657 619 649 585 579 470 522 534\n",
            " 563 445 511 569 572 513 532 456 426 497 379 384 399 279 289 276 268 271\n",
            " 223 170 150 154 177 140 126 114 121  97  86  80  59  48  44  43  28  29\n",
            "  22  15  13  12   5   8   5   4   2   3   7]\n"
          ],
          "name": "stdout"
        }
      ]
    },
    {
      "cell_type": "code",
      "metadata": {
        "id": "KN_hLiEJBE0A"
      },
      "source": [
        "import csv\n",
        "import matplotlib.pyplot as plt\n",
        "import numpy as np\n",
        "\n",
        "\n",
        "f = open(\"/content/age.csv\", encoding=\"cp949\")\n",
        "data = csv.reader(f)\n",
        "next(data) #헤더 제거\n",
        "\n",
        "home = [] #입력 받은 지역의 데이터를 저장할 리스트\n",
        "name = input('인구 구조가 알고 싶은 지역의 이름(읍면동 단위)을 입력해주세요 : ')\n",
        "\n",
        "for row in data:\n",
        "  if name in row[0] :\n",
        "    home = np.array(row[3:], dtype = int) #numpy 배열로 저장할 때 데이터 타입 int로\n",
        "\n",
        "#데이터 시각화\n",
        "plt.style.use('ggplot')\n",
        "plt.figure(dpi=200)\n",
        "plt.rc('font', family='NanumBarunGothic')\n",
        "plt.title(name + ' 지역의 인구 구조')\n",
        "\n",
        "plt.plot(home)\n",
        "plt.show()\n"
      ],
      "execution_count": null,
      "outputs": []
    },
    {
      "cell_type": "markdown",
      "metadata": {
        "id": "sMWFxQNcCGhP"
      },
      "source": [
        "4. 궁금한 지역의 인구 구조와 가장 비슷한 인구 구조를 가진 지역을 찾는다.\n",
        "\n",
        "\n",
        "*   전국의 모든 지역 중 한곳 (B)을 선택 한다.\n",
        "*   궁금한 지역 A의 0세 인구수에서 B의 0세 인구수를 뺀다\n",
        "*   100세 이상 인구수에 해당 하는 값까지 반복한 후 각각의 차이를 모두 더한다.\n",
        "*   전국의 모든 지역에 대해 반복하며, 그 차이가 가장 작은 지역을 찾는다.\n"
      ]
    },
    {
      "cell_type": "markdown",
      "metadata": {
        "id": "fG0Nw2FkCG7L"
      },
      "source": [
        "궁금한 지역 A의 0세 인구 비율에서 B의 0세 인구 비율을 뺀다.\n"
      ]
    },
    {
      "cell_type": "code",
      "metadata": {
        "id": "1H1M9GHnCXkp"
      },
      "source": [
        "import csv\n",
        "import matplotlib.pyplot as plt\n",
        "\n",
        "f = open(\"/content/age.csv\",encoding='cp949')\n",
        "data = csv.reader(f)\n",
        "next(data) #헤더 제거\n",
        "\n",
        "data = list(data) #추가\n",
        "\n",
        "name = input('인구 구조가 알고 싶은 지역의 이름(읍면동 단위)을 입력해주세요 : ')\n",
        "\n",
        "mn = 1\n",
        "\n",
        "for row in data:\n",
        "  if name in row[0] :\n",
        "    home = np.array(row[3:], dtype = int) / int(row[2]) #numpy 배열로 저장할 때 데이터 타입 int로\n",
        "#배열과 배열의 계산이 가능한 것이 numpy임\n",
        "\n",
        "print(home)\n"
      ],
      "execution_count": null,
      "outputs": []
    },
    {
      "cell_type": "markdown",
      "metadata": {
        "id": "JGwfvbLHGjPT"
      },
      "source": [
        ""
      ]
    },
    {
      "cell_type": "code",
      "metadata": {
        "id": "2ENmBHO9G6OA"
      },
      "source": [
        "import csv\n",
        "import matplotlib.pyplot as plt\n",
        "\n",
        "f = open(\"/content/age.csv\",encoding='cp949')\n",
        "data = csv.reader(f)\n",
        "next(data) #헤더 제거\n",
        "\n",
        "data = list(data) #추가\n",
        "\n",
        "name = input('인구 구조가 알고 싶은 지역의 이름(읍면동 단위)을 입력해주세요 : ')\n",
        "\n",
        "mn = 1\n",
        "result_name = ''  #최소값을 갖는 지역의 이름 저장할 변수 생성 및 초기화\n",
        "result = 0 #최소값을 갖는 지역의 연령대별 인구 비율 저장 할 변수 생성 및 초기화\n",
        "\n",
        "for row in data:\n",
        "  if name in row[0] :\n",
        "    home = np.array(row[3:], dtype = int) / int(row[2]) #numpy 배열로 저장할 때 데이터 타입 int로\n",
        "#배열과 배열의 계산이 가능한 것이 numpy임\n",
        "\n",
        "for row in data :\n",
        "  away = np.array(row[3:], dtype = int) / int(row[2])\n",
        "  s=np.sum(home-away)\n",
        "  if s < mn :\n",
        "    mn = s\n",
        "    result_name = row[0]\n",
        "    result = away # 인구 비율 저장\n",
        "\n",
        "#데이터 시각화\n",
        "plt.style.use('ggplot')\n",
        "plt.figure(dpi=200)\n",
        "plt.rc('font', family='NanumBarunGothic')\n",
        "plt.title(name + ' 지역의 인구 구조')\n",
        "plt.plot(home, label = name)\n",
        "plt.plot(result, label = result_name)\n",
        "plt.legend()\n",
        "plt.show()\n"
      ],
      "execution_count": null,
      "outputs": []
    },
    {
      "cell_type": "markdown",
      "metadata": {
        "id": "JsaiSlFYI7y6"
      },
      "source": [
        "우리가 찾고 있었던 것은 인구 구조가 가장 비슷한 지역 -> 즉 연령대별 인구 비율과 분포가 비슷해야 함<br>\n",
        "두 지역의 차이가 합한 값이 0에 가까울 수록 인구 구조가 비슷 -> 음수 값이 선택됨<br>\n",
        "거듭제곱 연산자를 통해 음수를 양수로 변환 처리 추가\n"
      ]
    },
    {
      "cell_type": "code",
      "metadata": {
        "id": "DHA2A_LDI_QS"
      },
      "source": [
        "import csv\n",
        "import matplotlib.pyplot as plt\n",
        "\n",
        "f = open(\"/content/age.csv\",encoding='cp949')\n",
        "data = csv.reader(f)\n",
        "next(data) #헤더 제거\n",
        "\n",
        "data = list(data) #추가\n",
        "\n",
        "name = input('인구 구조가 알고 싶은 지역의 이름(읍면동 단위)을 입력해주세요 : ')\n",
        "\n",
        "mn = 1\n",
        "result_name = ''  #최소값을 갖는 지역의 이름 저장할 변수 생성 및 초기화\n",
        "result = 0 #최소값을 갖는 지역의 연령대별 인구 비율 저장 할 변수 생성 및 초기화\n",
        "\n",
        "for row in data:\n",
        "  if name in row[0] :\n",
        "    home = np.array(row[3:], dtype = int) / int(row[2]) #numpy 배열로 저장할 때 데이터 타입 int로\n",
        "#배열과 배열의 계산이 가능한 것이 numpy임\n",
        "\n",
        "for row in data :\n",
        "  away = np.array(row[3:], dtype = int) / int(row[2])\n",
        "  s=np.sum((home-away)**2) # 음수 -> 양수로 변환\n",
        "  if s < mn :\n",
        "    mn = s\n",
        "    result_name = row[0]\n",
        "    result = away # 인구 비율 저장\n",
        "\n",
        "#데이터 시각화\n",
        "plt.style.use('ggplot')\n",
        "plt.figure(dpi=200)\n",
        "plt.rc('font', family='NanumBarunGothic')\n",
        "plt.title(name + ' 지역의 인구 구조')\n",
        "plt.plot(home, label = name)\n",
        "plt.plot(result, label = result_name)\n",
        "plt.legend()\n",
        "plt.show()\n",
        "\n",
        "###############자기 자신을 찾음"
      ],
      "execution_count": null,
      "outputs": []
    },
    {
      "cell_type": "code",
      "metadata": {
        "id": "nsQ_ZieGjfSA"
      },
      "source": [
        "import csv\n",
        "import matplotlib.pyplot as plt\n",
        "\n",
        "f = open(\"/content/age.csv\",encoding='cp949')\n",
        "data = csv.reader(f)\n",
        "next(data) #헤더 제거\n",
        "\n",
        "data = list(data) #추가\n",
        "\n",
        "name = input('인구 구조가 알고 싶은 지역의 이름(읍면동 단위)을 입력해주세요 : ')\n",
        "\n",
        "mn = 1\n",
        "result_name = ''  #최소값을 갖는 지역의 이름 저장할 변수 생성 및 초기화\n",
        "result = 0 #최소값을 갖는 지역의 연령대별 인구 비율 저장 할 변수 생성 및 초기화\n",
        "\n",
        "for row in data:\n",
        "  if name in row[0] :\n",
        "    home = np.array(row[3:], dtype = int) / int(row[2]) #numpy 배열로 저장할 때 데이터 타입 int로\n",
        "#배열과 배열의 계산이 가능한 것이 numpy임\n",
        "\n",
        "for row in data :\n",
        "  away = np.array(row[3:], dtype = int) / int(row[2])\n",
        "  s=np.sum((home-away)**2) # 음수 -> 양수로 변환\n",
        "  if s < mn and name not in row[0]:\n",
        "    mn = s\n",
        "    result_name = row[0]\n",
        "    result = away # 인구 비율 저장\n",
        "\n",
        "#데이터 시각화\n",
        "plt.style.use('ggplot')\n",
        "plt.figure(dpi=200)\n",
        "plt.rc('font', family='NanumBarunGothic')\n",
        "plt.title(name + ' 지역의 인구 구조')\n",
        "plt.plot(home, label = name)\n",
        "plt.plot(result, label = result_name)\n",
        "plt.legend()\n",
        "plt.show()"
      ],
      "execution_count": null,
      "outputs": []
    },
    {
      "cell_type": "code",
      "metadata": {
        "id": "cZMjl7XVkAOy"
      },
      "source": [
        ""
      ],
      "execution_count": null,
      "outputs": []
    }
  ]
}